{
  "nbformat": 4,
  "nbformat_minor": 0,
  "metadata": {
    "colab": {
      "name": "Untitled0.ipynb",
      "version": "0.3.2",
      "provenance": [],
      "collapsed_sections": [],
      "include_colab_link": true
    },
    "kernelspec": {
      "name": "python3",
      "display_name": "Python 3"
    }
  },
  "cells": [
    {
      "cell_type": "markdown",
      "metadata": {
        "id": "view-in-github",
        "colab_type": "text"
      },
      "source": [
        "<a href=\"https://colab.research.google.com/github/KudasaiCode/Hands-on-Data-Analytics-Google-Colaboratory-Intro/blob/master/Untitled0.ipynb\" target=\"_parent\"><img src=\"https://colab.research.google.com/assets/colab-badge.svg\" alt=\"Open In Colab\"/></a>"
      ]
    },
    {
      "metadata": {
        "id": "C9Vi69w4o2At",
        "colab_type": "text"
      },
      "cell_type": "markdown",
      "source": [
        "# Headers and Emphasis"
      ]
    },
    {
      "metadata": {
        "id": "kmqvvKMLo6Vl",
        "colab_type": "text"
      },
      "cell_type": "markdown",
      "source": [
        "## A Smaller Header Example"
      ]
    },
    {
      "metadata": {
        "id": "jcX7gv3opDd7",
        "colab_type": "text"
      },
      "cell_type": "markdown",
      "source": [
        "## Emphasis"
      ]
    },
    {
      "metadata": {
        "id": "EVT9iqjNpJ-r",
        "colab_type": "text"
      },
      "cell_type": "markdown",
      "source": [
        "## Line Breaks"
      ]
    },
    {
      "metadata": {
        "id": "Z9Z6wZP_pPwj",
        "colab_type": "text"
      },
      "cell_type": "markdown",
      "source": [
        "A New Section \n",
        "\n",
        "---\n",
        "\n",
        "# Lists"
      ]
    },
    {
      "metadata": {
        "id": "5wR0wSzVpYbT",
        "colab_type": "text"
      },
      "cell_type": "markdown",
      "source": [
        "\n",
        "\n",
        "1.   Section 1\n",
        "2.   Section 2\n",
        "3.   Section 3"
      ]
    },
    {
      "metadata": {
        "id": "2JCk8xIspoKU",
        "colab_type": "text"
      },
      "cell_type": "markdown",
      "source": [
        "# Tables"
      ]
    },
    {
      "metadata": {
        "id": "pT-T64VZpuyD",
        "colab_type": "text"
      },
      "cell_type": "markdown",
      "source": [
        "| height | age | weight |\n",
        "| ------- | ------- | ------- |\n",
        "| 5'6 | 12 | 130 |\n",
        "|5'3 | 19 | 100|\n",
        "|6'1 | 24 | 230 |"
      ]
    },
    {
      "metadata": {
        "id": "1r6GExUJqKYi",
        "colab_type": "text"
      },
      "cell_type": "markdown",
      "source": [
        "three ``` to write code with propper wrapping\n",
        "```\n",
        "for i in range(0, len(list)):\n",
        "   count += 1\n",
        "```"
      ]
    },
    {
      "metadata": {
        "id": "bCO1xyNWqb5-",
        "colab_type": "text"
      },
      "cell_type": "markdown",
      "source": [
        "https://github.com/KudasaiCode"
      ]
    },
    {
      "metadata": {
        "id": "JsICvSqRra_i",
        "colab_type": "text"
      },
      "cell_type": "markdown",
      "source": [
        "# Relations"
      ]
    },
    {
      "metadata": {
        "id": "Je1H3A6urzqR",
        "colab_type": "text"
      },
      "cell_type": "markdown",
      "source": [
        "$y = f(x)$\n",
        "\n",
        "$y \\neq f(x)$\n",
        "\n",
        "$2 < x > 1$\n",
        "\n",
        "$0 \\leq x \\geq 1$"
      ]
    },
    {
      "metadata": {
        "id": "mlOyXIanreEJ",
        "colab_type": "text"
      },
      "cell_type": "markdown",
      "source": [
        "# Operators"
      ]
    },
    {
      "metadata": {
        "id": "HsHQjBGfse_S",
        "colab_type": "text"
      },
      "cell_type": "markdown",
      "source": [
        "x + y\n",
        "\n",
        "$x + y$\n",
        "\n",
        "$x - y$\n",
        "\n",
        "$x * y$\n",
        "\n",
        "$2 \\times 3$\n",
        "\n",
        "$x / y $\n",
        "\n",
        "$ 2 \\div  3$"
      ]
    },
    {
      "metadata": {
        "id": "Kn8QCNA-rotr",
        "colab_type": "text"
      },
      "cell_type": "markdown",
      "source": [
        "#Fractions and Groupings"
      ]
    },
    {
      "metadata": {
        "id": "jKqb8YPWtAug",
        "colab_type": "text"
      },
      "cell_type": "markdown",
      "source": [
        "$1/2$\n",
        "\n",
        "$^1/_2$\n",
        "\n",
        "$ 1 \\over 3$\n",
        "\n",
        "$\\frac {3x+45}{34}$"
      ]
    },
    {
      "metadata": {
        "id": "AQEWFUwrrrUa",
        "colab_type": "text"
      },
      "cell_type": "markdown",
      "source": [
        "# Powers (exponents)"
      ]
    },
    {
      "metadata": {
        "id": "IiGZO40At7wk",
        "colab_type": "text"
      },
      "cell_type": "markdown",
      "source": [
        "$x^2$\n",
        "\n",
        "$\\frac{3x}{5y^{2z}}$"
      ]
    },
    {
      "metadata": {
        "id": "-LaIygL2rt9R",
        "colab_type": "text"
      },
      "cell_type": "markdown",
      "source": [
        "# Roots"
      ]
    },
    {
      "metadata": {
        "id": "1u7mBnsVrwmN",
        "colab_type": "text"
      },
      "cell_type": "markdown",
      "source": [
        "$\\sqrt4$\n",
        "\n",
        "$\\sqrt{4-1}$\n",
        "\n",
        "$\\sqrt[3]{x-34}$\n",
        "\n",
        "$\\sqrt{2^{x+2}}$\n",
        "\n",
        "$\\sqrt [4]{b^2 - 4*a*c}\\over {2b}$\n",
        "\n",
        "$-b{+\\over}\\sqrt{b^2 - 4*a*c}\\over{2b}$"
      ]
    },
    {
      "metadata": {
        "id": "PzomvMOIwRdz",
        "colab_type": "text"
      },
      "cell_type": "markdown",
      "source": [
        "# Logs"
      ]
    },
    {
      "metadata": {
        "id": "M5IvyXGfwThO",
        "colab_type": "text"
      },
      "cell_type": "markdown",
      "source": [
        "$\\log_x x = 1$\n",
        "\n",
        "$\\log_x y = 10$\n",
        "\n"
      ]
    },
    {
      "metadata": {
        "id": "gN-sRk6EwffB",
        "colab_type": "text"
      },
      "cell_type": "markdown",
      "source": [
        "# Indices"
      ]
    },
    {
      "metadata": {
        "id": "dA_GptYlwio_",
        "colab_type": "text"
      },
      "cell_type": "markdown",
      "source": [
        "$x_1$\n",
        "\n",
        "$x_2$\n",
        "\n",
        "$f(x) = ax{^n_3}+{bx{^{n-1}_2}} + cx{^{n-2}_1}$"
      ]
    },
    {
      "metadata": {
        "id": "0RlASGCjxN1f",
        "colab_type": "text"
      },
      "cell_type": "markdown",
      "source": [
        "$\\sum$\n",
        "\n",
        "$\\sum\\limits_{a}^{b}x$\n",
        "\n",
        "$\\sum\\limits_{x = 0}^{x = 5}x + 2$\n",
        "\n",
        "${1\\over n}\\sum\\limits_{i = 0}^{i\\leq n}x_i + x_{i+2}$"
      ]
    },
    {
      "metadata": {
        "id": "qO93aDnDysYN",
        "colab_type": "text"
      },
      "cell_type": "markdown",
      "source": [
        "# Products"
      ]
    },
    {
      "metadata": {
        "id": "c28x92seyusg",
        "colab_type": "text"
      },
      "cell_type": "markdown",
      "source": [
        "$\\prod$\n",
        "\n",
        "$\\prod\\limits_{a}^{b}2x$\n",
        "\n",
        "$\\prod\\limits_{a}^{b}x_i$\n",
        "\n"
      ]
    },
    {
      "metadata": {
        "id": "T8eIhTl8zC1f",
        "colab_type": "text"
      },
      "cell_type": "markdown",
      "source": [
        "# Limits"
      ]
    },
    {
      "metadata": {
        "id": "UBO48c6FzELg",
        "colab_type": "text"
      },
      "cell_type": "markdown",
      "source": [
        "$\\lim\\limits$\n",
        "\n",
        "$\\lim\\limits_{x \\to 0}$\n",
        "\n",
        "$\\lim\\limits_{x \\to \\infty}$\n",
        "\n",
        "$\\lim\\limits_{x \\to 0^+}\\frac{1}{0} = \\infty$\n",
        "\n",
        "$\\lim\\limits_{x \\to 0^-} {1\\over 0} = 5$"
      ]
    },
    {
      "metadata": {
        "id": "7bofbYLU0NjY",
        "colab_type": "text"
      },
      "cell_type": "markdown",
      "source": [
        "# Integrals"
      ]
    },
    {
      "metadata": {
        "id": "OWa8-arf0Pwr",
        "colab_type": "text"
      },
      "cell_type": "markdown",
      "source": [
        "$\\int$\n",
        "\n",
        "$\\int_{0}^{x}x + y * z {d \\over dx}$ \n",
        "\n",
        "$\\int\\limits_{a}^{b} (x^2 + y) {d \\over dy}$\n",
        "\n",
        "$\\int\\limits_{-2n}^{2n} f(x)dx = \\int\\limits_{-2n}^{2n^{4e}} dx$"
      ]
    },
    {
      "metadata": {
        "id": "WIcfZ5Zi133q",
        "colab_type": "text"
      },
      "cell_type": "markdown",
      "source": [
        "Math Symbols\n",
        "\n",
        "Alpha:\n",
        " $\\alpha$\n",
        " \n",
        " Beta: \n",
        " $\\beta$\n",
        " \n",
        " Pi:\n",
        " $\\pi$\n",
        " \n",
        " Theta:\n",
        " $\\theta$\n",
        " \n",
        " Lambda:\n",
        " $\\lambda$\n",
        " \n",
        " "
      ]
    }
  ]
}