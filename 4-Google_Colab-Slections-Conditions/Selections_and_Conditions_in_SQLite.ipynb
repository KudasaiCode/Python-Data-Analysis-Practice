{
  "nbformat": 4,
  "nbformat_minor": 0,
  "metadata": {
    "colab": {
      "name": "Selections and Conditions in SQLite.ipynb",
      "version": "0.3.2",
      "provenance": [],
      "collapsed_sections": [],
      "include_colab_link": true
    },
    "kernelspec": {
      "name": "python3",
      "display_name": "Python 3"
    }
  },
  "cells": [
    {
      "cell_type": "markdown",
      "metadata": {
        "id": "view-in-github",
        "colab_type": "text"
      },
      "source": [
        "<a href=\"https://colab.research.google.com/github/KudasaiCode/Hands-on-SQLite-Selections-and-Conditions/blob/master/Selections_and_Conditions_in_SQLite.ipynb\" target=\"_parent\"><img src=\"https://colab.research.google.com/assets/colab-badge.svg\" alt=\"Open In Colab\"/></a>"
      ]
    },
    {
      "metadata": {
        "id": "ZeIWAJrvCZLU",
        "colab_type": "text"
      },
      "cell_type": "markdown",
      "source": [
        "# Selections and Conditions"
      ]
    },
    {
      "metadata": {
        "id": "i0aZR8O7Cs8t",
        "colab_type": "text"
      },
      "cell_type": "markdown",
      "source": [
        "## Connect to the SQL Database:"
      ]
    },
    {
      "metadata": {
        "id": "b1KN97TZDFQz",
        "colab_type": "code",
        "colab": {}
      },
      "cell_type": "code",
      "source": [
        "import sqlite3\n",
        "from google.colab import files"
      ],
      "execution_count": 0,
      "outputs": []
    },
    {
      "metadata": {
        "id": "RwoNDXFQDjub",
        "colab_type": "code",
        "outputId": "66cafdbf-3747-4f5f-e853-98e057688980",
        "colab": {
          "resources": {
            "http://localhost:8080/nbextensions/google.colab/files.js": {
              "data": "Ly8gQ29weXJpZ2h0IDIwMTcgR29vZ2xlIExMQwovLwovLyBMaWNlbnNlZCB1bmRlciB0aGUgQXBhY2hlIExpY2Vuc2UsIFZlcnNpb24gMi4wICh0aGUgIkxpY2Vuc2UiKTsKLy8geW91IG1heSBub3QgdXNlIHRoaXMgZmlsZSBleGNlcHQgaW4gY29tcGxpYW5jZSB3aXRoIHRoZSBMaWNlbnNlLgovLyBZb3UgbWF5IG9idGFpbiBhIGNvcHkgb2YgdGhlIExpY2Vuc2UgYXQKLy8KLy8gICAgICBodHRwOi8vd3d3LmFwYWNoZS5vcmcvbGljZW5zZXMvTElDRU5TRS0yLjAKLy8KLy8gVW5sZXNzIHJlcXVpcmVkIGJ5IGFwcGxpY2FibGUgbGF3IG9yIGFncmVlZCB0byBpbiB3cml0aW5nLCBzb2Z0d2FyZQovLyBkaXN0cmlidXRlZCB1bmRlciB0aGUgTGljZW5zZSBpcyBkaXN0cmlidXRlZCBvbiBhbiAiQVMgSVMiIEJBU0lTLAovLyBXSVRIT1VUIFdBUlJBTlRJRVMgT1IgQ09ORElUSU9OUyBPRiBBTlkgS0lORCwgZWl0aGVyIGV4cHJlc3Mgb3IgaW1wbGllZC4KLy8gU2VlIHRoZSBMaWNlbnNlIGZvciB0aGUgc3BlY2lmaWMgbGFuZ3VhZ2UgZ292ZXJuaW5nIHBlcm1pc3Npb25zIGFuZAovLyBsaW1pdGF0aW9ucyB1bmRlciB0aGUgTGljZW5zZS4KCi8qKgogKiBAZmlsZW92ZXJ2aWV3IEhlbHBlcnMgZm9yIGdvb2dsZS5jb2xhYiBQeXRob24gbW9kdWxlLgogKi8KKGZ1bmN0aW9uKHNjb3BlKSB7CmZ1bmN0aW9uIHNwYW4odGV4dCwgc3R5bGVBdHRyaWJ1dGVzID0ge30pIHsKICBjb25zdCBlbGVtZW50ID0gZG9jdW1lbnQuY3JlYXRlRWxlbWVudCgnc3BhbicpOwogIGVsZW1lbnQudGV4dENvbnRlbnQgPSB0ZXh0OwogIGZvciAoY29uc3Qga2V5IG9mIE9iamVjdC5rZXlzKHN0eWxlQXR0cmlidXRlcykpIHsKICAgIGVsZW1lbnQuc3R5bGVba2V5XSA9IHN0eWxlQXR0cmlidXRlc1trZXldOwogIH0KICByZXR1cm4gZWxlbWVudDsKfQoKLy8gTWF4IG51bWJlciBvZiBieXRlcyB3aGljaCB3aWxsIGJlIHVwbG9hZGVkIGF0IGEgdGltZS4KY29uc3QgTUFYX1BBWUxPQURfU0laRSA9IDEwMCAqIDEwMjQ7Ci8vIE1heCBhbW91bnQgb2YgdGltZSB0byBibG9jayB3YWl0aW5nIGZvciB0aGUgdXNlci4KY29uc3QgRklMRV9DSEFOR0VfVElNRU9VVF9NUyA9IDMwICogMTAwMDsKCmZ1bmN0aW9uIF91cGxvYWRGaWxlcyhpbnB1dElkLCBvdXRwdXRJZCkgewogIGNvbnN0IHN0ZXBzID0gdXBsb2FkRmlsZXNTdGVwKGlucHV0SWQsIG91dHB1dElkKTsKICBjb25zdCBvdXRwdXRFbGVtZW50ID0gZG9jdW1lbnQuZ2V0RWxlbWVudEJ5SWQob3V0cHV0SWQpOwogIC8vIENhY2hlIHN0ZXBzIG9uIHRoZSBvdXRwdXRFbGVtZW50IHRvIG1ha2UgaXQgYXZhaWxhYmxlIGZvciB0aGUgbmV4dCBjYWxsCiAgLy8gdG8gdXBsb2FkRmlsZXNDb250aW51ZSBmcm9tIFB5dGhvbi4KICBvdXRwdXRFbGVtZW50LnN0ZXBzID0gc3RlcHM7CgogIHJldHVybiBfdXBsb2FkRmlsZXNDb250aW51ZShvdXRwdXRJZCk7Cn0KCi8vIFRoaXMgaXMgcm91Z2hseSBhbiBhc3luYyBnZW5lcmF0b3IgKG5vdCBzdXBwb3J0ZWQgaW4gdGhlIGJyb3dzZXIgeWV0KSwKLy8gd2hlcmUgdGhlcmUgYXJlIG11bHRpcGxlIGFzeW5jaHJvbm91cyBzdGVwcyBhbmQgdGhlIFB5dGhvbiBzaWRlIGlzIGdvaW5nCi8vIHRvIHBvbGwgZm9yIGNvbXBsZXRpb24gb2YgZWFjaCBzdGVwLgovLyBUaGlzIHVzZXMgYSBQcm9taXNlIHRvIGJsb2NrIHRoZSBweXRob24gc2lkZSBvbiBjb21wbGV0aW9uIG9mIGVhY2ggc3RlcCwKLy8gdGhlbiBwYXNzZXMgdGhlIHJlc3VsdCBvZiB0aGUgcHJldmlvdXMgc3RlcCBhcyB0aGUgaW5wdXQgdG8gdGhlIG5leHQgc3RlcC4KZnVuY3Rpb24gX3VwbG9hZEZpbGVzQ29udGludWUob3V0cHV0SWQpIHsKICBjb25zdCBvdXRwdXRFbGVtZW50ID0gZG9jdW1lbnQuZ2V0RWxlbWVudEJ5SWQob3V0cHV0SWQpOwogIGNvbnN0IHN0ZXBzID0gb3V0cHV0RWxlbWVudC5zdGVwczsKCiAgY29uc3QgbmV4dCA9IHN0ZXBzLm5leHQob3V0cHV0RWxlbWVudC5sYXN0UHJvbWlzZVZhbHVlKTsKICByZXR1cm4gUHJvbWlzZS5yZXNvbHZlKG5leHQudmFsdWUucHJvbWlzZSkudGhlbigodmFsdWUpID0+IHsKICAgIC8vIENhY2hlIHRoZSBsYXN0IHByb21pc2UgdmFsdWUgdG8gbWFrZSBpdCBhdmFpbGFibGUgdG8gdGhlIG5leHQKICAgIC8vIHN0ZXAgb2YgdGhlIGdlbmVyYXRvci4KICAgIG91dHB1dEVsZW1lbnQubGFzdFByb21pc2VWYWx1ZSA9IHZhbHVlOwogICAgcmV0dXJuIG5leHQudmFsdWUucmVzcG9uc2U7CiAgfSk7Cn0KCi8qKgogKiBHZW5lcmF0b3IgZnVuY3Rpb24gd2hpY2ggaXMgY2FsbGVkIGJldHdlZW4gZWFjaCBhc3luYyBzdGVwIG9mIHRoZSB1cGxvYWQKICogcHJvY2Vzcy4KICogQHBhcmFtIHtzdHJpbmd9IGlucHV0SWQgRWxlbWVudCBJRCBvZiB0aGUgaW5wdXQgZmlsZSBwaWNrZXIgZWxlbWVudC4KICogQHBhcmFtIHtzdHJpbmd9IG91dHB1dElkIEVsZW1lbnQgSUQgb2YgdGhlIG91dHB1dCBkaXNwbGF5LgogKiBAcmV0dXJuIHshSXRlcmFibGU8IU9iamVjdD59IEl0ZXJhYmxlIG9mIG5leHQgc3RlcHMuCiAqLwpmdW5jdGlvbiogdXBsb2FkRmlsZXNTdGVwKGlucHV0SWQsIG91dHB1dElkKSB7CiAgY29uc3QgaW5wdXRFbGVtZW50ID0gZG9jdW1lbnQuZ2V0RWxlbWVudEJ5SWQoaW5wdXRJZCk7CiAgaW5wdXRFbGVtZW50LmRpc2FibGVkID0gZmFsc2U7CgogIGNvbnN0IG91dHB1dEVsZW1lbnQgPSBkb2N1bWVudC5nZXRFbGVtZW50QnlJZChvdXRwdXRJZCk7CiAgb3V0cHV0RWxlbWVudC5pbm5lckhUTUwgPSAnJzsKCiAgY29uc3QgcGlja2VkUHJvbWlzZSA9IG5ldyBQcm9taXNlKChyZXNvbHZlKSA9PiB7CiAgICBpbnB1dEVsZW1lbnQuYWRkRXZlbnRMaXN0ZW5lcignY2hhbmdlJywgKGUpID0+IHsKICAgICAgcmVzb2x2ZShlLnRhcmdldC5maWxlcyk7CiAgICB9KTsKICB9KTsKCiAgY29uc3QgY2FuY2VsID0gZG9jdW1lbnQuY3JlYXRlRWxlbWVudCgnYnV0dG9uJyk7CiAgaW5wdXRFbGVtZW50LnBhcmVudEVsZW1lbnQuYXBwZW5kQ2hpbGQoY2FuY2VsKTsKICBjYW5jZWwudGV4dENvbnRlbnQgPSAnQ2FuY2VsIHVwbG9hZCc7CiAgY29uc3QgY2FuY2VsUHJvbWlzZSA9IG5ldyBQcm9taXNlKChyZXNvbHZlKSA9PiB7CiAgICBjYW5jZWwub25jbGljayA9ICgpID0+IHsKICAgICAgcmVzb2x2ZShudWxsKTsKICAgIH07CiAgfSk7CgogIC8vIENhbmNlbCB1cGxvYWQgaWYgdXNlciBoYXNuJ3QgcGlja2VkIGFueXRoaW5nIGluIHRpbWVvdXQuCiAgY29uc3QgdGltZW91dFByb21pc2UgPSBuZXcgUHJvbWlzZSgocmVzb2x2ZSkgPT4gewogICAgc2V0VGltZW91dCgoKSA9PiB7CiAgICAgIHJlc29sdmUobnVsbCk7CiAgICB9LCBGSUxFX0NIQU5HRV9USU1FT1VUX01TKTsKICB9KTsKCiAgLy8gV2FpdCBmb3IgdGhlIHVzZXIgdG8gcGljayB0aGUgZmlsZXMuCiAgY29uc3QgZmlsZXMgPSB5aWVsZCB7CiAgICBwcm9taXNlOiBQcm9taXNlLnJhY2UoW3BpY2tlZFByb21pc2UsIHRpbWVvdXRQcm9taXNlLCBjYW5jZWxQcm9taXNlXSksCiAgICByZXNwb25zZTogewogICAgICBhY3Rpb246ICdzdGFydGluZycsCiAgICB9CiAgfTsKCiAgaWYgKCFmaWxlcykgewogICAgcmV0dXJuIHsKICAgICAgcmVzcG9uc2U6IHsKICAgICAgICBhY3Rpb246ICdjb21wbGV0ZScsCiAgICAgIH0KICAgIH07CiAgfQoKICBjYW5jZWwucmVtb3ZlKCk7CgogIC8vIERpc2FibGUgdGhlIGlucHV0IGVsZW1lbnQgc2luY2UgZnVydGhlciBwaWNrcyBhcmUgbm90IGFsbG93ZWQuCiAgaW5wdXRFbGVtZW50LmRpc2FibGVkID0gdHJ1ZTsKCiAgZm9yIChjb25zdCBmaWxlIG9mIGZpbGVzKSB7CiAgICBjb25zdCBsaSA9IGRvY3VtZW50LmNyZWF0ZUVsZW1lbnQoJ2xpJyk7CiAgICBsaS5hcHBlbmQoc3BhbihmaWxlLm5hbWUsIHtmb250V2VpZ2h0OiAnYm9sZCd9KSk7CiAgICBsaS5hcHBlbmQoc3BhbigKICAgICAgICBgKCR7ZmlsZS50eXBlIHx8ICduL2EnfSkgLSAke2ZpbGUuc2l6ZX0gYnl0ZXMsIGAgKwogICAgICAgIGBsYXN0IG1vZGlmaWVkOiAkewogICAgICAgICAgICBmaWxlLmxhc3RNb2RpZmllZERhdGUgPyBmaWxlLmxhc3RNb2RpZmllZERhdGUudG9Mb2NhbGVEYXRlU3RyaW5nKCkgOgogICAgICAgICAgICAgICAgICAgICAgICAgICAgICAgICAgICAnbi9hJ30gLSBgKSk7CiAgICBjb25zdCBwZXJjZW50ID0gc3BhbignMCUgZG9uZScpOwogICAgbGkuYXBwZW5kQ2hpbGQocGVyY2VudCk7CgogICAgb3V0cHV0RWxlbWVudC5hcHBlbmRDaGlsZChsaSk7CgogICAgY29uc3QgZmlsZURhdGFQcm9taXNlID0gbmV3IFByb21pc2UoKHJlc29sdmUpID0+IHsKICAgICAgY29uc3QgcmVhZGVyID0gbmV3IEZpbGVSZWFkZXIoKTsKICAgICAgcmVhZGVyLm9ubG9hZCA9IChlKSA9PiB7CiAgICAgICAgcmVzb2x2ZShlLnRhcmdldC5yZXN1bHQpOwogICAgICB9OwogICAgICByZWFkZXIucmVhZEFzQXJyYXlCdWZmZXIoZmlsZSk7CiAgICB9KTsKICAgIC8vIFdhaXQgZm9yIHRoZSBkYXRhIHRvIGJlIHJlYWR5LgogICAgbGV0IGZpbGVEYXRhID0geWllbGQgewogICAgICBwcm9taXNlOiBmaWxlRGF0YVByb21pc2UsCiAgICAgIHJlc3BvbnNlOiB7CiAgICAgICAgYWN0aW9uOiAnY29udGludWUnLAogICAgICB9CiAgICB9OwoKICAgIC8vIFVzZSBhIGNodW5rZWQgc2VuZGluZyB0byBhdm9pZCBtZXNzYWdlIHNpemUgbGltaXRzLiBTZWUgYi82MjExNTY2MC4KICAgIGxldCBwb3NpdGlvbiA9IDA7CiAgICB3aGlsZSAocG9zaXRpb24gPCBmaWxlRGF0YS5ieXRlTGVuZ3RoKSB7CiAgICAgIGNvbnN0IGxlbmd0aCA9IE1hdGgubWluKGZpbGVEYXRhLmJ5dGVMZW5ndGggLSBwb3NpdGlvbiwgTUFYX1BBWUxPQURfU0laRSk7CiAgICAgIGNvbnN0IGNodW5rID0gbmV3IFVpbnQ4QXJyYXkoZmlsZURhdGEsIHBvc2l0aW9uLCBsZW5ndGgpOwogICAgICBwb3NpdGlvbiArPSBsZW5ndGg7CgogICAgICBjb25zdCBiYXNlNjQgPSBidG9hKFN0cmluZy5mcm9tQ2hhckNvZGUuYXBwbHkobnVsbCwgY2h1bmspKTsKICAgICAgeWllbGQgewogICAgICAgIHJlc3BvbnNlOiB7CiAgICAgICAgICBhY3Rpb246ICdhcHBlbmQnLAogICAgICAgICAgZmlsZTogZmlsZS5uYW1lLAogICAgICAgICAgZGF0YTogYmFzZTY0LAogICAgICAgIH0sCiAgICAgIH07CiAgICAgIHBlcmNlbnQudGV4dENvbnRlbnQgPQogICAgICAgICAgYCR7TWF0aC5yb3VuZCgocG9zaXRpb24gLyBmaWxlRGF0YS5ieXRlTGVuZ3RoKSAqIDEwMCl9JSBkb25lYDsKICAgIH0KICB9CgogIC8vIEFsbCBkb25lLgogIHlpZWxkIHsKICAgIHJlc3BvbnNlOiB7CiAgICAgIGFjdGlvbjogJ2NvbXBsZXRlJywKICAgIH0KICB9Owp9CgpzY29wZS5nb29nbGUgPSBzY29wZS5nb29nbGUgfHwge307CnNjb3BlLmdvb2dsZS5jb2xhYiA9IHNjb3BlLmdvb2dsZS5jb2xhYiB8fCB7fTsKc2NvcGUuZ29vZ2xlLmNvbGFiLl9maWxlcyA9IHsKICBfdXBsb2FkRmlsZXMsCiAgX3VwbG9hZEZpbGVzQ29udGludWUsCn07Cn0pKHNlbGYpOwo=",
              "ok": true,
              "headers": [
                [
                  "content-type",
                  "application/javascript"
                ]
              ],
              "status": 200,
              "status_text": "OK"
            }
          },
          "base_uri": "https://localhost:8080/",
          "height": 56
        }
      },
      "cell_type": "code",
      "source": [
        "uploaded = files.upload()"
      ],
      "execution_count": 0,
      "outputs": [
        {
          "output_type": "display_data",
          "data": {
            "text/html": [
              "\n",
              "     <input type=\"file\" id=\"files-bebd64f9-2c33-4201-bc0c-78517c812b21\" name=\"files[]\" multiple disabled />\n",
              "     <output id=\"result-bebd64f9-2c33-4201-bc0c-78517c812b21\">\n",
              "      Upload widget is only available when the cell has been executed in the\n",
              "      current browser session. Please rerun this cell to enable.\n",
              "      </output>\n",
              "      <script src=\"/nbextensions/google.colab/files.js\"></script> "
            ],
            "text/plain": [
              "<IPython.core.display.HTML object>"
            ]
          },
          "metadata": {
            "tags": []
          }
        }
      ]
    },
    {
      "metadata": {
        "id": "oDE8Qd7-DXxr",
        "colab_type": "code",
        "colab": {
          "base_uri": "https://localhost:8080/",
          "height": 35
        },
        "outputId": "460c45f0-3c0a-4f95-c16e-a146ac4017a5"
      },
      "cell_type": "code",
      "source": [
        "conn = sqlite3.connect('Sales.db')\n",
        "c = conn.cursor()"
      ],
      "execution_count": 20,
      "outputs": [
        {
          "output_type": "execute_result",
          "data": {
            "text/plain": [
              "<sqlite3.Cursor at 0x7fc86ed15340>"
            ]
          },
          "metadata": {
            "tags": []
          },
          "execution_count": 20
        }
      ]
    },
    {
      "metadata": {
        "id": "yErDl_AKEczL",
        "colab_type": "code",
        "outputId": "65bf4a58-160c-49a1-924c-56bf551540f2",
        "colab": {
          "base_uri": "https://localhost:8080/",
          "height": 35
        }
      },
      "cell_type": "code",
      "source": [
        "c.execute('CREATE TABLE Sales(\"employee_ID INTEGERS PRIMARY KEY\", \"First-Name TEXT\", \"Last_Name TEXT\", \"Department TEXT\", \"City TEXT\")') #WRONG column. remove \"\"\n"
      ],
      "execution_count": 21,
      "outputs": [
        {
          "output_type": "execute_result",
          "data": {
            "text/plain": [
              "<sqlite3.Cursor at 0x7fc86ed15340>"
            ]
          },
          "metadata": {
            "tags": []
          },
          "execution_count": 21
        }
      ]
    },
    {
      "metadata": {
        "id": "w67f0YYZEyAN",
        "colab_type": "code",
        "outputId": "b2a68db8-e37a-4957-8ed4-d6b49fcc8f6b",
        "colab": {
          "base_uri": "https://localhost:8080/",
          "height": 35
        }
      },
      "cell_type": "code",
      "source": [
        "sales = [\n",
        "    (10001, 'Daniel' ,'Olson', 'Electronics', 'San Francisco'),\n",
        "    (10002, 'Nick','markmen', 'Clothes', 'San Francisco'),\n",
        "    (10003, 'Maria' ,'Gonzales', 'Electronics', 'San Jose'),\n",
        "    (10004, 'George' ,'Wong', 'Clothes', 'San Francisco'),\n",
        "    (10005, 'Stephanie' ,'Williams', 'Clothes', 'Oakland'),\n",
        "    (10006, 'Miguel' ,'Alva', 'Clothes', 'Oakland'),\n",
        "    (10007, 'Jessica' ,'Collins', 'Electronics', 'San Francisco'),\n",
        "    (10008, 'Ted' ,'Anderson', 'Clothes', 'Oakland'),\n",
        "    (10009, 'Victoria' ,'Garcia', 'Clothes', 'San Jose'),\n",
        "    (10010, 'Jjasmine' ,'Khan', 'Pharmacy, Halth, and Beauty', 'Oakland'),\n",
        "    (10011, 'Adam' ,'Smith', 'Pharmacy, Halth, and Beauty', 'San Jose'),\n",
        "    (10012, 'Rachel' ,'Kim', 'Electronics', 'San Jose'),\n",
        "]\n",
        "\n",
        "c.executemany('INSERT INTO Sales VALUES (?,?,?,?,?)', sales)"
      ],
      "execution_count": 24,
      "outputs": [
        {
          "output_type": "execute_result",
          "data": {
            "text/plain": [
              "<sqlite3.Cursor at 0x7fc86ed15340>"
            ]
          },
          "metadata": {
            "tags": []
          },
          "execution_count": 24
        }
      ]
    },
    {
      "metadata": {
        "id": "X8Nd2gy0ehbg",
        "colab_type": "code",
        "colab": {
          "base_uri": "https://localhost:8080/",
          "height": 55
        },
        "outputId": "86c76b6d-960b-41af-fdfb-3c3c5e4970f2"
      },
      "cell_type": "code",
      "source": [
        "c.execute('SELECT * FROM Sales')\n",
        "print(c.fetchall())"
      ],
      "execution_count": 26,
      "outputs": [
        {
          "output_type": "stream",
          "text": [
            "[(10001, 'Daniel', 'Olson', 'Electronics', 'San Francisco'), (10002, 'Nick', 'markmen', 'Clothes', 'San Francisco'), (10003, 'Maria', 'Gonzales', 'Electronics', 'San Jose'), (10004, 'George', 'Wong', 'Clothes', 'San Francisco'), (10005, 'Stephanie', 'Williams', 'Clothes', 'Oakland'), (10006, 'Miguel', 'Alva', 'Clothes', 'Oakland'), (10007, 'Jessica', 'Collins', 'Electronics', 'San Francisco'), (10008, 'Ted', 'Anderson', 'Clothes', 'Oakland'), (10009, 'Victoria', 'Garcia', 'Clothes', 'San Jose'), (10010, 'Jjasmine', 'Khan', 'Pharmacy, Halth, and Beauty', 'Oakland'), (10011, 'Adam', 'Smith', 'Pharmacy, Halth, and Beauty', 'San Jose'), (10012, 'Rachel', 'Kim', 'Electronics', 'San Jose')]\n"
          ],
          "name": "stdout"
        }
      ]
    },
    {
      "metadata": {
        "id": "uu42UKxagRRc",
        "colab_type": "code",
        "colab": {
          "base_uri": "https://localhost:8080/",
          "height": 35
        },
        "outputId": "3b0fd47d-aef6-4d0e-cabe-c6623b39714f"
      },
      "cell_type": "code",
      "source": [
        "c.execute('ALTER TABLE Sales RENAME TO _Sales_old')\n",
        "\n",
        "c.execute('CREATE TABLE Sales(employee_ID INTEGERS PRIMARY KEY, First_Name TEXT, Last_Name TEXT, Department TEXT, City TEXT)')\n"
      ],
      "execution_count": 35,
      "outputs": [
        {
          "output_type": "execute_result",
          "data": {
            "text/plain": [
              "<sqlite3.Cursor at 0x7fc86ed15340>"
            ]
          },
          "metadata": {
            "tags": []
          },
          "execution_count": 35
        }
      ]
    },
    {
      "metadata": {
        "id": "TCc82lxvha_L",
        "colab_type": "code",
        "colab": {
          "base_uri": "https://localhost:8080/",
          "height": 35
        },
        "outputId": "775e9c56-5efc-44c7-837c-a5d25b3a0d55"
      },
      "cell_type": "code",
      "source": [
        "c.execute('DROP TABLE _Sales_old')"
      ],
      "execution_count": 36,
      "outputs": [
        {
          "output_type": "execute_result",
          "data": {
            "text/plain": [
              "<sqlite3.Cursor at 0x7fc86ed15340>"
            ]
          },
          "metadata": {
            "tags": []
          },
          "execution_count": 36
        }
      ]
    },
    {
      "metadata": {
        "id": "UC9Od0Fqhra8",
        "colab_type": "code",
        "colab": {
          "base_uri": "https://localhost:8080/",
          "height": 35
        },
        "outputId": "bf078f20-213f-45fb-da04-42479b45e5ae"
      },
      "cell_type": "code",
      "source": [
        "c.executemany('INSERT INTO Sales VALUES (?,?,?,?,?)' ,sales)"
      ],
      "execution_count": 37,
      "outputs": [
        {
          "output_type": "execute_result",
          "data": {
            "text/plain": [
              "<sqlite3.Cursor at 0x7fc86ed15340>"
            ]
          },
          "metadata": {
            "tags": []
          },
          "execution_count": 37
        }
      ]
    },
    {
      "metadata": {
        "id": "44DDWU16Cwsk",
        "colab_type": "text"
      },
      "cell_type": "markdown",
      "source": [
        "## Where:"
      ]
    },
    {
      "metadata": {
        "id": "fyGzQtwRexke",
        "colab_type": "code",
        "colab": {
          "base_uri": "https://localhost:8080/",
          "height": 35
        },
        "outputId": "9bd4605b-0b2e-4855-f205-03c26882ea96"
      },
      "cell_type": "code",
      "source": [
        "# Selecting specific columns\n",
        "\n",
        "c.execute('SELECT First_Name FROM Sales WHERE City = \"Oakland\"')\n",
        "print(c.fetchall())"
      ],
      "execution_count": 38,
      "outputs": [
        {
          "output_type": "stream",
          "text": [
            "[('Stephanie',), ('Miguel',), ('Ted',), ('Jjasmine',)]\n"
          ],
          "name": "stdout"
        }
      ]
    },
    {
      "metadata": {
        "id": "1v0DsOpCi2hL",
        "colab_type": "code",
        "colab": {
          "base_uri": "https://localhost:8080/",
          "height": 35
        },
        "outputId": "3b76cd23-2eba-471b-aab0-f9ef79cf1a96"
      },
      "cell_type": "code",
      "source": [
        "c.execute('UPDATE Sales SET First_Name = \"Jasmine\" WHERE Last_Name = \"Khan\" ')\n",
        "\n",
        "c.execute('SELECT First_Name FROM Sales WHERE City = \"Oakland\"')\n",
        "print(c.fetchall())"
      ],
      "execution_count": 39,
      "outputs": [
        {
          "output_type": "stream",
          "text": [
            "[('Stephanie',), ('Miguel',), ('Ted',), ('Jasmine',)]\n"
          ],
          "name": "stdout"
        }
      ]
    },
    {
      "metadata": {
        "id": "4lerr_3-Cyli",
        "colab_type": "text"
      },
      "cell_type": "markdown",
      "source": [
        "## AND:"
      ]
    },
    {
      "metadata": {
        "id": "7g5DUX5lmI4g",
        "colab_type": "code",
        "colab": {
          "base_uri": "https://localhost:8080/",
          "height": 35
        },
        "outputId": "620fe9d2-5ef4-4d8d-b6ca-44350a5a4680"
      },
      "cell_type": "code",
      "source": [
        "c.execute('UPDATE Sales SET Department = \"Cosmetics\" WHERE City = \"San Francisco\" AND Department = \"Clothes\"')\n",
        "c.execute('SELECT Department FROM Sales WHERE City = \"San Francisco\"')\n",
        "print(c.fetchall())"
      ],
      "execution_count": 41,
      "outputs": [
        {
          "output_type": "stream",
          "text": [
            "[('Electronics',), ('Cosmetics',), ('Cosmetics',), ('Electronics',)]\n"
          ],
          "name": "stdout"
        }
      ]
    },
    {
      "metadata": {
        "id": "MHdtV5c803G0",
        "colab_type": "code",
        "colab": {
          "base_uri": "https://localhost:8080/",
          "height": 35
        },
        "outputId": "f7567be0-590f-4349-a064-7327b34ab76d"
      },
      "cell_type": "code",
      "source": [
        "c.execute('SELECT First_Name, Last_Name \\\n",
        "  FROM Sales \\\n",
        "  WHERE City = \"San Francisco\" AND employee_ID = \"10001\" OR employee_ID = \"10002\"')\n",
        "          \n",
        "print(c.fetchall())"
      ],
      "execution_count": 55,
      "outputs": [
        {
          "output_type": "stream",
          "text": [
            "[('Daniel', 'Olson'), ('Nick', 'markmen')]\n"
          ],
          "name": "stdout"
        }
      ]
    },
    {
      "metadata": {
        "id": "zo9VpA4AC00K",
        "colab_type": "text"
      },
      "cell_type": "markdown",
      "source": [
        "## OR:"
      ]
    },
    {
      "metadata": {
        "id": "1RQI9TlToAao",
        "colab_type": "code",
        "colab": {
          "base_uri": "https://localhost:8080/",
          "height": 55
        },
        "outputId": "ac3b89f8-86b2-45b7-c2f2-488a293e5255"
      },
      "cell_type": "code",
      "source": [
        "c.execute('UPDATE Sales SET Department = \"Closed\" WHERE City = \"San Francisco\" OR City = \"San Jose\" ')\n",
        "\n",
        "c.execute('SELECT Department, City FROM Sales')\n",
        "print(c.fetchall())"
      ],
      "execution_count": 42,
      "outputs": [
        {
          "output_type": "stream",
          "text": [
            "[('Closed', 'San Francisco'), ('Closed', 'San Francisco'), ('Closed', 'San Jose'), ('Closed', 'San Francisco'), ('Clothes', 'Oakland'), ('Clothes', 'Oakland'), ('Closed', 'San Francisco'), ('Clothes', 'Oakland'), ('Closed', 'San Jose'), ('Pharmacy, Halth, and Beauty', 'Oakland'), ('Closed', 'San Jose'), ('Closed', 'San Jose')]\n"
          ],
          "name": "stdout"
        }
      ]
    },
    {
      "metadata": {
        "id": "t6mh02ggpTK2",
        "colab_type": "code",
        "colab": {
          "base_uri": "https://localhost:8080/",
          "height": 35
        },
        "outputId": "bf7bc4ca-e76f-4239-eb24-23c567e4870d"
      },
      "cell_type": "code",
      "source": [
        "c.execute('SELECT First_Name, Department FROM Sales WHERE City = \"San Francisco\" OR City = \"San jose\"')\n",
        "print(c.fetchall())"
      ],
      "execution_count": 47,
      "outputs": [
        {
          "output_type": "stream",
          "text": [
            "[('Daniel', 'Closed'), ('Nick', 'Closed'), ('George', 'Closed'), ('Jessica', 'Closed')]\n"
          ],
          "name": "stdout"
        }
      ]
    },
    {
      "metadata": {
        "id": "DWMooe0fC3Rb",
        "colab_type": "text"
      },
      "cell_type": "markdown",
      "source": [
        "## NOT:"
      ]
    },
    {
      "metadata": {
        "id": "pi_wofoC-ESh",
        "colab_type": "code",
        "colab": {
          "base_uri": "https://localhost:8080/",
          "height": 35
        },
        "outputId": "fa9add94-be4b-4e41-c059-6a4917551ae4"
      },
      "cell_type": "code",
      "source": [
        "c.execute('SELECT First_Name \\\n",
        "  FROM Sales \\\n",
        "  WHERE NOT City = \"San Francisco\"')\n",
        "print(c.fetchall())"
      ],
      "execution_count": 56,
      "outputs": [
        {
          "output_type": "stream",
          "text": [
            "[('Maria',), ('Stephanie',), ('Miguel',), ('Ted',), ('Victoria',), ('Jasmine',), ('Adam',), ('Rachel',)]\n"
          ],
          "name": "stdout"
        }
      ]
    },
    {
      "metadata": {
        "id": "GyWh56KSC4rT",
        "colab_type": "text"
      },
      "cell_type": "markdown",
      "source": [
        "## IN:"
      ]
    },
    {
      "metadata": {
        "id": "a22E6ZNn-2qb",
        "colab_type": "code",
        "colab": {
          "base_uri": "https://localhost:8080/",
          "height": 35
        },
        "outputId": "6fcd5e95-7082-4281-9153-9cf7c52641cd"
      },
      "cell_type": "code",
      "source": [
        "c.execute('SELECT Last_Name \\\n",
        "  FROM Sales \\ \n",
        "  WHERE Department IN (\"Cosmetics\", \"Closed\", \"MadeUpDep\")') \n",
        "# MadeUpDep does not exist. Still works\n",
        "print(c.fetchall())"
      ],
      "execution_count": 58,
      "outputs": [
        {
          "output_type": "stream",
          "text": [
            "[('Olson',), ('markmen',), ('Gonzales',), ('Wong',), ('Collins',), ('Garcia',), ('Smith',), ('Kim',)]\n"
          ],
          "name": "stdout"
        }
      ]
    },
    {
      "metadata": {
        "id": "m76AnX01C6ot",
        "colab_type": "text"
      },
      "cell_type": "markdown",
      "source": [
        "## BETWEEN:"
      ]
    },
    {
      "metadata": {
        "id": "AIcOWC68AEQA",
        "colab_type": "code",
        "colab": {
          "base_uri": "https://localhost:8080/",
          "height": 35
        },
        "outputId": "608f6ba0-f486-496f-c46b-848d4ccf4d9f"
      },
      "cell_type": "code",
      "source": [
        "c.execute('SELECT Last_Name \\\n",
        "  FROM Sales \\\n",
        "  WHERE employee_ID BETWEEN 10001 AND 10006')\n",
        "print(c.fetchall())"
      ],
      "execution_count": 61,
      "outputs": [
        {
          "output_type": "stream",
          "text": [
            "[('Olson',), ('markmen',), ('Gonzales',), ('Wong',), ('Williams',), ('Alva',)]\n"
          ],
          "name": "stdout"
        }
      ]
    },
    {
      "metadata": {
        "id": "p4Ndg29aC-uz",
        "colab_type": "text"
      },
      "cell_type": "markdown",
      "source": [
        "## Exists:"
      ]
    },
    {
      "metadata": {
        "id": "M3f9O-wJA4_x",
        "colab_type": "code",
        "colab": {
          "base_uri": "https://localhost:8080/",
          "height": 35
        },
        "outputId": "086cdbb1-58e8-41d1-899f-41d5c93def8c"
      },
      "cell_type": "code",
      "source": [
        "# Returns boolean result. Not always used to query actual VALUES\n",
        "\n",
        "c.execute(\"SELECT * FROM Sales \\\n",
        "  WHERE EXISTS \\\n",
        "  (SELECT Last_Name \\\n",
        "  FROM Sales \\\n",
        "  WHERE employee_ID BETWEEN 10001 AND 10006)\")\n",
        "\n",
        "if c.fetchone():\n",
        "  print('Found Record!')\n",
        "else:\n",
        "  print('NO')"
      ],
      "execution_count": 64,
      "outputs": [
        {
          "output_type": "stream",
          "text": [
            "Found Record!\n"
          ],
          "name": "stdout"
        }
      ]
    },
    {
      "metadata": {
        "id": "3_9AzFfjDA9K",
        "colab_type": "text"
      },
      "cell_type": "markdown",
      "source": [
        "## LIMITS:"
      ]
    },
    {
      "metadata": {
        "id": "VZRKjWQSCvDV",
        "colab_type": "code",
        "colab": {
          "base_uri": "https://localhost:8080/",
          "height": 35
        },
        "outputId": "e3d3c3ac-5618-449e-e76c-4f62aa6838d8"
      },
      "cell_type": "code",
      "source": [
        "# specify amount of values desirred\n",
        "\n",
        "c.execute('SELECT First_Name FROM Sales \\\n",
        "  WHERE City = \"San Jose\" \\\n",
        "  LIMIT 3')\n",
        "print(c.fetchall())"
      ],
      "execution_count": 66,
      "outputs": [
        {
          "output_type": "stream",
          "text": [
            "[('Maria',), ('Victoria',), ('Adam',)]\n"
          ],
          "name": "stdout"
        }
      ]
    },
    {
      "metadata": {
        "id": "kk20wj0bDLej",
        "colab_type": "code",
        "colab": {
          "base_uri": "https://localhost:8080/",
          "height": 35
        },
        "outputId": "fa67ecb0-d712-44b7-c96c-a1b7d0c26386"
      },
      "cell_type": "code",
      "source": [
        "c.execute('SELECT First_Name FROM Sales \\\n",
        "  WHERE City = \"San Jose\" \\\n",
        "  LIMIT 2')\n",
        "print(c.fetchall())"
      ],
      "execution_count": 67,
      "outputs": [
        {
          "output_type": "stream",
          "text": [
            "[('Maria',), ('Victoria',)]\n"
          ],
          "name": "stdout"
        }
      ]
    }
  ]
}