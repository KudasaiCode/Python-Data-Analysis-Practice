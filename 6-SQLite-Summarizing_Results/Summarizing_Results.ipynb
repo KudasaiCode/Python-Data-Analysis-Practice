{
  "nbformat": 4,
  "nbformat_minor": 0,
  "metadata": {
    "colab": {
      "name": "Summarizing Results",
      "version": "0.3.2",
      "provenance": [],
      "collapsed_sections": [],
      "toc_visible": true,
      "include_colab_link": true
    },
    "kernelspec": {
      "name": "python3",
      "display_name": "Python 3"
    }
  },
  "cells": [
    {
      "cell_type": "markdown",
      "metadata": {
        "id": "view-in-github",
        "colab_type": "text"
      },
      "source": [
        "<a href=\"https://colab.research.google.com/github/KudasaiCode/Hands-on-Summarizing-Results-in-SQLite/blob/master/Summarizing_Results.ipynb\" target=\"_parent\"><img src=\"https://colab.research.google.com/assets/colab-badge.svg\" alt=\"Open In Colab\"/></a>"
      ]
    },
    {
      "metadata": {
        "id": "cUHN5ys0tBTJ",
        "colab_type": "text"
      },
      "cell_type": "markdown",
      "source": [
        "# Creating Table:"
      ]
    },
    {
      "metadata": {
        "id": "bAeD3AUQtDyS",
        "colab_type": "code",
        "colab": {}
      },
      "cell_type": "code",
      "source": [
        "from google.colab import files\n",
        "import sqlite3"
      ],
      "execution_count": 0,
      "outputs": []
    },
    {
      "metadata": {
        "id": "r7-mlyOFtIRi",
        "colab_type": "code",
        "outputId": "dd395722-4e8c-49a8-c34b-f274575630b2",
        "colab": {
          "resources": {
            "http://localhost:8080/nbextensions/google.colab/files.js": {
              "data": "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",
              "ok": true,
              "headers": [
                [
                  "content-type",
                  "application/javascript"
                ]
              ],
              "status": 200,
              "status_text": "OK"
            }
          },
          "base_uri": "https://localhost:8080/",
          "height": 56
        }
      },
      "cell_type": "code",
      "source": [
        "uploaded = files.upload()"
      ],
      "execution_count": 0,
      "outputs": [
        {
          "output_type": "display_data",
          "data": {
            "text/html": [
              "\n",
              "     <input type=\"file\" id=\"files-aee541f7-b102-4090-b9d4-5983129d6cad\" name=\"files[]\" multiple disabled />\n",
              "     <output id=\"result-aee541f7-b102-4090-b9d4-5983129d6cad\">\n",
              "      Upload widget is only available when the cell has been executed in the\n",
              "      current browser session. Please rerun this cell to enable.\n",
              "      </output>\n",
              "      <script src=\"/nbextensions/google.colab/files.js\"></script> "
            ],
            "text/plain": [
              "<IPython.core.display.HTML object>"
            ]
          },
          "metadata": {
            "tags": []
          }
        }
      ]
    },
    {
      "metadata": {
        "id": "R20RmwxotOFq",
        "colab_type": "code",
        "colab": {}
      },
      "cell_type": "code",
      "source": [
        "conn = sqlite3.connect('Sales.db')\n",
        "c = conn.cursor()"
      ],
      "execution_count": 0,
      "outputs": []
    },
    {
      "metadata": {
        "id": "WOHyyH38tkNq",
        "colab_type": "code",
        "colab": {
          "base_uri": "https://localhost:8080/",
          "height": 35
        },
        "outputId": "e9af0554-86bf-4f7f-9f9f-b1a8be8a6439"
      },
      "cell_type": "code",
      "source": [
        "c.execute(\"CREATE TABLE Products(Product_ID INTEGERS PRIMARY KEY, Product_Name TEXT, Price INTEGERS, Supplier_ID INTEGERS, Supplier_Name TEXT)\")\n",
        "\n",
        "products = [\n",
        "    (30001, 'T-Shirt', 12.98, 40004, \"Studio Warehouse\"),\n",
        "    (30002, 'Tooth Paste', 4.5, 40004, \"BioMed Inc\"),\n",
        "    (30003, 'Speakers', 56.99, 40004, \"CompTech, Inc\"),\n",
        "    (30004, 'Pants', 34.35, 40004, \"FashionRUs\"),\n",
        "    (30005, 'Microphone', 46.21, 40004, \"Music Vibrations, Inc\"),\n",
        "    (30006, 'Tie', 11.09, 40004, \"FashionRUs\"),\n",
        "    (30007, 'Chap Stick', 3.67, 40004, \"BioMed Inc\"),\n",
        "    (30008, 'Medicine', 23.96, 40004, \"BioMed Inc\"),\n",
        "    (30009, 'Headhphones', 31.44, 40004, \"Music Vibrations, Inc\"),\n",
        "    (30010, 'Lotion', 16.77, 40004, \"BioMed Inc\"),\n",
        "    (30011, 'DVD Plyaer', 149.99, 40004, \"CompTech, Inc\"),\n",
        "    (30012, 'Coat', 56.33, 40004, \"Studio Warehouse\"),\n",
        "]\n",
        "\n",
        "c.executemany('INSERT INTO Products VALUES (?,?,?,?,?)', products)"
      ],
      "execution_count": 16,
      "outputs": [
        {
          "output_type": "execute_result",
          "data": {
            "text/plain": [
              "<sqlite3.Cursor at 0x7fe35606b2d0>"
            ]
          },
          "metadata": {
            "tags": []
          },
          "execution_count": 16
        }
      ]
    },
    {
      "metadata": {
        "id": "bgXqYWzfwHSB",
        "colab_type": "code",
        "colab": {
          "base_uri": "https://localhost:8080/",
          "height": 55
        },
        "outputId": "efb1fd14-dd49-4878-fcfe-bfb112fb8884"
      },
      "cell_type": "code",
      "source": [
        "c.execute('SELECT Supplier_Name FROM Products')\n",
        "print(c.fetchall())"
      ],
      "execution_count": 19,
      "outputs": [
        {
          "output_type": "stream",
          "text": [
            "[('Studio Warehouse',), ('BioMed Inc',), ('CompTech, Inc',), ('FashionRUs',), ('Music Vibrations, Inc',), ('FashionRUs',), ('BioMed Inc',), ('BioMed Inc',), ('Music Vibrations, Inc',), ('BioMed Inc',), ('CompTech, Inc',), ('Studio Warehouse',)]\n"
          ],
          "name": "stdout"
        }
      ]
    },
    {
      "metadata": {
        "id": "oG4NNB4As2Bi",
        "colab_type": "code",
        "colab": {
          "base_uri": "https://localhost:8080/",
          "height": 35
        },
        "outputId": "354b4600-c4a3-4792-d0c0-9f4f6a474c47"
      },
      "cell_type": "code",
      "source": [
        ""
      ],
      "execution_count": 15,
      "outputs": [
        {
          "output_type": "execute_result",
          "data": {
            "text/plain": [
              "<sqlite3.Cursor at 0x7fe35606b2d0>"
            ]
          },
          "metadata": {
            "tags": []
          },
          "execution_count": 15
        }
      ]
    },
    {
      "metadata": {
        "id": "w0yQvI7MxAOI",
        "colab_type": "text"
      },
      "cell_type": "markdown",
      "source": [
        "# Summarizing Results"
      ]
    },
    {
      "metadata": {
        "id": "mA8uZNR9xCMf",
        "colab_type": "text"
      },
      "cell_type": "markdown",
      "source": [
        "### Min:"
      ]
    },
    {
      "metadata": {
        "id": "0j_T7eAYxPuf",
        "colab_type": "code",
        "colab": {
          "base_uri": "https://localhost:8080/",
          "height": 35
        },
        "outputId": "de85ab34-ad94-4ddc-b0e3-0db462bfac3f"
      },
      "cell_type": "code",
      "source": [
        "c.execute(\"SELECT MIN(Price), Product_Name FROM Products\")\n",
        "print(c.fetchall())"
      ],
      "execution_count": 20,
      "outputs": [
        {
          "output_type": "stream",
          "text": [
            "[(3.67, 'Chap Stick')]\n"
          ],
          "name": "stdout"
        }
      ]
    },
    {
      "metadata": {
        "id": "cX1nCrjYxEH3",
        "colab_type": "text"
      },
      "cell_type": "markdown",
      "source": [
        "### Max:"
      ]
    },
    {
      "metadata": {
        "id": "JMxaPYsjxhUv",
        "colab_type": "code",
        "colab": {
          "base_uri": "https://localhost:8080/",
          "height": 35
        },
        "outputId": "08d4d52e-055a-462c-df59-24a73a56f6aa"
      },
      "cell_type": "code",
      "source": [
        "c.execute(\"SELECT MAX(Price), Product_Name FROM Products\")\n",
        "print(c.fetchall())"
      ],
      "execution_count": 21,
      "outputs": [
        {
          "output_type": "stream",
          "text": [
            "[(149.99, 'DVD Plyaer')]\n"
          ],
          "name": "stdout"
        }
      ]
    },
    {
      "metadata": {
        "id": "b4VG0GuZxFmA",
        "colab_type": "text"
      },
      "cell_type": "markdown",
      "source": [
        "### Count:"
      ]
    },
    {
      "metadata": {
        "id": "kTvxv2h4xn0_",
        "colab_type": "code",
        "colab": {
          "base_uri": "https://localhost:8080/",
          "height": 35
        },
        "outputId": "bd19e1f0-f049-484e-a5a5-47861dbecef2"
      },
      "cell_type": "code",
      "source": [
        "c.execute(\"SELECT COUNT(Product_ID) FROM Products\")\n",
        "print(c.fetchone())"
      ],
      "execution_count": 23,
      "outputs": [
        {
          "output_type": "stream",
          "text": [
            "(12,)\n"
          ],
          "name": "stdout"
        }
      ]
    },
    {
      "metadata": {
        "id": "PXkGY1rYx5tv",
        "colab_type": "code",
        "colab": {
          "base_uri": "https://localhost:8080/",
          "height": 35
        },
        "outputId": "e7d09de5-7bf5-4737-bdaa-57a2b4f57872"
      },
      "cell_type": "code",
      "source": [
        "c.execute(\"SELECT COUNT(Product_ID) FROM Products \\\n",
        "  WHERE Supplier_Name = 'BioMed Inc' OR Supplier_Name = 'Studio Warehouse'\")\n",
        "print(c.fetchall())"
      ],
      "execution_count": 26,
      "outputs": [
        {
          "output_type": "stream",
          "text": [
            "[(6,)]\n"
          ],
          "name": "stdout"
        }
      ]
    },
    {
      "metadata": {
        "id": "d0IB4ZWCxHCX",
        "colab_type": "text"
      },
      "cell_type": "markdown",
      "source": [
        "### Sum:"
      ]
    },
    {
      "metadata": {
        "id": "3j4KQQLEyiwf",
        "colab_type": "code",
        "colab": {
          "base_uri": "https://localhost:8080/",
          "height": 35
        },
        "outputId": "04c348f2-7076-4305-adbc-b628f11717fe"
      },
      "cell_type": "code",
      "source": [
        "c.execute(\"SELECT SUM(Price) FROM Products \\\n",
        "  WHERE Product_ID \\\n",
        "  BETWEEN 30001 AND 30007\")\n",
        "print(c.fetchall())"
      ],
      "execution_count": 30,
      "outputs": [
        {
          "output_type": "stream",
          "text": [
            "[(169.79,)]\n"
          ],
          "name": "stdout"
        }
      ]
    },
    {
      "metadata": {
        "id": "5Cr5szC6xIrK",
        "colab_type": "text"
      },
      "cell_type": "markdown",
      "source": [
        "### Avg:"
      ]
    },
    {
      "metadata": {
        "id": "0kXkwgk-z1U_",
        "colab_type": "code",
        "colab": {
          "base_uri": "https://localhost:8080/",
          "height": 35
        },
        "outputId": "3ad70958-8606-492a-b30c-1fb05c4a75fe"
      },
      "cell_type": "code",
      "source": [
        "# Calculates average MEAN\n",
        "\n",
        "c.execute(\"SELECT AVG(Price) FROM Products \\\n",
        "  WHERE Supplier_Name = 'BioMed Inc'\")\n",
        "print(c.fetchall())"
      ],
      "execution_count": 32,
      "outputs": [
        {
          "output_type": "stream",
          "text": [
            "[(12.225000000000001,)]\n"
          ],
          "name": "stdout"
        }
      ]
    },
    {
      "metadata": {
        "id": "j_BOlMyExKMY",
        "colab_type": "text"
      },
      "cell_type": "markdown",
      "source": [
        "### Group By:"
      ]
    },
    {
      "metadata": {
        "id": "1z1jmDRS0Xoh",
        "colab_type": "code",
        "colab": {
          "base_uri": "https://localhost:8080/",
          "height": 35
        },
        "outputId": "6990daf5-76cd-4ada-b336-9a0c14f02a01"
      },
      "cell_type": "code",
      "source": [
        "# Returns 1 row for each GROUP. \n",
        "# For each GROUP we can apply 1 attribute such as MIN MAX\n",
        "\n",
        "c.execute(\"SELECT Supplier_Name, COUNT(Product_Name)\\\n",
        "  FROM Products \\\n",
        "  GROUP BY Supplier_Name\")\n",
        "print(c.fetchall())"
      ],
      "execution_count": 41,
      "outputs": [
        {
          "output_type": "stream",
          "text": [
            "[('BioMed Inc', 4), ('CompTech, Inc', 2), ('FashionRUs', 2), ('Music Vibrations, Inc', 2), ('Studio Warehouse', 2)]\n"
          ],
          "name": "stdout"
        }
      ]
    },
    {
      "metadata": {
        "id": "4Hb1j5ruxMi3",
        "colab_type": "text"
      },
      "cell_type": "markdown",
      "source": [
        "### Having:"
      ]
    },
    {
      "metadata": {
        "id": "iQLOITNU2d9r",
        "colab_type": "code",
        "colab": {
          "base_uri": "https://localhost:8080/",
          "height": 35
        },
        "outputId": "e50e0fad-e2f2-41f4-b303-4f5e9bcf92b0"
      },
      "cell_type": "code",
      "source": [
        "# Similair to WHERE. \n",
        "\n",
        "c.execute(\"SELECT Supplier_Name, COUNT(Product_Name) \\\n",
        "  FROM Products \\\n",
        "  GROUP BY Supplier_Name \\\n",
        "  HAVING COUNT(Product_Name) > 2\")\n",
        "print(c.fetchall())"
      ],
      "execution_count": 42,
      "outputs": [
        {
          "output_type": "stream",
          "text": [
            "[('BioMed Inc', 4)]\n"
          ],
          "name": "stdout"
        }
      ]
    },
    {
      "metadata": {
        "id": "59HE5bzt3Xcy",
        "colab_type": "text"
      },
      "cell_type": "markdown",
      "source": [
        "## Playing around"
      ]
    },
    {
      "metadata": {
        "id": "EhW7ixPg3Zp5",
        "colab_type": "code",
        "colab": {}
      },
      "cell_type": "code",
      "source": [
        "c.execute(\"INSERT INTO Products VALUES (30013, 'Table', 80.00, 40004, 'Studio Warehouse')\")"
      ],
      "execution_count": 0,
      "outputs": []
    },
    {
      "metadata": {
        "id": "eiUeOb2x4MLb",
        "colab_type": "code",
        "colab": {
          "base_uri": "https://localhost:8080/",
          "height": 35
        },
        "outputId": "e0cae178-3a21-4487-da93-a50eb78fa7ca"
      },
      "cell_type": "code",
      "source": [
        "c.execute(\"SELECT Product_Name FROM Products \\\n",
        "  WHERE Supplier_Name = 'Studio Warehouse'\")\n",
        "print(c.fetchall())"
      ],
      "execution_count": 46,
      "outputs": [
        {
          "output_type": "stream",
          "text": [
            "[('T-Shirt',), ('Coat',), ('Table',)]\n"
          ],
          "name": "stdout"
        }
      ]
    },
    {
      "metadata": {
        "id": "tpZ8h1cw4QGa",
        "colab_type": "code",
        "colab": {
          "base_uri": "https://localhost:8080/",
          "height": 35
        },
        "outputId": "255c4483-3066-47a0-bfdb-392798347ee7"
      },
      "cell_type": "code",
      "source": [
        "c.execute(\"UPDATE Products SET Supplier_ID = 40001 \\\n",
        "  WHERE Supplier_Name = 'Studio Warehouse'\")"
      ],
      "execution_count": 47,
      "outputs": [
        {
          "output_type": "execute_result",
          "data": {
            "text/plain": [
              "<sqlite3.Cursor at 0x7fe35606b2d0>"
            ]
          },
          "metadata": {
            "tags": []
          },
          "execution_count": 47
        }
      ]
    },
    {
      "metadata": {
        "id": "Oklzal9V40iL",
        "colab_type": "code",
        "colab": {
          "base_uri": "https://localhost:8080/",
          "height": 55
        },
        "outputId": "e8f446fa-09e4-4da5-febf-b232bfc2d538"
      },
      "cell_type": "code",
      "source": [
        "c.execute(\"SELECT Supplier_Name, Supplier_ID FROM Products\")\n",
        "print(c.fetchall())"
      ],
      "execution_count": 51,
      "outputs": [
        {
          "output_type": "stream",
          "text": [
            "[('Studio Warehouse', 40001), ('BioMed Inc', 40004), ('CompTech, Inc', 40004), ('FashionRUs', 40004), ('Music Vibrations, Inc', 40004), ('FashionRUs', 40004), ('BioMed Inc', 40004), ('BioMed Inc', 40004), ('Music Vibrations, Inc', 40004), ('BioMed Inc', 40004), ('CompTech, Inc', 40004), ('Studio Warehouse', 40001), ('Studio Warehouse', 40001)]\n"
          ],
          "name": "stdout"
        }
      ]
    },
    {
      "metadata": {
        "id": "17JsVYSm5F-L",
        "colab_type": "code",
        "colab": {
          "base_uri": "https://localhost:8080/",
          "height": 55
        },
        "outputId": "734244ba-e879-4611-99c6-c30197b9a054"
      },
      "cell_type": "code",
      "source": [
        "c.execute(\"UPDATE Products SET Supplier_ID = 40002 \\\n",
        "  WHERE Supplier_Name = 'BioMed Inc'\")\n",
        "\n",
        "c.execute(\"SELECT Supplier_Name, Supplier_ID FROM Products\")\n",
        "print(c.fetchall())"
      ],
      "execution_count": 55,
      "outputs": [
        {
          "output_type": "stream",
          "text": [
            "[('Studio Warehouse', 40001), ('BioMed Inc', 40002), ('CompTech, Inc', 40004), ('FashionRUs', 40004), ('Music Vibrations, Inc', 40004), ('FashionRUs', 40004), ('BioMed Inc', 40002), ('BioMed Inc', 40002), ('Music Vibrations, Inc', 40004), ('BioMed Inc', 40002), ('CompTech, Inc', 40004), ('Studio Warehouse', 40001), ('Studio Warehouse', 40001)]\n"
          ],
          "name": "stdout"
        }
      ]
    },
    {
      "metadata": {
        "id": "gLUK6eeg5-4B",
        "colab_type": "code",
        "colab": {
          "base_uri": "https://localhost:8080/",
          "height": 35
        },
        "outputId": "23063048-97ba-4e77-9058-5adeacf3efb5"
      },
      "cell_type": "code",
      "source": [
        "c.execute(\"UPDATE Products SET Supplier_ID = 40003 \\\n",
        "  WHERE Supplier_Name = 'CompTech, Inc'\")\n",
        "\n",
        "c.execute(\"UPDATE Products SET Supplier_ID = 40004 \\\n",
        "  WHERE Supplier_Name = 'FashionRUs'\")\n",
        "\n",
        "c.execute(\"UPDATE Products SET Supplier_ID = 40005 \\\n",
        "  WHERE Supplier_Name = 'Music Vibrations, Inc'\")\n",
        "\n",
        "c.execute(\"SELECT Supplier_ID, Supplier_Name, Product_Name, COUNT(Product_Name) FROM Products \\\n",
        "  GROUP BY Supplier_Name \\\n",
        "  HAVING COUNT(Product_Name) > 2 \\\n",
        "  ORDER BY Supplier_ID ASC\")\n",
        "print(c.fetchall())"
      ],
      "execution_count": 62,
      "outputs": [
        {
          "output_type": "stream",
          "text": [
            "[(40001, 'Studio Warehouse', 'Table', 3), (40002, 'BioMed Inc', 'Lotion', 4)]\n"
          ],
          "name": "stdout"
        }
      ]
    }
  ]
}