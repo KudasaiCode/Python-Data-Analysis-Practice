{
 "cells": [
  {
   "cell_type": "markdown",
   "metadata": {
    "colab_type": "text",
    "id": "view-in-github"
   },
   "source": [
    "<a href=\"https://colab.research.google.com/github/KudasaiCode/Arrays-with-NumPy-and-Pandas/blob/master/NumPy_Arrays_and_Pandas.ipynb\" target=\"_parent\"><img src=\"https://colab.research.google.com/assets/colab-badge.svg\" alt=\"Open In Colab\"/></a>"
   ]
  },
  {
   "cell_type": "markdown",
   "metadata": {
    "colab_type": "text",
    "id": "cN_s8DB2yCoL"
   },
   "source": [
    "# NumPy Arrays for 1D Data"
   ]
  },
  {
   "cell_type": "markdown",
   "metadata": {
    "colab_type": "text",
    "id": "BsFjHWOgyGCv"
   },
   "source": [
    "## Initializing and Converting to Numpy Array"
   ]
  },
  {
   "cell_type": "code",
   "execution_count": 2,
   "metadata": {
    "colab": {},
    "colab_type": "code",
    "id": "o_Tn4DOwypB3"
   },
   "outputs": [],
   "source": [
    "import numpy as np"
   ]
  },
  {
   "cell_type": "markdown",
   "metadata": {
    "colab_type": "text",
    "id": "uRIEBpN8yJwv"
   },
   "source": [
    "### Create array of zeros"
   ]
  },
  {
   "cell_type": "code",
   "execution_count": 3,
   "metadata": {
    "colab": {
     "base_uri": "https://localhost:8080/",
     "height": 35
    },
    "colab_type": "code",
    "id": "ZJA24pCTytzY",
    "outputId": "e7a43e04-f8e5-40a6-fd20-6ba195f60b07"
   },
   "outputs": [
    {
     "name": "stdout",
     "output_type": "stream",
     "text": [
      "[0. 0. 0.]\n"
     ]
    }
   ],
   "source": [
    "array1 = np.zeros(3)\n",
    "print(array1)"
   ]
  },
  {
   "cell_type": "code",
   "execution_count": 5,
   "metadata": {
    "colab": {
     "base_uri": "https://localhost:8080/",
     "height": 35
    },
    "colab_type": "code",
    "id": "nEelmq8iy42a",
    "outputId": "2683ff93-6e17-4a10-f293-b4e3440038db"
   },
   "outputs": [
    {
     "name": "stdout",
     "output_type": "stream",
     "text": [
      "[0. 0. 0. 0. 0.]\n"
     ]
    }
   ],
   "source": [
    "array2 = np.zeros(5)\n",
    "print(array2)"
   ]
  },
  {
   "cell_type": "markdown",
   "metadata": {
    "colab_type": "text",
    "id": "9vKr2BlJyNPR"
   },
   "source": [
    "### Create array of ones"
   ]
  },
  {
   "cell_type": "code",
   "execution_count": 7,
   "metadata": {
    "colab": {
     "base_uri": "https://localhost:8080/",
     "height": 35
    },
    "colab_type": "code",
    "id": "kb7nmI1wy-tK",
    "outputId": "f8f1bf3b-bb96-4d33-c2a5-c4438a5ed752"
   },
   "outputs": [
    {
     "name": "stdout",
     "output_type": "stream",
     "text": [
      "[1. 1. 1. 1. 1.]\n"
     ]
    }
   ],
   "source": [
    "array1 = np.ones(5)\n",
    "print(array1)"
   ]
  },
  {
   "cell_type": "markdown",
   "metadata": {
    "colab_type": "text",
    "id": "l7fxknioyPmo"
   },
   "source": [
    "### Create a NumPy Array"
   ]
  },
  {
   "cell_type": "code",
   "execution_count": 6,
   "metadata": {
    "colab": {
     "base_uri": "https://localhost:8080/",
     "height": 35
    },
    "colab_type": "code",
    "id": "ZLcsNKV8zRfX",
    "outputId": "12b7a2ee-f7b2-4f06-a72d-7a034eb331f9"
   },
   "outputs": [
    {
     "name": "stdout",
     "output_type": "stream",
     "text": [
      "[1 2 3 4 5]\n"
     ]
    }
   ],
   "source": [
    "array2 = np.array([1, 2, 3, 4, 5])\n",
    "print(array2)"
   ]
  },
  {
   "cell_type": "markdown",
   "metadata": {
    "colab_type": "text",
    "id": "SaPjvCEfyV1B"
   },
   "source": [
    "### Convert Python list into array"
   ]
  },
  {
   "cell_type": "code",
   "execution_count": 5,
   "metadata": {
    "colab": {
     "base_uri": "https://localhost:8080/",
     "height": 35
    },
    "colab_type": "code",
    "id": "2zbesQifzVQ7",
    "outputId": "fb909443-1f78-4613-ae2a-80c782a11c7a"
   },
   "outputs": [
    {
     "name": "stdout",
     "output_type": "stream",
     "text": [
      "[1, 2, 3, 4, 5, 6, 7, 8] [1 2 3 4 5 6 7 8]\n"
     ]
    }
   ],
   "source": [
    "python_list = [1,2,3,4,5,6,7,8]\n",
    "\n",
    "numpy_array = np.array(python_list)\n",
    "print(python_list, numpy_array)"
   ]
  },
  {
   "cell_type": "markdown",
   "metadata": {
    "colab_type": "text",
    "id": "iSpCmExKyYiA"
   },
   "source": [
    "### Arrange"
   ]
  },
  {
   "cell_type": "code",
   "execution_count": 19,
   "metadata": {
    "colab": {
     "base_uri": "https://localhost:8080/",
     "height": 35
    },
    "colab_type": "code",
    "id": "bJgmfp3Dz3zU",
    "outputId": "f8539814-c9ee-4293-b76c-c7c29b3987df"
   },
   "outputs": [
    {
     "name": "stdout",
     "output_type": "stream",
     "text": [
      "[0 1 2 3 4 5 6 7 8 9]\n"
     ]
    }
   ],
   "source": [
    "array1 = np.arange(10)\n",
    "print(array1)"
   ]
  },
  {
   "cell_type": "code",
   "execution_count": 20,
   "metadata": {
    "colab": {
     "base_uri": "https://localhost:8080/",
     "height": 35
    },
    "colab_type": "code",
    "id": "d3WD-7PQ0IBX",
    "outputId": "01a7a77e-4d27-4385-e072-121b429e2182"
   },
   "outputs": [
    {
     "name": "stdout",
     "output_type": "stream",
     "text": [
      "[2 3 4 5 6 7]\n"
     ]
    }
   ],
   "source": [
    "array2 = np.arange(2, 8)\n",
    "print(array2)"
   ]
  },
  {
   "cell_type": "code",
   "execution_count": 30,
   "metadata": {
    "colab": {
     "base_uri": "https://localhost:8080/",
     "height": 35
    },
    "colab_type": "code",
    "id": "SywJeYpv0kw_",
    "outputId": "13f34b89-7fb9-47c7-fc5a-07704bdfb030"
   },
   "outputs": [
    {
     "name": "stdout",
     "output_type": "stream",
     "text": [
      "[ 2  6 10]\n"
     ]
    }
   ],
   "source": [
    "# Last value makes it so that it only includes every other number\n",
    "array3 = np.arange(2, 12, 4)\n",
    "print(array3)"
   ]
  },
  {
   "cell_type": "code",
   "execution_count": 33,
   "metadata": {
    "colab": {
     "base_uri": "https://localhost:8080/",
     "height": 35
    },
    "colab_type": "code",
    "id": "2MTkw7UZ182P",
    "outputId": "83e95c00-8603-472c-b2d6-2a07d609fd1d"
   },
   "outputs": [
    {
     "name": "stdout",
     "output_type": "stream",
     "text": [
      "[ 5 10 15 20 25 30 35 40 45 50]\n"
     ]
    }
   ],
   "source": [
    "array4 = np.arange(5,51, 5)\n",
    "print(array4)"
   ]
  },
  {
   "cell_type": "code",
   "execution_count": 35,
   "metadata": {
    "colab": {
     "base_uri": "https://localhost:8080/",
     "height": 146
    },
    "colab_type": "code",
    "id": "MbTNEq2N2F6d",
    "outputId": "98d76d90-95e4-45c0-dac7-9f79d50bfbf4"
   },
   "outputs": [
    {
     "name": "stdout",
     "output_type": "stream",
     "text": [
      "[ 100  110  120  130  140  150  160  170  180  190  200  210  220  230\n",
      "  240  250  260  270  280  290  300  310  320  330  340  350  360  370\n",
      "  380  390  400  410  420  430  440  450  460  470  480  490  500  510\n",
      "  520  530  540  550  560  570  580  590  600  610  620  630  640  650\n",
      "  660  670  680  690  700  710  720  730  740  750  760  770  780  790\n",
      "  800  810  820  830  840  850  860  870  880  890  900  910  920  930\n",
      "  940  950  960  970  980  990 1000]\n"
     ]
    }
   ],
   "source": [
    "array5 = np.arange(100, 1001, 10)\n",
    "print(array5)"
   ]
  },
  {
   "cell_type": "markdown",
   "metadata": {
    "colab_type": "text",
    "id": "FC2NnPVmyaTu"
   },
   "source": [
    "### Linspace"
   ]
  },
  {
   "cell_type": "code",
   "execution_count": 39,
   "metadata": {
    "colab": {
     "base_uri": "https://localhost:8080/",
     "height": 54
    },
    "colab_type": "code",
    "id": "wSfKaf8V2TgS",
    "outputId": "3f8f37d0-125b-4c4e-9275-0eafa5848255"
   },
   "outputs": [
    {
     "name": "stdout",
     "output_type": "stream",
     "text": [
      "[  0.          11.22222222  22.44444444  33.66666667  44.88888889\n",
      "  56.11111111  67.33333333  78.55555556  89.77777778 101.        ]\n"
     ]
    }
   ],
   "source": [
    "# USE linspace when we want a fixed length we'd like to use\n",
    "array6 = np.linspace(0, 101, 10)\n",
    "print(array6)"
   ]
  },
  {
   "cell_type": "code",
   "execution_count": 40,
   "metadata": {
    "colab": {
     "base_uri": "https://localhost:8080/",
     "height": 35
    },
    "colab_type": "code",
    "id": "xcaBMXBx3kKL",
    "outputId": "bd00f05e-fcaa-46c9-a882-2a0a166fb8ae"
   },
   "outputs": [
    {
     "name": "stdout",
     "output_type": "stream",
     "text": [
      "[ 1.  10.5 20. ]\n"
     ]
    }
   ],
   "source": [
    "array7 =  np.linspace(1,20,3)\n",
    "print(array7)"
   ]
  },
  {
   "cell_type": "markdown",
   "metadata": {
    "colab_type": "text",
    "id": "3davyg7cybyH"
   },
   "source": [
    "## Accessing and Modifying Numpy Arrays"
   ]
  },
  {
   "cell_type": "markdown",
   "metadata": {
    "colab_type": "text",
    "id": "opQ64EQt33SI"
   },
   "source": [
    "### Accessing through Indexing"
   ]
  },
  {
   "cell_type": "code",
   "execution_count": 42,
   "metadata": {
    "colab": {
     "base_uri": "https://localhost:8080/",
     "height": 35
    },
    "colab_type": "code",
    "id": "TfzylyF-4Iuj",
    "outputId": "5403bacb-fe6f-4b5a-94b9-0ab0d9ecd948"
   },
   "outputs": [
    {
     "name": "stdout",
     "output_type": "stream",
     "text": [
      "[0 1 2 3 4 5 6 7 8 9]\n"
     ]
    }
   ],
   "source": [
    "#Works the same way as python list\n",
    "\n",
    "print(array1)"
   ]
  },
  {
   "cell_type": "code",
   "execution_count": 57,
   "metadata": {
    "colab": {
     "base_uri": "https://localhost:8080/",
     "height": 109
    },
    "colab_type": "code",
    "id": "9OqEBrEo4Qxr",
    "outputId": "f642c88e-cbd2-449f-f1a7-b69d84a3407a"
   },
   "outputs": [
    {
     "name": "stdout",
     "output_type": "stream",
     "text": [
      "0\n",
      "9\n",
      "[2 3 4 5 6 7]\n",
      "5\n",
      "[0 1 2 3 4 5 6 7 8 9]\n"
     ]
    }
   ],
   "source": [
    "print(array1[0])\n",
    "print(array1[9])\n",
    "\n",
    "print(array2)\n",
    "print(array2[3])\n",
    "\n",
    "print(array1)"
   ]
  },
  {
   "cell_type": "code",
   "execution_count": 70,
   "metadata": {
    "colab": {
     "base_uri": "https://localhost:8080/",
     "height": 54
    },
    "colab_type": "code",
    "id": "RNbV7HQT4qDF",
    "outputId": "32a23ca3-09a6-4ae8-8e5c-f8aee17e31c9"
   },
   "outputs": [
    {
     "name": "stdout",
     "output_type": "stream",
     "text": [
      "[0, 2, 4, 6, 8]\n",
      "[0, 26, 52, 78, 104]\n"
     ]
    }
   ],
   "source": [
    "new_array = [x for x in array1 if x%2 == 0]\n",
    "print(new_array)\n",
    "\n",
    "new_array2 = [new_array[x] * 13    for x in range(5) if new_array[x] <= new_array[-1]]\n",
    "print(new_array2)"
   ]
  },
  {
   "cell_type": "markdown",
   "metadata": {
    "colab_type": "text",
    "id": "CCP-qrQL8JoY"
   },
   "source": [
    "#### Using np.nditer()"
   ]
  },
  {
   "cell_type": "code",
   "execution_count": 84,
   "metadata": {
    "colab": {
     "base_uri": "https://localhost:8080/",
     "height": 237
    },
    "colab_type": "code",
    "id": "3Lh6Hm_q8L0Q",
    "outputId": "1248fefb-1eb8-41de-df43-8e853264b851"
   },
   "outputs": [
    {
     "name": "stdout",
     "output_type": "stream",
     "text": [
      "[0, 26, 52, 78, 104]\n",
      "[  0  26  52  78 104]\n",
      "0\n",
      "Appended  0  to List\n",
      "26\n",
      "Appended  26  to List\n",
      "52\n",
      "Appended  52  to List\n",
      "78\n",
      "Appended  78  to List\n",
      "104\n",
      "Appended  104  to List\n"
     ]
    }
   ],
   "source": [
    "print(new_array2)\n",
    "actual_array = np.array(new_array2)\n",
    "print(actual_array)\n",
    "\n",
    "actual_list_of_array = list()\n",
    "for i in np.nditer(actual_array):\n",
    "  print(i)\n",
    "  actual_list_of_array.append(i)\n",
    "  print(\"Appended \", i, \" to List\")\n",
    "  "
   ]
  },
  {
   "cell_type": "markdown",
   "metadata": {
    "colab_type": "text",
    "id": "cnJ2SA5P36Hr"
   },
   "source": [
    "### Selection through Slicing"
   ]
  },
  {
   "cell_type": "code",
   "execution_count": 89,
   "metadata": {
    "colab": {
     "base_uri": "https://localhost:8080/",
     "height": 90
    },
    "colab_type": "code",
    "id": "EvKBa8zb9uoi",
    "outputId": "6ae31db2-feb6-4b72-a67d-b8152ebb2335"
   },
   "outputs": [
    {
     "name": "stdout",
     "output_type": "stream",
     "text": [
      "[  0  26  52  78 104]\n",
      "[26 52 78]\n",
      "[52]\n",
      "[52 78]\n"
     ]
    }
   ],
   "source": [
    "print(actual_array)\n",
    "print(actual_array[1:4])\n",
    "print(actual_array[2:3])\n",
    "print(actual_array[2:4])"
   ]
  },
  {
   "cell_type": "code",
   "execution_count": 106,
   "metadata": {
    "colab": {
     "base_uri": "https://localhost:8080/",
     "height": 109
    },
    "colab_type": "code",
    "id": "mWXnUCKl-X3S",
    "outputId": "fdd13623-232f-4f60-c1af-e6449e9950f0"
   },
   "outputs": [
    {
     "name": "stdout",
     "output_type": "stream",
     "text": [
      "[ 0  1  2  3  4  5  6  7  8  9 10 11 12 13 14 15 16 17 18 19 20 21 22 23\n",
      " 24 25]\n",
      "[ 5  6  7  8  9 10 11 12 13 14 15 16 17 18 19 20 21 22 23]\n",
      "[ 0  1  2  3  4  5  6  7  8  9 10]\n",
      "[ 0  1  2  3  4  5  6  7  8  9 10]\n"
     ]
    }
   ],
   "source": [
    "array = np.arange(26)\n",
    "print(array)\n",
    "\n",
    "print(array[5:-2])\n",
    "print(array[:-15])\n",
    "print(array[:11])"
   ]
  },
  {
   "cell_type": "markdown",
   "metadata": {
    "colab_type": "text",
    "id": "YETBZNhq38vM"
   },
   "source": [
    "### Append/Concatenation"
   ]
  },
  {
   "cell_type": "code",
   "execution_count": 111,
   "metadata": {
    "colab": {
     "base_uri": "https://localhost:8080/",
     "height": 72
    },
    "colab_type": "code",
    "id": "WSDajbSmDeD_",
    "outputId": "74f30836-d9ae-4df1-abf2-4636a5762efb"
   },
   "outputs": [
    {
     "data": {
      "text/plain": [
       "array([    0,     1,     2,     3,     4,     5,     6,     7,     8,\n",
       "           9,    10,    11,    12,    13,    14,    15,    16,    17,\n",
       "          18,    19,    20,    21,    22,    23,    24,    25, 10052])"
      ]
     },
     "execution_count": 111,
     "metadata": {
      "tags": []
     },
     "output_type": "execute_result"
    }
   ],
   "source": [
    "np.append(array, 10000 + actual_array[2])"
   ]
  },
  {
   "cell_type": "code",
   "execution_count": 130,
   "metadata": {
    "colab": {
     "base_uri": "https://localhost:8080/",
     "height": 109
    },
    "colab_type": "code",
    "id": "pF98f3oCEI8F",
    "outputId": "9bd4db25-ba08-433b-902f-74c7905f84a3"
   },
   "outputs": [
    {
     "name": "stdout",
     "output_type": "stream",
     "text": [
      "arrayX =  [ 0  1  2  3  4  5  6  7  8  9 10 11 12 13 14 15 16 17 18 19 20] \n",
      "arrayY =  [20 21 22 23 24 25 26 27 28 29 30 31 32 33 34 35 36 37 38 39 40] \n",
      "\n",
      "concatenated:  [ 0  1  2  3  4  5  6  7  8  9 10 11 12 13 14 15 16 17 18 19 20 21 22 23\n",
      " 24 25 26 27 28 29 30 31 32 33 34 35 36 37 38 39 40]\n"
     ]
    }
   ],
   "source": [
    "arrayX = np.arange(21)\n",
    "arrayY = np.arange(20, 41)\n",
    "print('arrayX = ', arrayX, '\\narrayY = ', arrayY, '\\n')\n",
    "\n",
    "arrayXY = np.append(arrayX, arrayY[1:])\n",
    "print('concatenated: ', arrayXY)"
   ]
  },
  {
   "cell_type": "code",
   "execution_count": 135,
   "metadata": {
    "colab": {
     "base_uri": "https://localhost:8080/",
     "height": 72
    },
    "colab_type": "code",
    "id": "tN6WCMmoHzwr",
    "outputId": "5299abe5-2dc6-432a-b8ec-1ddb329092d8"
   },
   "outputs": [
    {
     "name": "stdout",
     "output_type": "stream",
     "text": [
      "[  0   1   2   3   4   5   6   7   8   9  10  11  12  13  14  15  16  17\n",
      "  18  19  20  21  22  23  24  25  26  27  28  29  30  31  32  33  34  35\n",
      "  36  37  38  39  40  80 120 160  80 120 160  80 120 160 170]\n"
     ]
    }
   ],
   "source": [
    "arrayXY = np.append(arrayXY, [80, 120, 160, 170])\n",
    "print(arrayXY)"
   ]
  },
  {
   "cell_type": "markdown",
   "metadata": {
    "colab_type": "text",
    "id": "odbN-cuD4AAs"
   },
   "source": [
    "### Split"
   ]
  },
  {
   "cell_type": "code",
   "execution_count": 138,
   "metadata": {
    "colab": {
     "base_uri": "https://localhost:8080/",
     "height": 90
    },
    "colab_type": "code",
    "id": "rzgydoHYIFUc",
    "outputId": "e095edd3-c6bd-49b4-e340-3fa0be4dc50b"
   },
   "outputs": [
    {
     "data": {
      "text/plain": [
       "[array([ 0,  1,  2,  3,  4,  5,  6,  7,  8,  9, 10, 11, 12, 13, 14, 15, 16]),\n",
       " array([17, 18, 19, 20, 21, 22, 23, 24, 25, 26, 27, 28, 29, 30, 31, 32, 33]),\n",
       " array([ 34,  35,  36,  37,  38,  39,  40,  80, 120, 160,  80, 120, 160,\n",
       "         80, 120, 160, 170])]"
      ]
     },
     "execution_count": 138,
     "metadata": {
      "tags": []
     },
     "output_type": "execute_result"
    }
   ],
   "source": [
    "np.split(arrayXY, 3)"
   ]
  },
  {
   "cell_type": "code",
   "execution_count": 154,
   "metadata": {
    "colab": {
     "base_uri": "https://localhost:8080/",
     "height": 146
    },
    "colab_type": "code",
    "id": "ntFR3HjmI2lh",
    "outputId": "0e646161-b1b2-4021-8dc2-b12fac51a9bd"
   },
   "outputs": [
    {
     "data": {
      "text/plain": [
       "[array([0, 1, 2, 3, 4, 5, 6]),\n",
       " array([ 7,  8,  9, 10, 11]),\n",
       " array([12]),\n",
       " array([13, 14, 15, 16, 17, 18]),\n",
       " array([ 19,  20,  21,  22,  23,  24,  25,  26,  27,  28,  29,  30,  31,\n",
       "         32,  33,  34,  35,  36,  37,  38,  39,  40,  80, 120, 160,  80,\n",
       "        120, 160,  80, 120, 160, 170])]"
      ]
     },
     "execution_count": 154,
     "metadata": {
      "tags": []
     },
     "output_type": "execute_result"
    }
   ],
   "source": [
    "np.split(arrayXY, [7, 12, 13, 19])"
   ]
  },
  {
   "cell_type": "markdown",
   "metadata": {
    "colab_type": "text",
    "id": "iV4ITmKC4BgE"
   },
   "source": [
    "### Get Info"
   ]
  },
  {
   "cell_type": "code",
   "execution_count": 216,
   "metadata": {
    "colab": {
     "base_uri": "https://localhost:8080/",
     "height": 35
    },
    "colab_type": "code",
    "id": "WYSwoHoxKJni",
    "outputId": "d2bc8a83-6d2e-49cb-9cab-e3f5cc855d72"
   },
   "outputs": [
    {
     "data": {
      "text/plain": [
       "51"
      ]
     },
     "execution_count": 216,
     "metadata": {
      "tags": []
     },
     "output_type": "execute_result"
    }
   ],
   "source": [
    "# Size\n",
    "arrayXY.size"
   ]
  },
  {
   "cell_type": "code",
   "execution_count": 156,
   "metadata": {
    "colab": {
     "base_uri": "https://localhost:8080/",
     "height": 35
    },
    "colab_type": "code",
    "id": "2b3TT_34KO6T",
    "outputId": "35661185-b94a-4d46-970b-1b7605e8724e"
   },
   "outputs": [
    {
     "data": {
      "text/plain": [
       "(51,)"
      ]
     },
     "execution_count": 156,
     "metadata": {
      "tags": []
     },
     "output_type": "execute_result"
    }
   ],
   "source": [
    "# Shape for checking the amount of dimensions\n",
    "arrayXY.shape"
   ]
  },
  {
   "cell_type": "markdown",
   "metadata": {
    "colab_type": "text",
    "id": "4SxFq8hKykbI"
   },
   "source": [
    "## Numpy Array Math Operations"
   ]
  },
  {
   "cell_type": "markdown",
   "metadata": {
    "colab_type": "text",
    "id": "2YDnclLiKq21"
   },
   "source": [
    "###Scalar and Vector Addition"
   ]
  },
  {
   "cell_type": "code",
   "execution_count": 158,
   "metadata": {
    "colab": {
     "base_uri": "https://localhost:8080/",
     "height": 72
    },
    "colab_type": "code",
    "id": "fmcJC51xK7CF",
    "outputId": "83868100-61ac-40c4-af46-2bb1ba91d784"
   },
   "outputs": [
    {
     "name": "stdout",
     "output_type": "stream",
     "text": [
      "[  0   1   2   3   4   5   6   7   8   9  10  11  12  13  14  15  16  17\n",
      "  18  19  20  21  22  23  24  25  26  27  28  29  30  31  32  33  34  35\n",
      "  36  37  38  39  40  80 120 160  80 120 160  80 120 160 170]\n"
     ]
    }
   ],
   "source": [
    "print(arrayXY)"
   ]
  },
  {
   "cell_type": "code",
   "execution_count": 159,
   "metadata": {
    "colab": {
     "base_uri": "https://localhost:8080/",
     "height": 72
    },
    "colab_type": "code",
    "id": "mGiqkfXgK8w4",
    "outputId": "50ecf364-0843-4300-b01b-01cbac9047ad"
   },
   "outputs": [
    {
     "name": "stdout",
     "output_type": "stream",
     "text": [
      "[  5   6   7   8   9  10  11  12  13  14  15  16  17  18  19  20  21  22\n",
      "  23  24  25  26  27  28  29  30  31  32  33  34  35  36  37  38  39  40\n",
      "  41  42  43  44  45  85 125 165  85 125 165  85 125 165 175]\n"
     ]
    }
   ],
   "source": [
    "print(arrayXY + 5)"
   ]
  },
  {
   "cell_type": "code",
   "execution_count": 162,
   "metadata": {
    "colab": {
     "base_uri": "https://localhost:8080/",
     "height": 54
    },
    "colab_type": "code",
    "id": "tYJcVmmFLDPv",
    "outputId": "9d4d107d-ab01-4700-85a4-63976486f7fc"
   },
   "outputs": [
    {
     "name": "stdout",
     "output_type": "stream",
     "text": [
      "[1 2 3] [10 20 30]\n"
     ]
    },
    {
     "data": {
      "text/plain": [
       "array([11, 22, 33])"
      ]
     },
     "execution_count": 162,
     "metadata": {
      "tags": []
     },
     "output_type": "execute_result"
    }
   ],
   "source": [
    "x1 = np.array([1, 2, 3])\n",
    "x2 = np.array([10, 20, 30])\n",
    "print(x1, x2)\n",
    "\n",
    "np.add(x1, x2)\n",
    "\n",
    "\n",
    "# np.add(x1, arrayXY) Shapes are different. Cannot add components that don't exist. "
   ]
  },
  {
   "cell_type": "markdown",
   "metadata": {
    "colab_type": "text",
    "id": "xREw8jvVKthc"
   },
   "source": [
    "### Scalar and Vector Subtraction"
   ]
  },
  {
   "cell_type": "code",
   "execution_count": 163,
   "metadata": {
    "colab": {
     "base_uri": "https://localhost:8080/",
     "height": 90
    },
    "colab_type": "code",
    "id": "7EgGeMd_LrqO",
    "outputId": "4957e21c-41d1-4718-eae1-b091626ab620"
   },
   "outputs": [
    {
     "name": "stdout",
     "output_type": "stream",
     "text": [
      "[-100  -99  -98  -97  -96  -95  -94  -93  -92  -91  -90  -89  -88  -87\n",
      "  -86  -85  -84  -83  -82  -81  -80  -79  -78  -77  -76  -75  -74  -73\n",
      "  -72  -71  -70  -69  -68  -67  -66  -65  -64  -63  -62  -61  -60  -20\n",
      "   20   60  -20   20   60  -20   20   60   70]\n"
     ]
    }
   ],
   "source": [
    "print(arrayXY - 100)"
   ]
  },
  {
   "cell_type": "code",
   "execution_count": 170,
   "metadata": {
    "colab": {
     "base_uri": "https://localhost:8080/",
     "height": 54
    },
    "colab_type": "code",
    "id": "lhMqebkwLy9o",
    "outputId": "b4de4332-0ce3-43d5-c403-276ffe45ae9d"
   },
   "outputs": [
    {
     "name": "stdout",
     "output_type": "stream",
     "text": [
      "[ -9 -18 -27]\n",
      "[ 9 18 27]\n"
     ]
    }
   ],
   "source": [
    "print(np.subtract(x1, x2))\n",
    "\n",
    "print(np.subtract(x2,x1))"
   ]
  },
  {
   "cell_type": "code",
   "execution_count": 171,
   "metadata": {
    "colab": {
     "base_uri": "https://localhost:8080/",
     "height": 35
    },
    "colab_type": "code",
    "id": "-mbK59yYL8--",
    "outputId": "9857794e-36fc-418a-aa76-025e5703345a"
   },
   "outputs": [
    {
     "data": {
      "text/plain": [
       "array([ 9, 18, 27])"
      ]
     },
     "execution_count": 171,
     "metadata": {
      "tags": []
     },
     "output_type": "execute_result"
    }
   ],
   "source": [
    "x2 - x1"
   ]
  },
  {
   "cell_type": "markdown",
   "metadata": {
    "colab_type": "text",
    "id": "aV-b71-BKx-G"
   },
   "source": [
    "### Scalar and Vector Multiplication"
   ]
  },
  {
   "cell_type": "code",
   "execution_count": 172,
   "metadata": {
    "colab": {
     "base_uri": "https://localhost:8080/",
     "height": 54
    },
    "colab_type": "code",
    "id": "k-S2Qh61MQlc",
    "outputId": "3dfb03d5-2fe2-45b6-a3fa-ad6d4bc336c8"
   },
   "outputs": [
    {
     "name": "stdout",
     "output_type": "stream",
     "text": [
      "[1 2 3]\n",
      "[ 4  8 12]\n"
     ]
    }
   ],
   "source": [
    "print(x1)\n",
    "print(x1*4)"
   ]
  },
  {
   "cell_type": "code",
   "execution_count": 175,
   "metadata": {
    "colab": {
     "base_uri": "https://localhost:8080/",
     "height": 54
    },
    "colab_type": "code",
    "id": "4Dt55xPWMW2F",
    "outputId": "3955fe93-7023-4226-f913-63708d1ec5f9"
   },
   "outputs": [
    {
     "name": "stdout",
     "output_type": "stream",
     "text": [
      "[1 2 3] [10 20 30]\n"
     ]
    },
    {
     "data": {
      "text/plain": [
       "array([ 2.,  8., 18.])"
      ]
     },
     "execution_count": 175,
     "metadata": {
      "tags": []
     },
     "output_type": "execute_result"
    }
   ],
   "source": [
    "print(x1, x2)\n",
    "\n",
    "np.multiply(x1, x2/5)"
   ]
  },
  {
   "cell_type": "markdown",
   "metadata": {
    "colab_type": "text",
    "id": "CytbZuUOOPni"
   },
   "source": [
    "#### DOT Multiplication"
   ]
  },
  {
   "cell_type": "code",
   "execution_count": 185,
   "metadata": {
    "colab": {
     "base_uri": "https://localhost:8080/",
     "height": 35
    },
    "colab_type": "code",
    "id": "1TXEmYRNOMH7",
    "outputId": "3c52c574-adf3-4612-8c31-67b8a8df9953"
   },
   "outputs": [
    {
     "name": "stdout",
     "output_type": "stream",
     "text": [
      "140\n"
     ]
    }
   ],
   "source": [
    "print(np.dot(x1, x2)) #Mutiplies by component, then adds\n",
    "# 10 + 30 + 50"
   ]
  },
  {
   "cell_type": "markdown",
   "metadata": {
    "colab_type": "text",
    "id": "IxXpgKihK0zk"
   },
   "source": [
    "### Scalar and Vector Division"
   ]
  },
  {
   "cell_type": "code",
   "execution_count": 180,
   "metadata": {
    "colab": {
     "base_uri": "https://localhost:8080/",
     "height": 54
    },
    "colab_type": "code",
    "id": "FWgOyARMMrvZ",
    "outputId": "1820b9e1-af55-4c2d-ea3a-b4b1157fa7a0"
   },
   "outputs": [
    {
     "name": "stdout",
     "output_type": "stream",
     "text": [
      "[1 2 3] [10 20 30]\n"
     ]
    },
    {
     "data": {
      "text/plain": [
       "array([1., 1., 1.])"
      ]
     },
     "execution_count": 180,
     "metadata": {
      "tags": []
     },
     "output_type": "execute_result"
    }
   ],
   "source": [
    "print(x1, x2)\n",
    "np.divide(x1,x2/10)"
   ]
  },
  {
   "cell_type": "markdown",
   "metadata": {
    "colab_type": "text",
    "id": "14dU064GK3R9"
   },
   "source": [
    "### Exponential/Roots"
   ]
  },
  {
   "cell_type": "code",
   "execution_count": 182,
   "metadata": {
    "colab": {
     "base_uri": "https://localhost:8080/",
     "height": 54
    },
    "colab_type": "code",
    "id": "29PBLEOKxuFX",
    "outputId": "5c591cea-b5bb-4eca-b5ba-b4b204dcc55c"
   },
   "outputs": [
    {
     "name": "stdout",
     "output_type": "stream",
     "text": [
      "[1 2 3] [10 20 30]\n",
      "[1 4 9] [100 400 900]\n"
     ]
    }
   ],
   "source": [
    "print(x1, x2)\n",
    "print(x1**2, x2**2)"
   ]
  },
  {
   "cell_type": "code",
   "execution_count": 184,
   "metadata": {
    "colab": {
     "base_uri": "https://localhost:8080/",
     "height": 54
    },
    "colab_type": "code",
    "id": "TWA2v9CvKpYW",
    "outputId": "70f55d64-23fd-49a0-9e2b-f8936ff89e81"
   },
   "outputs": [
    {
     "name": "stdout",
     "output_type": "stream",
     "text": [
      "[1 4 9]\n"
     ]
    },
    {
     "data": {
      "text/plain": [
       "array([100, 400, 900])"
      ]
     },
     "execution_count": 184,
     "metadata": {
      "tags": []
     },
     "output_type": "execute_result"
    }
   ],
   "source": [
    "print(np.power(x1,2))\n",
    "np.power(x2,2)"
   ]
  },
  {
   "cell_type": "code",
   "execution_count": 190,
   "metadata": {
    "colab": {
     "base_uri": "https://localhost:8080/",
     "height": 72
    },
    "colab_type": "code",
    "id": "OuAR0sTwN6p1",
    "outputId": "9472846b-4926-4054-98d8-6b31aec67621"
   },
   "outputs": [
    {
     "name": "stdout",
     "output_type": "stream",
     "text": [
      "[0, 1, 4, 9, 16, 25, 36, 49, 64, 81, 100, 121]\n",
      "\n",
      " [  0   1   4   9  16  25  36  49  64  81 100 121]\n"
     ]
    }
   ],
   "source": [
    "roots_list = [x*x for x in range(12)]\n",
    "print(roots_list)\n",
    "\n",
    "roots_array = np.array(roots_list)\n",
    "print('\\n', roots_array)"
   ]
  },
  {
   "cell_type": "code",
   "execution_count": 194,
   "metadata": {
    "colab": {
     "base_uri": "https://localhost:8080/",
     "height": 54
    },
    "colab_type": "code",
    "id": "SmQkG6K5PVmU",
    "outputId": "1aae4640-20ea-4598-d170-39fde4e62676"
   },
   "outputs": [
    {
     "name": "stdout",
     "output_type": "stream",
     "text": [
      "square root of:  [  0   1   4   9  16  25  36  49  64  81 100 121]\n",
      " =  [ 0.  1.  2.  3.  4.  5.  6.  7.  8.  9. 10. 11.]\n"
     ]
    }
   ],
   "source": [
    "rooted_array = np.power(roots_array, 0.5)\n",
    "print('square root of: ', roots_array)\n",
    "print(' = ', rooted_array)"
   ]
  },
  {
   "cell_type": "markdown",
   "metadata": {
    "colab_type": "text",
    "id": "8rBIxjjQQVNZ"
   },
   "source": [
    "## NumPy Array Statistics Operations"
   ]
  },
  {
   "cell_type": "markdown",
   "metadata": {
    "colab_type": "text",
    "id": "Z9tfxxmrQZYB"
   },
   "source": [
    "###Min/Max/Range"
   ]
  },
  {
   "cell_type": "code",
   "execution_count": 195,
   "metadata": {
    "colab": {
     "base_uri": "https://localhost:8080/",
     "height": 54
    },
    "colab_type": "code",
    "id": "7YgmUYanQlPg",
    "outputId": "321472f0-97d7-416e-9330-c425f27ba7f3"
   },
   "outputs": [
    {
     "name": "stdout",
     "output_type": "stream",
     "text": [
      "x1:  [1 2 3] \n",
      "x2  [10 20 30]\n"
     ]
    }
   ],
   "source": [
    "print('x1: ', x1, '\\nx2 ', x2)"
   ]
  },
  {
   "cell_type": "code",
   "execution_count": 196,
   "metadata": {
    "colab": {
     "base_uri": "https://localhost:8080/",
     "height": 35
    },
    "colab_type": "code",
    "id": "a7XTcs7qQzfU",
    "outputId": "6f30d16d-f744-43e0-df64-9d5e083a1172"
   },
   "outputs": [
    {
     "name": "stdout",
     "output_type": "stream",
     "text": [
      "1\n"
     ]
    }
   ],
   "source": [
    "x1_min = x1.min()\n",
    "print(x1_min)"
   ]
  },
  {
   "cell_type": "code",
   "execution_count": 198,
   "metadata": {
    "colab": {
     "base_uri": "https://localhost:8080/",
     "height": 54
    },
    "colab_type": "code",
    "id": "HTXmmaPPQ7cB",
    "outputId": "97485002-96f2-43e2-a848-4db45c91e9cb"
   },
   "outputs": [
    {
     "name": "stdout",
     "output_type": "stream",
     "text": [
      "3\n",
      "3\n"
     ]
    }
   ],
   "source": [
    "print(x1.max())\n",
    "x1_max = x1.max()\n",
    "print(x1_max)"
   ]
  },
  {
   "cell_type": "code",
   "execution_count": 200,
   "metadata": {
    "colab": {
     "base_uri": "https://localhost:8080/",
     "height": 35
    },
    "colab_type": "code",
    "id": "LfJCpejCREYT",
    "outputId": "b892e408-f74d-4f6e-b3d1-0e79789324cd"
   },
   "outputs": [
    {
     "name": "stdout",
     "output_type": "stream",
     "text": [
      "2\n"
     ]
    }
   ],
   "source": [
    "# For the range, subtract the max() and min() values\n",
    "\n",
    "x1_range = x1_max - x1_min\n",
    "print(x1_range)"
   ]
  },
  {
   "cell_type": "code",
   "execution_count": 201,
   "metadata": {
    "colab": {
     "base_uri": "https://localhost:8080/",
     "height": 35
    },
    "colab_type": "code",
    "id": "40U5RwAvRggd",
    "outputId": "1aeabe3a-d90c-417d-f776-f75bd58054bf"
   },
   "outputs": [
    {
     "name": "stdout",
     "output_type": "stream",
     "text": [
      "20\n"
     ]
    }
   ],
   "source": [
    "print(x2.max() - x2.min())\n",
    "x2_range = x2.max() - x2.min() # 30 - 10"
   ]
  },
  {
   "cell_type": "markdown",
   "metadata": {
    "colab_type": "text",
    "id": "BkLyy495QbXk"
   },
   "source": [
    "###Sum/Total"
   ]
  },
  {
   "cell_type": "code",
   "execution_count": 206,
   "metadata": {
    "colab": {
     "base_uri": "https://localhost:8080/",
     "height": 35
    },
    "colab_type": "code",
    "id": "eZvERqDsR9YD",
    "outputId": "88f258c8-3152-4b3a-9523-aaea13d5fe03"
   },
   "outputs": [
    {
     "data": {
      "text/plain": [
       "6"
      ]
     },
     "execution_count": 206,
     "metadata": {
      "tags": []
     },
     "output_type": "execute_result"
    }
   ],
   "source": [
    "x1.sum()"
   ]
  },
  {
   "cell_type": "code",
   "execution_count": 203,
   "metadata": {
    "colab": {
     "base_uri": "https://localhost:8080/",
     "height": 35
    },
    "colab_type": "code",
    "id": "ZOMnj87_SB0o",
    "outputId": "b6cc232a-609f-424e-b2ae-b4eedfadfed5"
   },
   "outputs": [
    {
     "data": {
      "text/plain": [
       "60"
      ]
     },
     "execution_count": 203,
     "metadata": {
      "tags": []
     },
     "output_type": "execute_result"
    }
   ],
   "source": [
    "x2.sum()"
   ]
  },
  {
   "cell_type": "code",
   "execution_count": 204,
   "metadata": {
    "colab": {
     "base_uri": "https://localhost:8080/",
     "height": 35
    },
    "colab_type": "code",
    "id": "JWqh_PNdSD2K",
    "outputId": "b869f79b-1171-4036-f933-651cb5971ab0"
   },
   "outputs": [
    {
     "data": {
      "text/plain": [
       "2070"
      ]
     },
     "execution_count": 204,
     "metadata": {
      "tags": []
     },
     "output_type": "execute_result"
    }
   ],
   "source": [
    "arrayXY.sum()"
   ]
  },
  {
   "cell_type": "markdown",
   "metadata": {
    "colab_type": "text",
    "id": "tOEyrB_uQdQA"
   },
   "source": [
    "###Count/Frequency"
   ]
  },
  {
   "cell_type": "code",
   "execution_count": 0,
   "metadata": {
    "colab": {},
    "colab_type": "code",
    "id": "89OjeTDaSKIp"
   },
   "outputs": [],
   "source": [
    "# np.unique returns an array with only th eunique elements. No repeats"
   ]
  },
  {
   "cell_type": "code",
   "execution_count": 207,
   "metadata": {
    "colab": {
     "base_uri": "https://localhost:8080/",
     "height": 35
    },
    "colab_type": "code",
    "id": "KUiI8vLvScXW",
    "outputId": "632fca0d-dc39-47a4-9807-a9a7198d378c"
   },
   "outputs": [
    {
     "data": {
      "text/plain": [
       "array([ 1,  2,  3,  4,  5,  6,  8, 10, 19, 29])"
      ]
     },
     "execution_count": 207,
     "metadata": {
      "tags": []
     },
     "output_type": "execute_result"
    }
   ],
   "source": [
    "np.unique([2, 2, 3, 1, 3, 4, 1, 10, 19, 10, 29, 1, 2, 3, 4, 4, 5, 1, 6, 8])"
   ]
  },
  {
   "cell_type": "markdown",
   "metadata": {
    "colab_type": "text",
    "id": "iP7siTE6Ttwp"
   },
   "source": [
    "####  Mode"
   ]
  },
  {
   "cell_type": "code",
   "execution_count": 209,
   "metadata": {
    "colab": {
     "base_uri": "https://localhost:8080/",
     "height": 54
    },
    "colab_type": "code",
    "id": "HxQm68-GS0zd",
    "outputId": "6661af31-74ab-474a-d5d5-fa343976f923"
   },
   "outputs": [
    {
     "data": {
      "text/plain": [
       "(array([ 1,  2,  3,  4,  5,  6,  8, 10, 19, 29]),\n",
       " array([4, 3, 3, 3, 1, 1, 1, 2, 1, 1]))"
      ]
     },
     "execution_count": 209,
     "metadata": {
      "tags": []
     },
     "output_type": "execute_result"
    }
   ],
   "source": [
    "# Returns the array with unique elements only and another array with how many times\n",
    "# the element appears in the list. \n",
    "\n",
    "# Used to find MODE\n",
    "np.unique([2, 2, 3, 1, 3, 4, 1, 10, 19, 10, 29, 1, 2, 3, 4, 4, 5, 1, 6, 8], return_counts=True)\n",
    "\n",
    "# 1 is found 4 time, 2, 3 and 4 are found 3 times. \n",
    "# 10 is found 2 times\n",
    "\n",
    "# the MODE is 1 since it appears the most times"
   ]
  },
  {
   "cell_type": "markdown",
   "metadata": {
    "colab_type": "text",
    "id": "xPvlKvkYQfhQ"
   },
   "source": [
    "###Mean/Median"
   ]
  },
  {
   "cell_type": "markdown",
   "metadata": {
    "colab_type": "text",
    "id": "mURSc-LurNmH"
   },
   "source": [
    "$Mean = {1 \\over n} \\sum\\limits_{i = 1}^{n} {Observation_i}$"
   ]
  },
  {
   "cell_type": "code",
   "execution_count": 220,
   "metadata": {
    "colab": {
     "base_uri": "https://localhost:8080/",
     "height": 90
    },
    "colab_type": "code",
    "id": "NHKpOTDBVnxN",
    "outputId": "65f31968-e3bc-4cb8-bf7f-d583937f853b"
   },
   "outputs": [
    {
     "name": "stdout",
     "output_type": "stream",
     "text": [
      "[  0   1   2   3   4   5   6   7   8   9  10  11  12  13  14  15  16  17\n",
      "  18  19  20  21  22  23  24  25  26  27  28  29  30  31  32  33  34  35\n",
      "  36  37  38  39  40  80 120 160  80 120 160  80 120 160 170]\n"
     ]
    },
    {
     "data": {
      "text/plain": [
       "51"
      ]
     },
     "execution_count": 220,
     "metadata": {
      "tags": []
     },
     "output_type": "execute_result"
    }
   ],
   "source": [
    "print(arrayXY)\n",
    "arrayXY.size"
   ]
  },
  {
   "cell_type": "code",
   "execution_count": 217,
   "metadata": {
    "colab": {
     "base_uri": "https://localhost:8080/",
     "height": 54
    },
    "colab_type": "code",
    "id": "Nrw7xCoDUIs5",
    "outputId": "4ff48c69-6618-4c0b-a61b-47474e21d402"
   },
   "outputs": [
    {
     "name": "stdout",
     "output_type": "stream",
     "text": [
      "40.588235294117645\n",
      "40.588235294117645\n"
     ]
    }
   ],
   "source": [
    "print(np.mean(arrayXY))\n",
    "\n",
    "mean = np.divide(np.sum(arrayXY), arrayXY.size)\n",
    "print(mean)           "
   ]
  },
  {
   "cell_type": "code",
   "execution_count": 218,
   "metadata": {
    "colab": {
     "base_uri": "https://localhost:8080/",
     "height": 35
    },
    "colab_type": "code",
    "id": "HczyWGvQVeAt",
    "outputId": "13bedb86-d507-4b5e-d176-2fa508c1a643"
   },
   "outputs": [
    {
     "name": "stdout",
     "output_type": "stream",
     "text": [
      "25.0\n"
     ]
    }
   ],
   "source": [
    "print(np.median(arrayXY))\n"
   ]
  },
  {
   "cell_type": "code",
   "execution_count": 221,
   "metadata": {
    "colab": {
     "base_uri": "https://localhost:8080/",
     "height": 35
    },
    "colab_type": "code",
    "id": "601Ip03xWN_A",
    "outputId": "9e6b660f-b401-4c3f-97b2-f4fcf9c15aa6"
   },
   "outputs": [
    {
     "data": {
      "text/plain": [
       "2.0"
      ]
     },
     "execution_count": 221,
     "metadata": {
      "tags": []
     },
     "output_type": "execute_result"
    }
   ],
   "source": [
    "np.median(x1)"
   ]
  },
  {
   "cell_type": "code",
   "execution_count": 222,
   "metadata": {
    "colab": {
     "base_uri": "https://localhost:8080/",
     "height": 35
    },
    "colab_type": "code",
    "id": "Jwiwd-0TWVoS",
    "outputId": "a271ecc6-77a1-493e-a31c-5fc0f16e6a6e"
   },
   "outputs": [
    {
     "data": {
      "text/plain": [
       "3.5"
      ]
     },
     "execution_count": 222,
     "metadata": {
      "tags": []
     },
     "output_type": "execute_result"
    }
   ],
   "source": [
    "np.median([1, 2, 3, 4, 5, 6])"
   ]
  },
  {
   "cell_type": "markdown",
   "metadata": {
    "colab_type": "text",
    "id": "3mz2fVlpQhLs"
   },
   "source": [
    "### Variance/Standard Deviation"
   ]
  },
  {
   "cell_type": "markdown",
   "metadata": {
    "colab_type": "text",
    "id": "MdyQdFC2rtYF"
   },
   "source": [
    "$variance = {{((x_i - mean)^2 + {(x_{i+1} - mean)^2}......)}\\over Amount\\_of\\_Observations }$"
   ]
  },
  {
   "cell_type": "code",
   "execution_count": 238,
   "metadata": {
    "colab": {
     "base_uri": "https://localhost:8080/",
     "height": 54
    },
    "colab_type": "code",
    "id": "eJ-3gvMXWi6N",
    "outputId": "7f180531-364f-42e5-9292-fe79e8dc7aaa"
   },
   "outputs": [
    {
     "name": "stdout",
     "output_type": "stream",
     "text": [
      "2082.791234140715\n",
      "2082.791234140715\n"
     ]
    }
   ],
   "source": [
    "print(np.var(arrayXY)) #the pretty way\n",
    "\n",
    "# The Ugly way\n",
    "adding = 0\n",
    "for x in np.nditer(arrayXY):\n",
    "  adding = np.power(x - np.mean(arrayXY), 2) + adding\n",
    "print(adding/arrayXY.size)"
   ]
  },
  {
   "cell_type": "code",
   "execution_count": 227,
   "metadata": {
    "colab": {
     "base_uri": "https://localhost:8080/",
     "height": 54
    },
    "colab_type": "code",
    "id": "PpAcQmtAWuAX",
    "outputId": "6eb94abd-5991-491b-b943-fbec9791fd44"
   },
   "outputs": [
    {
     "name": "stdout",
     "output_type": "stream",
     "text": [
      "45.63760767328536\n",
      "45.63760767328536\n"
     ]
    }
   ],
   "source": [
    "print(np.std(arrayXY))\n",
    "\n",
    "# Finding the standard deviation square-rooting the variance.\n",
    "# aka, the ugly way\n",
    "standard_deviation = np.power(np.var(arrayXY), .5)\n",
    "print(standard_deviation)"
   ]
  },
  {
   "cell_type": "code",
   "execution_count": 0,
   "metadata": {
    "colab": {},
    "colab_type": "code",
    "id": "qdUHOB9wociI"
   },
   "outputs": [],
   "source": []
  },
  {
   "cell_type": "markdown",
   "metadata": {
    "colab_type": "text",
    "id": "6RT8SVG0Xb8_"
   },
   "source": [
    "### Correlation coefficient"
   ]
  },
  {
   "cell_type": "markdown",
   "metadata": {
    "colab_type": "text",
    "id": "j8VVDb23d4zd"
   },
   "source": [
    "$Correlation = {{1\\over n} \\sum\\limits_{i=1}^{n} {(stnd\\_unit\\_height_i  -  mean\\_height) \\over stnd\\_dev\\_height} \\times {(stnd\\_unit\\_weight_i - mean\\_weight) \\over stnd\\_dev\\_weight}}$"
   ]
  },
  {
   "cell_type": "code",
   "execution_count": 3,
   "metadata": {
    "colab": {
     "base_uri": "https://localhost:8080/",
     "height": 54
    },
    "colab_type": "code",
    "id": "HVxgNOjjXhjr",
    "outputId": "ba99295d-6870-41e8-d739-4a356a121bfc"
   },
   "outputs": [
    {
     "name": "stdout",
     "output_type": "stream",
     "text": [
      "\n",
      "Correlation Coefficient =  0.6958125111028929\n"
     ]
    }
   ],
   "source": [
    "height = np.array([72, 75, 63, 81, 62])\n",
    "weight = np.array([125, 140, 140, 189, 130])\n",
    "\n",
    "mean_height = np.mean(height)\n",
    "mean_weight = np.mean(weight)\n",
    "\n",
    "stnd_dev_height = np.std(height)\n",
    "stnd_dev_weight = np.std(weight)\n",
    "\n",
    "stnd_unit_height = np.array([(x - mean_height)/stnd_dev_height for x in height])\n",
    "stnd_unit_weight = np.array([(x - mean_weight)/stnd_dev_weight for x in weight])\n",
    "\n",
    "correlation_coeff = np.multiply(stnd_unit_height, stnd_unit_weight).sum() / stnd_unit_height.size\n",
    "print('\\nCorrelation Coefficient = ', correlation_coeff)"
   ]
  }
 ],
 "metadata": {
  "colab": {
   "collapsed_sections": [
    "BsFjHWOgyGCv",
    "uRIEBpN8yJwv",
    "9vKr2BlJyNPR",
    "l7fxknioyPmo",
    "SaPjvCEfyV1B",
    "iSpCmExKyYiA",
    "FC2NnPVmyaTu",
    "cnJ2SA5P36Hr",
    "YETBZNhq38vM",
    "odbN-cuD4AAs",
    "iV4ITmKC4BgE",
    "4SxFq8hKykbI",
    "2YDnclLiKq21",
    "xREw8jvVKthc",
    "aV-b71-BKx-G",
    "CytbZuUOOPni",
    "IxXpgKihK0zk",
    "14dU064GK3R9",
    "Z9tfxxmrQZYB",
    "tOEyrB_uQdQA",
    "iP7siTE6Ttwp"
   ],
   "include_colab_link": true,
   "name": "NumPy Arrays and Pandas.ipynb",
   "provenance": [],
   "toc_visible": true,
   "version": "0.3.2"
  },
  "kernelspec": {
   "display_name": "Python 3",
   "language": "python",
   "name": "python3"
  },
  "language_info": {
   "codemirror_mode": {
    "name": "ipython",
    "version": 3
   },
   "file_extension": ".py",
   "mimetype": "text/x-python",
   "name": "python",
   "nbconvert_exporter": "python",
   "pygments_lexer": "ipython3",
   "version": "3.7.1"
  }
 },
 "nbformat": 4,
 "nbformat_minor": 1
}
