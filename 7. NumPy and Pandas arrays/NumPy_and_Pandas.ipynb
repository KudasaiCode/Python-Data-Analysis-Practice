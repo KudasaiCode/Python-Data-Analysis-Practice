{
  "nbformat": 4,
  "nbformat_minor": 0,
  "metadata": {
    "colab": {
      "name": "NumPy Arrays and Pandas.ipynb",
      "version": "0.3.2",
      "provenance": [],
      "collapsed_sections": [
        "cN_s8DB2yCoL",
        "BsFjHWOgyGCv",
        "uRIEBpN8yJwv",
        "9vKr2BlJyNPR",
        "l7fxknioyPmo",
        "SaPjvCEfyV1B",
        "iSpCmExKyYiA",
        "FC2NnPVmyaTu",
        "3davyg7cybyH",
        "opQ64EQt33SI",
        "CCP-qrQL8JoY",
        "cnJ2SA5P36Hr",
        "YETBZNhq38vM",
        "odbN-cuD4AAs",
        "iV4ITmKC4BgE",
        "4SxFq8hKykbI",
        "2YDnclLiKq21",
        "xREw8jvVKthc",
        "aV-b71-BKx-G",
        "CytbZuUOOPni",
        "IxXpgKihK0zk",
        "14dU064GK3R9",
        "8rBIxjjQQVNZ",
        "Z9tfxxmrQZYB",
        "BkLyy495QbXk",
        "tOEyrB_uQdQA",
        "xPvlKvkYQfhQ",
        "iP7siTE6Ttwp",
        "3mz2fVlpQhLs",
        "6RT8SVG0Xb8_",
        "sH6tByKWLYN3",
        "o3VPh400LgRZ",
        "LcJzaaoMLjw0",
        "31ai3mXtLonj",
        "QtZ1n0cwLr6Z",
        "VE_qnLmTPIrA",
        "AL5zoW_ALxgx",
        "i1EddACIbIzr",
        "rOtVF2knbycv",
        "hZnWBe-ocqI3",
        "oS5aVWZRdBVJ",
        "gWSSobW6dhKy",
        "Q8GeppNIdkJP",
        "xM6-0uPFL0a-",
        "sKQVeaNzn6JQ",
        "gcCtfsRVn8Am",
        "Zci10QmQn-Fd",
        "EwLQt82kL2k7",
        "pL_hmGPfupFs",
        "r48Nxtnguj3X",
        "jQs5t2GyuvCW",
        "CJfc6BhuuyPX",
        "zIbFNnleu2Pq",
        "Z_rcP4TLL8EC",
        "WRp_e4cPxw_P",
        "bbABQA7-x0a5",
        "UG0DlxLGx2QF",
        "0dij75eTx4bd",
        "h-XI2ugmx78Z",
        "DT2moGDtx-z9",
        "NeJH0cePyAYg",
        "vyj13x1ayDgc",
        "cfZYGyDeyGC2",
        "G3rBmBx9zfUn",
        "DFD2oCa1yMHJ",
        "5HWJDxck0RJQ",
        "Qj7-cfL40WO9",
        "wmsyAA1N0X2k",
        "6TqCvCgI0ZJs",
        "y55syzDB0a6c",
        "kr9GW6I26alE",
        "MiOdmKKUyP54",
        "USAEnf3Y9HRz",
        "FAe1qCa49I_R",
        "Jn3GL3oP9LG0",
        "41FlOj289Nny",
        "rXJi9mEJ9RVR",
        "LIsPa0laHeVW",
        "QjuPAg5EySGY",
        "P0hT-wT7IF_P",
        "CcyIhcN4IKDw",
        "QpD-itDlINKn",
        "7KP4dnLrIP7_",
        "fPkpKgETVxmX",
        "diRuno6dXkcO",
        "wn5O6zpBX8ke"
      ],
      "toc_visible": true,
      "include_colab_link": true
    },
    "kernelspec": {
      "name": "python3",
      "display_name": "Python 3"
    }
  },
  "cells": [
    {
      "cell_type": "markdown",
      "metadata": {
        "id": "view-in-github",
        "colab_type": "text"
      },
      "source": [
        "<a href=\"https://colab.research.google.com/github/KudasaiCode/Arrays-with-NumPy-and-Pandas/blob/master/NumPy_and_Pandas.ipynb\" target=\"_parent\"><img src=\"https://colab.research.google.com/assets/colab-badge.svg\" alt=\"Open In Colab\"/></a>"
      ]
    },
    {
      "metadata": {
        "id": "cN_s8DB2yCoL",
        "colab_type": "text"
      },
      "cell_type": "markdown",
      "source": [
        "#NumPy Arrays for 1D Data"
      ]
    },
    {
      "metadata": {
        "id": "JqhNraHFqk0C",
        "colab_type": "text"
      },
      "cell_type": "markdown",
      "source": [
        "\n",
        "\n",
        "---\n",
        "\n",
        "\n",
        "\n",
        "---\n",
        "\n"
      ]
    },
    {
      "metadata": {
        "id": "BsFjHWOgyGCv",
        "colab_type": "text"
      },
      "cell_type": "markdown",
      "source": [
        "## Initializing and Converting to Numpy Array"
      ]
    },
    {
      "metadata": {
        "id": "o_Tn4DOwypB3",
        "colab_type": "code",
        "colab": {}
      },
      "cell_type": "code",
      "source": [
        "import numpy as np"
      ],
      "execution_count": 0,
      "outputs": []
    },
    {
      "metadata": {
        "id": "uRIEBpN8yJwv",
        "colab_type": "text"
      },
      "cell_type": "markdown",
      "source": [
        "### Create array of zeros"
      ]
    },
    {
      "metadata": {
        "id": "ZJA24pCTytzY",
        "colab_type": "code",
        "outputId": "e7a43e04-f8e5-40a6-fd20-6ba195f60b07",
        "colab": {
          "base_uri": "https://localhost:8080/",
          "height": 35
        }
      },
      "cell_type": "code",
      "source": [
        "array1 = np.zeros(3)\n",
        "print(array1)"
      ],
      "execution_count": 0,
      "outputs": [
        {
          "output_type": "stream",
          "text": [
            "[0. 0. 0.]\n"
          ],
          "name": "stdout"
        }
      ]
    },
    {
      "metadata": {
        "id": "nEelmq8iy42a",
        "colab_type": "code",
        "outputId": "2683ff93-6e17-4a10-f293-b4e3440038db",
        "colab": {
          "base_uri": "https://localhost:8080/",
          "height": 35
        }
      },
      "cell_type": "code",
      "source": [
        "array2 = np.zeros(5)\n",
        "print(array2)"
      ],
      "execution_count": 0,
      "outputs": [
        {
          "output_type": "stream",
          "text": [
            "[0. 0. 0. 0. 0.]\n"
          ],
          "name": "stdout"
        }
      ]
    },
    {
      "metadata": {
        "id": "NF7VO2p5qi0i",
        "colab_type": "text"
      },
      "cell_type": "markdown",
      "source": [
        "\n",
        "\n",
        "---\n",
        "\n"
      ]
    },
    {
      "metadata": {
        "id": "9vKr2BlJyNPR",
        "colab_type": "text"
      },
      "cell_type": "markdown",
      "source": [
        "### Create array of ones"
      ]
    },
    {
      "metadata": {
        "id": "kb7nmI1wy-tK",
        "colab_type": "code",
        "outputId": "f8f1bf3b-bb96-4d33-c2a5-c4438a5ed752",
        "colab": {
          "base_uri": "https://localhost:8080/",
          "height": 35
        }
      },
      "cell_type": "code",
      "source": [
        "array1 = np.ones(5)\n",
        "print(array1)"
      ],
      "execution_count": 0,
      "outputs": [
        {
          "output_type": "stream",
          "text": [
            "[1. 1. 1. 1. 1.]\n"
          ],
          "name": "stdout"
        }
      ]
    },
    {
      "metadata": {
        "id": "GQyk6fKKqhsk",
        "colab_type": "text"
      },
      "cell_type": "markdown",
      "source": [
        "\n",
        "\n",
        "---\n",
        "\n"
      ]
    },
    {
      "metadata": {
        "id": "l7fxknioyPmo",
        "colab_type": "text"
      },
      "cell_type": "markdown",
      "source": [
        "### Create a NumPy Array"
      ]
    },
    {
      "metadata": {
        "id": "ZLcsNKV8zRfX",
        "colab_type": "code",
        "outputId": "12b7a2ee-f7b2-4f06-a72d-7a034eb331f9",
        "colab": {
          "base_uri": "https://localhost:8080/",
          "height": 35
        }
      },
      "cell_type": "code",
      "source": [
        "array2 = np.array([1, 2, 3, 4, 5])\n",
        "print(array2)"
      ],
      "execution_count": 0,
      "outputs": [
        {
          "output_type": "stream",
          "text": [
            "[1 2 3 4 5]\n"
          ],
          "name": "stdout"
        }
      ]
    },
    {
      "metadata": {
        "id": "JxiSVkYaqgj7",
        "colab_type": "text"
      },
      "cell_type": "markdown",
      "source": [
        "\n",
        "\n",
        "---\n",
        "\n"
      ]
    },
    {
      "metadata": {
        "id": "SaPjvCEfyV1B",
        "colab_type": "text"
      },
      "cell_type": "markdown",
      "source": [
        "###Convert Python list into array"
      ]
    },
    {
      "metadata": {
        "id": "2zbesQifzVQ7",
        "colab_type": "code",
        "outputId": "fb909443-1f78-4613-ae2a-80c782a11c7a",
        "colab": {
          "base_uri": "https://localhost:8080/",
          "height": 35
        }
      },
      "cell_type": "code",
      "source": [
        "python_list = [1,2,3,4,5,6,7,8]\n",
        "\n",
        "numpy_array = np.array(python_list)\n",
        "print(python_list, numpy_array)"
      ],
      "execution_count": 0,
      "outputs": [
        {
          "output_type": "stream",
          "text": [
            "[1, 2, 3, 4, 5, 6, 7, 8] [1 2 3 4 5 6 7 8]\n"
          ],
          "name": "stdout"
        }
      ]
    },
    {
      "metadata": {
        "id": "v2MzRk6tqfx1",
        "colab_type": "text"
      },
      "cell_type": "markdown",
      "source": [
        "\n",
        "\n",
        "---\n",
        "\n"
      ]
    },
    {
      "metadata": {
        "id": "iSpCmExKyYiA",
        "colab_type": "text"
      },
      "cell_type": "markdown",
      "source": [
        "### Arrange"
      ]
    },
    {
      "metadata": {
        "id": "bJgmfp3Dz3zU",
        "colab_type": "code",
        "outputId": "f8539814-c9ee-4293-b76c-c7c29b3987df",
        "colab": {
          "base_uri": "https://localhost:8080/",
          "height": 35
        }
      },
      "cell_type": "code",
      "source": [
        "array1 = np.arange(10)\n",
        "print(array1)"
      ],
      "execution_count": 0,
      "outputs": [
        {
          "output_type": "stream",
          "text": [
            "[0 1 2 3 4 5 6 7 8 9]\n"
          ],
          "name": "stdout"
        }
      ]
    },
    {
      "metadata": {
        "id": "d3WD-7PQ0IBX",
        "colab_type": "code",
        "outputId": "01a7a77e-4d27-4385-e072-121b429e2182",
        "colab": {
          "base_uri": "https://localhost:8080/",
          "height": 35
        }
      },
      "cell_type": "code",
      "source": [
        "array2 = np.arange(2, 8)\n",
        "print(array2)"
      ],
      "execution_count": 0,
      "outputs": [
        {
          "output_type": "stream",
          "text": [
            "[2 3 4 5 6 7]\n"
          ],
          "name": "stdout"
        }
      ]
    },
    {
      "metadata": {
        "id": "SywJeYpv0kw_",
        "colab_type": "code",
        "outputId": "13f34b89-7fb9-47c7-fc5a-07704bdfb030",
        "colab": {
          "base_uri": "https://localhost:8080/",
          "height": 35
        }
      },
      "cell_type": "code",
      "source": [
        "# Last value makes it so that it only includes every other number\n",
        "array3 = np.arange(2, 12, 4)\n",
        "print(array3)"
      ],
      "execution_count": 0,
      "outputs": [
        {
          "output_type": "stream",
          "text": [
            "[ 2  6 10]\n"
          ],
          "name": "stdout"
        }
      ]
    },
    {
      "metadata": {
        "id": "2MTkw7UZ182P",
        "colab_type": "code",
        "outputId": "83e95c00-8603-472c-b2d6-2a07d609fd1d",
        "colab": {
          "base_uri": "https://localhost:8080/",
          "height": 35
        }
      },
      "cell_type": "code",
      "source": [
        "array4 = np.arange(5,51, 5)\n",
        "print(array4)"
      ],
      "execution_count": 0,
      "outputs": [
        {
          "output_type": "stream",
          "text": [
            "[ 5 10 15 20 25 30 35 40 45 50]\n"
          ],
          "name": "stdout"
        }
      ]
    },
    {
      "metadata": {
        "id": "MbTNEq2N2F6d",
        "colab_type": "code",
        "outputId": "98d76d90-95e4-45c0-dac7-9f79d50bfbf4",
        "colab": {
          "base_uri": "https://localhost:8080/",
          "height": 146
        }
      },
      "cell_type": "code",
      "source": [
        "array5 = np.arange(100, 1001, 10)\n",
        "print(array5)"
      ],
      "execution_count": 0,
      "outputs": [
        {
          "output_type": "stream",
          "text": [
            "[ 100  110  120  130  140  150  160  170  180  190  200  210  220  230\n",
            "  240  250  260  270  280  290  300  310  320  330  340  350  360  370\n",
            "  380  390  400  410  420  430  440  450  460  470  480  490  500  510\n",
            "  520  530  540  550  560  570  580  590  600  610  620  630  640  650\n",
            "  660  670  680  690  700  710  720  730  740  750  760  770  780  790\n",
            "  800  810  820  830  840  850  860  870  880  890  900  910  920  930\n",
            "  940  950  960  970  980  990 1000]\n"
          ],
          "name": "stdout"
        }
      ]
    },
    {
      "metadata": {
        "id": "L05_IJc_qezL",
        "colab_type": "text"
      },
      "cell_type": "markdown",
      "source": [
        "\n",
        "\n",
        "---\n",
        "\n"
      ]
    },
    {
      "metadata": {
        "id": "FC2NnPVmyaTu",
        "colab_type": "text"
      },
      "cell_type": "markdown",
      "source": [
        "### Linspace"
      ]
    },
    {
      "metadata": {
        "id": "wSfKaf8V2TgS",
        "colab_type": "code",
        "outputId": "3f8f37d0-125b-4c4e-9275-0eafa5848255",
        "colab": {
          "base_uri": "https://localhost:8080/",
          "height": 54
        }
      },
      "cell_type": "code",
      "source": [
        "# USE linspace when we want a fixed length we'd like to use\n",
        "array6 = np.linspace(0, 101, 10)\n",
        "print(array6)"
      ],
      "execution_count": 0,
      "outputs": [
        {
          "output_type": "stream",
          "text": [
            "[  0.          11.22222222  22.44444444  33.66666667  44.88888889\n",
            "  56.11111111  67.33333333  78.55555556  89.77777778 101.        ]\n"
          ],
          "name": "stdout"
        }
      ]
    },
    {
      "metadata": {
        "id": "xcaBMXBx3kKL",
        "colab_type": "code",
        "outputId": "bd00f05e-fcaa-46c9-a882-2a0a166fb8ae",
        "colab": {
          "base_uri": "https://localhost:8080/",
          "height": 35
        }
      },
      "cell_type": "code",
      "source": [
        "array7 =  np.linspace(1,20,3)\n",
        "print(array7)"
      ],
      "execution_count": 0,
      "outputs": [
        {
          "output_type": "stream",
          "text": [
            "[ 1.  10.5 20. ]\n"
          ],
          "name": "stdout"
        }
      ]
    },
    {
      "metadata": {
        "id": "wM8BWfhyqdym",
        "colab_type": "text"
      },
      "cell_type": "markdown",
      "source": [
        "\n",
        "\n",
        "---\n",
        "\n"
      ]
    },
    {
      "metadata": {
        "id": "3davyg7cybyH",
        "colab_type": "text"
      },
      "cell_type": "markdown",
      "source": [
        "## Accessing and Modifying Numpy Arrays"
      ]
    },
    {
      "metadata": {
        "id": "opQ64EQt33SI",
        "colab_type": "text"
      },
      "cell_type": "markdown",
      "source": [
        "### Accessing through Indexing"
      ]
    },
    {
      "metadata": {
        "id": "TfzylyF-4Iuj",
        "colab_type": "code",
        "outputId": "5403bacb-fe6f-4b5a-94b9-0ab0d9ecd948",
        "colab": {
          "base_uri": "https://localhost:8080/",
          "height": 35
        }
      },
      "cell_type": "code",
      "source": [
        "#Works the same way as python list\n",
        "\n",
        "print(array1)"
      ],
      "execution_count": 0,
      "outputs": [
        {
          "output_type": "stream",
          "text": [
            "[0 1 2 3 4 5 6 7 8 9]\n"
          ],
          "name": "stdout"
        }
      ]
    },
    {
      "metadata": {
        "id": "9OqEBrEo4Qxr",
        "colab_type": "code",
        "outputId": "f642c88e-cbd2-449f-f1a7-b69d84a3407a",
        "colab": {
          "base_uri": "https://localhost:8080/",
          "height": 109
        }
      },
      "cell_type": "code",
      "source": [
        "print(array1[0])\n",
        "print(array1[9])\n",
        "\n",
        "print(array2)\n",
        "print(array2[3])\n",
        "\n",
        "print(array1)"
      ],
      "execution_count": 0,
      "outputs": [
        {
          "output_type": "stream",
          "text": [
            "0\n",
            "9\n",
            "[2 3 4 5 6 7]\n",
            "5\n",
            "[0 1 2 3 4 5 6 7 8 9]\n"
          ],
          "name": "stdout"
        }
      ]
    },
    {
      "metadata": {
        "id": "RNbV7HQT4qDF",
        "colab_type": "code",
        "outputId": "32a23ca3-09a6-4ae8-8e5c-f8aee17e31c9",
        "colab": {
          "base_uri": "https://localhost:8080/",
          "height": 54
        }
      },
      "cell_type": "code",
      "source": [
        "new_array = [x for x in array1 if x%2 == 0]\n",
        "print(new_array)\n",
        "\n",
        "new_array2 = [new_array[x] * 13    for x in range(5) if new_array[x] <= new_array[-1]]\n",
        "print(new_array2)"
      ],
      "execution_count": 0,
      "outputs": [
        {
          "output_type": "stream",
          "text": [
            "[0, 2, 4, 6, 8]\n",
            "[0, 26, 52, 78, 104]\n"
          ],
          "name": "stdout"
        }
      ]
    },
    {
      "metadata": {
        "id": "HaArISk3qcTS",
        "colab_type": "text"
      },
      "cell_type": "markdown",
      "source": [
        "\n",
        "\n",
        "---\n",
        "\n"
      ]
    },
    {
      "metadata": {
        "id": "CCP-qrQL8JoY",
        "colab_type": "text"
      },
      "cell_type": "markdown",
      "source": [
        "#### Using np.nditer()"
      ]
    },
    {
      "metadata": {
        "id": "HjnglF1ch0i1",
        "colab_type": "text"
      },
      "cell_type": "markdown",
      "source": [
        "$np.nditer()$\n",
        "\n",
        "iterates over array"
      ]
    },
    {
      "metadata": {
        "id": "3Lh6Hm_q8L0Q",
        "colab_type": "code",
        "outputId": "1248fefb-1eb8-41de-df43-8e853264b851",
        "colab": {
          "base_uri": "https://localhost:8080/",
          "height": 237
        }
      },
      "cell_type": "code",
      "source": [
        "print(new_array2)\n",
        "actual_array = np.array(new_array2)\n",
        "print(actual_array)\n",
        "\n",
        "actual_list_of_array = list()\n",
        "\n",
        "for i in np.nditer(actual_array):\n",
        "  print(i)\n",
        "  actual_list_of_array.append(i)\n",
        "  print(\"Appended \", i, \" to List\")\n",
        "  "
      ],
      "execution_count": 0,
      "outputs": [
        {
          "output_type": "stream",
          "text": [
            "[0, 26, 52, 78, 104]\n",
            "[  0  26  52  78 104]\n",
            "0\n",
            "Appended  0  to List\n",
            "26\n",
            "Appended  26  to List\n",
            "52\n",
            "Appended  52  to List\n",
            "78\n",
            "Appended  78  to List\n",
            "104\n",
            "Appended  104  to List\n"
          ],
          "name": "stdout"
        }
      ]
    },
    {
      "metadata": {
        "id": "offxOpK2qad7",
        "colab_type": "text"
      },
      "cell_type": "markdown",
      "source": [
        "\n",
        "\n",
        "---\n",
        "\n"
      ]
    },
    {
      "metadata": {
        "id": "cnJ2SA5P36Hr",
        "colab_type": "text"
      },
      "cell_type": "markdown",
      "source": [
        "### Selection through Slicing"
      ]
    },
    {
      "metadata": {
        "id": "EvKBa8zb9uoi",
        "colab_type": "code",
        "outputId": "6ae31db2-feb6-4b72-a67d-b8152ebb2335",
        "colab": {
          "base_uri": "https://localhost:8080/",
          "height": 90
        }
      },
      "cell_type": "code",
      "source": [
        "print(actual_array)\n",
        "print(actual_array[1:4])\n",
        "print(actual_array[2:3])\n",
        "print(actual_array[2:4])"
      ],
      "execution_count": 0,
      "outputs": [
        {
          "output_type": "stream",
          "text": [
            "[  0  26  52  78 104]\n",
            "[26 52 78]\n",
            "[52]\n",
            "[52 78]\n"
          ],
          "name": "stdout"
        }
      ]
    },
    {
      "metadata": {
        "id": "mWXnUCKl-X3S",
        "colab_type": "code",
        "outputId": "fdd13623-232f-4f60-c1af-e6449e9950f0",
        "colab": {
          "base_uri": "https://localhost:8080/",
          "height": 109
        }
      },
      "cell_type": "code",
      "source": [
        "array = np.arange(26)\n",
        "print(array)\n",
        "\n",
        "print(array[5:-2])\n",
        "print(array[:-15])\n",
        "print(array[:11])"
      ],
      "execution_count": 0,
      "outputs": [
        {
          "output_type": "stream",
          "text": [
            "[ 0  1  2  3  4  5  6  7  8  9 10 11 12 13 14 15 16 17 18 19 20 21 22 23\n",
            " 24 25]\n",
            "[ 5  6  7  8  9 10 11 12 13 14 15 16 17 18 19 20 21 22 23]\n",
            "[ 0  1  2  3  4  5  6  7  8  9 10]\n",
            "[ 0  1  2  3  4  5  6  7  8  9 10]\n"
          ],
          "name": "stdout"
        }
      ]
    },
    {
      "metadata": {
        "id": "tGlCUS1SqZci",
        "colab_type": "text"
      },
      "cell_type": "markdown",
      "source": [
        "\n",
        "\n",
        "---\n",
        "\n"
      ]
    },
    {
      "metadata": {
        "id": "YETBZNhq38vM",
        "colab_type": "text"
      },
      "cell_type": "markdown",
      "source": [
        "### Append/Concatenation"
      ]
    },
    {
      "metadata": {
        "id": "WSDajbSmDeD_",
        "colab_type": "code",
        "outputId": "74f30836-d9ae-4df1-abf2-4636a5762efb",
        "colab": {
          "base_uri": "https://localhost:8080/",
          "height": 72
        }
      },
      "cell_type": "code",
      "source": [
        "np.append(array, 10000 + actual_array[2])"
      ],
      "execution_count": 0,
      "outputs": [
        {
          "output_type": "execute_result",
          "data": {
            "text/plain": [
              "array([    0,     1,     2,     3,     4,     5,     6,     7,     8,\n",
              "           9,    10,    11,    12,    13,    14,    15,    16,    17,\n",
              "          18,    19,    20,    21,    22,    23,    24,    25, 10052])"
            ]
          },
          "metadata": {
            "tags": []
          },
          "execution_count": 111
        }
      ]
    },
    {
      "metadata": {
        "id": "pF98f3oCEI8F",
        "colab_type": "code",
        "outputId": "9bd4db25-ba08-433b-902f-74c7905f84a3",
        "colab": {
          "base_uri": "https://localhost:8080/",
          "height": 109
        }
      },
      "cell_type": "code",
      "source": [
        "arrayX = np.arange(21)\n",
        "arrayY = np.arange(20, 41)\n",
        "print('arrayX = ', arrayX, '\\narrayY = ', arrayY, '\\n')\n",
        "\n",
        "arrayXY = np.append(arrayX, arrayY[1:])\n",
        "print('concatenated: ', arrayXY)"
      ],
      "execution_count": 0,
      "outputs": [
        {
          "output_type": "stream",
          "text": [
            "arrayX =  [ 0  1  2  3  4  5  6  7  8  9 10 11 12 13 14 15 16 17 18 19 20] \n",
            "arrayY =  [20 21 22 23 24 25 26 27 28 29 30 31 32 33 34 35 36 37 38 39 40] \n",
            "\n",
            "concatenated:  [ 0  1  2  3  4  5  6  7  8  9 10 11 12 13 14 15 16 17 18 19 20 21 22 23\n",
            " 24 25 26 27 28 29 30 31 32 33 34 35 36 37 38 39 40]\n"
          ],
          "name": "stdout"
        }
      ]
    },
    {
      "metadata": {
        "id": "tN6WCMmoHzwr",
        "colab_type": "code",
        "outputId": "5299abe5-2dc6-432a-b8ec-1ddb329092d8",
        "colab": {
          "base_uri": "https://localhost:8080/",
          "height": 72
        }
      },
      "cell_type": "code",
      "source": [
        "arrayXY = np.append(arrayXY, [80, 120, 160, 170])\n",
        "print(arrayXY)"
      ],
      "execution_count": 0,
      "outputs": [
        {
          "output_type": "stream",
          "text": [
            "[  0   1   2   3   4   5   6   7   8   9  10  11  12  13  14  15  16  17\n",
            "  18  19  20  21  22  23  24  25  26  27  28  29  30  31  32  33  34  35\n",
            "  36  37  38  39  40  80 120 160  80 120 160  80 120 160 170]\n"
          ],
          "name": "stdout"
        }
      ]
    },
    {
      "metadata": {
        "id": "6x4EYLtjqXzp",
        "colab_type": "text"
      },
      "cell_type": "markdown",
      "source": [
        "\n",
        "\n",
        "---\n",
        "\n"
      ]
    },
    {
      "metadata": {
        "id": "odbN-cuD4AAs",
        "colab_type": "text"
      },
      "cell_type": "markdown",
      "source": [
        "### Split"
      ]
    },
    {
      "metadata": {
        "id": "rzgydoHYIFUc",
        "colab_type": "code",
        "outputId": "e095edd3-c6bd-49b4-e340-3fa0be4dc50b",
        "colab": {
          "base_uri": "https://localhost:8080/",
          "height": 90
        }
      },
      "cell_type": "code",
      "source": [
        "np.split(arrayXY, 3)"
      ],
      "execution_count": 0,
      "outputs": [
        {
          "output_type": "execute_result",
          "data": {
            "text/plain": [
              "[array([ 0,  1,  2,  3,  4,  5,  6,  7,  8,  9, 10, 11, 12, 13, 14, 15, 16]),\n",
              " array([17, 18, 19, 20, 21, 22, 23, 24, 25, 26, 27, 28, 29, 30, 31, 32, 33]),\n",
              " array([ 34,  35,  36,  37,  38,  39,  40,  80, 120, 160,  80, 120, 160,\n",
              "         80, 120, 160, 170])]"
            ]
          },
          "metadata": {
            "tags": []
          },
          "execution_count": 138
        }
      ]
    },
    {
      "metadata": {
        "id": "ntFR3HjmI2lh",
        "colab_type": "code",
        "outputId": "0e646161-b1b2-4021-8dc2-b12fac51a9bd",
        "colab": {
          "base_uri": "https://localhost:8080/",
          "height": 146
        }
      },
      "cell_type": "code",
      "source": [
        "np.split(arrayXY, [7, 12, 13, 19])"
      ],
      "execution_count": 0,
      "outputs": [
        {
          "output_type": "execute_result",
          "data": {
            "text/plain": [
              "[array([0, 1, 2, 3, 4, 5, 6]),\n",
              " array([ 7,  8,  9, 10, 11]),\n",
              " array([12]),\n",
              " array([13, 14, 15, 16, 17, 18]),\n",
              " array([ 19,  20,  21,  22,  23,  24,  25,  26,  27,  28,  29,  30,  31,\n",
              "         32,  33,  34,  35,  36,  37,  38,  39,  40,  80, 120, 160,  80,\n",
              "        120, 160,  80, 120, 160, 170])]"
            ]
          },
          "metadata": {
            "tags": []
          },
          "execution_count": 154
        }
      ]
    },
    {
      "metadata": {
        "id": "u27v1fs-qW1i",
        "colab_type": "text"
      },
      "cell_type": "markdown",
      "source": [
        "\n",
        "\n",
        "---\n",
        "\n"
      ]
    },
    {
      "metadata": {
        "id": "iV4ITmKC4BgE",
        "colab_type": "text"
      },
      "cell_type": "markdown",
      "source": [
        "### Get Info"
      ]
    },
    {
      "metadata": {
        "id": "WYSwoHoxKJni",
        "colab_type": "code",
        "outputId": "d2bc8a83-6d2e-49cb-9cab-e3f5cc855d72",
        "colab": {
          "base_uri": "https://localhost:8080/",
          "height": 35
        }
      },
      "cell_type": "code",
      "source": [
        "# Size\n",
        "arrayXY.size"
      ],
      "execution_count": 0,
      "outputs": [
        {
          "output_type": "execute_result",
          "data": {
            "text/plain": [
              "51"
            ]
          },
          "metadata": {
            "tags": []
          },
          "execution_count": 216
        }
      ]
    },
    {
      "metadata": {
        "id": "2b3TT_34KO6T",
        "colab_type": "code",
        "outputId": "35661185-b94a-4d46-970b-1b7605e8724e",
        "colab": {
          "base_uri": "https://localhost:8080/",
          "height": 35
        }
      },
      "cell_type": "code",
      "source": [
        "# Shape for checking the amount of dimensions\n",
        "arrayXY.shape"
      ],
      "execution_count": 0,
      "outputs": [
        {
          "output_type": "execute_result",
          "data": {
            "text/plain": [
              "(51,)"
            ]
          },
          "metadata": {
            "tags": []
          },
          "execution_count": 156
        }
      ]
    },
    {
      "metadata": {
        "id": "_cI0lkqbqVob",
        "colab_type": "text"
      },
      "cell_type": "markdown",
      "source": [
        "\n",
        "\n",
        "---\n",
        "\n"
      ]
    },
    {
      "metadata": {
        "id": "4SxFq8hKykbI",
        "colab_type": "text"
      },
      "cell_type": "markdown",
      "source": [
        "## Numpy Array Math Operations"
      ]
    },
    {
      "metadata": {
        "id": "2YDnclLiKq21",
        "colab_type": "text"
      },
      "cell_type": "markdown",
      "source": [
        "###Scalar and Vector Addition"
      ]
    },
    {
      "metadata": {
        "id": "qYAXoKeLiNeS",
        "colab_type": "text"
      },
      "cell_type": "markdown",
      "source": [
        "$np.add()$"
      ]
    },
    {
      "metadata": {
        "id": "fmcJC51xK7CF",
        "colab_type": "code",
        "outputId": "83868100-61ac-40c4-af46-2bb1ba91d784",
        "colab": {
          "base_uri": "https://localhost:8080/",
          "height": 72
        }
      },
      "cell_type": "code",
      "source": [
        "print(arrayXY)"
      ],
      "execution_count": 0,
      "outputs": [
        {
          "output_type": "stream",
          "text": [
            "[  0   1   2   3   4   5   6   7   8   9  10  11  12  13  14  15  16  17\n",
            "  18  19  20  21  22  23  24  25  26  27  28  29  30  31  32  33  34  35\n",
            "  36  37  38  39  40  80 120 160  80 120 160  80 120 160 170]\n"
          ],
          "name": "stdout"
        }
      ]
    },
    {
      "metadata": {
        "id": "mGiqkfXgK8w4",
        "colab_type": "code",
        "outputId": "50ecf364-0843-4300-b01b-01cbac9047ad",
        "colab": {
          "base_uri": "https://localhost:8080/",
          "height": 72
        }
      },
      "cell_type": "code",
      "source": [
        "print(arrayXY + 5)"
      ],
      "execution_count": 0,
      "outputs": [
        {
          "output_type": "stream",
          "text": [
            "[  5   6   7   8   9  10  11  12  13  14  15  16  17  18  19  20  21  22\n",
            "  23  24  25  26  27  28  29  30  31  32  33  34  35  36  37  38  39  40\n",
            "  41  42  43  44  45  85 125 165  85 125 165  85 125 165 175]\n"
          ],
          "name": "stdout"
        }
      ]
    },
    {
      "metadata": {
        "id": "tYJcVmmFLDPv",
        "colab_type": "code",
        "outputId": "9d4d107d-ab01-4700-85a4-63976486f7fc",
        "colab": {
          "base_uri": "https://localhost:8080/",
          "height": 54
        }
      },
      "cell_type": "code",
      "source": [
        "x1 = np.array([1, 2, 3])\n",
        "x2 = np.array([10, 20, 30])\n",
        "print(x1, x2)\n",
        "\n",
        "np.add(x1, x2)\n",
        "\n",
        "\n",
        "# np.add(x1, arrayXY) Shapes are different. Cannot add components that don't exist. "
      ],
      "execution_count": 0,
      "outputs": [
        {
          "output_type": "stream",
          "text": [
            "[1 2 3] [10 20 30]\n"
          ],
          "name": "stdout"
        },
        {
          "output_type": "execute_result",
          "data": {
            "text/plain": [
              "array([11, 22, 33])"
            ]
          },
          "metadata": {
            "tags": []
          },
          "execution_count": 162
        }
      ]
    },
    {
      "metadata": {
        "id": "FhwneJfHqUIE",
        "colab_type": "text"
      },
      "cell_type": "markdown",
      "source": [
        "\n",
        "\n",
        "---\n",
        "\n"
      ]
    },
    {
      "metadata": {
        "id": "xREw8jvVKthc",
        "colab_type": "text"
      },
      "cell_type": "markdown",
      "source": [
        "### Scalar and Vector Subtraction"
      ]
    },
    {
      "metadata": {
        "id": "8YFRu0m2ikrh",
        "colab_type": "text"
      },
      "cell_type": "markdown",
      "source": [
        "$np.subtract()$"
      ]
    },
    {
      "metadata": {
        "id": "7EgGeMd_LrqO",
        "colab_type": "code",
        "outputId": "4957e21c-41d1-4718-eae1-b091626ab620",
        "colab": {
          "base_uri": "https://localhost:8080/",
          "height": 90
        }
      },
      "cell_type": "code",
      "source": [
        "print(arrayXY - 100)"
      ],
      "execution_count": 0,
      "outputs": [
        {
          "output_type": "stream",
          "text": [
            "[-100  -99  -98  -97  -96  -95  -94  -93  -92  -91  -90  -89  -88  -87\n",
            "  -86  -85  -84  -83  -82  -81  -80  -79  -78  -77  -76  -75  -74  -73\n",
            "  -72  -71  -70  -69  -68  -67  -66  -65  -64  -63  -62  -61  -60  -20\n",
            "   20   60  -20   20   60  -20   20   60   70]\n"
          ],
          "name": "stdout"
        }
      ]
    },
    {
      "metadata": {
        "id": "lhMqebkwLy9o",
        "colab_type": "code",
        "outputId": "b4de4332-0ce3-43d5-c403-276ffe45ae9d",
        "colab": {
          "base_uri": "https://localhost:8080/",
          "height": 54
        }
      },
      "cell_type": "code",
      "source": [
        "print(np.subtract(x1, x2))\n",
        "\n",
        "print(np.subtract(x2,x1))"
      ],
      "execution_count": 0,
      "outputs": [
        {
          "output_type": "stream",
          "text": [
            "[ -9 -18 -27]\n",
            "[ 9 18 27]\n"
          ],
          "name": "stdout"
        }
      ]
    },
    {
      "metadata": {
        "id": "-mbK59yYL8--",
        "colab_type": "code",
        "outputId": "9857794e-36fc-418a-aa76-025e5703345a",
        "colab": {
          "base_uri": "https://localhost:8080/",
          "height": 35
        }
      },
      "cell_type": "code",
      "source": [
        "x2 - x1"
      ],
      "execution_count": 0,
      "outputs": [
        {
          "output_type": "execute_result",
          "data": {
            "text/plain": [
              "array([ 9, 18, 27])"
            ]
          },
          "metadata": {
            "tags": []
          },
          "execution_count": 171
        }
      ]
    },
    {
      "metadata": {
        "id": "Yac_OZv6qSsb",
        "colab_type": "text"
      },
      "cell_type": "markdown",
      "source": [
        "\n",
        "\n",
        "---\n",
        "\n"
      ]
    },
    {
      "metadata": {
        "id": "aV-b71-BKx-G",
        "colab_type": "text"
      },
      "cell_type": "markdown",
      "source": [
        "### Scalar and Vector Multiplication"
      ]
    },
    {
      "metadata": {
        "id": "9H3uaL4kisoq",
        "colab_type": "text"
      },
      "cell_type": "markdown",
      "source": [
        "$np.multiply()$"
      ]
    },
    {
      "metadata": {
        "id": "k-S2Qh61MQlc",
        "colab_type": "code",
        "outputId": "3dfb03d5-2fe2-45b6-a3fa-ad6d4bc336c8",
        "colab": {
          "base_uri": "https://localhost:8080/",
          "height": 54
        }
      },
      "cell_type": "code",
      "source": [
        "print(x1)\n",
        "print(x1*4)"
      ],
      "execution_count": 0,
      "outputs": [
        {
          "output_type": "stream",
          "text": [
            "[1 2 3]\n",
            "[ 4  8 12]\n"
          ],
          "name": "stdout"
        }
      ]
    },
    {
      "metadata": {
        "id": "4Dt55xPWMW2F",
        "colab_type": "code",
        "outputId": "3955fe93-7023-4226-f913-63708d1ec5f9",
        "colab": {
          "base_uri": "https://localhost:8080/",
          "height": 54
        }
      },
      "cell_type": "code",
      "source": [
        "print(x1, x2)\n",
        "\n",
        "np.multiply(x1, x2/5)"
      ],
      "execution_count": 0,
      "outputs": [
        {
          "output_type": "stream",
          "text": [
            "[1 2 3] [10 20 30]\n"
          ],
          "name": "stdout"
        },
        {
          "output_type": "execute_result",
          "data": {
            "text/plain": [
              "array([ 2.,  8., 18.])"
            ]
          },
          "metadata": {
            "tags": []
          },
          "execution_count": 175
        }
      ]
    },
    {
      "metadata": {
        "id": "zNPIHHFEqNxC",
        "colab_type": "text"
      },
      "cell_type": "markdown",
      "source": [
        "\n",
        "\n",
        "---\n",
        "\n"
      ]
    },
    {
      "metadata": {
        "id": "CytbZuUOOPni",
        "colab_type": "text"
      },
      "cell_type": "markdown",
      "source": [
        "#### DOT Multiplication"
      ]
    },
    {
      "metadata": {
        "id": "jMfz8_5Aiu-Y",
        "colab_type": "text"
      },
      "cell_type": "markdown",
      "source": [
        "$np.dot()$"
      ]
    },
    {
      "metadata": {
        "id": "1TXEmYRNOMH7",
        "colab_type": "code",
        "outputId": "3c52c574-adf3-4612-8c31-67b8a8df9953",
        "colab": {
          "base_uri": "https://localhost:8080/",
          "height": 35
        }
      },
      "cell_type": "code",
      "source": [
        "print(np.dot(x1, x2)) #Mutiplies by component, then adds\n",
        "# 10 + 30 + 50"
      ],
      "execution_count": 0,
      "outputs": [
        {
          "output_type": "stream",
          "text": [
            "140\n"
          ],
          "name": "stdout"
        }
      ]
    },
    {
      "metadata": {
        "id": "XEm7Qtx-qM_U",
        "colab_type": "text"
      },
      "cell_type": "markdown",
      "source": [
        "\n",
        "\n",
        "---\n",
        "\n"
      ]
    },
    {
      "metadata": {
        "id": "IxXpgKihK0zk",
        "colab_type": "text"
      },
      "cell_type": "markdown",
      "source": [
        "### Scalar and Vector Division"
      ]
    },
    {
      "metadata": {
        "id": "BZ8q5yYOiyyq",
        "colab_type": "text"
      },
      "cell_type": "markdown",
      "source": [
        "$np.divide()$"
      ]
    },
    {
      "metadata": {
        "id": "FWgOyARMMrvZ",
        "colab_type": "code",
        "outputId": "1820b9e1-af55-4c2d-ea3a-b4b1157fa7a0",
        "colab": {
          "base_uri": "https://localhost:8080/",
          "height": 54
        }
      },
      "cell_type": "code",
      "source": [
        "print(x1, x2)\n",
        "np.divide(x1,x2/10)"
      ],
      "execution_count": 0,
      "outputs": [
        {
          "output_type": "stream",
          "text": [
            "[1 2 3] [10 20 30]\n"
          ],
          "name": "stdout"
        },
        {
          "output_type": "execute_result",
          "data": {
            "text/plain": [
              "array([1., 1., 1.])"
            ]
          },
          "metadata": {
            "tags": []
          },
          "execution_count": 180
        }
      ]
    },
    {
      "metadata": {
        "id": "lentD1wLqMPz",
        "colab_type": "text"
      },
      "cell_type": "markdown",
      "source": [
        "\n",
        "\n",
        "---\n",
        "\n"
      ]
    },
    {
      "metadata": {
        "id": "14dU064GK3R9",
        "colab_type": "text"
      },
      "cell_type": "markdown",
      "source": [
        "### Exponential/Roots"
      ]
    },
    {
      "metadata": {
        "id": "B8dR-lJ5i3a8",
        "colab_type": "text"
      },
      "cell_type": "markdown",
      "source": [
        "$np.power()$"
      ]
    },
    {
      "metadata": {
        "id": "TWA2v9CvKpYW",
        "colab_type": "code",
        "outputId": "70f55d64-23fd-49a0-9e2b-f8936ff89e81",
        "colab": {
          "base_uri": "https://localhost:8080/",
          "height": 54
        }
      },
      "cell_type": "code",
      "source": [
        "print(np.power(x1,2))\n",
        "np.power(x2,2)"
      ],
      "execution_count": 0,
      "outputs": [
        {
          "output_type": "stream",
          "text": [
            "[1 4 9]\n"
          ],
          "name": "stdout"
        },
        {
          "output_type": "execute_result",
          "data": {
            "text/plain": [
              "array([100, 400, 900])"
            ]
          },
          "metadata": {
            "tags": []
          },
          "execution_count": 184
        }
      ]
    },
    {
      "metadata": {
        "id": "29PBLEOKxuFX",
        "colab_type": "code",
        "outputId": "5c591cea-b5bb-4eca-b5ba-b4b204dcc55c",
        "colab": {
          "base_uri": "https://localhost:8080/",
          "height": 54
        }
      },
      "cell_type": "code",
      "source": [
        "print(x1, x2)\n",
        "print(x1**2, x2**2)"
      ],
      "execution_count": 0,
      "outputs": [
        {
          "output_type": "stream",
          "text": [
            "[1 2 3] [10 20 30]\n",
            "[1 4 9] [100 400 900]\n"
          ],
          "name": "stdout"
        }
      ]
    },
    {
      "metadata": {
        "id": "OuAR0sTwN6p1",
        "colab_type": "code",
        "outputId": "9472846b-4926-4054-98d8-6b31aec67621",
        "colab": {
          "base_uri": "https://localhost:8080/",
          "height": 72
        }
      },
      "cell_type": "code",
      "source": [
        "roots_list = [x*x for x in range(12)]\n",
        "print(roots_list)\n",
        "\n",
        "roots_array = np.array(roots_list)\n",
        "print('\\n', roots_array)"
      ],
      "execution_count": 0,
      "outputs": [
        {
          "output_type": "stream",
          "text": [
            "[0, 1, 4, 9, 16, 25, 36, 49, 64, 81, 100, 121]\n",
            "\n",
            " [  0   1   4   9  16  25  36  49  64  81 100 121]\n"
          ],
          "name": "stdout"
        }
      ]
    },
    {
      "metadata": {
        "id": "SmQkG6K5PVmU",
        "colab_type": "code",
        "outputId": "1aae4640-20ea-4598-d170-39fde4e62676",
        "colab": {
          "base_uri": "https://localhost:8080/",
          "height": 54
        }
      },
      "cell_type": "code",
      "source": [
        "rooted_array = np.power(roots_array, 0.5)\n",
        "print('square root of: ', roots_array)\n",
        "print(' = ', rooted_array)"
      ],
      "execution_count": 0,
      "outputs": [
        {
          "output_type": "stream",
          "text": [
            "square root of:  [  0   1   4   9  16  25  36  49  64  81 100 121]\n",
            " =  [ 0.  1.  2.  3.  4.  5.  6.  7.  8.  9. 10. 11.]\n"
          ],
          "name": "stdout"
        }
      ]
    },
    {
      "metadata": {
        "id": "uAhDErt0qLV7",
        "colab_type": "text"
      },
      "cell_type": "markdown",
      "source": [
        "\n",
        "\n",
        "---\n",
        "\n"
      ]
    },
    {
      "metadata": {
        "id": "8rBIxjjQQVNZ",
        "colab_type": "text"
      },
      "cell_type": "markdown",
      "source": [
        "## NumPy Array Statistics Operations"
      ]
    },
    {
      "metadata": {
        "id": "Z9tfxxmrQZYB",
        "colab_type": "text"
      },
      "cell_type": "markdown",
      "source": [
        "###Min/Max/Range"
      ]
    },
    {
      "metadata": {
        "id": "4LJFuJvyi_wM",
        "colab_type": "text"
      },
      "cell_type": "markdown",
      "source": [
        "$.min()$  and $.max()$"
      ]
    },
    {
      "metadata": {
        "id": "7YgmUYanQlPg",
        "colab_type": "code",
        "outputId": "321472f0-97d7-416e-9330-c425f27ba7f3",
        "colab": {
          "base_uri": "https://localhost:8080/",
          "height": 54
        }
      },
      "cell_type": "code",
      "source": [
        "print('x1: ', x1, '\\nx2 ', x2)"
      ],
      "execution_count": 0,
      "outputs": [
        {
          "output_type": "stream",
          "text": [
            "x1:  [1 2 3] \n",
            "x2  [10 20 30]\n"
          ],
          "name": "stdout"
        }
      ]
    },
    {
      "metadata": {
        "id": "a7XTcs7qQzfU",
        "colab_type": "code",
        "outputId": "6f30d16d-f744-43e0-df64-9d5e083a1172",
        "colab": {
          "base_uri": "https://localhost:8080/",
          "height": 35
        }
      },
      "cell_type": "code",
      "source": [
        "x1_min = x1.min()\n",
        "print(x1_min)"
      ],
      "execution_count": 0,
      "outputs": [
        {
          "output_type": "stream",
          "text": [
            "1\n"
          ],
          "name": "stdout"
        }
      ]
    },
    {
      "metadata": {
        "id": "HTXmmaPPQ7cB",
        "colab_type": "code",
        "outputId": "97485002-96f2-43e2-a848-4db45c91e9cb",
        "colab": {
          "base_uri": "https://localhost:8080/",
          "height": 54
        }
      },
      "cell_type": "code",
      "source": [
        "print(x1.max())\n",
        "x1_max = x1.max()\n",
        "print(x1_max)"
      ],
      "execution_count": 0,
      "outputs": [
        {
          "output_type": "stream",
          "text": [
            "3\n",
            "3\n"
          ],
          "name": "stdout"
        }
      ]
    },
    {
      "metadata": {
        "id": "LfJCpejCREYT",
        "colab_type": "code",
        "outputId": "b892e408-f74d-4f6e-b3d1-0e79789324cd",
        "colab": {
          "base_uri": "https://localhost:8080/",
          "height": 35
        }
      },
      "cell_type": "code",
      "source": [
        "# For the range, subtract the max() and min() values\n",
        "\n",
        "x1_range = x1_max - x1_min\n",
        "print(x1_range)"
      ],
      "execution_count": 0,
      "outputs": [
        {
          "output_type": "stream",
          "text": [
            "2\n"
          ],
          "name": "stdout"
        }
      ]
    },
    {
      "metadata": {
        "id": "40U5RwAvRggd",
        "colab_type": "code",
        "outputId": "1aeabe3a-d90c-417d-f776-f75bd58054bf",
        "colab": {
          "base_uri": "https://localhost:8080/",
          "height": 35
        }
      },
      "cell_type": "code",
      "source": [
        "print(x2.max() - x2.min())\n",
        "x2_range = x2.max() - x2.min() # 30 - 10"
      ],
      "execution_count": 0,
      "outputs": [
        {
          "output_type": "stream",
          "text": [
            "20\n"
          ],
          "name": "stdout"
        }
      ]
    },
    {
      "metadata": {
        "id": "4mtgDyahqI69",
        "colab_type": "text"
      },
      "cell_type": "markdown",
      "source": [
        "\n",
        "\n",
        "---\n",
        "\n"
      ]
    },
    {
      "metadata": {
        "id": "BkLyy495QbXk",
        "colab_type": "text"
      },
      "cell_type": "markdown",
      "source": [
        "###Sum/Total"
      ]
    },
    {
      "metadata": {
        "id": "qaaCACHAjPfT",
        "colab_type": "text"
      },
      "cell_type": "markdown",
      "source": [
        "$.sum()$\n",
        "\n",
        "adds all the values in the array"
      ]
    },
    {
      "metadata": {
        "id": "eZvERqDsR9YD",
        "colab_type": "code",
        "outputId": "88f258c8-3152-4b3a-9523-aaea13d5fe03",
        "colab": {
          "base_uri": "https://localhost:8080/",
          "height": 35
        }
      },
      "cell_type": "code",
      "source": [
        "x1.sum()"
      ],
      "execution_count": 0,
      "outputs": [
        {
          "output_type": "execute_result",
          "data": {
            "text/plain": [
              "6"
            ]
          },
          "metadata": {
            "tags": []
          },
          "execution_count": 206
        }
      ]
    },
    {
      "metadata": {
        "id": "ZOMnj87_SB0o",
        "colab_type": "code",
        "outputId": "b6cc232a-609f-424e-b2ae-b4eedfadfed5",
        "colab": {
          "base_uri": "https://localhost:8080/",
          "height": 35
        }
      },
      "cell_type": "code",
      "source": [
        "x2.sum()"
      ],
      "execution_count": 0,
      "outputs": [
        {
          "output_type": "execute_result",
          "data": {
            "text/plain": [
              "60"
            ]
          },
          "metadata": {
            "tags": []
          },
          "execution_count": 203
        }
      ]
    },
    {
      "metadata": {
        "id": "JWqh_PNdSD2K",
        "colab_type": "code",
        "outputId": "b869f79b-1171-4036-f933-651cb5971ab0",
        "colab": {
          "base_uri": "https://localhost:8080/",
          "height": 35
        }
      },
      "cell_type": "code",
      "source": [
        "arrayXY.sum()"
      ],
      "execution_count": 0,
      "outputs": [
        {
          "output_type": "execute_result",
          "data": {
            "text/plain": [
              "2070"
            ]
          },
          "metadata": {
            "tags": []
          },
          "execution_count": 204
        }
      ]
    },
    {
      "metadata": {
        "id": "0iEYBiWQqFJb",
        "colab_type": "text"
      },
      "cell_type": "markdown",
      "source": [
        "\n",
        "\n",
        "---\n",
        "\n"
      ]
    },
    {
      "metadata": {
        "id": "tOEyrB_uQdQA",
        "colab_type": "text"
      },
      "cell_type": "markdown",
      "source": [
        "###Count/Frequency"
      ]
    },
    {
      "metadata": {
        "id": "zn0Qq0nbjVqw",
        "colab_type": "text"
      },
      "cell_type": "markdown",
      "source": [
        "$np.unique()$"
      ]
    },
    {
      "metadata": {
        "id": "89OjeTDaSKIp",
        "colab_type": "code",
        "colab": {}
      },
      "cell_type": "code",
      "source": [
        "# np.unique returns an array with only th eunique elements. No repeats"
      ],
      "execution_count": 0,
      "outputs": []
    },
    {
      "metadata": {
        "id": "KUiI8vLvScXW",
        "colab_type": "code",
        "outputId": "632fca0d-dc39-47a4-9807-a9a7198d378c",
        "colab": {
          "base_uri": "https://localhost:8080/",
          "height": 35
        }
      },
      "cell_type": "code",
      "source": [
        "np.unique([2, 2, 3, 1, 3, 4, 1, 10, 19, 10, 29, 1, 2, 3, 4, 4, 5, 1, 6, 8])"
      ],
      "execution_count": 0,
      "outputs": [
        {
          "output_type": "execute_result",
          "data": {
            "text/plain": [
              "array([ 1,  2,  3,  4,  5,  6,  8, 10, 19, 29])"
            ]
          },
          "metadata": {
            "tags": []
          },
          "execution_count": 207
        }
      ]
    },
    {
      "metadata": {
        "id": "XQA-3h4pqBV7",
        "colab_type": "text"
      },
      "cell_type": "markdown",
      "source": [
        "\n",
        "\n",
        "---\n",
        "\n"
      ]
    },
    {
      "metadata": {
        "id": "xPvlKvkYQfhQ",
        "colab_type": "text"
      },
      "cell_type": "markdown",
      "source": [
        "###Mean/Median"
      ]
    },
    {
      "metadata": {
        "id": "mURSc-LurNmH",
        "colab_type": "text"
      },
      "cell_type": "markdown",
      "source": [
        "$Mean = {1 \\over n} \\sum\\limits_{i = 1}^{n} {Observation_i} = {Observation_{1}} + {Observation_{2}}... {Observation_{n}}$"
      ]
    },
    {
      "metadata": {
        "id": "NjDsj5cukSHH",
        "colab_type": "text"
      },
      "cell_type": "markdown",
      "source": [
        "$np.mean()$ and $np.median()$"
      ]
    },
    {
      "metadata": {
        "id": "Nrw7xCoDUIs5",
        "colab_type": "code",
        "outputId": "4ff48c69-6618-4c0b-a61b-47474e21d402",
        "colab": {
          "base_uri": "https://localhost:8080/",
          "height": 54
        }
      },
      "cell_type": "code",
      "source": [
        "print(np.mean(arrayXY))\n",
        "\n",
        "mean = np.divide(np.sum(arrayXY), arrayXY.size)\n",
        "print(mean)           "
      ],
      "execution_count": 0,
      "outputs": [
        {
          "output_type": "stream",
          "text": [
            "40.588235294117645\n",
            "40.588235294117645\n"
          ],
          "name": "stdout"
        }
      ]
    },
    {
      "metadata": {
        "id": "NHKpOTDBVnxN",
        "colab_type": "code",
        "outputId": "65f31968-e3bc-4cb8-bf7f-d583937f853b",
        "colab": {
          "base_uri": "https://localhost:8080/",
          "height": 90
        }
      },
      "cell_type": "code",
      "source": [
        "print(arrayXY)\n",
        "arrayXY.size"
      ],
      "execution_count": 0,
      "outputs": [
        {
          "output_type": "stream",
          "text": [
            "[  0   1   2   3   4   5   6   7   8   9  10  11  12  13  14  15  16  17\n",
            "  18  19  20  21  22  23  24  25  26  27  28  29  30  31  32  33  34  35\n",
            "  36  37  38  39  40  80 120 160  80 120 160  80 120 160 170]\n"
          ],
          "name": "stdout"
        },
        {
          "output_type": "execute_result",
          "data": {
            "text/plain": [
              "51"
            ]
          },
          "metadata": {
            "tags": []
          },
          "execution_count": 220
        }
      ]
    },
    {
      "metadata": {
        "id": "HczyWGvQVeAt",
        "colab_type": "code",
        "outputId": "13bedb86-d507-4b5e-d176-2fa508c1a643",
        "colab": {
          "base_uri": "https://localhost:8080/",
          "height": 35
        }
      },
      "cell_type": "code",
      "source": [
        "print(np.median(arrayXY))\n"
      ],
      "execution_count": 0,
      "outputs": [
        {
          "output_type": "stream",
          "text": [
            "25.0\n"
          ],
          "name": "stdout"
        }
      ]
    },
    {
      "metadata": {
        "id": "601Ip03xWN_A",
        "colab_type": "code",
        "outputId": "9e6b660f-b401-4c3f-97b2-f4fcf9c15aa6",
        "colab": {
          "base_uri": "https://localhost:8080/",
          "height": 35
        }
      },
      "cell_type": "code",
      "source": [
        "np.median(x1)"
      ],
      "execution_count": 0,
      "outputs": [
        {
          "output_type": "execute_result",
          "data": {
            "text/plain": [
              "2.0"
            ]
          },
          "metadata": {
            "tags": []
          },
          "execution_count": 221
        }
      ]
    },
    {
      "metadata": {
        "id": "Jwiwd-0TWVoS",
        "colab_type": "code",
        "outputId": "a271ecc6-77a1-493e-a31c-5fc0f16e6a6e",
        "colab": {
          "base_uri": "https://localhost:8080/",
          "height": 35
        }
      },
      "cell_type": "code",
      "source": [
        "np.median([1, 2, 3, 4, 5, 6])"
      ],
      "execution_count": 0,
      "outputs": [
        {
          "output_type": "execute_result",
          "data": {
            "text/plain": [
              "3.5"
            ]
          },
          "metadata": {
            "tags": []
          },
          "execution_count": 222
        }
      ]
    },
    {
      "metadata": {
        "id": "iP7siTE6Ttwp",
        "colab_type": "text"
      },
      "cell_type": "markdown",
      "source": [
        "####  Mode"
      ]
    },
    {
      "metadata": {
        "id": "HxQm68-GS0zd",
        "colab_type": "code",
        "outputId": "6661af31-74ab-474a-d5d5-fa343976f923",
        "colab": {
          "base_uri": "https://localhost:8080/",
          "height": 54
        }
      },
      "cell_type": "code",
      "source": [
        "# Returns the array with unique elements only and another array with how many times\n",
        "# the element appears in the list. \n",
        "\n",
        "# Used to find MODE\n",
        "np.unique([2, 2, 3, 1, 3, 4, 1, 10, 19, 10, 29, 1, 2, 3, 4, 4, 5, 1, 6, 8], return_counts=True)\n",
        "\n",
        "# 1 is found 4 time, 2, 3 and 4 are found 3 times. \n",
        "# 10 is found 2 times\n",
        "\n",
        "# the MODE is 1 since it appears the most times"
      ],
      "execution_count": 0,
      "outputs": [
        {
          "output_type": "execute_result",
          "data": {
            "text/plain": [
              "(array([ 1,  2,  3,  4,  5,  6,  8, 10, 19, 29]),\n",
              " array([4, 3, 3, 3, 1, 1, 1, 2, 1, 1]))"
            ]
          },
          "metadata": {
            "tags": []
          },
          "execution_count": 209
        }
      ]
    },
    {
      "metadata": {
        "id": "vRuFzGyarMSl",
        "colab_type": "text"
      },
      "cell_type": "markdown",
      "source": [
        "\n",
        "\n",
        "---\n",
        "\n"
      ]
    },
    {
      "metadata": {
        "id": "3mz2fVlpQhLs",
        "colab_type": "text"
      },
      "cell_type": "markdown",
      "source": [
        "### Variance/Standard Deviation"
      ]
    },
    {
      "metadata": {
        "id": "MdyQdFC2rtYF",
        "colab_type": "text"
      },
      "cell_type": "markdown",
      "source": [
        "$variance = {{((x_i - mean)^2 + {(x_{i+1} - mean)^2}......)}\\over Amount\\_of\\_Observations }$"
      ]
    },
    {
      "metadata": {
        "id": "CNVpJJMDkhK0",
        "colab_type": "text"
      },
      "cell_type": "markdown",
      "source": [
        "$np.var()$\n",
        "\n",
        "returns the variance"
      ]
    },
    {
      "metadata": {
        "id": "eJ-3gvMXWi6N",
        "colab_type": "code",
        "outputId": "7f180531-364f-42e5-9292-fe79e8dc7aaa",
        "colab": {
          "base_uri": "https://localhost:8080/",
          "height": 54
        }
      },
      "cell_type": "code",
      "source": [
        "print(np.var(arrayXY)) #the pretty way\n",
        "\n",
        "# The Ugly way\n",
        "adding = 0\n",
        "for x in np.nditer(arrayXY):\n",
        "  adding = np.power(x - np.mean(arrayXY), 2) + adding\n",
        "print(adding/arrayXY.size)"
      ],
      "execution_count": 0,
      "outputs": [
        {
          "output_type": "stream",
          "text": [
            "2082.791234140715\n",
            "2082.791234140715\n"
          ],
          "name": "stdout"
        }
      ]
    },
    {
      "metadata": {
        "id": "yN4drt0dp-gD",
        "colab_type": "text"
      },
      "cell_type": "markdown",
      "source": [
        "\n",
        "\n",
        "---\n",
        "\n"
      ]
    },
    {
      "metadata": {
        "id": "Yjbky23Tkqsv",
        "colab_type": "text"
      },
      "cell_type": "markdown",
      "source": [
        "$np.std()$\n",
        "\n",
        "returns the standard deviation"
      ]
    },
    {
      "metadata": {
        "id": "PpAcQmtAWuAX",
        "colab_type": "code",
        "outputId": "6eb94abd-5991-491b-b943-fbec9791fd44",
        "colab": {
          "base_uri": "https://localhost:8080/",
          "height": 54
        }
      },
      "cell_type": "code",
      "source": [
        "print(np.std(arrayXY))\n",
        "\n",
        "# Finding the standard deviation square-rooting the variance.\n",
        "# aka, the ugly way\n",
        "standard_deviation = np.power(np.var(arrayXY), .5)\n",
        "print(standard_deviation)"
      ],
      "execution_count": 0,
      "outputs": [
        {
          "output_type": "stream",
          "text": [
            "45.63760767328536\n",
            "45.63760767328536\n"
          ],
          "name": "stdout"
        }
      ]
    },
    {
      "metadata": {
        "id": "NNdrkggXrKuk",
        "colab_type": "text"
      },
      "cell_type": "markdown",
      "source": [
        "\n",
        "\n",
        "---\n",
        "\n"
      ]
    },
    {
      "metadata": {
        "id": "6RT8SVG0Xb8_",
        "colab_type": "text"
      },
      "cell_type": "markdown",
      "source": [
        "### Correlation coefficient"
      ]
    },
    {
      "metadata": {
        "id": "j8VVDb23d4zd",
        "colab_type": "text"
      },
      "cell_type": "markdown",
      "source": [
        "$Correlation = {{1\\over n} \\sum\\limits_{i=1}^{n} {(stnd\\_unit\\_height_i  -  mean\\_height) \\over stnd\\_dev\\_height} \\times {(stnd\\_unit\\_weight_i - mean\\_weight) \\over stnd\\_dev\\_weight}}$"
      ]
    },
    {
      "metadata": {
        "id": "HVxgNOjjXhjr",
        "colab_type": "code",
        "outputId": "ba99295d-6870-41e8-d739-4a356a121bfc",
        "colab": {
          "base_uri": "https://localhost:8080/",
          "height": 54
        }
      },
      "cell_type": "code",
      "source": [
        "height = np.array([72, 75, 63, 81, 62])\n",
        "weight = np.array([125, 140, 140, 189, 130])\n",
        "\n",
        "mean_height = np.mean(height)\n",
        "mean_weight = np.mean(weight)\n",
        "\n",
        "stnd_dev_height = np.std(height)\n",
        "stnd_dev_weight = np.std(weight)\n",
        "\n",
        "stnd_unit_height = np.array([(x - mean_height)/stnd_dev_height for x in height])\n",
        "stnd_unit_weight = np.array([(x - mean_weight)/stnd_dev_weight for x in weight])\n",
        "\n",
        "correlation_coeff = np.multiply(stnd_unit_height, stnd_unit_weight).sum() / stnd_unit_height.size\n",
        "print('\\nCorrelation Coefficient = ', correlation_coeff)"
      ],
      "execution_count": 0,
      "outputs": [
        {
          "output_type": "stream",
          "text": [
            "\n",
            "Correlation Coefficient =  0.6958125111028929\n"
          ],
          "name": "stdout"
        }
      ]
    },
    {
      "metadata": {
        "id": "sH6tByKWLYN3",
        "colab_type": "text"
      },
      "cell_type": "markdown",
      "source": [
        "# Pandas Series for 1D Data"
      ]
    },
    {
      "metadata": {
        "id": "X5FzbKpqqqJD",
        "colab_type": "text"
      },
      "cell_type": "markdown",
      "source": [
        "\n",
        "\n",
        "---\n",
        "\n",
        "\n",
        "\n",
        "---\n",
        "\n"
      ]
    },
    {
      "metadata": {
        "id": "o3VPh400LgRZ",
        "colab_type": "text"
      },
      "cell_type": "markdown",
      "source": [
        "## Initializing and Converting to Panda Series"
      ]
    },
    {
      "metadata": {
        "id": "lisw2s_vMR2B",
        "colab_type": "code",
        "colab": {}
      },
      "cell_type": "code",
      "source": [
        "import pandas as pd\n",
        "import numpy as np\n",
        "from typing import List, Dict, Tuple"
      ],
      "execution_count": 0,
      "outputs": []
    },
    {
      "metadata": {
        "id": "OWQmDFinqrv7",
        "colab_type": "text"
      },
      "cell_type": "markdown",
      "source": [
        "\n",
        "\n",
        "---\n",
        "\n"
      ]
    },
    {
      "metadata": {
        "id": "LcJzaaoMLjw0",
        "colab_type": "text"
      },
      "cell_type": "markdown",
      "source": [
        "### Create Series without index (list)"
      ]
    },
    {
      "metadata": {
        "id": "Nb15fvkKlB1J",
        "colab_type": "text"
      },
      "cell_type": "markdown",
      "source": [
        "$pd.Series()$"
      ]
    },
    {
      "metadata": {
        "id": "Ybxqfzv3ahJO",
        "colab_type": "text"
      },
      "cell_type": "markdown",
      "source": [
        "Series are a list / dictionary hybrid"
      ]
    },
    {
      "metadata": {
        "id": "D-6wLsoNMDfZ",
        "colab_type": "code",
        "outputId": "43a6fa92-f9a5-49fe-dc4f-d094b5af7613",
        "colab": {
          "base_uri": "https://localhost:8080/",
          "height": 127
        }
      },
      "cell_type": "code",
      "source": [
        "s1 = pd.Series([1, 2, 3, 4, 5])\n",
        "print(s1)"
      ],
      "execution_count": 0,
      "outputs": [
        {
          "output_type": "stream",
          "text": [
            "0    1\n",
            "1    2\n",
            "2    3\n",
            "3    4\n",
            "4    5\n",
            "dtype: int64\n"
          ],
          "name": "stdout"
        }
      ]
    },
    {
      "metadata": {
        "id": "DOH09tGMM22C",
        "colab_type": "code",
        "outputId": "a1dc693f-f100-4c3b-b6a0-e3730aea6446",
        "colab": {
          "base_uri": "https://localhost:8080/",
          "height": 146
        }
      },
      "cell_type": "code",
      "source": [
        "numbers_list: List[int] = [10, 20, 30, 40, 50]\n",
        "print(numbers_list)\n",
        "\n",
        "s2 = pd.Series(numbers_list)\n",
        "print(s2)"
      ],
      "execution_count": 0,
      "outputs": [
        {
          "output_type": "stream",
          "text": [
            "[10, 20, 30, 40, 50]\n",
            "0    10\n",
            "1    20\n",
            "2    30\n",
            "3    40\n",
            "4    50\n",
            "dtype: int64\n"
          ],
          "name": "stdout"
        }
      ]
    },
    {
      "metadata": {
        "id": "ajGp9WeMqs4K",
        "colab_type": "text"
      },
      "cell_type": "markdown",
      "source": [
        "\n",
        "\n",
        "---\n",
        "\n"
      ]
    },
    {
      "metadata": {
        "id": "31ai3mXtLonj",
        "colab_type": "text"
      },
      "cell_type": "markdown",
      "source": [
        "### Create Series with Index (dictionary)"
      ]
    },
    {
      "metadata": {
        "id": "B0ZQU-YgN_XO",
        "colab_type": "code",
        "outputId": "e7730c77-c66d-4fae-eb5c-943a3e150f30",
        "colab": {
          "base_uri": "https://localhost:8080/",
          "height": 127
        }
      },
      "cell_type": "code",
      "source": [
        "sd1 = pd.Series({'a': 1, 'b': 2, 'c': 3, 'd': 4, 'e': 5})\n",
        "print(sd1)\n",
        "# They keys become the indices"
      ],
      "execution_count": 0,
      "outputs": [
        {
          "output_type": "stream",
          "text": [
            "a    1\n",
            "b    2\n",
            "c    3\n",
            "d    4\n",
            "e    5\n",
            "dtype: int64\n"
          ],
          "name": "stdout"
        }
      ]
    },
    {
      "metadata": {
        "id": "uWBzH7prqtqL",
        "colab_type": "text"
      },
      "cell_type": "markdown",
      "source": [
        "\n",
        "\n",
        "---\n",
        "\n"
      ]
    },
    {
      "metadata": {
        "id": "QtZ1n0cwLr6Z",
        "colab_type": "text"
      },
      "cell_type": "markdown",
      "source": [
        "### Convert NumPy Array to Series"
      ]
    },
    {
      "metadata": {
        "id": "Wi7a67iuOUsU",
        "colab_type": "code",
        "outputId": "e28e4f99-2d8b-4c0f-a8a6-edadf8f5b7c4",
        "colab": {
          "base_uri": "https://localhost:8080/",
          "height": 35
        }
      },
      "cell_type": "code",
      "source": [
        "# Converting Python list into NumPy Array\n",
        "array_numbers = np.array(numbers_list)\n",
        "print(array_numbers)"
      ],
      "execution_count": 0,
      "outputs": [
        {
          "output_type": "stream",
          "text": [
            "[10 20 30 40 50]\n"
          ],
          "name": "stdout"
        }
      ]
    },
    {
      "metadata": {
        "id": "gOzG4IiuOk1g",
        "colab_type": "code",
        "outputId": "4cdd86a3-d437-4f1c-98df-c0c65c439f94",
        "colab": {
          "base_uri": "https://localhost:8080/",
          "height": 127
        }
      },
      "cell_type": "code",
      "source": [
        "# Converting NumPy Array to Pandas Series\n",
        "series_numbers = pd.Series(array_numbers)\n",
        "print(series_numbers)"
      ],
      "execution_count": 0,
      "outputs": [
        {
          "output_type": "stream",
          "text": [
            "0    10\n",
            "1    20\n",
            "2    30\n",
            "3    40\n",
            "4    50\n",
            "dtype: int64\n"
          ],
          "name": "stdout"
        }
      ]
    },
    {
      "metadata": {
        "id": "0dUg-r91qu0D",
        "colab_type": "text"
      },
      "cell_type": "markdown",
      "source": [
        "\n",
        "\n",
        "---\n",
        "\n"
      ]
    },
    {
      "metadata": {
        "id": "VE_qnLmTPIrA",
        "colab_type": "text"
      },
      "cell_type": "markdown",
      "source": [
        "#### Creating series for later use"
      ]
    },
    {
      "metadata": {
        "id": "RI_Wesb-PM5I",
        "colab_type": "code",
        "colab": {}
      },
      "cell_type": "code",
      "source": [
        "# Python Lists\n",
        "list1: List[float] = [1.5, 2.5, 3.5, 4.5, 5.5, 6.5]\n",
        "list2: List[int] = [10, 15, 20, 25]\n",
        "# Dictionary\n",
        "dict1: Dict[str, int] = {'a': 0, 'b': 1, 'c': 2, 'd': 3, 'e': 4}\n",
        "dict2: Dict[int, int] = {1:1, 2:2, 3:3, 4:4, 5:5, 6:6, 7:7}\n",
        "  \n",
        "# NumPy Arrays\n",
        "array1 = np.arange(1, 51)\n",
        "array2 = np.arange(100, 201, 2)\n",
        "array3 = np.array(list1)\n",
        "array4 = np.append(array1[24:], array2)\n",
        "\n",
        "# Converting to Pandas Series\n",
        "series1 = pd.Series(list1)\n",
        "series2 = pd.Series(list2)\n",
        "series3 = pd.Series(array1)\n",
        "series4 = pd.Series(array2)\n",
        "series5 = pd.Series(array3)\n",
        "series6 = pd.Series(array4)\n",
        "series7 = pd.Series(dict1)\n",
        "series8 = pd.Series(dict2)"
      ],
      "execution_count": 0,
      "outputs": []
    },
    {
      "metadata": {
        "id": "f72MOjiFSWyR",
        "colab_type": "code",
        "colab": {}
      },
      "cell_type": "code",
      "source": [
        "def print_all(series, array, list, dict):\n",
        "  return print(\"series:\\n{0}\\n\\narray:\\n{1}\\n\\nlist:\\n{2}\\n\\ndict:\\n{3}\".format(series, array, list, dict))"
      ],
      "execution_count": 0,
      "outputs": []
    },
    {
      "metadata": {
        "id": "Xabt5xZDUGK8",
        "colab_type": "code",
        "outputId": "7c2a4242-b78b-491c-d45d-65ff0daf9765",
        "colab": {
          "base_uri": "https://localhost:8080/",
          "height": 366
        }
      },
      "cell_type": "code",
      "source": [
        "print_all(series1, array2, list1, dict2)"
      ],
      "execution_count": 0,
      "outputs": [
        {
          "output_type": "stream",
          "text": [
            "series:\n",
            "0    1.5\n",
            "1    2.5\n",
            "2    3.5\n",
            "3    4.5\n",
            "4    5.5\n",
            "5    6.5\n",
            "dtype: float64\n",
            "\n",
            "array:\n",
            "[100 102 104 106 108 110 112 114 116 118 120 122 124 126 128 130 132 134\n",
            " 136 138 140 142 144 146 148 150 152 154 156 158 160 162 164 166 168 170\n",
            " 172 174 176 178 180 182 184 186 188 190 192 194 196 198 200]\n",
            "\n",
            "list:\n",
            "[1.5, 2.5, 3.5, 4.5, 5.5, 6.5]\n",
            "\n",
            "dict:\n",
            "{1: 1, 2: 2, 3: 3, 4: 4, 5: 5, 6: 6, 7: 7}\n"
          ],
          "name": "stdout"
        }
      ]
    },
    {
      "metadata": {
        "id": "uj8bulVSqw47",
        "colab_type": "text"
      },
      "cell_type": "markdown",
      "source": [
        "\n",
        "\n",
        "---\n",
        "\n"
      ]
    },
    {
      "metadata": {
        "id": "AL5zoW_ALxgx",
        "colab_type": "text"
      },
      "cell_type": "markdown",
      "source": [
        "## Accessing and Selection"
      ]
    },
    {
      "metadata": {
        "id": "cZdE-jufangA",
        "colab_type": "code",
        "outputId": "fd19ca9e-39a6-4bac-fab7-9d66650ed157",
        "colab": {
          "base_uri": "https://localhost:8080/",
          "height": 127
        }
      },
      "cell_type": "code",
      "source": [
        "# Providing column number\n",
        "print(series2[1])\n",
        "print(series2)"
      ],
      "execution_count": 0,
      "outputs": [
        {
          "output_type": "stream",
          "text": [
            "15\n",
            "0    10\n",
            "1    15\n",
            "2    20\n",
            "3    25\n",
            "dtype: int64\n"
          ],
          "name": "stdout"
        }
      ]
    },
    {
      "metadata": {
        "id": "es3QcYsLqyCK",
        "colab_type": "text"
      },
      "cell_type": "markdown",
      "source": [
        "\n",
        "\n",
        "---\n",
        "\n"
      ]
    },
    {
      "metadata": {
        "id": "i1EddACIbIzr",
        "colab_type": "text"
      },
      "cell_type": "markdown",
      "source": [
        "### Selection by Label"
      ]
    },
    {
      "metadata": {
        "id": "stkdCvP8lO23",
        "colab_type": "text"
      },
      "cell_type": "markdown",
      "source": [
        "$.loc()$"
      ]
    },
    {
      "metadata": {
        "id": "a-I0xtlebQHm",
        "colab_type": "code",
        "outputId": "2dd9c996-ff77-486a-e51b-aa848b714d3d",
        "colab": {
          "base_uri": "https://localhost:8080/",
          "height": 164
        }
      },
      "cell_type": "code",
      "source": [
        "print(series7.loc['d']) # Row 'd' returns 3\n",
        "print(series7.loc['a'])\n",
        "\n",
        "print(series7)"
      ],
      "execution_count": 0,
      "outputs": [
        {
          "output_type": "stream",
          "text": [
            "3\n",
            "0\n",
            "a    0\n",
            "b    1\n",
            "c    2\n",
            "d    3\n",
            "e    4\n",
            "dtype: int64\n"
          ],
          "name": "stdout"
        }
      ]
    },
    {
      "metadata": {
        "id": "2renuXeSp08D",
        "colab_type": "text"
      },
      "cell_type": "markdown",
      "source": [
        "\n",
        "\n",
        "---\n",
        "\n"
      ]
    },
    {
      "metadata": {
        "id": "rOtVF2knbycv",
        "colab_type": "text"
      },
      "cell_type": "markdown",
      "source": [
        "###Selection by Position"
      ]
    },
    {
      "metadata": {
        "id": "2VsbQvWalXO5",
        "colab_type": "text"
      },
      "cell_type": "markdown",
      "source": [
        "$.iloc()$\n",
        "\n",
        "uses index parameter"
      ]
    },
    {
      "metadata": {
        "id": "1hBpZ-xRb8XO",
        "colab_type": "code",
        "outputId": "67c775b1-763a-4520-a63b-79911bc726fd",
        "colab": {
          "base_uri": "https://localhost:8080/",
          "height": 72
        }
      },
      "cell_type": "code",
      "source": [
        "print(series7.iloc[3]) # index-loc. the index is the row, returns column\n",
        "print(series7.iloc[0])\n",
        "print(series7.loc['a']) # Row 'a' has index of 0"
      ],
      "execution_count": 0,
      "outputs": [
        {
          "output_type": "stream",
          "text": [
            "3\n",
            "0\n",
            "0\n"
          ],
          "name": "stdout"
        }
      ]
    },
    {
      "metadata": {
        "id": "BAJr6aC0pzeL",
        "colab_type": "text"
      },
      "cell_type": "markdown",
      "source": [
        "\n",
        "\n",
        "---\n",
        "\n"
      ]
    },
    {
      "metadata": {
        "id": "hZnWBe-ocqI3",
        "colab_type": "text"
      },
      "cell_type": "markdown",
      "source": [
        "### Selection by Slicing"
      ]
    },
    {
      "metadata": {
        "id": "feHy_wYUcuNk",
        "colab_type": "code",
        "outputId": "fcfd9a04-86b5-4ff0-cf12-cd8075de9bb6",
        "colab": {
          "base_uri": "https://localhost:8080/",
          "height": 109
        }
      },
      "cell_type": "code",
      "source": [
        "series7[0:4] # Same as python list and NumPy Arrays"
      ],
      "execution_count": 0,
      "outputs": [
        {
          "output_type": "execute_result",
          "data": {
            "text/plain": [
              "a    0\n",
              "b    1\n",
              "c    2\n",
              "d    3\n",
              "dtype: int64"
            ]
          },
          "metadata": {
            "tags": []
          },
          "execution_count": 66
        }
      ]
    },
    {
      "metadata": {
        "id": "xwgRKfG0rC9S",
        "colab_type": "text"
      },
      "cell_type": "markdown",
      "source": [
        "\n",
        "\n",
        "---\n",
        "\n"
      ]
    },
    {
      "metadata": {
        "id": "oS5aVWZRdBVJ",
        "colab_type": "text"
      },
      "cell_type": "markdown",
      "source": [
        "### Iterations"
      ]
    },
    {
      "metadata": {
        "id": "h16C4IT3dD0O",
        "colab_type": "code",
        "outputId": "e8736bc7-598d-407e-acd9-afecc32ffd07",
        "colab": {
          "base_uri": "https://localhost:8080/",
          "height": 109
        }
      },
      "cell_type": "code",
      "source": [
        "for item in series7:\n",
        "  print(series7.iloc[item]) "
      ],
      "execution_count": 0,
      "outputs": [
        {
          "output_type": "stream",
          "text": [
            "0\n",
            "1\n",
            "2\n",
            "3\n",
            "4\n"
          ],
          "name": "stdout"
        }
      ]
    },
    {
      "metadata": {
        "id": "UhTA3259pyJX",
        "colab_type": "text"
      },
      "cell_type": "markdown",
      "source": [
        "\n",
        "\n",
        "---\n",
        "\n"
      ]
    },
    {
      "metadata": {
        "id": "gWSSobW6dhKy",
        "colab_type": "text"
      },
      "cell_type": "markdown",
      "source": [
        "### Access by Condition (AND OR NOT)"
      ]
    },
    {
      "metadata": {
        "id": "em1tCkAZe0TM",
        "colab_type": "text"
      },
      "cell_type": "markdown",
      "source": [
        "$AND$"
      ]
    },
    {
      "metadata": {
        "id": "tVulfe0Jed_N",
        "colab_type": "code",
        "outputId": "c3a0ffc6-a07a-4293-f315-3acd8c77de25",
        "colab": {
          "base_uri": "https://localhost:8080/",
          "height": 311
        }
      },
      "cell_type": "code",
      "source": [
        "print(series4[(series4 >= 130) & (series4 < 160)])"
      ],
      "execution_count": 0,
      "outputs": [
        {
          "output_type": "stream",
          "text": [
            "15    130\n",
            "16    132\n",
            "17    134\n",
            "18    136\n",
            "19    138\n",
            "20    140\n",
            "21    142\n",
            "22    144\n",
            "23    146\n",
            "24    148\n",
            "25    150\n",
            "26    152\n",
            "27    154\n",
            "28    156\n",
            "29    158\n",
            "dtype: int64\n"
          ],
          "name": "stdout"
        }
      ]
    },
    {
      "metadata": {
        "id": "UFzRGYwypwfi",
        "colab_type": "text"
      },
      "cell_type": "markdown",
      "source": [
        "\n",
        "\n",
        "---\n",
        "\n"
      ]
    },
    {
      "metadata": {
        "id": "sfQ5Bn4Ze66N",
        "colab_type": "text"
      },
      "cell_type": "markdown",
      "source": [
        "$OR$"
      ]
    },
    {
      "metadata": {
        "id": "jX_yCTjCe80T",
        "colab_type": "code",
        "outputId": "ce691b01-7ccf-4359-cbcc-adb560dc9885",
        "colab": {
          "base_uri": "https://localhost:8080/",
          "height": 348
        }
      },
      "cell_type": "code",
      "source": [
        "print(series4[(series4 <= 120) | (series4 >= 190)])"
      ],
      "execution_count": 0,
      "outputs": [
        {
          "output_type": "stream",
          "text": [
            "0     100\n",
            "1     102\n",
            "2     104\n",
            "3     106\n",
            "4     108\n",
            "5     110\n",
            "6     112\n",
            "7     114\n",
            "8     116\n",
            "9     118\n",
            "10    120\n",
            "45    190\n",
            "46    192\n",
            "47    194\n",
            "48    196\n",
            "49    198\n",
            "50    200\n",
            "dtype: int64\n"
          ],
          "name": "stdout"
        }
      ]
    },
    {
      "metadata": {
        "id": "zwKDCY4Dpvjv",
        "colab_type": "text"
      },
      "cell_type": "markdown",
      "source": [
        "\n",
        "\n",
        "---\n",
        "\n"
      ]
    },
    {
      "metadata": {
        "id": "CCBlZa3lf6ez",
        "colab_type": "text"
      },
      "cell_type": "markdown",
      "source": [
        "$NOT$"
      ]
    },
    {
      "metadata": {
        "id": "rsvm6nKzgC9y",
        "colab_type": "code",
        "outputId": "7b4a01b2-7921-4971-a4d1-d6643348bf99",
        "colab": {
          "base_uri": "https://localhost:8080/",
          "height": 237
        }
      },
      "cell_type": "code",
      "source": [
        "print(series4[~(series4 > 121)]) # returns all values less than 121"
      ],
      "execution_count": 0,
      "outputs": [
        {
          "output_type": "stream",
          "text": [
            "0     100\n",
            "1     102\n",
            "2     104\n",
            "3     106\n",
            "4     108\n",
            "5     110\n",
            "6     112\n",
            "7     114\n",
            "8     116\n",
            "9     118\n",
            "10    120\n",
            "dtype: int64\n"
          ],
          "name": "stdout"
        }
      ]
    },
    {
      "metadata": {
        "id": "AV2Um-0HeRa9",
        "colab_type": "code",
        "outputId": "f43fde40-0ded-4ff5-de97-0793c1a7625b",
        "colab": {
          "base_uri": "https://localhost:8080/",
          "height": 421
        }
      },
      "cell_type": "code",
      "source": [
        "print(series4[series4 <= 140])"
      ],
      "execution_count": 0,
      "outputs": [
        {
          "output_type": "stream",
          "text": [
            "0     100\n",
            "1     102\n",
            "2     104\n",
            "3     106\n",
            "4     108\n",
            "5     110\n",
            "6     112\n",
            "7     114\n",
            "8     116\n",
            "9     118\n",
            "10    120\n",
            "11    122\n",
            "12    124\n",
            "13    126\n",
            "14    128\n",
            "15    130\n",
            "16    132\n",
            "17    134\n",
            "18    136\n",
            "19    138\n",
            "20    140\n",
            "dtype: int64\n"
          ],
          "name": "stdout"
        }
      ]
    },
    {
      "metadata": {
        "id": "4YEta5N8dn8-",
        "colab_type": "code",
        "outputId": "647fa090-b37e-4594-9321-3d4d9a0ed6a6",
        "colab": {
          "base_uri": "https://localhost:8080/",
          "height": 90
        }
      },
      "cell_type": "code",
      "source": [
        "print(series4[series4 == 100])\n",
        "print(series4[series4 == 130])\n"
      ],
      "execution_count": 0,
      "outputs": [
        {
          "output_type": "stream",
          "text": [
            "0    100\n",
            "dtype: int64\n",
            "15    130\n",
            "dtype: int64\n"
          ],
          "name": "stdout"
        }
      ]
    },
    {
      "metadata": {
        "id": "niTS6jYXptg7",
        "colab_type": "text"
      },
      "cell_type": "markdown",
      "source": [
        "\n",
        "\n",
        "---\n",
        "\n"
      ]
    },
    {
      "metadata": {
        "id": "Q8GeppNIdkJP",
        "colab_type": "text"
      },
      "cell_type": "markdown",
      "source": [
        "#### Limits/Sorting"
      ]
    },
    {
      "metadata": {
        "id": "cFx33h5Eg1EC",
        "colab_type": "text"
      },
      "cell_type": "markdown",
      "source": [
        "$.head()$\n",
        "\n",
        "returns values in the beginning"
      ]
    },
    {
      "metadata": {
        "id": "IDs2qreTd3Hr",
        "colab_type": "code",
        "outputId": "1924f179-feb8-49c0-f486-df131df4ddc6",
        "colab": {
          "base_uri": "https://localhost:8080/",
          "height": 127
        }
      },
      "cell_type": "code",
      "source": [
        "print(series4.head()) # Default of head() returns first 5 values"
      ],
      "execution_count": 0,
      "outputs": [
        {
          "output_type": "stream",
          "text": [
            "0    100\n",
            "1    102\n",
            "2    104\n",
            "3    106\n",
            "4    108\n",
            "dtype: int64\n"
          ],
          "name": "stdout"
        }
      ]
    },
    {
      "metadata": {
        "id": "46-L-LK6gzya",
        "colab_type": "code",
        "outputId": "bd65713a-6aea-44be-87d0-42319df54b15",
        "colab": {
          "base_uri": "https://localhost:8080/",
          "height": 90
        }
      },
      "cell_type": "code",
      "source": [
        "print(series5.head(3))"
      ],
      "execution_count": 0,
      "outputs": [
        {
          "output_type": "stream",
          "text": [
            "0    1.5\n",
            "1    2.5\n",
            "2    3.5\n",
            "dtype: float64\n"
          ],
          "name": "stdout"
        }
      ]
    },
    {
      "metadata": {
        "id": "rt2sNnAZprEj",
        "colab_type": "text"
      },
      "cell_type": "markdown",
      "source": [
        "\n",
        "\n",
        "---\n",
        "\n"
      ]
    },
    {
      "metadata": {
        "id": "JTdt7ma-hGGh",
        "colab_type": "text"
      },
      "cell_type": "markdown",
      "source": [
        "$.tail()$\n",
        "\n",
        "returns values at the end"
      ]
    },
    {
      "metadata": {
        "id": "lOYlkzkMhIUK",
        "colab_type": "code",
        "outputId": "02ef935e-ed9b-43ef-bc43-7d142b1f9536",
        "colab": {
          "base_uri": "https://localhost:8080/",
          "height": 127
        }
      },
      "cell_type": "code",
      "source": [
        "print(series6.tail())"
      ],
      "execution_count": 0,
      "outputs": [
        {
          "output_type": "stream",
          "text": [
            "72    192\n",
            "73    194\n",
            "74    196\n",
            "75    198\n",
            "76    200\n",
            "dtype: int64\n"
          ],
          "name": "stdout"
        }
      ]
    },
    {
      "metadata": {
        "id": "I6u2lPeolnHo",
        "colab_type": "code",
        "outputId": "7889bbdd-ad2d-4f73-9b62-95802654d191",
        "colab": {
          "base_uri": "https://localhost:8080/",
          "height": 72
        }
      },
      "cell_type": "code",
      "source": [
        "print(series6.tail(2))"
      ],
      "execution_count": 0,
      "outputs": [
        {
          "output_type": "stream",
          "text": [
            "75    198\n",
            "76    200\n",
            "dtype: int64\n"
          ],
          "name": "stdout"
        }
      ]
    },
    {
      "metadata": {
        "id": "CCGyQAOLph0k",
        "colab_type": "text"
      },
      "cell_type": "markdown",
      "source": [
        "---"
      ]
    },
    {
      "metadata": {
        "id": "C3asRfSRmTcv",
        "colab_type": "text"
      },
      "cell_type": "markdown",
      "source": [
        "$.sort\\_values()$\n",
        "\n",
        "not permanent. Only returns different view"
      ]
    },
    {
      "metadata": {
        "id": "w65X3e5Rmbve",
        "colab_type": "code",
        "colab": {}
      },
      "cell_type": "code",
      "source": [
        "series9 = pd.Series([2, 4, 5, 1, 4, 1, 8, 9, 3, 6, 3,4 , 8, 4, 4, 4, 4, 4, 4, 3, 2])"
      ],
      "execution_count": 0,
      "outputs": []
    },
    {
      "metadata": {
        "id": "xBwGhJ3umvvG",
        "colab_type": "code",
        "outputId": "deb82f68-9de2-44e8-b707-2da93b68ef65",
        "colab": {
          "base_uri": "https://localhost:8080/",
          "height": 421
        }
      },
      "cell_type": "code",
      "source": [
        "series9.sort_values()"
      ],
      "execution_count": 0,
      "outputs": [
        {
          "output_type": "execute_result",
          "data": {
            "text/plain": [
              "5     1\n",
              "3     1\n",
              "0     2\n",
              "20    2\n",
              "10    3\n",
              "8     3\n",
              "19    3\n",
              "18    4\n",
              "17    4\n",
              "16    4\n",
              "15    4\n",
              "14    4\n",
              "13    4\n",
              "4     4\n",
              "11    4\n",
              "1     4\n",
              "2     5\n",
              "9     6\n",
              "6     8\n",
              "12    8\n",
              "7     9\n",
              "dtype: int64"
            ]
          },
          "metadata": {
            "tags": []
          },
          "execution_count": 105
        }
      ]
    },
    {
      "metadata": {
        "id": "aoCdkFGlnAJc",
        "colab_type": "code",
        "outputId": "54c1db3d-c8a8-4594-9731-9acbad363fb2",
        "colab": {
          "base_uri": "https://localhost:8080/",
          "height": 35
        }
      },
      "cell_type": "code",
      "source": [
        "series9.sort_values().unique()"
      ],
      "execution_count": 0,
      "outputs": [
        {
          "output_type": "execute_result",
          "data": {
            "text/plain": [
              "array([1, 2, 3, 4, 5, 6, 8, 9])"
            ]
          },
          "metadata": {
            "tags": []
          },
          "execution_count": 106
        }
      ]
    },
    {
      "metadata": {
        "id": "KQyieVV3m44H",
        "colab_type": "code",
        "outputId": "be14f824-6559-4903-e830-774fef2f9437",
        "colab": {
          "base_uri": "https://localhost:8080/",
          "height": 35
        }
      },
      "cell_type": "code",
      "source": [
        "np.unique(series9, return_counts=True)"
      ],
      "execution_count": 0,
      "outputs": [
        {
          "output_type": "execute_result",
          "data": {
            "text/plain": [
              "(array([1, 2, 3, 4, 5, 6, 8, 9]), array([2, 2, 3, 9, 1, 1, 2, 1]))"
            ]
          },
          "metadata": {
            "tags": []
          },
          "execution_count": 107
        }
      ]
    },
    {
      "metadata": {
        "id": "zFg6LWgOpd6c",
        "colab_type": "text"
      },
      "cell_type": "markdown",
      "source": [
        "---"
      ]
    },
    {
      "metadata": {
        "id": "xM6-0uPFL0a-",
        "colab_type": "text"
      },
      "cell_type": "markdown",
      "source": [
        "## Modifying Panda Series"
      ]
    },
    {
      "metadata": {
        "id": "sKQVeaNzn6JQ",
        "colab_type": "text"
      },
      "cell_type": "markdown",
      "source": [
        "###Append"
      ]
    },
    {
      "metadata": {
        "id": "KJgVvMfzoKEO",
        "colab_type": "text"
      },
      "cell_type": "markdown",
      "source": [
        "$array\\_1.append(array\\_2)$"
      ]
    },
    {
      "metadata": {
        "id": "3jqu4pJ-rxgi",
        "colab_type": "code",
        "outputId": "b51db0de-865c-4ce4-e37b-a1284584bae8",
        "colab": {
          "base_uri": "https://localhost:8080/",
          "height": 219
        }
      },
      "cell_type": "code",
      "source": [
        "print(series1.append(series2))"
      ],
      "execution_count": 0,
      "outputs": [
        {
          "output_type": "stream",
          "text": [
            "0     1.5\n",
            "1     2.5\n",
            "2     3.5\n",
            "3     4.5\n",
            "4     5.5\n",
            "5     6.5\n",
            "0    10.0\n",
            "1    15.0\n",
            "2    20.0\n",
            "3    25.0\n",
            "dtype: float64\n"
          ],
          "name": "stdout"
        }
      ]
    },
    {
      "metadata": {
        "id": "xkb71aGorr2Z",
        "colab_type": "code",
        "outputId": "f4fe4a7b-8c0a-43c5-e31f-95cf1ff92cad",
        "colab": {
          "base_uri": "https://localhost:8080/",
          "height": 109
        }
      },
      "cell_type": "code",
      "source": [
        "print(series2)"
      ],
      "execution_count": 0,
      "outputs": [
        {
          "output_type": "stream",
          "text": [
            "0    10\n",
            "1    15\n",
            "2    20\n",
            "3    25\n",
            "dtype: int64\n"
          ],
          "name": "stdout"
        }
      ]
    },
    {
      "metadata": {
        "id": "Vll32C7pr83a",
        "colab_type": "text"
      },
      "cell_type": "markdown",
      "source": [
        "\n",
        "\n",
        "---\n",
        "\n"
      ]
    },
    {
      "metadata": {
        "id": "BKZpnHKOr92C",
        "colab_type": "text"
      },
      "cell_type": "markdown",
      "source": [
        "$pd.concat([series1, series2])$"
      ]
    },
    {
      "metadata": {
        "id": "8KqEa9fYsEKj",
        "colab_type": "code",
        "outputId": "ea10dd43-6d9e-4c0d-8b99-5d68c286ed44",
        "colab": {
          "base_uri": "https://localhost:8080/",
          "height": 219
        }
      },
      "cell_type": "code",
      "source": [
        "print(pd.concat([series1, series2]))"
      ],
      "execution_count": 0,
      "outputs": [
        {
          "output_type": "stream",
          "text": [
            "0     1.5\n",
            "1     2.5\n",
            "2     3.5\n",
            "3     4.5\n",
            "4     5.5\n",
            "5     6.5\n",
            "0    10.0\n",
            "1    15.0\n",
            "2    20.0\n",
            "3    25.0\n",
            "dtype: float64\n"
          ],
          "name": "stdout"
        }
      ]
    },
    {
      "metadata": {
        "id": "QYpSjAy9sSUr",
        "colab_type": "text"
      },
      "cell_type": "markdown",
      "source": [
        "\n",
        "\n",
        "---\n",
        "\n"
      ]
    },
    {
      "metadata": {
        "id": "gcCtfsRVn8Am",
        "colab_type": "text"
      },
      "cell_type": "markdown",
      "source": [
        "###Deleting from Series"
      ]
    },
    {
      "metadata": {
        "id": "_ys1E95VsUH1",
        "colab_type": "text"
      },
      "cell_type": "markdown",
      "source": [
        "$.drop([ ])$"
      ]
    },
    {
      "metadata": {
        "id": "jimAhmJisTbU",
        "colab_type": "code",
        "outputId": "511da017-601c-4485-dafc-11032c21444a",
        "colab": {
          "base_uri": "https://localhost:8080/",
          "height": 109
        }
      },
      "cell_type": "code",
      "source": [
        "print(series2)"
      ],
      "execution_count": 0,
      "outputs": [
        {
          "output_type": "stream",
          "text": [
            "0    10\n",
            "1    15\n",
            "2    20\n",
            "3    25\n",
            "dtype: int64\n"
          ],
          "name": "stdout"
        }
      ]
    },
    {
      "metadata": {
        "id": "YvesOGXfslIB",
        "colab_type": "code",
        "outputId": "8b5b7f91-ca21-4ab6-bb17-f4826238ae63",
        "colab": {
          "base_uri": "https://localhost:8080/",
          "height": 90
        }
      },
      "cell_type": "code",
      "source": [
        "print(series2.drop([1]))"
      ],
      "execution_count": 0,
      "outputs": [
        {
          "output_type": "stream",
          "text": [
            "0    10\n",
            "2    20\n",
            "3    25\n",
            "dtype: int64\n"
          ],
          "name": "stdout"
        }
      ]
    },
    {
      "metadata": {
        "id": "pRrui8q6swcE",
        "colab_type": "code",
        "outputId": "9da3a6ff-4e19-41ee-c87b-53a98c15ecc9",
        "colab": {
          "base_uri": "https://localhost:8080/",
          "height": 90
        }
      },
      "cell_type": "code",
      "source": [
        "print(series2.drop(1))"
      ],
      "execution_count": 0,
      "outputs": [
        {
          "output_type": "stream",
          "text": [
            "0    10\n",
            "2    20\n",
            "3    25\n",
            "dtype: int64\n"
          ],
          "name": "stdout"
        }
      ]
    },
    {
      "metadata": {
        "id": "t6cOi-Eus0vP",
        "colab_type": "text"
      },
      "cell_type": "markdown",
      "source": [
        "\n",
        "\n",
        "---\n",
        "\n"
      ]
    },
    {
      "metadata": {
        "id": "Zci10QmQn-Fd",
        "colab_type": "text"
      },
      "cell_type": "markdown",
      "source": [
        "###Updating to Series"
      ]
    },
    {
      "metadata": {
        "id": "y7wsBRWgtiXp",
        "colab_type": "text"
      },
      "cell_type": "markdown",
      "source": [
        "$series1.update(series2)$\n",
        "\n",
        "matches indexes and updates on tha location"
      ]
    },
    {
      "metadata": {
        "id": "agLT2i-Ws9AI",
        "colab_type": "text"
      },
      "cell_type": "markdown",
      "source": [
        "**Careful when changes are explicit**"
      ]
    },
    {
      "metadata": {
        "id": "O8QcEZovs4Zz",
        "colab_type": "code",
        "colab": {}
      },
      "cell_type": "code",
      "source": [
        "s1 = pd.Series([12, 11, 10, 7, 6])\n",
        "s2 = pd.Series([9, 8, 7, 6, 5, 4, 3], [3, 4, 5, 6, 7, 8, 9])"
      ],
      "execution_count": 0,
      "outputs": []
    },
    {
      "metadata": {
        "id": "Clxj997etutY",
        "colab_type": "code",
        "outputId": "647f409c-61e3-405d-f2c4-1204bdcdd565",
        "colab": {
          "base_uri": "https://localhost:8080/",
          "height": 127
        }
      },
      "cell_type": "code",
      "source": [
        "s1.update(s2)\n",
        "print(s1)"
      ],
      "execution_count": 0,
      "outputs": [
        {
          "output_type": "stream",
          "text": [
            "0    12\n",
            "1    11\n",
            "2    10\n",
            "3     9\n",
            "4     8\n",
            "dtype: int64\n"
          ],
          "name": "stdout"
        }
      ]
    },
    {
      "metadata": {
        "id": "vj2v8IbDuFfY",
        "colab_type": "text"
      },
      "cell_type": "markdown",
      "source": [
        "Values 7, 6, 5, 4, and 4 where not updated because $series1$ did not have any **index > 4**"
      ]
    },
    {
      "metadata": {
        "id": "UP5sCzrmuiaa",
        "colab_type": "text"
      },
      "cell_type": "markdown",
      "source": [
        "\n",
        "\n",
        "---\n",
        "\n"
      ]
    },
    {
      "metadata": {
        "id": "EwLQt82kL2k7",
        "colab_type": "text"
      },
      "cell_type": "markdown",
      "source": [
        "## Panda Series Math Operations"
      ]
    },
    {
      "metadata": {
        "id": "C_9MbUeUu5_c",
        "colab_type": "text"
      },
      "cell_type": "markdown",
      "source": [
        "similair to how NumPy does it"
      ]
    },
    {
      "metadata": {
        "id": "pL_hmGPfupFs",
        "colab_type": "text"
      },
      "cell_type": "markdown",
      "source": [
        "### Scalar and Vector Addition"
      ]
    },
    {
      "metadata": {
        "id": "kJDFr2CJvGpY",
        "colab_type": "code",
        "outputId": "04b5369c-011d-4813-a001-db420599955f",
        "colab": {
          "base_uri": "https://localhost:8080/",
          "height": 146
        }
      },
      "cell_type": "code",
      "source": [
        "series_added = series1 + series2\n",
        "print(series_added)"
      ],
      "execution_count": 0,
      "outputs": [
        {
          "output_type": "stream",
          "text": [
            "0    11.5\n",
            "1    17.5\n",
            "2    23.5\n",
            "3    29.5\n",
            "4     NaN\n",
            "5     NaN\n",
            "dtype: float64\n"
          ],
          "name": "stdout"
        }
      ]
    },
    {
      "metadata": {
        "id": "fJO5_H3fvbZg",
        "colab_type": "text"
      },
      "cell_type": "markdown",
      "source": [
        "**Unlike Arrays, series may be added even whey they have different shapes**"
      ]
    },
    {
      "metadata": {
        "id": "-O3-zDZdvVj_",
        "colab_type": "code",
        "outputId": "5aa19e5b-8c6a-4efc-9c27-05005609c24c",
        "colab": {
          "base_uri": "https://localhost:8080/",
          "height": 191
        }
      },
      "cell_type": "code",
      "source": [
        "array_added = array1 + array2\n",
        "print(array_added)"
      ],
      "execution_count": 0,
      "outputs": [
        {
          "output_type": "error",
          "ename": "ValueError",
          "evalue": "ignored",
          "traceback": [
            "\u001b[0;31m---------------------------------------------------------------------------\u001b[0m",
            "\u001b[0;31mValueError\u001b[0m                                Traceback (most recent call last)",
            "\u001b[0;32m<ipython-input-123-f1222fadf76f>\u001b[0m in \u001b[0;36m<module>\u001b[0;34m()\u001b[0m\n\u001b[0;32m----> 1\u001b[0;31m \u001b[0marray_added\u001b[0m \u001b[0;34m=\u001b[0m \u001b[0marray1\u001b[0m \u001b[0;34m+\u001b[0m \u001b[0marray2\u001b[0m\u001b[0;34m\u001b[0m\u001b[0;34m\u001b[0m\u001b[0m\n\u001b[0m\u001b[1;32m      2\u001b[0m \u001b[0mprint\u001b[0m\u001b[0;34m(\u001b[0m\u001b[0marray_added\u001b[0m\u001b[0;34m)\u001b[0m\u001b[0;34m\u001b[0m\u001b[0;34m\u001b[0m\u001b[0m\n",
            "\u001b[0;31mValueError\u001b[0m: operands could not be broadcast together with shapes (50,) (51,) "
          ]
        }
      ]
    },
    {
      "metadata": {
        "id": "98P7ynSCvpCH",
        "colab_type": "text"
      },
      "cell_type": "markdown",
      "source": [
        "\n",
        "\n",
        "---\n",
        "\n"
      ]
    },
    {
      "metadata": {
        "id": "r48Nxtnguj3X",
        "colab_type": "text"
      },
      "cell_type": "markdown",
      "source": [
        "### Scalar and Vector Subtraction"
      ]
    },
    {
      "metadata": {
        "id": "IqAojlVFvry3",
        "colab_type": "code",
        "outputId": "3d5e6139-f56f-49a3-a5a6-548ae76632a2",
        "colab": {
          "base_uri": "https://localhost:8080/",
          "height": 146
        }
      },
      "cell_type": "code",
      "source": [
        "print(series1 - series2)"
      ],
      "execution_count": 0,
      "outputs": [
        {
          "output_type": "stream",
          "text": [
            "0    -8.5\n",
            "1   -12.5\n",
            "2   -16.5\n",
            "3   -20.5\n",
            "4     NaN\n",
            "5     NaN\n",
            "dtype: float64\n"
          ],
          "name": "stdout"
        }
      ]
    },
    {
      "metadata": {
        "id": "84qzsjoPv0DQ",
        "colab_type": "text"
      },
      "cell_type": "markdown",
      "source": [
        "\n",
        "\n",
        "---\n",
        "\n"
      ]
    },
    {
      "metadata": {
        "id": "jQs5t2GyuvCW",
        "colab_type": "text"
      },
      "cell_type": "markdown",
      "source": [
        "### Scalar and Vector Multiplication"
      ]
    },
    {
      "metadata": {
        "id": "rt0R318GwHf8",
        "colab_type": "code",
        "outputId": "0bddce15-d8a8-4156-ebf4-a279b1dd2653",
        "colab": {
          "base_uri": "https://localhost:8080/",
          "height": 146
        }
      },
      "cell_type": "code",
      "source": [
        "series_mult = series1 * series2\n",
        "print(series_mult)"
      ],
      "execution_count": 0,
      "outputs": [
        {
          "output_type": "stream",
          "text": [
            "0     15.0\n",
            "1     37.5\n",
            "2     70.0\n",
            "3    112.5\n",
            "4      NaN\n",
            "5      NaN\n",
            "dtype: float64\n"
          ],
          "name": "stdout"
        }
      ]
    },
    {
      "metadata": {
        "id": "If4yiqtRwLK-",
        "colab_type": "text"
      },
      "cell_type": "markdown",
      "source": [
        "\n",
        "\n",
        "---\n",
        "\n"
      ]
    },
    {
      "metadata": {
        "id": "CJfc6BhuuyPX",
        "colab_type": "text"
      },
      "cell_type": "markdown",
      "source": [
        "### Scalar and Vector Division"
      ]
    },
    {
      "metadata": {
        "id": "43PnQkg6wS7n",
        "colab_type": "code",
        "outputId": "67ddcf4f-c221-465d-db9b-df4045a5e622",
        "colab": {
          "base_uri": "https://localhost:8080/",
          "height": 329
        }
      },
      "cell_type": "code",
      "source": [
        "series_div = series4/series3\n",
        "print(series_div.head(10))\n",
        "print(series_div.tail())\n"
      ],
      "execution_count": 0,
      "outputs": [
        {
          "output_type": "stream",
          "text": [
            "0    100.000000\n",
            "1     51.000000\n",
            "2     34.666667\n",
            "3     26.500000\n",
            "4     21.600000\n",
            "5     18.333333\n",
            "6     16.000000\n",
            "7     14.250000\n",
            "8     12.888889\n",
            "9     11.800000\n",
            "dtype: float64\n",
            "46    4.085106\n",
            "47    4.041667\n",
            "48    4.000000\n",
            "49    3.960000\n",
            "50         NaN\n",
            "dtype: float64\n"
          ],
          "name": "stdout"
        }
      ]
    },
    {
      "metadata": {
        "id": "qNYJu7c7w9LT",
        "colab_type": "code",
        "outputId": "05dcb50e-6f58-4dfe-e72c-58ee21a4112c",
        "colab": {
          "base_uri": "https://localhost:8080/",
          "height": 35
        }
      },
      "cell_type": "code",
      "source": [
        "print(series4.shape, series3.shape)"
      ],
      "execution_count": 0,
      "outputs": [
        {
          "output_type": "stream",
          "text": [
            "(51,) (50,)\n"
          ],
          "name": "stdout"
        }
      ]
    },
    {
      "metadata": {
        "id": "X3Op_ktfxE8a",
        "colab_type": "text"
      },
      "cell_type": "markdown",
      "source": [
        "\n",
        "\n",
        "---\n",
        "\n"
      ]
    },
    {
      "metadata": {
        "id": "zIbFNnleu2Pq",
        "colab_type": "text"
      },
      "cell_type": "markdown",
      "source": [
        "### Exponentials/Roots"
      ]
    },
    {
      "metadata": {
        "id": "f1RBkfvyxJmn",
        "colab_type": "code",
        "outputId": "c1588596-bb65-458c-9339-b85fdc7aa252",
        "colab": {
          "base_uri": "https://localhost:8080/",
          "height": 164
        }
      },
      "cell_type": "code",
      "source": [
        "print(series8**(1/2))"
      ],
      "execution_count": 0,
      "outputs": [
        {
          "output_type": "stream",
          "text": [
            "1    1.000000\n",
            "2    1.414214\n",
            "3    1.732051\n",
            "4    2.000000\n",
            "5    2.236068\n",
            "6    2.449490\n",
            "7    2.645751\n",
            "dtype: float64\n"
          ],
          "name": "stdout"
        }
      ]
    },
    {
      "metadata": {
        "id": "_8YWgziixczu",
        "colab_type": "text"
      },
      "cell_type": "markdown",
      "source": [
        "\n",
        "\n",
        "---\n",
        "\n"
      ]
    },
    {
      "metadata": {
        "id": "Z_rcP4TLL8EC",
        "colab_type": "text"
      },
      "cell_type": "markdown",
      "source": [
        "## Panda Series Statistics Operations"
      ]
    },
    {
      "metadata": {
        "id": "v9bKmZw7xejJ",
        "colab_type": "text"
      },
      "cell_type": "markdown",
      "source": [
        "Similair to NumPy statistic operations"
      ]
    },
    {
      "metadata": {
        "id": "WRp_e4cPxw_P",
        "colab_type": "text"
      },
      "cell_type": "markdown",
      "source": [
        "###Min/Max/Range"
      ]
    },
    {
      "metadata": {
        "id": "oLpfQ4HYxj-W",
        "colab_type": "code",
        "outputId": "659c8119-a09e-4a72-d7dc-812490320d02",
        "colab": {
          "base_uri": "https://localhost:8080/",
          "height": 35
        }
      },
      "cell_type": "code",
      "source": [
        "s1_min = series7.min()\n",
        "print(s1_min)"
      ],
      "execution_count": 0,
      "outputs": [
        {
          "output_type": "stream",
          "text": [
            "0\n"
          ],
          "name": "stdout"
        }
      ]
    },
    {
      "metadata": {
        "id": "9J2vb2RNxqcI",
        "colab_type": "code",
        "outputId": "d60dfe43-5ea4-4305-a151-729fd205b126",
        "colab": {
          "base_uri": "https://localhost:8080/",
          "height": 35
        }
      },
      "cell_type": "code",
      "source": [
        "print(series7.max())"
      ],
      "execution_count": 0,
      "outputs": [
        {
          "output_type": "stream",
          "text": [
            "4\n"
          ],
          "name": "stdout"
        }
      ]
    },
    {
      "metadata": {
        "id": "X0T0D4E-xthx",
        "colab_type": "code",
        "outputId": "f667d7c5-e9b7-4e43-9ec1-00326bc68ba9",
        "colab": {
          "base_uri": "https://localhost:8080/",
          "height": 127
        }
      },
      "cell_type": "code",
      "source": [
        "print(series7)"
      ],
      "execution_count": 0,
      "outputs": [
        {
          "output_type": "stream",
          "text": [
            "a    0\n",
            "b    1\n",
            "c    2\n",
            "d    3\n",
            "e    4\n",
            "dtype: int64\n"
          ],
          "name": "stdout"
        }
      ]
    },
    {
      "metadata": {
        "id": "yWzXHzvPyH1Y",
        "colab_type": "code",
        "outputId": "184ea3b5-9fab-44b3-aa05-999c9ce5d088",
        "colab": {
          "base_uri": "https://localhost:8080/",
          "height": 35
        }
      },
      "cell_type": "code",
      "source": [
        "s1_range = series1.max() - series1.min()\n",
        "print(s1_range)"
      ],
      "execution_count": 0,
      "outputs": [
        {
          "output_type": "stream",
          "text": [
            "5.0\n"
          ],
          "name": "stdout"
        }
      ]
    },
    {
      "metadata": {
        "id": "VuX1k4xwxzg0",
        "colab_type": "text"
      },
      "cell_type": "markdown",
      "source": [
        "\n",
        "\n",
        "---\n",
        "\n"
      ]
    },
    {
      "metadata": {
        "id": "bbABQA7-x0a5",
        "colab_type": "text"
      },
      "cell_type": "markdown",
      "source": [
        "###Sum/Total"
      ]
    },
    {
      "metadata": {
        "id": "oGVQYguEyR4A",
        "colab_type": "code",
        "outputId": "bd8e779c-20fa-46ab-97d6-586616cb2894",
        "colab": {
          "base_uri": "https://localhost:8080/",
          "height": 35
        }
      },
      "cell_type": "code",
      "source": [
        "series2.sum()"
      ],
      "execution_count": 0,
      "outputs": [
        {
          "output_type": "execute_result",
          "data": {
            "text/plain": [
              "70"
            ]
          },
          "metadata": {
            "tags": []
          },
          "execution_count": 150
        }
      ]
    },
    {
      "metadata": {
        "id": "ITlETXZvyWZK",
        "colab_type": "text"
      },
      "cell_type": "markdown",
      "source": [
        "\n",
        "\n",
        "---\n",
        "\n"
      ]
    },
    {
      "metadata": {
        "id": "UG0DlxLGx2QF",
        "colab_type": "text"
      },
      "cell_type": "markdown",
      "source": [
        "###Count/Frequency"
      ]
    },
    {
      "metadata": {
        "id": "tkBEHao4ygw-",
        "colab_type": "text"
      },
      "cell_type": "markdown",
      "source": [
        "$series.value\\_counts()$"
      ]
    },
    {
      "metadata": {
        "id": "2Ip7xgbcywrq",
        "colab_type": "code",
        "outputId": "0c3992cb-3dec-462f-ddb2-ee78770ea461",
        "colab": {
          "base_uri": "https://localhost:8080/",
          "height": 109
        }
      },
      "cell_type": "code",
      "source": [
        "print(series2)"
      ],
      "execution_count": 0,
      "outputs": [
        {
          "output_type": "stream",
          "text": [
            "0    10\n",
            "1    15\n",
            "2    20\n",
            "3    25\n",
            "dtype: int64\n"
          ],
          "name": "stdout"
        }
      ]
    },
    {
      "metadata": {
        "id": "2BBbvD9pyX2l",
        "colab_type": "code",
        "outputId": "fa23a5ed-6aa6-47fa-e1d1-207639035327",
        "colab": {
          "base_uri": "https://localhost:8080/",
          "height": 109
        }
      },
      "cell_type": "code",
      "source": [
        "series2.value_counts()"
      ],
      "execution_count": 0,
      "outputs": [
        {
          "output_type": "execute_result",
          "data": {
            "text/plain": [
              "15    1\n",
              "20    1\n",
              "10    1\n",
              "25    1\n",
              "dtype: int64"
            ]
          },
          "metadata": {
            "tags": []
          },
          "execution_count": 151
        }
      ]
    },
    {
      "metadata": {
        "id": "W3OET14Iy17_",
        "colab_type": "code",
        "colab": {}
      },
      "cell_type": "code",
      "source": [
        "scount = pd.Series([1, 1, 1, 2, 2, 3, 3, 3, 3, 4, 4, 4, 8])"
      ],
      "execution_count": 0,
      "outputs": []
    },
    {
      "metadata": {
        "id": "K0vRSUz6y9Ck",
        "colab_type": "code",
        "outputId": "c12988a4-220b-4447-c81a-9bd634995500",
        "colab": {
          "base_uri": "https://localhost:8080/",
          "height": 127
        }
      },
      "cell_type": "code",
      "source": [
        "scount.value_counts()"
      ],
      "execution_count": 0,
      "outputs": [
        {
          "output_type": "execute_result",
          "data": {
            "text/plain": [
              "3    4\n",
              "4    3\n",
              "1    3\n",
              "2    2\n",
              "8    1\n",
              "dtype: int64"
            ]
          },
          "metadata": {
            "tags": []
          },
          "execution_count": 154
        }
      ]
    },
    {
      "metadata": {
        "id": "kyim-taozBem",
        "colab_type": "text"
      },
      "cell_type": "markdown",
      "source": [
        "\n",
        "\n",
        "---\n",
        "\n"
      ]
    },
    {
      "metadata": {
        "id": "0dij75eTx4bd",
        "colab_type": "text"
      },
      "cell_type": "markdown",
      "source": [
        "###Mean/Median"
      ]
    },
    {
      "metadata": {
        "id": "MR60eIS2zHuE",
        "colab_type": "code",
        "outputId": "d091cbc7-09ec-4d2a-ced8-6bf795c6177b",
        "colab": {
          "base_uri": "https://localhost:8080/",
          "height": 35
        }
      },
      "cell_type": "code",
      "source": [
        "scount.mean()"
      ],
      "execution_count": 0,
      "outputs": [
        {
          "output_type": "execute_result",
          "data": {
            "text/plain": [
              "3.0"
            ]
          },
          "metadata": {
            "tags": []
          },
          "execution_count": 155
        }
      ]
    },
    {
      "metadata": {
        "id": "iRVGVk8dzKmk",
        "colab_type": "code",
        "outputId": "bbdfe688-eb37-4971-afb4-1cfc065c795c",
        "colab": {
          "base_uri": "https://localhost:8080/",
          "height": 35
        }
      },
      "cell_type": "code",
      "source": [
        "scount.median()"
      ],
      "execution_count": 0,
      "outputs": [
        {
          "output_type": "execute_result",
          "data": {
            "text/plain": [
              "3.0"
            ]
          },
          "metadata": {
            "tags": []
          },
          "execution_count": 156
        }
      ]
    },
    {
      "metadata": {
        "id": "9z5wyiEczOm5",
        "colab_type": "text"
      },
      "cell_type": "markdown",
      "source": [
        "\n",
        "\n",
        "---\n",
        "\n"
      ]
    },
    {
      "metadata": {
        "id": "h-XI2ugmx78Z",
        "colab_type": "text"
      },
      "cell_type": "markdown",
      "source": [
        "###Variance/Standard Deviation"
      ]
    },
    {
      "metadata": {
        "id": "hbNp6eF_zP_f",
        "colab_type": "code",
        "outputId": "ae376be0-0ccc-4fa3-9f0c-311d8a358cc0",
        "colab": {
          "base_uri": "https://localhost:8080/",
          "height": 35
        }
      },
      "cell_type": "code",
      "source": [
        "scount.var()"
      ],
      "execution_count": 0,
      "outputs": [
        {
          "output_type": "execute_result",
          "data": {
            "text/plain": [
              "3.5"
            ]
          },
          "metadata": {
            "tags": []
          },
          "execution_count": 157
        }
      ]
    },
    {
      "metadata": {
        "id": "zzpX8It2zS-N",
        "colab_type": "code",
        "outputId": "e4c420f6-b542-4fc3-8dd9-cf7f2688aa46",
        "colab": {
          "base_uri": "https://localhost:8080/",
          "height": 35
        }
      },
      "cell_type": "code",
      "source": [
        "scount.std()"
      ],
      "execution_count": 0,
      "outputs": [
        {
          "output_type": "execute_result",
          "data": {
            "text/plain": [
              "1.8708286933869707"
            ]
          },
          "metadata": {
            "tags": []
          },
          "execution_count": 158
        }
      ]
    },
    {
      "metadata": {
        "id": "x4doc0d6zVtt",
        "colab_type": "text"
      },
      "cell_type": "markdown",
      "source": [
        "\n",
        "\n",
        "---\n",
        "\n"
      ]
    },
    {
      "metadata": {
        "id": "DT2moGDtx-z9",
        "colab_type": "text"
      },
      "cell_type": "markdown",
      "source": [
        "###Quantile"
      ]
    },
    {
      "metadata": {
        "id": "DwnWDFqJzZSu",
        "colab_type": "text"
      },
      "cell_type": "markdown",
      "source": [
        "$series.quantile()$\n",
        "\n",
        "returns percentile"
      ]
    },
    {
      "metadata": {
        "id": "LKZZG0uVzW3c",
        "colab_type": "code",
        "colab": {}
      },
      "cell_type": "code",
      "source": [
        "series = pd.Series([1, 25, 50, 75, 100])"
      ],
      "execution_count": 0,
      "outputs": []
    },
    {
      "metadata": {
        "id": "JVYf3BTTzuoM",
        "colab_type": "code",
        "outputId": "a55be3f3-5ebf-43a2-dbc9-be04fc70d33f",
        "colab": {
          "base_uri": "https://localhost:8080/",
          "height": 54
        }
      },
      "cell_type": "code",
      "source": [
        "series.quantile([.5])"
      ],
      "execution_count": 0,
      "outputs": [
        {
          "output_type": "execute_result",
          "data": {
            "text/plain": [
              "0.5    50.0\n",
              "dtype: float64"
            ]
          },
          "metadata": {
            "tags": []
          },
          "execution_count": 162
        }
      ]
    },
    {
      "metadata": {
        "id": "c0wkAZoFz40V",
        "colab_type": "code",
        "outputId": "be6a7d6d-8597-4786-f90a-2eb4109ef78e",
        "colab": {
          "base_uri": "https://localhost:8080/",
          "height": 201
        }
      },
      "cell_type": "code",
      "source": [
        "series = pd.concat([series, series2])\n",
        "print(series)"
      ],
      "execution_count": 0,
      "outputs": [
        {
          "output_type": "stream",
          "text": [
            "0      1\n",
            "1     25\n",
            "2     50\n",
            "3     75\n",
            "4    100\n",
            "0     10\n",
            "1     15\n",
            "2     20\n",
            "3     25\n",
            "dtype: int64\n"
          ],
          "name": "stdout"
        }
      ]
    },
    {
      "metadata": {
        "id": "bb3r9x-Q0tb8",
        "colab_type": "code",
        "outputId": "8940db74-8d16-4ae8-ea9c-c0de397de4d3",
        "colab": {
          "base_uri": "https://localhost:8080/",
          "height": 54
        }
      },
      "cell_type": "code",
      "source": [
        "series.quantile([.9])"
      ],
      "execution_count": 0,
      "outputs": [
        {
          "output_type": "execute_result",
          "data": {
            "text/plain": [
              "0.9    80.0\n",
              "dtype: float64"
            ]
          },
          "metadata": {
            "tags": []
          },
          "execution_count": 171
        }
      ]
    },
    {
      "metadata": {
        "id": "pjDCuF-104M-",
        "colab_type": "code",
        "outputId": "90c7c885-8c3b-45d8-d198-5193fabe7623",
        "colab": {
          "base_uri": "https://localhost:8080/",
          "height": 127
        }
      },
      "cell_type": "code",
      "source": [
        "series.quantile([.1, .2, .3, .4, .5])"
      ],
      "execution_count": 0,
      "outputs": [
        {
          "output_type": "execute_result",
          "data": {
            "text/plain": [
              "0.1     8.2\n",
              "0.2    13.0\n",
              "0.3    17.0\n",
              "0.4    21.0\n",
              "0.5    25.0\n",
              "dtype: float64"
            ]
          },
          "metadata": {
            "tags": []
          },
          "execution_count": 172
        }
      ]
    },
    {
      "metadata": {
        "id": "A3rI5you0_Jj",
        "colab_type": "text"
      },
      "cell_type": "markdown",
      "source": [
        "\n",
        "\n",
        "---\n",
        "\n"
      ]
    },
    {
      "metadata": {
        "id": "NeJH0cePyAYg",
        "colab_type": "text"
      },
      "cell_type": "markdown",
      "source": [
        "###Cumulative Sum"
      ]
    },
    {
      "metadata": {
        "id": "EA2eKpwu1EDT",
        "colab_type": "text"
      },
      "cell_type": "markdown",
      "source": [
        "$series.cumsum()$\n",
        "\n",
        "adds values cumulatively"
      ]
    },
    {
      "metadata": {
        "id": "osio2BTS1DSs",
        "colab_type": "code",
        "colab": {}
      },
      "cell_type": "code",
      "source": [
        "series = pd.Series([1, 2, 3, 4, 5, 6])"
      ],
      "execution_count": 0,
      "outputs": []
    },
    {
      "metadata": {
        "id": "XDUFi9481mk3",
        "colab_type": "code",
        "outputId": "533e2d60-b61c-405e-a1c7-a6e13578b934",
        "colab": {
          "base_uri": "https://localhost:8080/",
          "height": 146
        }
      },
      "cell_type": "code",
      "source": [
        "series.cumsum()"
      ],
      "execution_count": 0,
      "outputs": [
        {
          "output_type": "execute_result",
          "data": {
            "text/plain": [
              "0     1\n",
              "1     3\n",
              "2     6\n",
              "3    10\n",
              "4    15\n",
              "5    21\n",
              "dtype: int64"
            ]
          },
          "metadata": {
            "tags": []
          },
          "execution_count": 174
        }
      ]
    },
    {
      "metadata": {
        "id": "mydpxiUE10w0",
        "colab_type": "text"
      },
      "cell_type": "markdown",
      "source": [
        "\n",
        "\n",
        "---\n",
        "\n"
      ]
    },
    {
      "metadata": {
        "id": "vyj13x1ayDgc",
        "colab_type": "text"
      },
      "cell_type": "markdown",
      "source": [
        "###Apply and Lambda"
      ]
    },
    {
      "metadata": {
        "id": "TBWOeSoL13YV",
        "colab_type": "text"
      },
      "cell_type": "markdown",
      "source": [
        "$series.apply()$\n",
        "\n",
        "Allows pandas to apply an outside function to the values in the series"
      ]
    },
    {
      "metadata": {
        "id": "0dejmZvy12Ey",
        "colab_type": "code",
        "outputId": "5778aa22-0691-4c5e-965f-fa757ba556fc",
        "colab": {
          "base_uri": "https://localhost:8080/",
          "height": 146
        }
      },
      "cell_type": "code",
      "source": [
        "series.apply(np.sqrt)"
      ],
      "execution_count": 0,
      "outputs": [
        {
          "output_type": "execute_result",
          "data": {
            "text/plain": [
              "0    1.000000\n",
              "1    1.414214\n",
              "2    1.732051\n",
              "3    2.000000\n",
              "4    2.236068\n",
              "5    2.449490\n",
              "dtype: float64"
            ]
          },
          "metadata": {
            "tags": []
          },
          "execution_count": 175
        }
      ]
    },
    {
      "metadata": {
        "id": "oJ_Ir9VB2LtX",
        "colab_type": "code",
        "outputId": "c1152442-acb6-4a4d-b981-f218f8952317",
        "colab": {
          "base_uri": "https://localhost:8080/",
          "height": 301
        }
      },
      "cell_type": "code",
      "source": [
        "# Pandas alone does not have a square root function\n",
        "series.sqrt()"
      ],
      "execution_count": 0,
      "outputs": [
        {
          "output_type": "error",
          "ename": "AttributeError",
          "evalue": "ignored",
          "traceback": [
            "\u001b[0;31m---------------------------------------------------------------------------\u001b[0m",
            "\u001b[0;31mAttributeError\u001b[0m                            Traceback (most recent call last)",
            "\u001b[0;32m<ipython-input-176-4b629414434f>\u001b[0m in \u001b[0;36m<module>\u001b[0;34m()\u001b[0m\n\u001b[0;32m----> 1\u001b[0;31m \u001b[0mseries\u001b[0m\u001b[0;34m.\u001b[0m\u001b[0msqrt\u001b[0m\u001b[0;34m(\u001b[0m\u001b[0;34m)\u001b[0m\u001b[0;34m\u001b[0m\u001b[0;34m\u001b[0m\u001b[0m\n\u001b[0m",
            "\u001b[0;32m/usr/local/lib/python3.6/dist-packages/pandas/core/generic.py\u001b[0m in \u001b[0;36m__getattr__\u001b[0;34m(self, name)\u001b[0m\n\u001b[1;32m   3612\u001b[0m             \u001b[0;32mif\u001b[0m \u001b[0mname\u001b[0m \u001b[0;32min\u001b[0m \u001b[0mself\u001b[0m\u001b[0;34m.\u001b[0m\u001b[0m_info_axis\u001b[0m\u001b[0;34m:\u001b[0m\u001b[0;34m\u001b[0m\u001b[0;34m\u001b[0m\u001b[0m\n\u001b[1;32m   3613\u001b[0m                 \u001b[0;32mreturn\u001b[0m \u001b[0mself\u001b[0m\u001b[0;34m[\u001b[0m\u001b[0mname\u001b[0m\u001b[0;34m]\u001b[0m\u001b[0;34m\u001b[0m\u001b[0;34m\u001b[0m\u001b[0m\n\u001b[0;32m-> 3614\u001b[0;31m             \u001b[0;32mreturn\u001b[0m \u001b[0mobject\u001b[0m\u001b[0;34m.\u001b[0m\u001b[0m__getattribute__\u001b[0m\u001b[0;34m(\u001b[0m\u001b[0mself\u001b[0m\u001b[0;34m,\u001b[0m \u001b[0mname\u001b[0m\u001b[0;34m)\u001b[0m\u001b[0;34m\u001b[0m\u001b[0;34m\u001b[0m\u001b[0m\n\u001b[0m\u001b[1;32m   3615\u001b[0m \u001b[0;34m\u001b[0m\u001b[0m\n\u001b[1;32m   3616\u001b[0m     \u001b[0;32mdef\u001b[0m \u001b[0m__setattr__\u001b[0m\u001b[0;34m(\u001b[0m\u001b[0mself\u001b[0m\u001b[0;34m,\u001b[0m \u001b[0mname\u001b[0m\u001b[0;34m,\u001b[0m \u001b[0mvalue\u001b[0m\u001b[0;34m)\u001b[0m\u001b[0;34m:\u001b[0m\u001b[0;34m\u001b[0m\u001b[0;34m\u001b[0m\u001b[0m\n",
            "\u001b[0;31mAttributeError\u001b[0m: 'Series' object has no attribute 'sqrt'"
          ]
        }
      ]
    },
    {
      "metadata": {
        "id": "yuW3mmBa2VVj",
        "colab_type": "text"
      },
      "cell_type": "markdown",
      "source": [
        "\n",
        "\n",
        "---\n",
        "\n"
      ]
    },
    {
      "metadata": {
        "id": "V3fQAB-v2azD",
        "colab_type": "code",
        "outputId": "91c72d47-b19b-47bb-a87a-3b62fbe53ebd",
        "colab": {
          "base_uri": "https://localhost:8080/",
          "height": 127
        }
      },
      "cell_type": "code",
      "source": [
        "s1"
      ],
      "execution_count": 0,
      "outputs": [
        {
          "output_type": "execute_result",
          "data": {
            "text/plain": [
              "0    12\n",
              "1    11\n",
              "2    10\n",
              "3     9\n",
              "4     8\n",
              "dtype: int64"
            ]
          },
          "metadata": {
            "tags": []
          },
          "execution_count": 177
        }
      ]
    },
    {
      "metadata": {
        "id": "fBWCWES42clR",
        "colab_type": "code",
        "outputId": "6b474e93-0a21-472c-af84-bad8f49be576",
        "colab": {
          "base_uri": "https://localhost:8080/",
          "height": 127
        }
      },
      "cell_type": "code",
      "source": [
        "s1.apply(lambda x: False if x <= 10 else True)"
      ],
      "execution_count": 0,
      "outputs": [
        {
          "output_type": "execute_result",
          "data": {
            "text/plain": [
              "0     True\n",
              "1     True\n",
              "2    False\n",
              "3    False\n",
              "4    False\n",
              "dtype: bool"
            ]
          },
          "metadata": {
            "tags": []
          },
          "execution_count": 179
        }
      ]
    },
    {
      "metadata": {
        "id": "Xs9gjh2625ir",
        "colab_type": "text"
      },
      "cell_type": "markdown",
      "source": [
        "\n",
        "\n",
        "---\n",
        "\n"
      ]
    },
    {
      "metadata": {
        "id": "jxeU-GYMx5gZ",
        "colab_type": "text"
      },
      "cell_type": "markdown",
      "source": [
        "# NumPy Matrices for 2D Data"
      ]
    },
    {
      "metadata": {
        "id": "kytjWkxkyb9v",
        "colab_type": "code",
        "colab": {}
      },
      "cell_type": "code",
      "source": [
        "import numpy as np"
      ],
      "execution_count": 0,
      "outputs": []
    },
    {
      "metadata": {
        "id": "hghgQr3hyAeg",
        "colab_type": "text"
      },
      "cell_type": "markdown",
      "source": [
        "## Initializing and Converting to Numpy matrix"
      ]
    },
    {
      "metadata": {
        "id": "iJStdmdLyDU5",
        "colab_type": "text"
      },
      "cell_type": "markdown",
      "source": [
        "### Numpy Matrix by String"
      ]
    },
    {
      "metadata": {
        "id": "GJuYot6cyZ-Y",
        "colab_type": "code",
        "outputId": "0e8c99ca-c9c4-40a9-cf52-52d74b6f1d93",
        "colab": {
          "base_uri": "https://localhost:8080/",
          "height": 54
        }
      },
      "cell_type": "code",
      "source": [
        "a = np.matrix('1 2 3; 4 5 6')\n",
        "print(a)"
      ],
      "execution_count": 0,
      "outputs": [
        {
          "output_type": "stream",
          "text": [
            "[[1 2 3]\n",
            " [4 5 6]]\n"
          ],
          "name": "stdout"
        }
      ]
    },
    {
      "metadata": {
        "id": "XPEx4uAryxiL",
        "colab_type": "code",
        "outputId": "7da8daf3-1f80-4d65-b316-dd9e9e13ec35",
        "colab": {
          "base_uri": "https://localhost:8080/",
          "height": 72
        }
      },
      "cell_type": "code",
      "source": [
        "b = np.matrix('10 20 30 40; 20 40 60 80; 40 80 120 160')\n",
        "print(b)"
      ],
      "execution_count": 0,
      "outputs": [
        {
          "output_type": "stream",
          "text": [
            "[[ 10  20  30  40]\n",
            " [ 20  40  60  80]\n",
            " [ 40  80 120 160]]\n"
          ],
          "name": "stdout"
        }
      ]
    },
    {
      "metadata": {
        "id": "u1U2Wtuc7OJP",
        "colab_type": "text"
      },
      "cell_type": "markdown",
      "source": [
        "\n",
        "\n",
        "---\n",
        "\n"
      ]
    },
    {
      "metadata": {
        "id": "cfZYGyDeyGC2",
        "colab_type": "text"
      },
      "cell_type": "markdown",
      "source": [
        "### Numpy Matrix by Double List"
      ]
    },
    {
      "metadata": {
        "id": "mRK2A2ECzLH5",
        "colab_type": "code",
        "outputId": "d6942b19-4ee3-4baa-e9ae-a05545f6d7a4",
        "colab": {
          "base_uri": "https://localhost:8080/",
          "height": 54
        }
      },
      "cell_type": "code",
      "source": [
        "c = np.matrix([[1,2,3,4],[5,6,7,8]])\n",
        "print(c)"
      ],
      "execution_count": 0,
      "outputs": [
        {
          "output_type": "stream",
          "text": [
            "[[1 2 3 4]\n",
            " [5 6 7 8]]\n"
          ],
          "name": "stdout"
        }
      ]
    },
    {
      "metadata": {
        "id": "DLTDeRWS7QY2",
        "colab_type": "text"
      },
      "cell_type": "markdown",
      "source": [
        "\n",
        "\n",
        "---\n",
        "\n"
      ]
    },
    {
      "metadata": {
        "id": "G3rBmBx9zfUn",
        "colab_type": "text"
      },
      "cell_type": "markdown",
      "source": [
        "### Numpy Array to Matrix"
      ]
    },
    {
      "metadata": {
        "id": "yY77A7UqziMO",
        "colab_type": "code",
        "outputId": "c54e1144-a65d-48f7-e344-321b2899f728",
        "colab": {
          "base_uri": "https://localhost:8080/",
          "height": 54
        }
      },
      "cell_type": "code",
      "source": [
        "a1 = np.array([1, 2, 3, 4, 5, 6, 7])\n",
        "a2 = np.array([8, 9, 2, 3, 4, 5, 6])\n",
        "m = np.matrix([a1, a2])\n",
        "print(m)"
      ],
      "execution_count": 0,
      "outputs": [
        {
          "output_type": "stream",
          "text": [
            "[[1 2 3 4 5 6 7]\n",
            " [8 9 2 3 4 5 6]]\n"
          ],
          "name": "stdout"
        }
      ]
    },
    {
      "metadata": {
        "id": "VwkeS0qCz2bH",
        "colab_type": "code",
        "outputId": "ddcc8efb-070c-45ae-bb0c-7ed982b7c367",
        "colab": {
          "base_uri": "https://localhost:8080/",
          "height": 90
        }
      },
      "cell_type": "code",
      "source": [
        "a1 = np.array([1, 2, 3])\n",
        "a2 = np.array([4, 5])\n",
        "m2 = np.matrix([a1, a2])\n",
        "print(m2) # Do not do"
      ],
      "execution_count": 0,
      "outputs": [
        {
          "output_type": "stream",
          "text": [
            "[[array([[1],\n",
            "       [2],\n",
            "       [3]]) array([[4],\n",
            "       [5]])]]\n"
          ],
          "name": "stdout"
        }
      ]
    },
    {
      "metadata": {
        "id": "HaXqWyj57S9d",
        "colab_type": "text"
      },
      "cell_type": "markdown",
      "source": [
        "\n",
        "\n",
        "---\n",
        "\n"
      ]
    },
    {
      "metadata": {
        "id": "DFD2oCa1yMHJ",
        "colab_type": "text"
      },
      "cell_type": "markdown",
      "source": [
        "##Accessing and Modifying Numpy Matrices"
      ]
    },
    {
      "metadata": {
        "id": "5HWJDxck0RJQ",
        "colab_type": "text"
      },
      "cell_type": "markdown",
      "source": [
        "### Accessing Rows"
      ]
    },
    {
      "metadata": {
        "id": "Ffozg3Kp0iVU",
        "colab_type": "text"
      },
      "cell_type": "markdown",
      "source": [
        "**Rows pertain to the index number**"
      ]
    },
    {
      "metadata": {
        "id": "bEqi819g0qd9",
        "colab_type": "code",
        "outputId": "1e358a2d-79e0-4808-efbe-fea8e579bad9",
        "colab": {
          "base_uri": "https://localhost:8080/",
          "height": 72
        }
      },
      "cell_type": "code",
      "source": [
        "print(m[0])\n",
        "print('\\n', m[1])"
      ],
      "execution_count": 0,
      "outputs": [
        {
          "output_type": "stream",
          "text": [
            "[[1 2 3 4 5 6 7]]\n",
            "\n",
            " [[8 9 2 3 4 5 6]]\n"
          ],
          "name": "stdout"
        }
      ]
    },
    {
      "metadata": {
        "id": "vusSJDkH7UR3",
        "colab_type": "text"
      },
      "cell_type": "markdown",
      "source": [
        "\n",
        "\n",
        "---\n",
        "\n"
      ]
    },
    {
      "metadata": {
        "id": "Qj7-cfL40WO9",
        "colab_type": "text"
      },
      "cell_type": "markdown",
      "source": [
        "### Accessing Columns"
      ]
    },
    {
      "metadata": {
        "id": "18T8S4iD08pl",
        "colab_type": "text"
      },
      "cell_type": "markdown",
      "source": [
        "**matrix [row : row, column]**"
      ]
    },
    {
      "metadata": {
        "id": "I3DMcjdS1G1U",
        "colab_type": "code",
        "outputId": "420a453e-1bb7-47a8-f232-e2df7135421d",
        "colab": {
          "base_uri": "https://localhost:8080/",
          "height": 54
        }
      },
      "cell_type": "code",
      "source": [
        "# Prints last column of all rows\n",
        "print(m[ : , 6])"
      ],
      "execution_count": 0,
      "outputs": [
        {
          "output_type": "stream",
          "text": [
            "[[7]\n",
            " [6]]\n"
          ],
          "name": "stdout"
        }
      ]
    },
    {
      "metadata": {
        "id": "zVkfJLbS1e0C",
        "colab_type": "code",
        "outputId": "4e02fd0a-289f-4bad-8218-9d00fb7c608f",
        "colab": {
          "base_uri": "https://localhost:8080/",
          "height": 35
        }
      },
      "cell_type": "code",
      "source": [
        "# Prints fifth column of first row\n",
        "print(m[0, 4])"
      ],
      "execution_count": 0,
      "outputs": [
        {
          "output_type": "stream",
          "text": [
            "5\n"
          ],
          "name": "stdout"
        }
      ]
    },
    {
      "metadata": {
        "id": "-qmyWVLh1x6M",
        "colab_type": "code",
        "outputId": "b41572cd-2e64-4ace-ce65-bfe372d1a0b3",
        "colab": {
          "base_uri": "https://localhost:8080/",
          "height": 72
        }
      },
      "cell_type": "code",
      "source": [
        "many_rows = np.matrix('1 3 4 6 7 3; 1 2 3 4 1 2; 1 4 3 2 6 4')\n",
        "print(many_rows)"
      ],
      "execution_count": 0,
      "outputs": [
        {
          "output_type": "stream",
          "text": [
            "[[1 3 4 6 7 3]\n",
            " [1 2 3 4 1 2]\n",
            " [1 4 3 2 6 4]]\n"
          ],
          "name": "stdout"
        }
      ]
    },
    {
      "metadata": {
        "id": "tGKZ3QfA2EzT",
        "colab_type": "code",
        "outputId": "02d91c06-cc6f-434f-f31f-1b93b1b6a2bd",
        "colab": {
          "base_uri": "https://localhost:8080/",
          "height": 72
        }
      },
      "cell_type": "code",
      "source": [
        "print(many_rows[0:, 0:2]) # All rows, first 2 columns"
      ],
      "execution_count": 0,
      "outputs": [
        {
          "output_type": "stream",
          "text": [
            "[[1 3]\n",
            " [1 2]\n",
            " [1 4]]\n"
          ],
          "name": "stdout"
        }
      ]
    },
    {
      "metadata": {
        "id": "oDvgMQht2gWh",
        "colab_type": "code",
        "outputId": "d2f85d28-75be-4ae5-e8d2-d596ee899b01",
        "colab": {
          "base_uri": "https://localhost:8080/",
          "height": 54
        }
      },
      "cell_type": "code",
      "source": [
        "print(many_rows[0:2, 4:6]) # first 2 rows, last 2 columns"
      ],
      "execution_count": 0,
      "outputs": [
        {
          "output_type": "stream",
          "text": [
            "[[7 3]\n",
            " [1 2]]\n"
          ],
          "name": "stdout"
        }
      ]
    },
    {
      "metadata": {
        "id": "APf2Qloj24Ji",
        "colab_type": "code",
        "outputId": "7705b2e7-4989-4f59-e835-155bf789d8d3",
        "colab": {
          "base_uri": "https://localhost:8080/",
          "height": 72
        }
      },
      "cell_type": "code",
      "source": [
        "print(many_rows[0:3, 4:6]) # first 3 rows, 5th and 6th columns"
      ],
      "execution_count": 0,
      "outputs": [
        {
          "output_type": "stream",
          "text": [
            "[[7 3]\n",
            " [1 2]\n",
            " [6 4]]\n"
          ],
          "name": "stdout"
        }
      ]
    },
    {
      "metadata": {
        "id": "ogPXHOiX7WN2",
        "colab_type": "text"
      },
      "cell_type": "markdown",
      "source": [
        "\n",
        "\n",
        "---\n",
        "\n"
      ]
    },
    {
      "metadata": {
        "id": "wmsyAA1N0X2k",
        "colab_type": "text"
      },
      "cell_type": "markdown",
      "source": [
        "### Accessing Elements"
      ]
    },
    {
      "metadata": {
        "id": "01kY76gt3sRy",
        "colab_type": "text"
      },
      "cell_type": "markdown",
      "source": [
        "**matrix([row#, column#])**"
      ]
    },
    {
      "metadata": {
        "id": "pM7z8hDa3_Q6",
        "colab_type": "code",
        "outputId": "bd938c84-ecc2-41e1-bd06-e6cf42070f9c",
        "colab": {
          "base_uri": "https://localhost:8080/",
          "height": 72
        }
      },
      "cell_type": "code",
      "source": [
        "print(m)\n",
        "\n",
        "print(m[1, 6]) # second row, seventh column"
      ],
      "execution_count": 0,
      "outputs": [
        {
          "output_type": "stream",
          "text": [
            "[[1 2 3 4 5 6 7]\n",
            " [8 9 2 3 4 5 6]]\n",
            "6\n"
          ],
          "name": "stdout"
        }
      ]
    },
    {
      "metadata": {
        "id": "6jSMmqqH4L97",
        "colab_type": "code",
        "outputId": "55c5b301-8794-4fa5-9db6-413dafe6f0be",
        "colab": {
          "base_uri": "https://localhost:8080/",
          "height": 35
        }
      },
      "cell_type": "code",
      "source": [
        "print(many_rows[2, 3]) # third row, fourth element"
      ],
      "execution_count": 0,
      "outputs": [
        {
          "output_type": "stream",
          "text": [
            "2\n"
          ],
          "name": "stdout"
        }
      ]
    },
    {
      "metadata": {
        "id": "PqG3DRqv7XhO",
        "colab_type": "text"
      },
      "cell_type": "markdown",
      "source": [
        "\n",
        "\n",
        "---\n",
        "\n"
      ]
    },
    {
      "metadata": {
        "id": "6TqCvCgI0ZJs",
        "colab_type": "text"
      },
      "cell_type": "markdown",
      "source": [
        "### Slicing the Matrix"
      ]
    },
    {
      "metadata": {
        "id": "os57yw485ogi",
        "colab_type": "text"
      },
      "cell_type": "markdown",
      "source": [
        "** Same steps as above **"
      ]
    },
    {
      "metadata": {
        "id": "qdeFKvHS5q6H",
        "colab_type": "code",
        "outputId": "a82e924f-eb15-457a-d65a-9060bae422f6",
        "colab": {
          "base_uri": "https://localhost:8080/",
          "height": 54
        }
      },
      "cell_type": "code",
      "source": [
        "print(many_rows[:2, 1:3])"
      ],
      "execution_count": 0,
      "outputs": [
        {
          "output_type": "stream",
          "text": [
            "[[3 4]\n",
            " [2 3]]\n"
          ],
          "name": "stdout"
        }
      ]
    },
    {
      "metadata": {
        "id": "KN69bB_17Yqv",
        "colab_type": "text"
      },
      "cell_type": "markdown",
      "source": [
        "\n",
        "\n",
        "---\n",
        "\n"
      ]
    },
    {
      "metadata": {
        "id": "y55syzDB0a6c",
        "colab_type": "text"
      },
      "cell_type": "markdown",
      "source": [
        "### Iterating through the Matrix"
      ]
    },
    {
      "metadata": {
        "id": "izQZnbke5-PQ",
        "colab_type": "text"
      },
      "cell_type": "markdown",
      "source": [
        "$np.nditer(matrix)$ Is the recommended option"
      ]
    },
    {
      "metadata": {
        "id": "AuoxTK6P6GtB",
        "colab_type": "code",
        "outputId": "98150f95-8be4-44b0-d0eb-a56ac1521491",
        "colab": {
          "base_uri": "https://localhost:8080/",
          "height": 348
        }
      },
      "cell_type": "code",
      "source": [
        "for i in np.nditer(many_rows):\n",
        "  print(i) # It prints values by rows (list items)"
      ],
      "execution_count": 0,
      "outputs": [
        {
          "output_type": "stream",
          "text": [
            "1\n",
            "3\n",
            "4\n",
            "6\n",
            "7\n",
            "3\n",
            "1\n",
            "2\n",
            "3\n",
            "4\n",
            "1\n",
            "2\n",
            "1\n",
            "4\n",
            "3\n",
            "2\n",
            "6\n",
            "4\n"
          ],
          "name": "stdout"
        }
      ]
    },
    {
      "metadata": {
        "id": "-8ynw9qd6Mon",
        "colab_type": "code",
        "outputId": "1ae19638-e09c-4937-fdf0-0987cca15794",
        "colab": {
          "base_uri": "https://localhost:8080/",
          "height": 72
        }
      },
      "cell_type": "code",
      "source": [
        "print(many_rows)"
      ],
      "execution_count": 0,
      "outputs": [
        {
          "output_type": "stream",
          "text": [
            "[[1 3 4 6 7 3]\n",
            " [1 2 3 4 1 2]\n",
            " [1 4 3 2 6 4]]\n"
          ],
          "name": "stdout"
        }
      ]
    },
    {
      "metadata": {
        "id": "73RcbAc37bH2",
        "colab_type": "text"
      },
      "cell_type": "markdown",
      "source": [
        "\n",
        "\n",
        "---\n",
        "\n"
      ]
    },
    {
      "metadata": {
        "id": "kr9GW6I26alE",
        "colab_type": "text"
      },
      "cell_type": "markdown",
      "source": [
        "### Get Info"
      ]
    },
    {
      "metadata": {
        "id": "LtW3nwF36dQI",
        "colab_type": "text"
      },
      "cell_type": "markdown",
      "source": [
        "$matrix.shape$ returns (row, column)\n",
        "\n",
        "$matrix.size$ returns amount of elements"
      ]
    },
    {
      "metadata": {
        "id": "z2P2bWcI6wdw",
        "colab_type": "code",
        "outputId": "8fd700f8-352b-4ff7-deb1-e3fe27bda6f3",
        "colab": {
          "base_uri": "https://localhost:8080/",
          "height": 35
        }
      },
      "cell_type": "code",
      "source": [
        "print(many_rows.shape)"
      ],
      "execution_count": 0,
      "outputs": [
        {
          "output_type": "stream",
          "text": [
            "(3, 6)\n"
          ],
          "name": "stdout"
        }
      ]
    },
    {
      "metadata": {
        "id": "hAx2_03w67Kv",
        "colab_type": "text"
      },
      "cell_type": "markdown",
      "source": [
        "* Note: The size of the matrix is the **product** of my rows and columns"
      ]
    },
    {
      "metadata": {
        "id": "kycrZrCw63hP",
        "colab_type": "code",
        "outputId": "a13126bd-9e78-4ee9-c781-0e31c9734210",
        "colab": {
          "base_uri": "https://localhost:8080/",
          "height": 35
        }
      },
      "cell_type": "code",
      "source": [
        "print(many_rows.size)"
      ],
      "execution_count": 0,
      "outputs": [
        {
          "output_type": "stream",
          "text": [
            "18\n"
          ],
          "name": "stdout"
        }
      ]
    },
    {
      "metadata": {
        "id": "SCh183BW7cJX",
        "colab_type": "text"
      },
      "cell_type": "markdown",
      "source": [
        "\n",
        "\n",
        "---\n",
        "\n"
      ]
    },
    {
      "metadata": {
        "id": "MiOdmKKUyP54",
        "colab_type": "text"
      },
      "cell_type": "markdown",
      "source": [
        "## Modifying the Matrix"
      ]
    },
    {
      "metadata": {
        "id": "USAEnf3Y9HRz",
        "colab_type": "text"
      },
      "cell_type": "markdown",
      "source": [
        "### Inserting Rows"
      ]
    },
    {
      "metadata": {
        "id": "Ti0HYI479uYK",
        "colab_type": "code",
        "outputId": "436d4ef9-0eca-4575-f6ba-5a1fbcb9164e",
        "colab": {
          "base_uri": "https://localhost:8080/",
          "height": 54
        }
      },
      "cell_type": "code",
      "source": [
        "mat = np.matrix('10 15 20 25; 50 45 40 35')\n",
        "print(mat)"
      ],
      "execution_count": 0,
      "outputs": [
        {
          "output_type": "stream",
          "text": [
            "[[10 15 20 25]\n",
            " [50 45 40 35]]\n"
          ],
          "name": "stdout"
        }
      ]
    },
    {
      "metadata": {
        "id": "39V1bRxy9dVx",
        "colab_type": "text"
      },
      "cell_type": "markdown",
      "source": [
        "$np.vstack(matrix)$\n",
        "\n",
        "Vertical-Stack: Adds more rows, hence why it grows vertically"
      ]
    },
    {
      "metadata": {
        "id": "Rv3T6BwH9mNb",
        "colab_type": "code",
        "outputId": "1645d0f7-967d-4ad2-d997-18a16fab99b4",
        "colab": {
          "base_uri": "https://localhost:8080/",
          "height": 72
        }
      },
      "cell_type": "code",
      "source": [
        "mat = np.vstack((mat, [70, 65, 60, 55]))\n",
        "print(mat)"
      ],
      "execution_count": 0,
      "outputs": [
        {
          "output_type": "stream",
          "text": [
            "[[10 15 20 25]\n",
            " [50 45 40 35]\n",
            " [70 65 60 55]]\n"
          ],
          "name": "stdout"
        }
      ]
    },
    {
      "metadata": {
        "id": "H4XaZCCXAFC-",
        "colab_type": "code",
        "colab": {}
      },
      "cell_type": "code",
      "source": [
        "mat = np.vstack((mat, [90, 85, 80, 75]))"
      ],
      "execution_count": 0,
      "outputs": []
    },
    {
      "metadata": {
        "id": "66Fo6ZPlAmyX",
        "colab_type": "code",
        "outputId": "9cd6151a-d037-4c83-b021-8c7c3a6fd047",
        "colab": {
          "base_uri": "https://localhost:8080/",
          "height": 90
        }
      },
      "cell_type": "code",
      "source": [
        "print(mat)"
      ],
      "execution_count": 0,
      "outputs": [
        {
          "output_type": "stream",
          "text": [
            "[[10 15 20 25]\n",
            " [50 45 40 35]\n",
            " [70 65 60 55]\n",
            " [90 85 80 75]]\n"
          ],
          "name": "stdout"
        }
      ]
    },
    {
      "metadata": {
        "id": "FAe1qCa49I_R",
        "colab_type": "text"
      },
      "cell_type": "markdown",
      "source": [
        "### Inserting Columns"
      ]
    },
    {
      "metadata": {
        "id": "R3irVNjbAqcW",
        "colab_type": "text"
      },
      "cell_type": "markdown",
      "source": [
        "$np.hstack(matrix)$\n",
        "\n",
        "Horizontal-stack: appends columns"
      ]
    },
    {
      "metadata": {
        "id": "CpY4ThdXBe2N",
        "colab_type": "code",
        "outputId": "67c2cdce-7426-49de-e791-6710eb9f2f68",
        "colab": {
          "base_uri": "https://localhost:8080/",
          "height": 90
        }
      },
      "cell_type": "code",
      "source": [
        "mat = np.hstack((mat, [[45],[55],[45],[35]]))\n",
        "print(mat)"
      ],
      "execution_count": 0,
      "outputs": [
        {
          "output_type": "stream",
          "text": [
            "[[10 15 20 25 45]\n",
            " [50 45 40 35 55]\n",
            " [70 65 60 55 45]\n",
            " [90 85 80 75 35]]\n"
          ],
          "name": "stdout"
        }
      ]
    },
    {
      "metadata": {
        "id": "Jn3GL3oP9LG0",
        "colab_type": "text"
      },
      "cell_type": "markdown",
      "source": [
        "### Modifying Rows/Columns"
      ]
    },
    {
      "metadata": {
        "id": "mHpaaTaFE0mT",
        "colab_type": "text"
      },
      "cell_type": "markdown",
      "source": [
        "\n",
        "\n",
        "---\n",
        "\n"
      ]
    },
    {
      "metadata": {
        "id": "xcxasST6B7tr",
        "colab_type": "code",
        "outputId": "be83ea13-45b0-4f2a-844f-bec03e43b784",
        "colab": {
          "base_uri": "https://localhost:8080/",
          "height": 90
        }
      },
      "cell_type": "code",
      "source": [
        "# Changing first row\n",
        "mat[0] = [1, 2, 3, 4, 5]\n",
        "print(mat)"
      ],
      "execution_count": 0,
      "outputs": [
        {
          "output_type": "stream",
          "text": [
            "[[ 1  2  3  4  5]\n",
            " [50 45 40 35 55]\n",
            " [70 65 60 55 45]\n",
            " [90 85 80 75 35]]\n"
          ],
          "name": "stdout"
        }
      ]
    },
    {
      "metadata": {
        "id": "9980amW-CGrN",
        "colab_type": "code",
        "outputId": "178d02a6-4a5d-4c19-ead0-968edc862d42",
        "colab": {
          "base_uri": "https://localhost:8080/",
          "height": 90
        }
      },
      "cell_type": "code",
      "source": [
        "# Changin the second column\n",
        "mat[:, 1] = [[-1], [-2], [-4],[-7]]\n",
        "print(mat)"
      ],
      "execution_count": 0,
      "outputs": [
        {
          "output_type": "stream",
          "text": [
            "[[ 1 -1  3  4  5]\n",
            " [50 -2 40 35 55]\n",
            " [70 -4 60 55 45]\n",
            " [90 -7 80 75 35]]\n"
          ],
          "name": "stdout"
        }
      ]
    },
    {
      "metadata": {
        "id": "qT9j3XudEynD",
        "colab_type": "text"
      },
      "cell_type": "markdown",
      "source": [
        "\n",
        "\n",
        "---\n",
        "\n"
      ]
    },
    {
      "metadata": {
        "id": "41FlOj289Nny",
        "colab_type": "text"
      },
      "cell_type": "markdown",
      "source": [
        "### Deleting Rows/Columns"
      ]
    },
    {
      "metadata": {
        "id": "K79xl9DJDRpt",
        "colab_type": "text"
      },
      "cell_type": "markdown",
      "source": [
        "$ np.delete( matrix, row/column, axis)$\n",
        "\n",
        "* axis = 0 works with rows\n",
        "* axis = 1 works with columns"
      ]
    },
    {
      "metadata": {
        "id": "6iPbyTDbDeWD",
        "colab_type": "code",
        "outputId": "7e211ae5-c18f-4d7a-f033-ee8b3fd08ebd",
        "colab": {
          "base_uri": "https://localhost:8080/",
          "height": 72
        }
      },
      "cell_type": "code",
      "source": [
        "del_matrix = np.delete(mat, 2, 0) # Deleting the third row\n",
        "print(del_matrix)"
      ],
      "execution_count": 0,
      "outputs": [
        {
          "output_type": "stream",
          "text": [
            "[[ 1 -1  3  4  5]\n",
            " [50 -2 40 35 55]\n",
            " [90 -7 80 75 35]]\n"
          ],
          "name": "stdout"
        }
      ]
    },
    {
      "metadata": {
        "id": "TSwWVGptDwpG",
        "colab_type": "code",
        "outputId": "06dc023a-9ca9-4eba-de98-383f31adb617",
        "colab": {
          "base_uri": "https://localhost:8080/",
          "height": 54
        }
      },
      "cell_type": "code",
      "source": [
        "print(mat.shape)\n",
        "print(del_matrix.shape)"
      ],
      "execution_count": 0,
      "outputs": [
        {
          "output_type": "stream",
          "text": [
            "(4, 5)\n",
            "(3, 5)\n"
          ],
          "name": "stdout"
        }
      ]
    },
    {
      "metadata": {
        "id": "oRpP2vFBD5_L",
        "colab_type": "code",
        "outputId": "e085b00e-1b72-485e-8d8b-88a12d7a9b40",
        "colab": {
          "base_uri": "https://localhost:8080/",
          "height": 72
        }
      },
      "cell_type": "code",
      "source": [
        "del_matrix = np.delete(del_matrix, -1, 1) # Deleting last column\n",
        "print(del_matrix)"
      ],
      "execution_count": 0,
      "outputs": [
        {
          "output_type": "stream",
          "text": [
            "[[ 1 -1  3  4]\n",
            " [50 -2 40 35]\n",
            " [90 -7 80 75]]\n"
          ],
          "name": "stdout"
        }
      ]
    },
    {
      "metadata": {
        "id": "uYIFhf-7ER_4",
        "colab_type": "code",
        "outputId": "b9485a92-5652-44cc-b21b-de488c8a8a63",
        "colab": {
          "base_uri": "https://localhost:8080/",
          "height": 72
        }
      },
      "cell_type": "code",
      "source": [
        "del_matrix = np.delete(del_matrix, 1, 1) # Deleting the second column\n",
        "print(del_matrix)"
      ],
      "execution_count": 0,
      "outputs": [
        {
          "output_type": "stream",
          "text": [
            "[[ 1  3  4]\n",
            " [50 40 35]\n",
            " [90 80 75]]\n"
          ],
          "name": "stdout"
        }
      ]
    },
    {
      "metadata": {
        "id": "mOdxcGMKEe-m",
        "colab_type": "code",
        "outputId": "5feffdba-f44e-42d1-b424-78745e56c068",
        "colab": {
          "base_uri": "https://localhost:8080/",
          "height": 35
        }
      },
      "cell_type": "code",
      "source": [
        "del_matrix.shape"
      ],
      "execution_count": 0,
      "outputs": [
        {
          "output_type": "execute_result",
          "data": {
            "text/plain": [
              "(3, 3)"
            ]
          },
          "metadata": {
            "tags": []
          },
          "execution_count": 23
        }
      ]
    },
    {
      "metadata": {
        "id": "xnOmz7ojExRj",
        "colab_type": "text"
      },
      "cell_type": "markdown",
      "source": [
        "\n",
        "\n",
        "---\n",
        "\n"
      ]
    },
    {
      "metadata": {
        "id": "rXJi9mEJ9RVR",
        "colab_type": "text"
      },
      "cell_type": "markdown",
      "source": [
        "### Reshape"
      ]
    },
    {
      "metadata": {
        "id": "jXdPa8GkFdL1",
        "colab_type": "text"
      },
      "cell_type": "markdown",
      "source": [
        "$matrix.reshape( row, column )$"
      ]
    },
    {
      "metadata": {
        "id": "Y_jD6t5lFFgT",
        "colab_type": "code",
        "outputId": "aa208d40-83f8-4826-b46d-ae8b3409d81b",
        "colab": {
          "base_uri": "https://localhost:8080/",
          "height": 127
        }
      },
      "cell_type": "code",
      "source": [
        "matrix = np.matrix('1 2 3; 4 5 6; 7 8 9; 10 11 12; 13 14 15; 16 17 18')\n",
        "print(matrix, matrix.shape)"
      ],
      "execution_count": 0,
      "outputs": [
        {
          "output_type": "stream",
          "text": [
            "[[ 1  2  3]\n",
            " [ 4  5  6]\n",
            " [ 7  8  9]\n",
            " [10 11 12]\n",
            " [13 14 15]\n",
            " [16 17 18]] (6, 3)\n"
          ],
          "name": "stdout"
        }
      ]
    },
    {
      "metadata": {
        "id": "cYsFAA2mGKJq",
        "colab_type": "text"
      },
      "cell_type": "markdown",
      "source": [
        "* Shape must be consistent. (6, 3) = 18 \n",
        "\n",
        "* So the reshape $row\\times column$ must also equal $18$"
      ]
    },
    {
      "metadata": {
        "id": "64ZuAKDzFkL8",
        "colab_type": "code",
        "outputId": "8e8d51e5-5cc7-428d-f8b6-2d4119128e35",
        "colab": {
          "base_uri": "https://localhost:8080/",
          "height": 182
        }
      },
      "cell_type": "code",
      "source": [
        "matrix.reshape(9, 2)"
      ],
      "execution_count": 0,
      "outputs": [
        {
          "output_type": "execute_result",
          "data": {
            "text/plain": [
              "matrix([[ 1,  2],\n",
              "        [ 3,  4],\n",
              "        [ 5,  6],\n",
              "        [ 7,  8],\n",
              "        [ 9, 10],\n",
              "        [11, 12],\n",
              "        [13, 14],\n",
              "        [15, 16],\n",
              "        [17, 18]])"
            ]
          },
          "metadata": {
            "tags": []
          },
          "execution_count": 26
        }
      ]
    },
    {
      "metadata": {
        "id": "h9IWnPUtGzhX",
        "colab_type": "code",
        "outputId": "e7697cf5-21de-4aa5-d29e-073ffd0afde7",
        "colab": {
          "base_uri": "https://localhost:8080/",
          "height": 127
        }
      },
      "cell_type": "code",
      "source": [
        "print(matrix)"
      ],
      "execution_count": 0,
      "outputs": [
        {
          "output_type": "stream",
          "text": [
            "[[ 1  2  3]\n",
            " [ 4  5  6]\n",
            " [ 7  8  9]\n",
            " [10 11 12]\n",
            " [13 14 15]\n",
            " [16 17 18]]\n"
          ],
          "name": "stdout"
        }
      ]
    },
    {
      "metadata": {
        "id": "lJcs7qhYG4lB",
        "colab_type": "code",
        "outputId": "52c733c3-6107-4a0e-8cb6-0445fea08736",
        "colab": {
          "base_uri": "https://localhost:8080/",
          "height": 54
        }
      },
      "cell_type": "code",
      "source": [
        "matrix.reshape(1, 18)"
      ],
      "execution_count": 0,
      "outputs": [
        {
          "output_type": "execute_result",
          "data": {
            "text/plain": [
              "matrix([[ 1,  2,  3,  4,  5,  6,  7,  8,  9, 10, 11, 12, 13, 14, 15, 16,\n",
              "         17, 18]])"
            ]
          },
          "metadata": {
            "tags": []
          },
          "execution_count": 28
        }
      ]
    },
    {
      "metadata": {
        "id": "oqlRV2tJHiau",
        "colab_type": "text"
      },
      "cell_type": "markdown",
      "source": [
        "\n",
        "\n",
        "---\n",
        "\n"
      ]
    },
    {
      "metadata": {
        "id": "LIsPa0laHeVW",
        "colab_type": "text"
      },
      "cell_type": "markdown",
      "source": [
        "### Transpose Matrix"
      ]
    },
    {
      "metadata": {
        "id": "8FiSc75eHhwO",
        "colab_type": "text"
      },
      "cell_type": "markdown",
      "source": [
        "$matrix.T$"
      ]
    },
    {
      "metadata": {
        "id": "HR0CdyH3Hl73",
        "colab_type": "code",
        "outputId": "9172456c-8e9d-4a6c-904a-06776a551f2e",
        "colab": {
          "base_uri": "https://localhost:8080/",
          "height": 127
        }
      },
      "cell_type": "code",
      "source": [
        "print(matrix)"
      ],
      "execution_count": 0,
      "outputs": [
        {
          "output_type": "stream",
          "text": [
            "[[ 1  2  3]\n",
            " [ 4  5  6]\n",
            " [ 7  8  9]\n",
            " [10 11 12]\n",
            " [13 14 15]\n",
            " [16 17 18]]\n"
          ],
          "name": "stdout"
        }
      ]
    },
    {
      "metadata": {
        "id": "-LKBlIolHp0e",
        "colab_type": "code",
        "colab": {}
      },
      "cell_type": "code",
      "source": [
        "transposed = matrix.T"
      ],
      "execution_count": 0,
      "outputs": []
    },
    {
      "metadata": {
        "id": "9ZwmprVQH09i",
        "colab_type": "code",
        "outputId": "5f966363-82e5-4fe7-eef5-4ff2a8fa065d",
        "colab": {
          "base_uri": "https://localhost:8080/",
          "height": 72
        }
      },
      "cell_type": "code",
      "source": [
        "print(transposed)"
      ],
      "execution_count": 0,
      "outputs": [
        {
          "output_type": "stream",
          "text": [
            "[[ 1  4  7 10 13 16]\n",
            " [ 2  5  8 11 14 17]\n",
            " [ 3  6  9 12 15 18]]\n"
          ],
          "name": "stdout"
        }
      ]
    },
    {
      "metadata": {
        "id": "_uPXVfqPH9hD",
        "colab_type": "code",
        "outputId": "6f1d45ad-a42c-44ec-e763-ecd1da9e5396",
        "colab": {
          "base_uri": "https://localhost:8080/",
          "height": 127
        }
      },
      "cell_type": "code",
      "source": [
        "transposed.T"
      ],
      "execution_count": 0,
      "outputs": [
        {
          "output_type": "execute_result",
          "data": {
            "text/plain": [
              "matrix([[ 1,  2,  3],\n",
              "        [ 4,  5,  6],\n",
              "        [ 7,  8,  9],\n",
              "        [10, 11, 12],\n",
              "        [13, 14, 15],\n",
              "        [16, 17, 18]])"
            ]
          },
          "metadata": {
            "tags": []
          },
          "execution_count": 34
        }
      ]
    },
    {
      "metadata": {
        "id": "NuAlOeNIIGeu",
        "colab_type": "text"
      },
      "cell_type": "markdown",
      "source": [
        "\n",
        "\n",
        "---\n",
        "\n"
      ]
    },
    {
      "metadata": {
        "id": "QjuPAg5EySGY",
        "colab_type": "text"
      },
      "cell_type": "markdown",
      "source": [
        "## Numpy Matrix Math Operations"
      ]
    },
    {
      "metadata": {
        "id": "yy4PIDp8JDJh",
        "colab_type": "text"
      },
      "cell_type": "markdown",
      "source": [
        "* Same as with arrays"
      ]
    },
    {
      "metadata": {
        "id": "P0hT-wT7IF_P",
        "colab_type": "text"
      },
      "cell_type": "markdown",
      "source": [
        "### Scalar and Vector Addition"
      ]
    },
    {
      "metadata": {
        "id": "qTzPlyB-Iznv",
        "colab_type": "code",
        "outputId": "24fb3125-4b4a-45cb-c6dc-d6706eb3dcbf",
        "colab": {
          "base_uri": "https://localhost:8080/",
          "height": 127
        }
      },
      "cell_type": "code",
      "source": [
        "print(matrix+20)"
      ],
      "execution_count": 0,
      "outputs": [
        {
          "output_type": "stream",
          "text": [
            "[[21 22 23]\n",
            " [24 25 26]\n",
            " [27 28 29]\n",
            " [30 31 32]\n",
            " [33 34 35]\n",
            " [36 37 38]]\n"
          ],
          "name": "stdout"
        }
      ]
    },
    {
      "metadata": {
        "id": "kbiFlvWHI5Ip",
        "colab_type": "code",
        "outputId": "f932e54d-f049-44e2-a55e-5dc703c62821",
        "colab": {
          "base_uri": "https://localhost:8080/",
          "height": 72
        }
      },
      "cell_type": "code",
      "source": [
        "print(np.add(transposed, 3))"
      ],
      "execution_count": 0,
      "outputs": [
        {
          "output_type": "stream",
          "text": [
            "[[ 4  7 10 13 16 19]\n",
            " [ 5  8 11 14 17 20]\n",
            " [ 6  9 12 15 18 21]]\n"
          ],
          "name": "stdout"
        }
      ]
    },
    {
      "metadata": {
        "id": "ct9NMuuoLgyL",
        "colab_type": "text"
      },
      "cell_type": "markdown",
      "source": [
        "\n",
        "\n",
        "---\n",
        "\n"
      ]
    },
    {
      "metadata": {
        "id": "BMNIybMzLP6E",
        "colab_type": "text"
      },
      "cell_type": "markdown",
      "source": [
        "* Rows and columns must match for the addition to occure"
      ]
    },
    {
      "metadata": {
        "id": "xoJOLt8sJCTX",
        "colab_type": "code",
        "outputId": "c587f8ab-5258-46db-806a-024bbff96395",
        "colab": {
          "base_uri": "https://localhost:8080/",
          "height": 172
        }
      },
      "cell_type": "code",
      "source": [
        "print(np.add(transposed, matrix))"
      ],
      "execution_count": 0,
      "outputs": [
        {
          "output_type": "error",
          "ename": "ValueError",
          "evalue": "ignored",
          "traceback": [
            "\u001b[0;31m---------------------------------------------------------------------------\u001b[0m",
            "\u001b[0;31mValueError\u001b[0m                                Traceback (most recent call last)",
            "\u001b[0;32m<ipython-input-43-bbd78217c7d0>\u001b[0m in \u001b[0;36m<module>\u001b[0;34m()\u001b[0m\n\u001b[0;32m----> 1\u001b[0;31m \u001b[0mprint\u001b[0m\u001b[0;34m(\u001b[0m\u001b[0mnp\u001b[0m\u001b[0;34m.\u001b[0m\u001b[0madd\u001b[0m\u001b[0;34m(\u001b[0m\u001b[0mtransposed\u001b[0m\u001b[0;34m,\u001b[0m \u001b[0mmatrix\u001b[0m\u001b[0;34m)\u001b[0m\u001b[0;34m)\u001b[0m\u001b[0;34m\u001b[0m\u001b[0;34m\u001b[0m\u001b[0m\n\u001b[0m",
            "\u001b[0;31mValueError\u001b[0m: operands could not be broadcast together with shapes (3,6) (6,3) "
          ]
        }
      ]
    },
    {
      "metadata": {
        "id": "s5gHKNkRJt7e",
        "colab_type": "code",
        "colab": {}
      },
      "cell_type": "code",
      "source": [
        "transposed2 = matrix.reshape(3, 6)"
      ],
      "execution_count": 0,
      "outputs": []
    },
    {
      "metadata": {
        "id": "cWHJCKoYLBSj",
        "colab_type": "code",
        "outputId": "32638085-60ed-48d0-ce77-f714dc48a820",
        "colab": {
          "base_uri": "https://localhost:8080/",
          "height": 146
        }
      },
      "cell_type": "code",
      "source": [
        "print(transposed, '\\n\\n', transposed2)"
      ],
      "execution_count": 0,
      "outputs": [
        {
          "output_type": "stream",
          "text": [
            "[[ 1  4  7 10 13 16]\n",
            " [ 2  5  8 11 14 17]\n",
            " [ 3  6  9 12 15 18]] \n",
            "\n",
            " [[ 1  2  3  4  5  6]\n",
            " [ 7  8  9 10 11 12]\n",
            " [13 14 15 16 17 18]]\n"
          ],
          "name": "stdout"
        }
      ]
    },
    {
      "metadata": {
        "id": "XZDnPMnmK4Se",
        "colab_type": "code",
        "outputId": "fe61739f-32a3-4e54-fee9-a0b16846d487",
        "colab": {
          "base_uri": "https://localhost:8080/",
          "height": 72
        }
      },
      "cell_type": "code",
      "source": [
        "print(np.add(transposed, transposed2))"
      ],
      "execution_count": 0,
      "outputs": [
        {
          "output_type": "stream",
          "text": [
            "[[ 2  6 10 14 18 22]\n",
            " [ 9 13 17 21 25 29]\n",
            " [16 20 24 28 32 36]]\n"
          ],
          "name": "stdout"
        }
      ]
    },
    {
      "metadata": {
        "id": "N77LEKvQJ-8m",
        "colab_type": "code",
        "outputId": "2fefb520-c621-4563-982a-eeb4167402c5",
        "colab": {
          "base_uri": "https://localhost:8080/",
          "height": 72
        }
      },
      "cell_type": "code",
      "source": [
        "transposed2 = np.hstack((transposed2, [[7],[7],[7]]))\n",
        "print(transposed2)"
      ],
      "execution_count": 0,
      "outputs": [
        {
          "output_type": "stream",
          "text": [
            "[[ 1  2  3  4  5  6  7]\n",
            " [ 7  8  9 10 11 12  7]\n",
            " [13 14 15 16 17 18  7]]\n"
          ],
          "name": "stdout"
        }
      ]
    },
    {
      "metadata": {
        "id": "LIsgJWsWJ3m0",
        "colab_type": "code",
        "outputId": "f6c99858-e157-4d04-c8c2-631f50bce69c",
        "colab": {
          "base_uri": "https://localhost:8080/",
          "height": 172
        }
      },
      "cell_type": "code",
      "source": [
        "print(np.add(transposed, transposed2))"
      ],
      "execution_count": 0,
      "outputs": [
        {
          "output_type": "error",
          "ename": "ValueError",
          "evalue": "ignored",
          "traceback": [
            "\u001b[0;31m---------------------------------------------------------------------------\u001b[0m",
            "\u001b[0;31mValueError\u001b[0m                                Traceback (most recent call last)",
            "\u001b[0;32m<ipython-input-50-c62eb5b3c4c0>\u001b[0m in \u001b[0;36m<module>\u001b[0;34m()\u001b[0m\n\u001b[0;32m----> 1\u001b[0;31m \u001b[0mprint\u001b[0m\u001b[0;34m(\u001b[0m\u001b[0mnp\u001b[0m\u001b[0;34m.\u001b[0m\u001b[0madd\u001b[0m\u001b[0;34m(\u001b[0m\u001b[0mtransposed\u001b[0m\u001b[0;34m,\u001b[0m \u001b[0mtransposed2\u001b[0m\u001b[0;34m)\u001b[0m\u001b[0;34m)\u001b[0m\u001b[0;34m\u001b[0m\u001b[0;34m\u001b[0m\u001b[0m\n\u001b[0m",
            "\u001b[0;31mValueError\u001b[0m: operands could not be broadcast together with shapes (3,6) (3,7) "
          ]
        }
      ]
    },
    {
      "metadata": {
        "id": "anc4GdopLjdb",
        "colab_type": "text"
      },
      "cell_type": "markdown",
      "source": [
        "\n",
        "\n",
        "---\n",
        "\n"
      ]
    },
    {
      "metadata": {
        "id": "CcyIhcN4IKDw",
        "colab_type": "text"
      },
      "cell_type": "markdown",
      "source": [
        "### Scalar and Vector Subtraction"
      ]
    },
    {
      "metadata": {
        "id": "xIAFWD3VLnmz",
        "colab_type": "code",
        "outputId": "d0278c4f-73eb-4687-b806-8d46e2b43519",
        "colab": {
          "base_uri": "https://localhost:8080/",
          "height": 146
        }
      },
      "cell_type": "code",
      "source": [
        "print(transposed, '\\n\\n', transposed2)"
      ],
      "execution_count": 0,
      "outputs": [
        {
          "output_type": "stream",
          "text": [
            "[[ 1  4  7 10 13 16]\n",
            " [ 2  5  8 11 14 17]\n",
            " [ 3  6  9 12 15 18]] \n",
            "\n",
            " [[ 1  2  3  4  5  6]\n",
            " [ 7  8  9 10 11 12]\n",
            " [13 14 15 16 17 18]]\n"
          ],
          "name": "stdout"
        }
      ]
    },
    {
      "metadata": {
        "id": "ag-fitdVLxYk",
        "colab_type": "code",
        "outputId": "518f1760-3a5c-4b20-8e67-4c42421cf960",
        "colab": {
          "base_uri": "https://localhost:8080/",
          "height": 72
        }
      },
      "cell_type": "code",
      "source": [
        "print(transposed - 1)"
      ],
      "execution_count": 0,
      "outputs": [
        {
          "output_type": "stream",
          "text": [
            "[[ 0  3  6  9 12 15]\n",
            " [ 1  4  7 10 13 16]\n",
            " [ 2  5  8 11 14 17]]\n"
          ],
          "name": "stdout"
        }
      ]
    },
    {
      "metadata": {
        "id": "aDT3S8e7L02S",
        "colab_type": "code",
        "outputId": "8c9cbbe1-f35a-4d10-fe1c-932b31a2fd0b",
        "colab": {
          "base_uri": "https://localhost:8080/",
          "height": 72
        }
      },
      "cell_type": "code",
      "source": [
        "print(np.subtract(transposed2, transposed))"
      ],
      "execution_count": 0,
      "outputs": [
        {
          "output_type": "stream",
          "text": [
            "[[  0  -2  -4  -6  -8 -10]\n",
            " [  5   3   1  -1  -3  -5]\n",
            " [ 10   8   6   4   2   0]]\n"
          ],
          "name": "stdout"
        }
      ]
    },
    {
      "metadata": {
        "id": "vlRyei-jOv0H",
        "colab_type": "text"
      },
      "cell_type": "markdown",
      "source": [
        "\n",
        "\n",
        "---\n",
        "\n"
      ]
    },
    {
      "metadata": {
        "id": "QpD-itDlINKn",
        "colab_type": "text"
      },
      "cell_type": "markdown",
      "source": [
        "### Scalar and Vector Multiplication"
      ]
    },
    {
      "metadata": {
        "id": "MDiauSxNMC8M",
        "colab_type": "text"
      },
      "cell_type": "markdown",
      "source": [
        "* **Matrix Multiplication requires that matrixA columns = matrixB Row**\n",
        "\n",
        "* np.dot(A, B)"
      ]
    },
    {
      "metadata": {
        "id": "Pe0f2dGLO-S3",
        "colab_type": "code",
        "outputId": "be3bbe2d-d855-4af3-d25f-10be7b1992f7",
        "colab": {
          "base_uri": "https://localhost:8080/",
          "height": 54
        }
      },
      "cell_type": "code",
      "source": [
        "print(transposed.shape, '\\n', transposed2.shape)"
      ],
      "execution_count": 0,
      "outputs": [
        {
          "output_type": "stream",
          "text": [
            "(3, 6) \n",
            " (3, 6)\n"
          ],
          "name": "stdout"
        }
      ]
    },
    {
      "metadata": {
        "id": "ObHprGDyPHFw",
        "colab_type": "code",
        "outputId": "dde1c601-0f51-4aed-d21b-32a97fe72780",
        "colab": {
          "base_uri": "https://localhost:8080/",
          "height": 54
        }
      },
      "cell_type": "code",
      "source": [
        "transposed2 = transposed2.reshape(6, 3)\n",
        "print(transposed.shape, '\\n', transposed2.shape)"
      ],
      "execution_count": 0,
      "outputs": [
        {
          "output_type": "stream",
          "text": [
            "(3, 6) \n",
            " (6, 3)\n"
          ],
          "name": "stdout"
        }
      ]
    },
    {
      "metadata": {
        "id": "raNCqS78OtHP",
        "colab_type": "code",
        "outputId": "82f10493-2413-42d7-97e9-b5269cf29810",
        "colab": {
          "base_uri": "https://localhost:8080/",
          "height": 72
        }
      },
      "cell_type": "code",
      "source": [
        "print(np.dot(transposed, transposed2))"
      ],
      "execution_count": 0,
      "outputs": [
        {
          "output_type": "stream",
          "text": [
            "[[591 642 693]\n",
            " [642 699 756]\n",
            " [693 756 819]]\n"
          ],
          "name": "stdout"
        }
      ]
    },
    {
      "metadata": {
        "id": "kkWyVy8LPzr6",
        "colab_type": "code",
        "outputId": "f6b4592a-746c-48c7-8148-2515e6c70802",
        "colab": {
          "base_uri": "https://localhost:8080/",
          "height": 72
        }
      },
      "cell_type": "code",
      "source": [
        "# Automatically considers that they are matrixes so it\n",
        "# does the dot product too\n",
        "print(transposed * transposed2)"
      ],
      "execution_count": 0,
      "outputs": [
        {
          "output_type": "stream",
          "text": [
            "[[591 642 693]\n",
            " [642 699 756]\n",
            " [693 756 819]]\n"
          ],
          "name": "stdout"
        }
      ]
    },
    {
      "metadata": {
        "id": "QJRvUb-8RR78",
        "colab_type": "code",
        "outputId": "718657de-cc51-4b33-d814-a85ceef069fd",
        "colab": {
          "base_uri": "https://localhost:8080/",
          "height": 127
        }
      },
      "cell_type": "code",
      "source": [
        "print(transposed2 * transposed)"
      ],
      "execution_count": 0,
      "outputs": [
        {
          "output_type": "stream",
          "text": [
            "[[ 14  32  50  68  86 104]\n",
            " [ 32  77 122 167 212 257]\n",
            " [ 50 122 194 266 338 410]\n",
            " [ 68 167 266 365 464 563]\n",
            " [ 86 212 338 464 590 716]\n",
            " [104 257 410 563 716 869]]\n"
          ],
          "name": "stdout"
        }
      ]
    },
    {
      "metadata": {
        "id": "Be5x3nnZL_84",
        "colab_type": "code",
        "outputId": "37f8b20f-a65b-4106-ae12-d2f87074af94",
        "colab": {
          "base_uri": "https://localhost:8080/",
          "height": 35
        }
      },
      "cell_type": "code",
      "source": [
        "A = np.matrix('2 4 4; 1 2 3')\n",
        "B = np.matrix('1 3 4 5 6 7; 8 9 10 11 12 13; 14 15 16 17 18 19')\n",
        "print(A.shape, B.shape)"
      ],
      "execution_count": 0,
      "outputs": [
        {
          "output_type": "stream",
          "text": [
            "(2, 3) (3, 6)\n"
          ],
          "name": "stdout"
        }
      ]
    },
    {
      "metadata": {
        "id": "1OEYe2RxSDw0",
        "colab_type": "code",
        "outputId": "f499a939-c227-4734-d3dc-6d5d032c8a34",
        "colab": {
          "base_uri": "https://localhost:8080/",
          "height": 54
        }
      },
      "cell_type": "code",
      "source": [
        "print(np.dot(A, B))"
      ],
      "execution_count": 0,
      "outputs": [
        {
          "output_type": "stream",
          "text": [
            "[[ 90 102 112 122 132 142]\n",
            " [ 59  66  72  78  84  90]]\n"
          ],
          "name": "stdout"
        }
      ]
    },
    {
      "metadata": {
        "id": "D5Q-aBzsSbAk",
        "colab_type": "code",
        "outputId": "ca8b4f86-3416-43b4-bc48-166134abc0c6",
        "colab": {
          "base_uri": "https://localhost:8080/",
          "height": 172
        }
      },
      "cell_type": "code",
      "source": [
        "print(np.dot(B, A)) # Column_B != Row_A"
      ],
      "execution_count": 0,
      "outputs": [
        {
          "output_type": "error",
          "ename": "ValueError",
          "evalue": "ignored",
          "traceback": [
            "\u001b[0;31m---------------------------------------------------------------------------\u001b[0m",
            "\u001b[0;31mValueError\u001b[0m                                Traceback (most recent call last)",
            "\u001b[0;32m<ipython-input-69-919c4027dfca>\u001b[0m in \u001b[0;36m<module>\u001b[0;34m()\u001b[0m\n\u001b[0;32m----> 1\u001b[0;31m \u001b[0mprint\u001b[0m\u001b[0;34m(\u001b[0m\u001b[0mnp\u001b[0m\u001b[0;34m.\u001b[0m\u001b[0mdot\u001b[0m\u001b[0;34m(\u001b[0m\u001b[0mB\u001b[0m\u001b[0;34m,\u001b[0m \u001b[0mA\u001b[0m\u001b[0;34m)\u001b[0m\u001b[0;34m)\u001b[0m\u001b[0;34m\u001b[0m\u001b[0;34m\u001b[0m\u001b[0m\n\u001b[0m",
            "\u001b[0;31mValueError\u001b[0m: shapes (3,6) and (2,3) not aligned: 6 (dim 1) != 2 (dim 0)"
          ]
        }
      ]
    },
    {
      "metadata": {
        "id": "Hmor2OFJS4gM",
        "colab_type": "text"
      },
      "cell_type": "markdown",
      "source": [
        "\n",
        "\n",
        "---\n",
        "\n"
      ]
    },
    {
      "metadata": {
        "id": "7KP4dnLrIP7_",
        "colab_type": "text"
      },
      "cell_type": "markdown",
      "source": [
        "### Scalar and Vector Division"
      ]
    },
    {
      "metadata": {
        "id": "jEnVAh_SU-Ug",
        "colab_type": "text"
      },
      "cell_type": "markdown",
      "source": [
        "* **To divide matrices, both their rows and columns must be the same.**\n",
        "\n",
        "* shape(3,6) / shape(3,6) can be divided"
      ]
    },
    {
      "metadata": {
        "id": "wzp8-S0zTAe6",
        "colab_type": "code",
        "outputId": "dea463a5-3eda-4b14-be10-6f55b85c4276",
        "colab": {
          "base_uri": "https://localhost:8080/",
          "height": 54
        }
      },
      "cell_type": "code",
      "source": [
        "# Could not be divided.\n",
        "print(transposed.shape, '\\n', transposed2.shape)"
      ],
      "execution_count": 0,
      "outputs": [
        {
          "output_type": "stream",
          "text": [
            "(3, 6) \n",
            " (6, 3)\n"
          ],
          "name": "stdout"
        }
      ]
    },
    {
      "metadata": {
        "id": "Hea4UsdFT0gN",
        "colab_type": "code",
        "outputId": "177e0451-df0e-4654-c000-69ec43fdef36",
        "colab": {
          "base_uri": "https://localhost:8080/",
          "height": 54
        }
      },
      "cell_type": "code",
      "source": [
        "transposed = transposed.reshape(6, 3)\n",
        "print(transposed.shape, '\\n', transposed2.shape)"
      ],
      "execution_count": 0,
      "outputs": [
        {
          "output_type": "stream",
          "text": [
            "(6, 3) \n",
            " (6, 3)\n"
          ],
          "name": "stdout"
        }
      ]
    },
    {
      "metadata": {
        "id": "ptmbNsbuTcMs",
        "colab_type": "code",
        "outputId": "146ade9f-7afa-4219-b91e-82f4e79e5541",
        "colab": {
          "base_uri": "https://localhost:8080/",
          "height": 127
        }
      },
      "cell_type": "code",
      "source": [
        "print(np.divide(transposed, transposed2 ))"
      ],
      "execution_count": 0,
      "outputs": [
        {
          "output_type": "stream",
          "text": [
            "[[1.         2.         2.33333333]\n",
            " [2.5        2.6        2.66666667]\n",
            " [0.28571429 0.625      0.88888889]\n",
            " [1.1        1.27272727 1.41666667]\n",
            " [0.23076923 0.42857143 0.6       ]\n",
            " [0.75       0.88235294 1.        ]]\n"
          ],
          "name": "stdout"
        }
      ]
    },
    {
      "metadata": {
        "id": "q0Sx_sDPURPb",
        "colab_type": "code",
        "outputId": "3aebe57a-f38a-4357-e42c-129d4796603f",
        "colab": {
          "base_uri": "https://localhost:8080/",
          "height": 127
        }
      },
      "cell_type": "code",
      "source": [
        "print(transposed2)"
      ],
      "execution_count": 0,
      "outputs": [
        {
          "output_type": "stream",
          "text": [
            "[[ 1  2  3]\n",
            " [ 4  5  6]\n",
            " [ 7  8  9]\n",
            " [10 11 12]\n",
            " [13 14 15]\n",
            " [16 17 18]]\n"
          ],
          "name": "stdout"
        }
      ]
    },
    {
      "metadata": {
        "id": "KcU1ml44UECT",
        "colab_type": "code",
        "outputId": "bfb83c80-8fa7-4afc-fadf-4186058afdc0",
        "colab": {
          "base_uri": "https://localhost:8080/",
          "height": 127
        }
      },
      "cell_type": "code",
      "source": [
        "transposed2 = np.delete(transposed2, 2, 1)\n",
        "print(transposed2, transposed.shape, transposed2.shape)"
      ],
      "execution_count": 0,
      "outputs": [
        {
          "output_type": "stream",
          "text": [
            "[[ 1  2]\n",
            " [ 4  5]\n",
            " [ 7  8]\n",
            " [10 11]\n",
            " [13 14]\n",
            " [16 17]] (6, 3) (6, 2)\n"
          ],
          "name": "stdout"
        }
      ]
    },
    {
      "metadata": {
        "id": "R-_fLPBYU6DR",
        "colab_type": "code",
        "outputId": "780658b9-0764-476f-93bd-6e645a7104c4",
        "colab": {
          "base_uri": "https://localhost:8080/",
          "height": 172
        }
      },
      "cell_type": "code",
      "source": [
        "print(np.divide(transposed2, transposed ))"
      ],
      "execution_count": 0,
      "outputs": [
        {
          "output_type": "error",
          "ename": "ValueError",
          "evalue": "ignored",
          "traceback": [
            "\u001b[0;31m---------------------------------------------------------------------------\u001b[0m",
            "\u001b[0;31mValueError\u001b[0m                                Traceback (most recent call last)",
            "\u001b[0;32m<ipython-input-78-88898b9a3f9c>\u001b[0m in \u001b[0;36m<module>\u001b[0;34m()\u001b[0m\n\u001b[0;32m----> 1\u001b[0;31m \u001b[0mprint\u001b[0m\u001b[0;34m(\u001b[0m\u001b[0mnp\u001b[0m\u001b[0;34m.\u001b[0m\u001b[0mdivide\u001b[0m\u001b[0;34m(\u001b[0m\u001b[0mtransposed2\u001b[0m\u001b[0;34m,\u001b[0m \u001b[0mtransposed\u001b[0m \u001b[0;34m)\u001b[0m\u001b[0;34m)\u001b[0m\u001b[0;34m\u001b[0m\u001b[0;34m\u001b[0m\u001b[0m\n\u001b[0m",
            "\u001b[0;31mValueError\u001b[0m: operands could not be broadcast together with shapes (6,2) (6,3) "
          ]
        }
      ]
    },
    {
      "metadata": {
        "id": "4d6kJlYqVwzI",
        "colab_type": "text"
      },
      "cell_type": "markdown",
      "source": [
        "\n",
        "\n",
        "---\n",
        "\n"
      ]
    },
    {
      "metadata": {
        "id": "fPkpKgETVxmX",
        "colab_type": "text"
      },
      "cell_type": "markdown",
      "source": [
        "### Exponentials and Roots"
      ]
    },
    {
      "metadata": {
        "id": "Xb-BNDTVV0yo",
        "colab_type": "code",
        "outputId": "a1bc1cbb-9fc9-4ec1-ba5c-5d9bc68663ee",
        "colab": {
          "base_uri": "https://localhost:8080/",
          "height": 127
        }
      },
      "cell_type": "code",
      "source": [
        "print(np.sqrt(transposed))"
      ],
      "execution_count": 0,
      "outputs": [
        {
          "output_type": "stream",
          "text": [
            "[[1.         2.         2.64575131]\n",
            " [3.16227766 3.60555128 4.        ]\n",
            " [1.41421356 2.23606798 2.82842712]\n",
            " [3.31662479 3.74165739 4.12310563]\n",
            " [1.73205081 2.44948974 3.        ]\n",
            " [3.46410162 3.87298335 4.24264069]]\n"
          ],
          "name": "stdout"
        }
      ]
    },
    {
      "metadata": {
        "id": "C7d5BP5hWBUq",
        "colab_type": "code",
        "outputId": "05b3131c-48c8-4e9d-88b8-8e9a587aeaf4",
        "colab": {
          "base_uri": "https://localhost:8080/",
          "height": 127
        }
      },
      "cell_type": "code",
      "source": [
        "print(np.power(transposed, 10))"
      ],
      "execution_count": 0,
      "outputs": [
        {
          "output_type": "stream",
          "text": [
            "[[            1       1048576     282475249]\n",
            " [  10000000000  137858491849 1099511627776]\n",
            " [         1024       9765625    1073741824]\n",
            " [  25937424601  289254654976 2015993900449]\n",
            " [        59049      60466176    3486784401]\n",
            " [  61917364224  576650390625 3570467226624]]\n"
          ],
          "name": "stdout"
        }
      ]
    },
    {
      "metadata": {
        "id": "diRuno6dXkcO",
        "colab_type": "text"
      },
      "cell_type": "markdown",
      "source": [
        "## Numpy Matrix Statistics Operations"
      ]
    },
    {
      "metadata": {
        "id": "zkt9DmBUXqpN",
        "colab_type": "text"
      },
      "cell_type": "markdown",
      "source": [
        "* **We will almost never have to find the statistics for a whole matrix. **\n",
        "\n",
        "* **It is mostly used for specified columns and rows**"
      ]
    },
    {
      "metadata": {
        "id": "sMqfOvfOXnkX",
        "colab_type": "text"
      },
      "cell_type": "markdown",
      "source": [
        "### Mean"
      ]
    },
    {
      "metadata": {
        "id": "QQJ7gO7JYEvp",
        "colab_type": "code",
        "outputId": "82ad37a5-6846-4a81-b68d-a6b19a8b23a3",
        "colab": {
          "base_uri": "https://localhost:8080/",
          "height": 35
        }
      },
      "cell_type": "code",
      "source": [
        "transposed.mean()"
      ],
      "execution_count": 0,
      "outputs": [
        {
          "output_type": "execute_result",
          "data": {
            "text/plain": [
              "9.5"
            ]
          },
          "metadata": {
            "tags": []
          },
          "execution_count": 91
        }
      ]
    },
    {
      "metadata": {
        "id": "F-uec0kBYI77",
        "colab_type": "code",
        "outputId": "36b87872-09fa-4526-8d24-48be9557a761",
        "colab": {
          "base_uri": "https://localhost:8080/",
          "height": 35
        }
      },
      "cell_type": "code",
      "source": [
        "print(np.power(transposed, 2).mean())"
      ],
      "execution_count": 0,
      "outputs": [
        {
          "output_type": "stream",
          "text": [
            "117.16666666666667\n"
          ],
          "name": "stdout"
        }
      ]
    },
    {
      "metadata": {
        "id": "wn5O6zpBX8ke",
        "colab_type": "text"
      },
      "cell_type": "markdown",
      "source": [
        "### Variance"
      ]
    },
    {
      "metadata": {
        "id": "XD4U0RUVYSYW",
        "colab_type": "code",
        "outputId": "7af1059e-ff6c-4b9a-e32b-bd960a21edb1",
        "colab": {
          "base_uri": "https://localhost:8080/",
          "height": 35
        }
      },
      "cell_type": "code",
      "source": [
        "transposed2.var()"
      ],
      "execution_count": 0,
      "outputs": [
        {
          "output_type": "execute_result",
          "data": {
            "text/plain": [
              "26.5"
            ]
          },
          "metadata": {
            "tags": []
          },
          "execution_count": 93
        }
      ]
    },
    {
      "metadata": {
        "id": "tJIlvJvzYXk9",
        "colab_type": "code",
        "outputId": "7ec538d7-687b-4942-9e68-a781a5662141",
        "colab": {
          "base_uri": "https://localhost:8080/",
          "height": 35
        }
      },
      "cell_type": "code",
      "source": [
        "print(np.sqrt(transposed).var())"
      ],
      "execution_count": 0,
      "outputs": [
        {
          "output_type": "stream",
          "text": [
            "0.8841629857801211\n"
          ],
          "name": "stdout"
        }
      ]
    },
    {
      "metadata": {
        "id": "P87YgUeTX-jR",
        "colab_type": "text"
      },
      "cell_type": "markdown",
      "source": [
        "### Standard Deviation"
      ]
    },
    {
      "metadata": {
        "id": "fczdwBG6Ydho",
        "colab_type": "code",
        "outputId": "21f7e21f-06b0-49de-c78c-b9fc92ae8666",
        "colab": {
          "base_uri": "https://localhost:8080/",
          "height": 35
        }
      },
      "cell_type": "code",
      "source": [
        "matrix.std()"
      ],
      "execution_count": 0,
      "outputs": [
        {
          "output_type": "execute_result",
          "data": {
            "text/plain": [
              "5.188127472091127"
            ]
          },
          "metadata": {
            "tags": []
          },
          "execution_count": 95
        }
      ]
    },
    {
      "metadata": {
        "id": "xTLElnuIYgYf",
        "colab_type": "code",
        "outputId": "f8f540d5-e283-4825-ee2e-241c8bf90d49",
        "colab": {
          "base_uri": "https://localhost:8080/",
          "height": 35
        }
      },
      "cell_type": "code",
      "source": [
        "np.sqrt(matrix.var()) # The std is the square-root of the variance"
      ],
      "execution_count": 0,
      "outputs": [
        {
          "output_type": "execute_result",
          "data": {
            "text/plain": [
              "5.188127472091127"
            ]
          },
          "metadata": {
            "tags": []
          },
          "execution_count": 96
        }
      ]
    },
    {
      "metadata": {
        "id": "oe_Tq7pTzXRb",
        "colab_type": "text"
      },
      "cell_type": "markdown",
      "source": [
        "# Pandas Dataframe for 2d Data"
      ]
    },
    {
      "metadata": {
        "id": "UebjCeu2zbed",
        "colab_type": "text"
      },
      "cell_type": "markdown",
      "source": [
        "* ** Dataframe: 2D structure that countains a list or dict in a series**"
      ]
    },
    {
      "metadata": {
        "id": "QnTZrEluztQG",
        "colab_type": "text"
      },
      "cell_type": "markdown",
      "source": [
        "## Initializing and Converting to Panda DataFrames"
      ]
    },
    {
      "metadata": {
        "id": "79R9uVUf0GrW",
        "colab_type": "code",
        "colab": {}
      },
      "cell_type": "code",
      "source": [
        "import pandas as pd\n",
        "import numpy as np"
      ],
      "execution_count": 0,
      "outputs": []
    },
    {
      "metadata": {
        "id": "BRbeTsGxz0MV",
        "colab_type": "text"
      },
      "cell_type": "markdown",
      "source": [
        "### Create DataFrame without index (list)"
      ]
    },
    {
      "metadata": {
        "id": "3jeiRFpc0RDA",
        "colab_type": "code",
        "outputId": "c53efcaf-b344-4c3e-c78d-6a5c4471f39c",
        "colab": {
          "base_uri": "https://localhost:8080/",
          "height": 90
        }
      },
      "cell_type": "code",
      "source": [
        "df = pd.DataFrame([[1,2,3], [4,5,6],[7,8,9]])\n",
        "print(df)"
      ],
      "execution_count": 0,
      "outputs": [
        {
          "output_type": "stream",
          "text": [
            "   0  1  2\n",
            "0  1  2  3\n",
            "1  4  5  6\n",
            "2  7  8  9\n"
          ],
          "name": "stdout"
        }
      ]
    },
    {
      "metadata": {
        "id": "6RPZ4Zja0fQ0",
        "colab_type": "text"
      },
      "cell_type": "markdown",
      "source": [
        "\n",
        "\n",
        "---\n",
        "\n"
      ]
    },
    {
      "metadata": {
        "id": "m7laGrFdz4YX",
        "colab_type": "text"
      },
      "cell_type": "markdown",
      "source": [
        "### Create DataFrame with index (dictionary)"
      ]
    },
    {
      "metadata": {
        "id": "9Up5qS-y0xoP",
        "colab_type": "text"
      },
      "cell_type": "markdown",
      "source": [
        "* **The keys are the columns, values are the rows**"
      ]
    },
    {
      "metadata": {
        "id": "7qod4U1o0goq",
        "colab_type": "code",
        "outputId": "987dcf52-1560-4bc1-a7db-eadf26cc2ed8",
        "colab": {
          "base_uri": "https://localhost:8080/",
          "height": 90
        }
      },
      "cell_type": "code",
      "source": [
        "df2 = pd.DataFrame({'col1': [2,4,5], 'col2':[10,20,30], 'col3': [3,9,12]})\n",
        "print(df2)"
      ],
      "execution_count": 0,
      "outputs": [
        {
          "output_type": "stream",
          "text": [
            "   col1  col2  col3\n",
            "0     2    10     3\n",
            "1     4    20     9\n",
            "2     5    30    12\n"
          ],
          "name": "stdout"
        }
      ]
    },
    {
      "metadata": {
        "id": "6DkTmECW1YjU",
        "colab_type": "text"
      },
      "cell_type": "markdown",
      "source": [
        "\n",
        "\n",
        "---\n",
        "\n"
      ]
    },
    {
      "metadata": {
        "id": "3CTBRkpWz8Il",
        "colab_type": "text"
      },
      "cell_type": "markdown",
      "source": [
        "### Convert Numpy Matrix to DataFrame"
      ]
    },
    {
      "metadata": {
        "id": "8dC8L0Jv1YEa",
        "colab_type": "code",
        "outputId": "e8990535-1412-4160-8087-b0f4c42cbf5d",
        "colab": {
          "base_uri": "https://localhost:8080/",
          "height": 54
        }
      },
      "cell_type": "code",
      "source": [
        "m = np.matrix([[1,2,3,],[2,4,6]])\n",
        "print(m)"
      ],
      "execution_count": 0,
      "outputs": [
        {
          "output_type": "stream",
          "text": [
            "[[1 2 3]\n",
            " [2 4 6]]\n"
          ],
          "name": "stdout"
        }
      ]
    },
    {
      "metadata": {
        "id": "kUzTqV6o1hF0",
        "colab_type": "code",
        "outputId": "f3dbee24-4042-40c7-e31d-fedf76ececa6",
        "colab": {
          "base_uri": "https://localhost:8080/",
          "height": 72
        }
      },
      "cell_type": "code",
      "source": [
        "df3 = pd.DataFrame(m)\n",
        "print(df3)"
      ],
      "execution_count": 0,
      "outputs": [
        {
          "output_type": "stream",
          "text": [
            "   0  1  2\n",
            "0  1  2  3\n",
            "1  2  4  6\n"
          ],
          "name": "stdout"
        }
      ]
    },
    {
      "metadata": {
        "id": "s3REfuja1sYc",
        "colab_type": "text"
      },
      "cell_type": "markdown",
      "source": [
        "\n",
        "\n",
        "---\n",
        "\n"
      ]
    },
    {
      "metadata": {
        "id": "HtryFs_Yz_nN",
        "colab_type": "text"
      },
      "cell_type": "markdown",
      "source": [
        "### Convert files/databases"
      ]
    },
    {
      "metadata": {
        "id": "BmRfc3nA1zY2",
        "colab_type": "code",
        "outputId": "5bf87528-974a-4153-c1f0-a19c3782d81c",
        "colab": {
          "resources": {
            "http://localhost:8080/nbextensions/google.colab/files.js": {
              "data": "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",
              "ok": true,
              "headers": [
                [
                  "content-type",
                  "application/javascript"
                ]
              ],
              "status": 200,
              "status_text": "OK"
            }
          },
          "base_uri": "https://localhost:8080/",
          "height": 93
        }
      },
      "cell_type": "code",
      "source": [
        "from google.colab import files\n",
        "uploaded = files.upload()\n",
        "for fn in uploaded.keys():\n",
        "  print('User uploaded files \"{name}\" with {length} bytes'.format(name=fn, length = len(uploaded[fn])))"
      ],
      "execution_count": 0,
      "outputs": [
        {
          "output_type": "display_data",
          "data": {
            "text/html": [
              "\n",
              "     <input type=\"file\" id=\"files-88c9d73b-f4e7-4be9-9511-e86f3550a5b4\" name=\"files[]\" multiple disabled />\n",
              "     <output id=\"result-88c9d73b-f4e7-4be9-9511-e86f3550a5b4\">\n",
              "      Upload widget is only available when the cell has been executed in the\n",
              "      current browser session. Please rerun this cell to enable.\n",
              "      </output>\n",
              "      <script src=\"/nbextensions/google.colab/files.js\"></script> "
            ],
            "text/plain": [
              "<IPython.core.display.HTML object>"
            ]
          },
          "metadata": {
            "tags": []
          }
        },
        {
          "output_type": "stream",
          "text": [
            "Saving NewDB.db to NewDB.db\n",
            "User uploaded files \"NewDB.db\" with 8192 bytes\n"
          ],
          "name": "stdout"
        }
      ]
    },
    {
      "metadata": {
        "id": "ynUVa6tb2uxM",
        "colab_type": "code",
        "colab": {}
      },
      "cell_type": "code",
      "source": [
        "import pandas as pd\n",
        "import sqlite3\n",
        "\n",
        "con = sqlite3.connect(\"Sales.db\")"
      ],
      "execution_count": 0,
      "outputs": []
    },
    {
      "metadata": {
        "id": "kHVTPtMp6Bk4",
        "colab_type": "code",
        "colab": {}
      },
      "cell_type": "code",
      "source": [
        "con2 = sqlite3.connect(\"NewDB.db\")"
      ],
      "execution_count": 0,
      "outputs": []
    },
    {
      "metadata": {
        "id": "FLzD2OClACxq",
        "colab_type": "code",
        "colab": {}
      },
      "cell_type": "code",
      "source": [
        "con3 = sqlite3.connect(\"Supplier.db\")"
      ],
      "execution_count": 0,
      "outputs": []
    },
    {
      "metadata": {
        "id": "V3hH0NQ18a6c",
        "colab_type": "code",
        "colab": {}
      },
      "cell_type": "code",
      "source": [
        "c = con2.cursor()\n",
        "c3 = con3.cursor()"
      ],
      "execution_count": 0,
      "outputs": []
    },
    {
      "metadata": {
        "id": "xq-T-k2c9jjW",
        "colab_type": "code",
        "outputId": "741b7b55-c7c1-410d-92e5-36b13c996c2e",
        "colab": {
          "base_uri": "https://localhost:8080/",
          "height": 35
        }
      },
      "cell_type": "code",
      "source": [
        "c.execute( 'CREATE TABLE Employee(Employee_ID INTEGER PRIMARY KEY, First_Name TEXT, Last_Name Text, Department TEXT, City TEXT)')"
      ],
      "execution_count": 54,
      "outputs": [
        {
          "output_type": "execute_result",
          "data": {
            "text/plain": [
              "<sqlite3.Cursor at 0x7ff9a9e832d0>"
            ]
          },
          "metadata": {
            "tags": []
          },
          "execution_count": 54
        }
      ]
    },
    {
      "metadata": {
        "id": "QD-i4JxJDIuF",
        "colab_type": "code",
        "colab": {
          "base_uri": "https://localhost:8080/",
          "height": 35
        },
        "outputId": "be171c54-2bd4-4cc6-c705-297ffc451e3f"
      },
      "cell_type": "code",
      "source": [
        "c3.execute(\"CREATE TABLE Product(Product_ID INTEGERS PRIMARY KEY, Product_Name TEXT, Price INTEGERS, Supplier_ID INTEGERS, Supplier_Name TEXT)\")\n"
      ],
      "execution_count": 56,
      "outputs": [
        {
          "output_type": "execute_result",
          "data": {
            "text/plain": [
              "<sqlite3.Cursor at 0x7ff9a9e833b0>"
            ]
          },
          "metadata": {
            "tags": []
          },
          "execution_count": 56
        }
      ]
    },
    {
      "metadata": {
        "id": "jZMgqPj-BCy4",
        "colab_type": "code",
        "colab": {
          "base_uri": "https://localhost:8080/",
          "height": 35
        },
        "outputId": "dfc2185b-e8cf-41cd-aeb6-114d4778464c"
      },
      "cell_type": "code",
      "source": [
        "\n",
        "products = [\n",
        "    (30001, 'T-Shirt', 12.98, 40004, \"Studio Warehouse\"),\n",
        "    (30002, 'Tooth Paste', 4.5, 40002, \"BioMed Inc\"),\n",
        "    (30003, 'Speakers', 56.99, 40005, \"CompTech, Inc\"),\n",
        "    (30004, 'Pants', 34.35, 40003, \"FashionRUs\"),\n",
        "    (30005, 'Microphone', 46.21, 40001, \"Music Vibrations, Inc\"),\n",
        "    (30006, 'Tie', 11.09, 40003, \"FashionRUs\"),\n",
        "    (30007, 'Chap Stick', 3.67, 40002, \"BioMed Inc\"),\n",
        "    (30008, 'Medicine', 23.96, 40002, \"BioMed Inc\"),\n",
        "    (30009, 'Headhphones', 31.44, 40001, \"Music Vibrations, Inc\"),\n",
        "    (30010, 'Lotion', 16.77, 40002, \"BioMed Inc\"),\n",
        "    (30011, 'DVD Plyaer', 149.99, 40005, \"CompTech, Inc\"),\n",
        "    (30012, 'Coat', 56.33, 40004, \"Studio Warehouse\"),\n",
        "]\n",
        "\n",
        "c3.executemany('INSERT INTO Product VALUES (?,?,?,?,?)', products)"
      ],
      "execution_count": 58,
      "outputs": [
        {
          "output_type": "execute_result",
          "data": {
            "text/plain": [
              "<sqlite3.Cursor at 0x7ff9a9e833b0>"
            ]
          },
          "metadata": {
            "tags": []
          },
          "execution_count": 58
        }
      ]
    },
    {
      "metadata": {
        "id": "zA_AQaUK5BiA",
        "colab_type": "text"
      },
      "cell_type": "markdown",
      "source": [
        "* ** Querying all tables in DB**"
      ]
    },
    {
      "metadata": {
        "id": "-Bq4jX-k29Fv",
        "colab_type": "code",
        "outputId": "ba8cc521-d4b2-45c9-9ec4-28c2a6f1022a",
        "colab": {
          "base_uri": "https://localhost:8080/",
          "height": 164
        }
      },
      "cell_type": "code",
      "source": [
        "print(pd.read_sql_query(\"select name from sqlite_master where type = 'table'\", con))\n",
        "print(pd.read_sql_query(\"select name from sqlite_master where type = 'table'\", con2))\n",
        "print(pd.read_sql_query(\"select name from sqlite_master where type = 'table'\", con3))"
      ],
      "execution_count": 0,
      "outputs": [
        {
          "output_type": "stream",
          "text": [
            "        name\n",
            "0     Orders\n",
            "1  Customers\n",
            "       name\n",
            "0  Employee\n",
            "       name\n",
            "0  Supplier\n",
            "1   Product\n"
          ],
          "name": "stdout"
        }
      ]
    },
    {
      "metadata": {
        "id": "qbi8Ldwt7W_O",
        "colab_type": "code",
        "colab": {}
      },
      "cell_type": "code",
      "source": [
        "employees = [\n",
        "    (10002, 'Nick', 'Markmen', 'Clothes', 'San Franciso'), \n",
        "    (10003, 'Maria', 'Gonzalez', 'Electronics', 'San Jose'),\n",
        "    (10004, 'George', 'Wong', 'Clothes', 'San Franciso'),\n",
        "    (10005, 'Stephanie', 'Williams', 'Clothes', 'Oakland'),\n",
        "    (10006, 'Miguel', 'Alva', 'Clothes', 'Oakland'),\n",
        "    (10007, 'Jessica', 'Collins', 'Cosmetics', 'San Franciso'),\n",
        "    (10008, 'Ted', 'Anderson', 'Clothes', 'Oakland'),\n",
        "    (10009, 'Victoria', 'Garcia', 'Clothes', 'San Jose'),\n",
        "    (10010, 'Jasmine', 'Khan', 'Parmacy Health & Beauty', 'Oakland'),\n",
        "    (10011, 'Adam', 'Smith', 'Parmacy Health & Beauty', 'San Jose'),\n",
        "    (10012, 'Rachel', 'Kim', 'Electronics', 'San Jose'),\n",
        "]"
      ],
      "execution_count": 0,
      "outputs": []
    },
    {
      "metadata": {
        "id": "Vg6PINrF85-p",
        "colab_type": "code",
        "outputId": "4d53a9c4-14e1-4226-972a-cd3b26447e40",
        "colab": {
          "base_uri": "https://localhost:8080/",
          "height": 35
        }
      },
      "cell_type": "code",
      "source": [
        "c.executemany(\"INSERT INTO Employee VALUES (?,?,?,?,?)\", employees)"
      ],
      "execution_count": 0,
      "outputs": [
        {
          "output_type": "execute_result",
          "data": {
            "text/plain": [
              "<sqlite3.Cursor at 0x7f46556c2110>"
            ]
          },
          "metadata": {
            "tags": []
          },
          "execution_count": 75
        }
      ]
    },
    {
      "metadata": {
        "id": "swygWrBVF4NK",
        "colab_type": "text"
      },
      "cell_type": "markdown",
      "source": [
        "\n",
        "\n",
        "---\n",
        "\n"
      ]
    },
    {
      "metadata": {
        "id": "PnhPFXEZF43L",
        "colab_type": "text"
      },
      "cell_type": "markdown",
      "source": [
        "#### Tables"
      ]
    },
    {
      "metadata": {
        "id": "A9RLuz4d_Bti",
        "colab_type": "text"
      },
      "cell_type": "markdown",
      "source": [
        "* **Asigning panda df of tables**"
      ]
    },
    {
      "metadata": {
        "id": "XeSFwfYY4iPh",
        "colab_type": "code",
        "colab": {}
      },
      "cell_type": "code",
      "source": [
        "customer_df = pd.read_sql_query(\"SELECT * FROM Customers\", con)\n",
        "print(customer_df)"
      ],
      "execution_count": 0,
      "outputs": []
    },
    {
      "metadata": {
        "id": "XBfCwO0z5WI6",
        "colab_type": "code",
        "colab": {}
      },
      "cell_type": "code",
      "source": [
        "order_df = pd.read_sql_query(\"SELECT * FROM Orders\", con)\n",
        "print(order_df)"
      ],
      "execution_count": 0,
      "outputs": []
    },
    {
      "metadata": {
        "id": "ZS291Zbl53y2",
        "colab_type": "code",
        "outputId": "d69c1151-8221-4062-8c52-423615b392c1",
        "colab": {
          "base_uri": "https://localhost:8080/",
          "height": 237
        }
      },
      "cell_type": "code",
      "source": [
        "employee_df = pd.read_sql_query(\"SELECT * FROM Employee\", con2)\n",
        "print(employee_df)"
      ],
      "execution_count": 0,
      "outputs": [
        {
          "output_type": "stream",
          "text": [
            "    Employee_ID First_Name Last_Name               Department          City\n",
            "0         10002       Nick   Markmen                  Clothes  San Franciso\n",
            "1         10003      Maria  Gonzalez              Electronics      San Jose\n",
            "2         10004     George      Wong                  Clothes  San Franciso\n",
            "3         10005  Stephanie  Williams                  Clothes       Oakland\n",
            "4         10006     Miguel      Alva                  Clothes       Oakland\n",
            "5         10007    Jessica   Collins                Cosmetics  San Franciso\n",
            "6         10008        Ted  Anderson                  Clothes       Oakland\n",
            "7         10009   Victoria    Garcia                  Clothes      San Jose\n",
            "8         10010    Jasmine      Khan  Parmacy Health & Beauty       Oakland\n",
            "9         10011       Adam     Smith  Parmacy Health & Beauty      San Jose\n",
            "10        10012     Rachel       Kim              Electronics      San Jose\n"
          ],
          "name": "stdout"
        }
      ]
    },
    {
      "metadata": {
        "id": "CvotNPjnAWLS",
        "colab_type": "code",
        "outputId": "5e3be2c0-d970-43b5-f45a-a04085896b32",
        "colab": {
          "base_uri": "https://localhost:8080/",
          "height": 256
        }
      },
      "cell_type": "code",
      "source": [
        "product_df = pd.read_sql_query(\"Select * from Product\", con3)\n",
        "print(product_df)"
      ],
      "execution_count": 0,
      "outputs": [
        {
          "output_type": "stream",
          "text": [
            "    Product_ID Product_Name   Price  Supplier_ID          Supplier_Name\n",
            "0        30001      T-Shirt   12.98        40004       Studio Warehouse\n",
            "1        30002  Tooth Paste    4.50        40002             BioMed Inc\n",
            "2        30003     Speakers   56.99        40005          CompTech, Inc\n",
            "3        30004        Pants   34.35        40003             FashionRUs\n",
            "4        30005   Microphone   46.21        40001  Music Vibrations, Inc\n",
            "5        30006          Tie   11.09        40003             FashionRUs\n",
            "6        30007   Chap Stick    3.67        40002             BioMed Inc\n",
            "7        30008     Medicine   23.96        40002             BioMed Inc\n",
            "8        30009  Headhphones   31.44        40001  Music Vibrations, Inc\n",
            "9        30010       Lotion   16.77        40002             BioMed Inc\n",
            "10       30011   DVD Plyaer  149.99        40005          CompTech, Inc\n",
            "11       30012         Coat   56.33        40004       Studio Warehouse\n"
          ],
          "name": "stdout"
        }
      ]
    },
    {
      "metadata": {
        "id": "Dusef9QkEGp9",
        "colab_type": "code",
        "colab": {}
      },
      "cell_type": "code",
      "source": [
        "supplier_df = pd.read_sql_query(\"SELECT * FROM Supplier\", con3)\n",
        "print(supplier_df)"
      ],
      "execution_count": 0,
      "outputs": []
    },
    {
      "metadata": {
        "id": "QYw7Uy3rYPKz",
        "colab_type": "text"
      },
      "cell_type": "markdown",
      "source": [
        "\n",
        "\n",
        "---\n",
        "\n"
      ]
    },
    {
      "metadata": {
        "id": "zjoQEeH_GEYT",
        "colab_type": "text"
      },
      "cell_type": "markdown",
      "source": [
        "## Accessing and Selection"
      ]
    },
    {
      "metadata": {
        "id": "L_B-2mBeGam0",
        "colab_type": "code",
        "outputId": "cd6e0d52-4f26-4e37-ed2c-517d9342b2ee",
        "colab": {
          "base_uri": "https://localhost:8080/",
          "height": 237
        }
      },
      "cell_type": "code",
      "source": [
        "employee_df['First_Name']"
      ],
      "execution_count": 0,
      "outputs": [
        {
          "output_type": "execute_result",
          "data": {
            "text/plain": [
              "0          Nick\n",
              "1         Maria\n",
              "2        George\n",
              "3     Stephanie\n",
              "4        Miguel\n",
              "5       Jessica\n",
              "6           Ted\n",
              "7      Victoria\n",
              "8       Jasmine\n",
              "9          Adam\n",
              "10       Rachel\n",
              "Name: First_Name, dtype: object"
            ]
          },
          "metadata": {
            "tags": []
          },
          "execution_count": 105
        }
      ]
    },
    {
      "metadata": {
        "id": "-So5sG4nG2lK",
        "colab_type": "code",
        "outputId": "7303900f-6064-40c4-aa15-141010e13183",
        "colab": {
          "base_uri": "https://localhost:8080/",
          "height": 175
        }
      },
      "cell_type": "code",
      "source": [
        "employee_df[:].head(4)"
      ],
      "execution_count": 0,
      "outputs": [
        {
          "output_type": "execute_result",
          "data": {
            "text/html": [
              "<div>\n",
              "<style scoped>\n",
              "    .dataframe tbody tr th:only-of-type {\n",
              "        vertical-align: middle;\n",
              "    }\n",
              "\n",
              "    .dataframe tbody tr th {\n",
              "        vertical-align: top;\n",
              "    }\n",
              "\n",
              "    .dataframe thead th {\n",
              "        text-align: right;\n",
              "    }\n",
              "</style>\n",
              "<table border=\"1\" class=\"dataframe\">\n",
              "  <thead>\n",
              "    <tr style=\"text-align: right;\">\n",
              "      <th></th>\n",
              "      <th>Employee_ID</th>\n",
              "      <th>First_Name</th>\n",
              "      <th>Last_Name</th>\n",
              "      <th>Department</th>\n",
              "      <th>City</th>\n",
              "    </tr>\n",
              "  </thead>\n",
              "  <tbody>\n",
              "    <tr>\n",
              "      <th>0</th>\n",
              "      <td>10002</td>\n",
              "      <td>Nick</td>\n",
              "      <td>Markmen</td>\n",
              "      <td>Clothes</td>\n",
              "      <td>San Franciso</td>\n",
              "    </tr>\n",
              "    <tr>\n",
              "      <th>1</th>\n",
              "      <td>10003</td>\n",
              "      <td>Maria</td>\n",
              "      <td>Gonzalez</td>\n",
              "      <td>Electronics</td>\n",
              "      <td>San Jose</td>\n",
              "    </tr>\n",
              "    <tr>\n",
              "      <th>2</th>\n",
              "      <td>10004</td>\n",
              "      <td>George</td>\n",
              "      <td>Wong</td>\n",
              "      <td>Clothes</td>\n",
              "      <td>San Franciso</td>\n",
              "    </tr>\n",
              "    <tr>\n",
              "      <th>3</th>\n",
              "      <td>10005</td>\n",
              "      <td>Stephanie</td>\n",
              "      <td>Williams</td>\n",
              "      <td>Clothes</td>\n",
              "      <td>Oakland</td>\n",
              "    </tr>\n",
              "  </tbody>\n",
              "</table>\n",
              "</div>"
            ],
            "text/plain": [
              "   Employee_ID First_Name Last_Name   Department          City\n",
              "0        10002       Nick   Markmen      Clothes  San Franciso\n",
              "1        10003      Maria  Gonzalez  Electronics      San Jose\n",
              "2        10004     George      Wong      Clothes  San Franciso\n",
              "3        10005  Stephanie  Williams      Clothes       Oakland"
            ]
          },
          "metadata": {
            "tags": []
          },
          "execution_count": 113
        }
      ]
    },
    {
      "metadata": {
        "id": "gzIw7r12Gjxr",
        "colab_type": "code",
        "outputId": "cb587551-a872-42c2-ac24-ae0e3ef3a862",
        "colab": {
          "base_uri": "https://localhost:8080/",
          "height": 143
        }
      },
      "cell_type": "code",
      "source": [
        "order_df[:]"
      ],
      "execution_count": 0,
      "outputs": [
        {
          "output_type": "execute_result",
          "data": {
            "text/html": [
              "<div>\n",
              "<style scoped>\n",
              "    .dataframe tbody tr th:only-of-type {\n",
              "        vertical-align: middle;\n",
              "    }\n",
              "\n",
              "    .dataframe tbody tr th {\n",
              "        vertical-align: top;\n",
              "    }\n",
              "\n",
              "    .dataframe thead th {\n",
              "        text-align: right;\n",
              "    }\n",
              "</style>\n",
              "<table border=\"1\" class=\"dataframe\">\n",
              "  <thead>\n",
              "    <tr style=\"text-align: right;\">\n",
              "      <th></th>\n",
              "      <th>num1</th>\n",
              "      <th>num2</th>\n",
              "      <th>num3</th>\n",
              "      <th>num4</th>\n",
              "      <th>Date</th>\n",
              "    </tr>\n",
              "  </thead>\n",
              "  <tbody>\n",
              "    <tr>\n",
              "      <th>0</th>\n",
              "      <td>50010</td>\n",
              "      <td>20013</td>\n",
              "      <td>30004</td>\n",
              "      <td>10008</td>\n",
              "      <td>17-04-11</td>\n",
              "    </tr>\n",
              "    <tr>\n",
              "      <th>1</th>\n",
              "      <td>50011</td>\n",
              "      <td>20014</td>\n",
              "      <td>30005</td>\n",
              "      <td>10009</td>\n",
              "      <td>19-09-16</td>\n",
              "    </tr>\n",
              "    <tr>\n",
              "      <th>2</th>\n",
              "      <td>50020</td>\n",
              "      <td>20015</td>\n",
              "      <td>30005</td>\n",
              "      <td>10009</td>\n",
              "      <td>20-10-20</td>\n",
              "    </tr>\n",
              "  </tbody>\n",
              "</table>\n",
              "</div>"
            ],
            "text/plain": [
              "    num1   num2   num3   num4      Date\n",
              "0  50010  20013  30004  10008  17-04-11\n",
              "1  50011  20014  30005  10009  19-09-16\n",
              "2  50020  20015  30005  10009  20-10-20"
            ]
          },
          "metadata": {
            "tags": []
          },
          "execution_count": 107
        }
      ]
    },
    {
      "metadata": {
        "id": "Nx2UQ0HZHsuo",
        "colab_type": "text"
      },
      "cell_type": "markdown",
      "source": [
        "\n",
        "\n",
        "---\n",
        "\n"
      ]
    },
    {
      "metadata": {
        "id": "4My_wc84HX4q",
        "colab_type": "text"
      },
      "cell_type": "markdown",
      "source": [
        "**Accessing ROWS by  table[col] [ row ]**\n",
        "\n",
        "* ** Not suggested. **\n",
        "\n",
        "* Too complex"
      ]
    },
    {
      "metadata": {
        "id": "aumT5JwoIGBn",
        "colab_type": "code",
        "outputId": "a05b1a73-5db5-4d01-a5b8-6d166796857a",
        "colab": {
          "base_uri": "https://localhost:8080/",
          "height": 90
        }
      },
      "cell_type": "code",
      "source": [
        "employee_df['Last_Name'][1:4]"
      ],
      "execution_count": 0,
      "outputs": [
        {
          "output_type": "execute_result",
          "data": {
            "text/plain": [
              "1    Gonzalez\n",
              "2        Wong\n",
              "3    Williams\n",
              "Name: Last_Name, dtype: object"
            ]
          },
          "metadata": {
            "tags": []
          },
          "execution_count": 124
        }
      ]
    },
    {
      "metadata": {
        "id": "BOxEJnZ8YNp6",
        "colab_type": "text"
      },
      "cell_type": "markdown",
      "source": [
        "\n",
        "\n",
        "---\n",
        "\n"
      ]
    },
    {
      "metadata": {
        "id": "2noaXc9RGHLi",
        "colab_type": "text"
      },
      "cell_type": "markdown",
      "source": [
        "### Selection by Label *"
      ]
    },
    {
      "metadata": {
        "id": "sOKBjPbjJVFA",
        "colab_type": "text"
      },
      "cell_type": "markdown",
      "source": [
        "** Recommended way**: Follow ( row, col) order**"
      ]
    },
    {
      "metadata": {
        "id": "hsqFg4fGJTpo",
        "colab_type": "code",
        "outputId": "ff5c8f79-17cf-4c34-f948-897624c9b93c",
        "colab": {
          "base_uri": "https://localhost:8080/",
          "height": 143
        }
      },
      "cell_type": "code",
      "source": [
        "df2.loc[:, ['col1', 'col2']]"
      ],
      "execution_count": 0,
      "outputs": [
        {
          "output_type": "execute_result",
          "data": {
            "text/html": [
              "<div>\n",
              "<style scoped>\n",
              "    .dataframe tbody tr th:only-of-type {\n",
              "        vertical-align: middle;\n",
              "    }\n",
              "\n",
              "    .dataframe tbody tr th {\n",
              "        vertical-align: top;\n",
              "    }\n",
              "\n",
              "    .dataframe thead th {\n",
              "        text-align: right;\n",
              "    }\n",
              "</style>\n",
              "<table border=\"1\" class=\"dataframe\">\n",
              "  <thead>\n",
              "    <tr style=\"text-align: right;\">\n",
              "      <th></th>\n",
              "      <th>col1</th>\n",
              "      <th>col2</th>\n",
              "    </tr>\n",
              "  </thead>\n",
              "  <tbody>\n",
              "    <tr>\n",
              "      <th>0</th>\n",
              "      <td>2</td>\n",
              "      <td>10</td>\n",
              "    </tr>\n",
              "    <tr>\n",
              "      <th>1</th>\n",
              "      <td>4</td>\n",
              "      <td>20</td>\n",
              "    </tr>\n",
              "    <tr>\n",
              "      <th>2</th>\n",
              "      <td>5</td>\n",
              "      <td>30</td>\n",
              "    </tr>\n",
              "  </tbody>\n",
              "</table>\n",
              "</div>"
            ],
            "text/plain": [
              "   col1  col2\n",
              "0     2    10\n",
              "1     4    20\n",
              "2     5    30"
            ]
          },
          "metadata": {
            "tags": []
          },
          "execution_count": 126
        }
      ]
    },
    {
      "metadata": {
        "id": "b_lcGk9rJs4B",
        "colab_type": "code",
        "outputId": "906081a9-eaa5-4a9b-cfd6-e47c4d5d62d9",
        "colab": {
          "base_uri": "https://localhost:8080/",
          "height": 206
        }
      },
      "cell_type": "code",
      "source": [
        "supplier_df.loc[:]"
      ],
      "execution_count": 0,
      "outputs": [
        {
          "output_type": "execute_result",
          "data": {
            "text/html": [
              "<div>\n",
              "<style scoped>\n",
              "    .dataframe tbody tr th:only-of-type {\n",
              "        vertical-align: middle;\n",
              "    }\n",
              "\n",
              "    .dataframe tbody tr th {\n",
              "        vertical-align: top;\n",
              "    }\n",
              "\n",
              "    .dataframe thead th {\n",
              "        text-align: right;\n",
              "    }\n",
              "</style>\n",
              "<table border=\"1\" class=\"dataframe\">\n",
              "  <thead>\n",
              "    <tr style=\"text-align: right;\">\n",
              "      <th></th>\n",
              "      <th>Supplier_ID</th>\n",
              "      <th>Name</th>\n",
              "      <th>City</th>\n",
              "    </tr>\n",
              "  </thead>\n",
              "  <tbody>\n",
              "    <tr>\n",
              "      <th>0</th>\n",
              "      <td>40001</td>\n",
              "      <td>Music Vibrations, Inc</td>\n",
              "      <td>Oakland</td>\n",
              "    </tr>\n",
              "    <tr>\n",
              "      <th>1</th>\n",
              "      <td>40002</td>\n",
              "      <td>BioMed Inc</td>\n",
              "      <td>San Franciso</td>\n",
              "    </tr>\n",
              "    <tr>\n",
              "      <th>2</th>\n",
              "      <td>40003</td>\n",
              "      <td>FashionRUs</td>\n",
              "      <td>San Jose</td>\n",
              "    </tr>\n",
              "    <tr>\n",
              "      <th>3</th>\n",
              "      <td>40004</td>\n",
              "      <td>Studio Warehouse</td>\n",
              "      <td>San Franciso</td>\n",
              "    </tr>\n",
              "    <tr>\n",
              "      <th>4</th>\n",
              "      <td>40005</td>\n",
              "      <td>CompTech, Inc</td>\n",
              "      <td>San Jose</td>\n",
              "    </tr>\n",
              "  </tbody>\n",
              "</table>\n",
              "</div>"
            ],
            "text/plain": [
              "   Supplier_ID                   Name          City\n",
              "0        40001  Music Vibrations, Inc       Oakland\n",
              "1        40002             BioMed Inc  San Franciso\n",
              "2        40003             FashionRUs      San Jose\n",
              "3        40004       Studio Warehouse  San Franciso\n",
              "4        40005          CompTech, Inc      San Jose"
            ]
          },
          "metadata": {
            "tags": []
          },
          "execution_count": 128
        }
      ]
    },
    {
      "metadata": {
        "id": "lmNQfH8OKAnf",
        "colab_type": "code",
        "outputId": "dd35cd93-26e7-4f07-ae46-cd3a3e5001ea",
        "colab": {
          "base_uri": "https://localhost:8080/",
          "height": 143
        }
      },
      "cell_type": "code",
      "source": [
        "# Does not follow conventioal [:]\n",
        "\n",
        "supplier_df.loc[2:4, ['City']]\n"
      ],
      "execution_count": 0,
      "outputs": [
        {
          "output_type": "execute_result",
          "data": {
            "text/html": [
              "<div>\n",
              "<style scoped>\n",
              "    .dataframe tbody tr th:only-of-type {\n",
              "        vertical-align: middle;\n",
              "    }\n",
              "\n",
              "    .dataframe tbody tr th {\n",
              "        vertical-align: top;\n",
              "    }\n",
              "\n",
              "    .dataframe thead th {\n",
              "        text-align: right;\n",
              "    }\n",
              "</style>\n",
              "<table border=\"1\" class=\"dataframe\">\n",
              "  <thead>\n",
              "    <tr style=\"text-align: right;\">\n",
              "      <th></th>\n",
              "      <th>City</th>\n",
              "    </tr>\n",
              "  </thead>\n",
              "  <tbody>\n",
              "    <tr>\n",
              "      <th>2</th>\n",
              "      <td>San Jose</td>\n",
              "    </tr>\n",
              "    <tr>\n",
              "      <th>3</th>\n",
              "      <td>San Franciso</td>\n",
              "    </tr>\n",
              "    <tr>\n",
              "      <th>4</th>\n",
              "      <td>San Jose</td>\n",
              "    </tr>\n",
              "  </tbody>\n",
              "</table>\n",
              "</div>"
            ],
            "text/plain": [
              "           City\n",
              "2      San Jose\n",
              "3  San Franciso\n",
              "4      San Jose"
            ]
          },
          "metadata": {
            "tags": []
          },
          "execution_count": 153
        }
      ]
    },
    {
      "metadata": {
        "id": "o2BHv12UMUVl",
        "colab_type": "code",
        "outputId": "e721cb79-734e-4e62-e910-9682173a884d",
        "colab": {
          "base_uri": "https://localhost:8080/",
          "height": 143
        }
      },
      "cell_type": "code",
      "source": [
        "supplier_df.loc[2:6, ['City', 'Name']]"
      ],
      "execution_count": 0,
      "outputs": [
        {
          "output_type": "execute_result",
          "data": {
            "text/html": [
              "<div>\n",
              "<style scoped>\n",
              "    .dataframe tbody tr th:only-of-type {\n",
              "        vertical-align: middle;\n",
              "    }\n",
              "\n",
              "    .dataframe tbody tr th {\n",
              "        vertical-align: top;\n",
              "    }\n",
              "\n",
              "    .dataframe thead th {\n",
              "        text-align: right;\n",
              "    }\n",
              "</style>\n",
              "<table border=\"1\" class=\"dataframe\">\n",
              "  <thead>\n",
              "    <tr style=\"text-align: right;\">\n",
              "      <th></th>\n",
              "      <th>City</th>\n",
              "      <th>Name</th>\n",
              "    </tr>\n",
              "  </thead>\n",
              "  <tbody>\n",
              "    <tr>\n",
              "      <th>2</th>\n",
              "      <td>San Jose</td>\n",
              "      <td>FashionRUs</td>\n",
              "    </tr>\n",
              "    <tr>\n",
              "      <th>3</th>\n",
              "      <td>San Franciso</td>\n",
              "      <td>Studio Warehouse</td>\n",
              "    </tr>\n",
              "    <tr>\n",
              "      <th>4</th>\n",
              "      <td>San Jose</td>\n",
              "      <td>CompTech, Inc</td>\n",
              "    </tr>\n",
              "  </tbody>\n",
              "</table>\n",
              "</div>"
            ],
            "text/plain": [
              "           City              Name\n",
              "2      San Jose        FashionRUs\n",
              "3  San Franciso  Studio Warehouse\n",
              "4      San Jose     CompTech, Inc"
            ]
          },
          "metadata": {
            "tags": []
          },
          "execution_count": 158
        }
      ]
    },
    {
      "metadata": {
        "id": "1pD8kCMxYL2T",
        "colab_type": "text"
      },
      "cell_type": "markdown",
      "source": [
        "\n",
        "\n",
        "---\n",
        "\n"
      ]
    },
    {
      "metadata": {
        "id": "cnkW2xwaGJMp",
        "colab_type": "text"
      },
      "cell_type": "markdown",
      "source": [
        "### Selection by Position"
      ]
    },
    {
      "metadata": {
        "id": "7Vy27rYgLEse",
        "colab_type": "code",
        "outputId": "8c256a51-c05f-4c8a-8a2a-b7932c82fed7",
        "colab": {
          "base_uri": "https://localhost:8080/",
          "height": 90
        }
      },
      "cell_type": "code",
      "source": [
        "supplier_df.iloc[2]"
      ],
      "execution_count": 0,
      "outputs": [
        {
          "output_type": "execute_result",
          "data": {
            "text/plain": [
              "Supplier_ID         40003\n",
              "Name           FashionRUs\n",
              "City             San Jose\n",
              "Name: 2, dtype: object"
            ]
          },
          "metadata": {
            "tags": []
          },
          "execution_count": 160
        }
      ]
    },
    {
      "metadata": {
        "id": "WYuwhcxeMjWE",
        "colab_type": "code",
        "outputId": "72c3261b-f940-4f46-874f-aec0d43a6fc0",
        "colab": {
          "base_uri": "https://localhost:8080/",
          "height": 112
        }
      },
      "cell_type": "code",
      "source": [
        "supplier_df.iloc[:2, :]"
      ],
      "execution_count": 0,
      "outputs": [
        {
          "output_type": "execute_result",
          "data": {
            "text/html": [
              "<div>\n",
              "<style scoped>\n",
              "    .dataframe tbody tr th:only-of-type {\n",
              "        vertical-align: middle;\n",
              "    }\n",
              "\n",
              "    .dataframe tbody tr th {\n",
              "        vertical-align: top;\n",
              "    }\n",
              "\n",
              "    .dataframe thead th {\n",
              "        text-align: right;\n",
              "    }\n",
              "</style>\n",
              "<table border=\"1\" class=\"dataframe\">\n",
              "  <thead>\n",
              "    <tr style=\"text-align: right;\">\n",
              "      <th></th>\n",
              "      <th>Supplier_ID</th>\n",
              "      <th>Name</th>\n",
              "      <th>City</th>\n",
              "    </tr>\n",
              "  </thead>\n",
              "  <tbody>\n",
              "    <tr>\n",
              "      <th>0</th>\n",
              "      <td>40001</td>\n",
              "      <td>Music Vibrations, Inc</td>\n",
              "      <td>Oakland</td>\n",
              "    </tr>\n",
              "    <tr>\n",
              "      <th>1</th>\n",
              "      <td>40002</td>\n",
              "      <td>BioMed Inc</td>\n",
              "      <td>San Franciso</td>\n",
              "    </tr>\n",
              "  </tbody>\n",
              "</table>\n",
              "</div>"
            ],
            "text/plain": [
              "   Supplier_ID                   Name          City\n",
              "0        40001  Music Vibrations, Inc       Oakland\n",
              "1        40002             BioMed Inc  San Franciso"
            ]
          },
          "metadata": {
            "tags": []
          },
          "execution_count": 161
        }
      ]
    },
    {
      "metadata": {
        "id": "xzob6NNRNnSd",
        "colab_type": "code",
        "outputId": "a9228ab1-9aaa-473d-b2a4-b9684d9eba9d",
        "colab": {
          "base_uri": "https://localhost:8080/",
          "height": 206
        }
      },
      "cell_type": "code",
      "source": [
        "customer_df.iloc[:]"
      ],
      "execution_count": 0,
      "outputs": [
        {
          "output_type": "execute_result",
          "data": {
            "text/html": [
              "<div>\n",
              "<style scoped>\n",
              "    .dataframe tbody tr th:only-of-type {\n",
              "        vertical-align: middle;\n",
              "    }\n",
              "\n",
              "    .dataframe tbody tr th {\n",
              "        vertical-align: top;\n",
              "    }\n",
              "\n",
              "    .dataframe thead th {\n",
              "        text-align: right;\n",
              "    }\n",
              "</style>\n",
              "<table border=\"1\" class=\"dataframe\">\n",
              "  <thead>\n",
              "    <tr style=\"text-align: right;\">\n",
              "      <th></th>\n",
              "      <th>Customer_ID</th>\n",
              "      <th>First_Name</th>\n",
              "      <th>Last_Name</th>\n",
              "      <th>City</th>\n",
              "    </tr>\n",
              "  </thead>\n",
              "  <tbody>\n",
              "    <tr>\n",
              "      <th>0</th>\n",
              "      <td>50010</td>\n",
              "      <td>Jeremy</td>\n",
              "      <td>Del Valle</td>\n",
              "      <td>Aguadilla</td>\n",
              "    </tr>\n",
              "    <tr>\n",
              "      <th>1</th>\n",
              "      <td>50011</td>\n",
              "      <td>Joshua</td>\n",
              "      <td>Del Valle</td>\n",
              "      <td>Isabela</td>\n",
              "    </tr>\n",
              "    <tr>\n",
              "      <th>2</th>\n",
              "      <td>50012</td>\n",
              "      <td>Natalia</td>\n",
              "      <td>Hernandez</td>\n",
              "      <td>Isabela</td>\n",
              "    </tr>\n",
              "    <tr>\n",
              "      <th>3</th>\n",
              "      <td>50013</td>\n",
              "      <td>Jose</td>\n",
              "      <td>Rojas</td>\n",
              "      <td>Aguadilla</td>\n",
              "    </tr>\n",
              "    <tr>\n",
              "      <th>4</th>\n",
              "      <td>50014</td>\n",
              "      <td>Carlos</td>\n",
              "      <td>Robles</td>\n",
              "      <td>Aguadilla</td>\n",
              "    </tr>\n",
              "  </tbody>\n",
              "</table>\n",
              "</div>"
            ],
            "text/plain": [
              "   Customer_ID First_Name  Last_Name       City\n",
              "0        50010     Jeremy  Del Valle  Aguadilla\n",
              "1        50011     Joshua  Del Valle    Isabela\n",
              "2        50012    Natalia  Hernandez    Isabela\n",
              "3        50013       Jose      Rojas  Aguadilla\n",
              "4        50014     Carlos     Robles  Aguadilla"
            ]
          },
          "metadata": {
            "tags": []
          },
          "execution_count": 170
        }
      ]
    },
    {
      "metadata": {
        "id": "ZzP80VUVNyYK",
        "colab_type": "text"
      },
      "cell_type": "markdown",
      "source": [
        "* ** This one does behave like regular [ : ]**"
      ]
    },
    {
      "metadata": {
        "id": "5q8mslv6NHu_",
        "colab_type": "code",
        "outputId": "4fbb1b28-e89d-42ec-9be1-153c42aba4e6",
        "colab": {
          "base_uri": "https://localhost:8080/",
          "height": 206
        }
      },
      "cell_type": "code",
      "source": [
        "customer_df.iloc[:, 1:3]"
      ],
      "execution_count": 0,
      "outputs": [
        {
          "output_type": "execute_result",
          "data": {
            "text/html": [
              "<div>\n",
              "<style scoped>\n",
              "    .dataframe tbody tr th:only-of-type {\n",
              "        vertical-align: middle;\n",
              "    }\n",
              "\n",
              "    .dataframe tbody tr th {\n",
              "        vertical-align: top;\n",
              "    }\n",
              "\n",
              "    .dataframe thead th {\n",
              "        text-align: right;\n",
              "    }\n",
              "</style>\n",
              "<table border=\"1\" class=\"dataframe\">\n",
              "  <thead>\n",
              "    <tr style=\"text-align: right;\">\n",
              "      <th></th>\n",
              "      <th>First_Name</th>\n",
              "      <th>Last_Name</th>\n",
              "    </tr>\n",
              "  </thead>\n",
              "  <tbody>\n",
              "    <tr>\n",
              "      <th>0</th>\n",
              "      <td>Jeremy</td>\n",
              "      <td>Del Valle</td>\n",
              "    </tr>\n",
              "    <tr>\n",
              "      <th>1</th>\n",
              "      <td>Joshua</td>\n",
              "      <td>Del Valle</td>\n",
              "    </tr>\n",
              "    <tr>\n",
              "      <th>2</th>\n",
              "      <td>Natalia</td>\n",
              "      <td>Hernandez</td>\n",
              "    </tr>\n",
              "    <tr>\n",
              "      <th>3</th>\n",
              "      <td>Jose</td>\n",
              "      <td>Rojas</td>\n",
              "    </tr>\n",
              "    <tr>\n",
              "      <th>4</th>\n",
              "      <td>Carlos</td>\n",
              "      <td>Robles</td>\n",
              "    </tr>\n",
              "  </tbody>\n",
              "</table>\n",
              "</div>"
            ],
            "text/plain": [
              "  First_Name  Last_Name\n",
              "0     Jeremy  Del Valle\n",
              "1     Joshua  Del Valle\n",
              "2    Natalia  Hernandez\n",
              "3       Jose      Rojas\n",
              "4     Carlos     Robles"
            ]
          },
          "metadata": {
            "tags": []
          },
          "execution_count": 169
        }
      ]
    },
    {
      "metadata": {
        "id": "e1WQ5l-uOEJ9",
        "colab_type": "code",
        "outputId": "f04c0386-3f8a-4900-c25c-799901ff9d85",
        "colab": {
          "base_uri": "https://localhost:8080/",
          "height": 146
        }
      },
      "cell_type": "code",
      "source": [
        "employee_df.iloc[4:10, 0]"
      ],
      "execution_count": 0,
      "outputs": [
        {
          "output_type": "execute_result",
          "data": {
            "text/plain": [
              "4    10006\n",
              "5    10007\n",
              "6    10008\n",
              "7    10009\n",
              "8    10010\n",
              "9    10011\n",
              "Name: Employee_ID, dtype: int64"
            ]
          },
          "metadata": {
            "tags": []
          },
          "execution_count": 174
        }
      ]
    },
    {
      "metadata": {
        "id": "KNb_BD0UOjS7",
        "colab_type": "code",
        "outputId": "6caa35d4-dade-4a18-eae9-a7cc9fc9a08c",
        "colab": {
          "base_uri": "https://localhost:8080/",
          "height": 112
        }
      },
      "cell_type": "code",
      "source": [
        "employee_df.iloc[4:6, 1:3]"
      ],
      "execution_count": 0,
      "outputs": [
        {
          "output_type": "execute_result",
          "data": {
            "text/html": [
              "<div>\n",
              "<style scoped>\n",
              "    .dataframe tbody tr th:only-of-type {\n",
              "        vertical-align: middle;\n",
              "    }\n",
              "\n",
              "    .dataframe tbody tr th {\n",
              "        vertical-align: top;\n",
              "    }\n",
              "\n",
              "    .dataframe thead th {\n",
              "        text-align: right;\n",
              "    }\n",
              "</style>\n",
              "<table border=\"1\" class=\"dataframe\">\n",
              "  <thead>\n",
              "    <tr style=\"text-align: right;\">\n",
              "      <th></th>\n",
              "      <th>First_Name</th>\n",
              "      <th>Last_Name</th>\n",
              "    </tr>\n",
              "  </thead>\n",
              "  <tbody>\n",
              "    <tr>\n",
              "      <th>4</th>\n",
              "      <td>Miguel</td>\n",
              "      <td>Alva</td>\n",
              "    </tr>\n",
              "    <tr>\n",
              "      <th>5</th>\n",
              "      <td>Jessica</td>\n",
              "      <td>Collins</td>\n",
              "    </tr>\n",
              "  </tbody>\n",
              "</table>\n",
              "</div>"
            ],
            "text/plain": [
              "  First_Name Last_Name\n",
              "4     Miguel      Alva\n",
              "5    Jessica   Collins"
            ]
          },
          "metadata": {
            "tags": []
          },
          "execution_count": 175
        }
      ]
    },
    {
      "metadata": {
        "id": "akm3V2jdOwcK",
        "colab_type": "text"
      },
      "cell_type": "markdown",
      "source": [
        "\n",
        "\n",
        "---\n",
        "\n"
      ]
    },
    {
      "metadata": {
        "id": "uw26ubukGO4b",
        "colab_type": "text"
      },
      "cell_type": "markdown",
      "source": [
        "### Selection by Slicing"
      ]
    },
    {
      "metadata": {
        "id": "TT2kAXMON_KU",
        "colab_type": "code",
        "outputId": "3e2523b5-3cd8-48b5-ac61-872fef2c7c27",
        "colab": {
          "base_uri": "https://localhost:8080/",
          "height": 143
        }
      },
      "cell_type": "code",
      "source": [
        "employee_df.loc[1:3, ['First_Name']]"
      ],
      "execution_count": 0,
      "outputs": [
        {
          "output_type": "execute_result",
          "data": {
            "text/html": [
              "<div>\n",
              "<style scoped>\n",
              "    .dataframe tbody tr th:only-of-type {\n",
              "        vertical-align: middle;\n",
              "    }\n",
              "\n",
              "    .dataframe tbody tr th {\n",
              "        vertical-align: top;\n",
              "    }\n",
              "\n",
              "    .dataframe thead th {\n",
              "        text-align: right;\n",
              "    }\n",
              "</style>\n",
              "<table border=\"1\" class=\"dataframe\">\n",
              "  <thead>\n",
              "    <tr style=\"text-align: right;\">\n",
              "      <th></th>\n",
              "      <th>First_Name</th>\n",
              "    </tr>\n",
              "  </thead>\n",
              "  <tbody>\n",
              "    <tr>\n",
              "      <th>1</th>\n",
              "      <td>Maria</td>\n",
              "    </tr>\n",
              "    <tr>\n",
              "      <th>2</th>\n",
              "      <td>George</td>\n",
              "    </tr>\n",
              "    <tr>\n",
              "      <th>3</th>\n",
              "      <td>Stephanie</td>\n",
              "    </tr>\n",
              "  </tbody>\n",
              "</table>\n",
              "</div>"
            ],
            "text/plain": [
              "  First_Name\n",
              "1      Maria\n",
              "2     George\n",
              "3  Stephanie"
            ]
          },
          "metadata": {
            "tags": []
          },
          "execution_count": 178
        }
      ]
    },
    {
      "metadata": {
        "id": "jP3XGB_pQUN4",
        "colab_type": "code",
        "outputId": "fc4d4281-fa9f-424c-b668-92d5f24deb92",
        "colab": {
          "base_uri": "https://localhost:8080/",
          "height": 143
        }
      },
      "cell_type": "code",
      "source": [
        "employee_df.loc[1:3, 'First_Name':'Last_Name']"
      ],
      "execution_count": 0,
      "outputs": [
        {
          "output_type": "execute_result",
          "data": {
            "text/html": [
              "<div>\n",
              "<style scoped>\n",
              "    .dataframe tbody tr th:only-of-type {\n",
              "        vertical-align: middle;\n",
              "    }\n",
              "\n",
              "    .dataframe tbody tr th {\n",
              "        vertical-align: top;\n",
              "    }\n",
              "\n",
              "    .dataframe thead th {\n",
              "        text-align: right;\n",
              "    }\n",
              "</style>\n",
              "<table border=\"1\" class=\"dataframe\">\n",
              "  <thead>\n",
              "    <tr style=\"text-align: right;\">\n",
              "      <th></th>\n",
              "      <th>First_Name</th>\n",
              "      <th>Last_Name</th>\n",
              "    </tr>\n",
              "  </thead>\n",
              "  <tbody>\n",
              "    <tr>\n",
              "      <th>1</th>\n",
              "      <td>Maria</td>\n",
              "      <td>Gonzalez</td>\n",
              "    </tr>\n",
              "    <tr>\n",
              "      <th>2</th>\n",
              "      <td>George</td>\n",
              "      <td>Wong</td>\n",
              "    </tr>\n",
              "    <tr>\n",
              "      <th>3</th>\n",
              "      <td>Stephanie</td>\n",
              "      <td>Williams</td>\n",
              "    </tr>\n",
              "  </tbody>\n",
              "</table>\n",
              "</div>"
            ],
            "text/plain": [
              "  First_Name Last_Name\n",
              "1      Maria  Gonzalez\n",
              "2     George      Wong\n",
              "3  Stephanie  Williams"
            ]
          },
          "metadata": {
            "tags": []
          },
          "execution_count": 185
        }
      ]
    },
    {
      "metadata": {
        "id": "1NL__8byQ7RJ",
        "colab_type": "text"
      },
      "cell_type": "markdown",
      "source": [
        "$$.iloc treats [ : ]$$  like normal"
      ]
    },
    {
      "metadata": {
        "id": "AUa-Ji0qQv8Q",
        "colab_type": "code",
        "outputId": "c1db1651-416e-49f6-98f7-f2e32c3f36ad",
        "colab": {
          "base_uri": "https://localhost:8080/",
          "height": 112
        }
      },
      "cell_type": "code",
      "source": [
        "\n",
        "employee_df.iloc[1:3, 1:3]"
      ],
      "execution_count": 0,
      "outputs": [
        {
          "output_type": "execute_result",
          "data": {
            "text/html": [
              "<div>\n",
              "<style scoped>\n",
              "    .dataframe tbody tr th:only-of-type {\n",
              "        vertical-align: middle;\n",
              "    }\n",
              "\n",
              "    .dataframe tbody tr th {\n",
              "        vertical-align: top;\n",
              "    }\n",
              "\n",
              "    .dataframe thead th {\n",
              "        text-align: right;\n",
              "    }\n",
              "</style>\n",
              "<table border=\"1\" class=\"dataframe\">\n",
              "  <thead>\n",
              "    <tr style=\"text-align: right;\">\n",
              "      <th></th>\n",
              "      <th>First_Name</th>\n",
              "      <th>Last_Name</th>\n",
              "    </tr>\n",
              "  </thead>\n",
              "  <tbody>\n",
              "    <tr>\n",
              "      <th>1</th>\n",
              "      <td>Maria</td>\n",
              "      <td>Gonzalez</td>\n",
              "    </tr>\n",
              "    <tr>\n",
              "      <th>2</th>\n",
              "      <td>George</td>\n",
              "      <td>Wong</td>\n",
              "    </tr>\n",
              "  </tbody>\n",
              "</table>\n",
              "</div>"
            ],
            "text/plain": [
              "  First_Name Last_Name\n",
              "1      Maria  Gonzalez\n",
              "2     George      Wong"
            ]
          },
          "metadata": {
            "tags": []
          },
          "execution_count": 188
        }
      ]
    },
    {
      "metadata": {
        "id": "c1JyTEgIYKFq",
        "colab_type": "text"
      },
      "cell_type": "markdown",
      "source": [
        "\n",
        "\n",
        "---\n",
        "\n"
      ]
    },
    {
      "metadata": {
        "id": "vrbWJPLOGTDJ",
        "colab_type": "text"
      },
      "cell_type": "markdown",
      "source": [
        "### Access by Condition AND OR NOT"
      ]
    },
    {
      "metadata": {
        "id": "S_YQlkyERXcB",
        "colab_type": "code",
        "outputId": "d6253fce-49bc-4f76-c452-00ff65a618e4",
        "colab": {
          "base_uri": "https://localhost:8080/",
          "height": 426
        }
      },
      "cell_type": "code",
      "source": [
        "product_df.loc[:]"
      ],
      "execution_count": 0,
      "outputs": [
        {
          "output_type": "execute_result",
          "data": {
            "text/html": [
              "<div>\n",
              "<style scoped>\n",
              "    .dataframe tbody tr th:only-of-type {\n",
              "        vertical-align: middle;\n",
              "    }\n",
              "\n",
              "    .dataframe tbody tr th {\n",
              "        vertical-align: top;\n",
              "    }\n",
              "\n",
              "    .dataframe thead th {\n",
              "        text-align: right;\n",
              "    }\n",
              "</style>\n",
              "<table border=\"1\" class=\"dataframe\">\n",
              "  <thead>\n",
              "    <tr style=\"text-align: right;\">\n",
              "      <th></th>\n",
              "      <th>Product_ID</th>\n",
              "      <th>Product_Name</th>\n",
              "      <th>Price</th>\n",
              "      <th>Supplier_ID</th>\n",
              "      <th>Supplier_Name</th>\n",
              "    </tr>\n",
              "  </thead>\n",
              "  <tbody>\n",
              "    <tr>\n",
              "      <th>0</th>\n",
              "      <td>30001</td>\n",
              "      <td>T-Shirt</td>\n",
              "      <td>12.98</td>\n",
              "      <td>40004</td>\n",
              "      <td>Studio Warehouse</td>\n",
              "    </tr>\n",
              "    <tr>\n",
              "      <th>1</th>\n",
              "      <td>30002</td>\n",
              "      <td>Tooth Paste</td>\n",
              "      <td>4.50</td>\n",
              "      <td>40002</td>\n",
              "      <td>BioMed Inc</td>\n",
              "    </tr>\n",
              "    <tr>\n",
              "      <th>2</th>\n",
              "      <td>30003</td>\n",
              "      <td>Speakers</td>\n",
              "      <td>56.99</td>\n",
              "      <td>40005</td>\n",
              "      <td>CompTech, Inc</td>\n",
              "    </tr>\n",
              "    <tr>\n",
              "      <th>3</th>\n",
              "      <td>30004</td>\n",
              "      <td>Pants</td>\n",
              "      <td>34.35</td>\n",
              "      <td>40003</td>\n",
              "      <td>FashionRUs</td>\n",
              "    </tr>\n",
              "    <tr>\n",
              "      <th>4</th>\n",
              "      <td>30005</td>\n",
              "      <td>Microphone</td>\n",
              "      <td>46.21</td>\n",
              "      <td>40001</td>\n",
              "      <td>Music Vibrations, Inc</td>\n",
              "    </tr>\n",
              "    <tr>\n",
              "      <th>5</th>\n",
              "      <td>30006</td>\n",
              "      <td>Tie</td>\n",
              "      <td>11.09</td>\n",
              "      <td>40003</td>\n",
              "      <td>FashionRUs</td>\n",
              "    </tr>\n",
              "    <tr>\n",
              "      <th>6</th>\n",
              "      <td>30007</td>\n",
              "      <td>Chap Stick</td>\n",
              "      <td>3.67</td>\n",
              "      <td>40002</td>\n",
              "      <td>BioMed Inc</td>\n",
              "    </tr>\n",
              "    <tr>\n",
              "      <th>7</th>\n",
              "      <td>30008</td>\n",
              "      <td>Medicine</td>\n",
              "      <td>23.96</td>\n",
              "      <td>40002</td>\n",
              "      <td>BioMed Inc</td>\n",
              "    </tr>\n",
              "    <tr>\n",
              "      <th>8</th>\n",
              "      <td>30009</td>\n",
              "      <td>Headhphones</td>\n",
              "      <td>31.44</td>\n",
              "      <td>40001</td>\n",
              "      <td>Music Vibrations, Inc</td>\n",
              "    </tr>\n",
              "    <tr>\n",
              "      <th>9</th>\n",
              "      <td>30010</td>\n",
              "      <td>Lotion</td>\n",
              "      <td>16.77</td>\n",
              "      <td>40002</td>\n",
              "      <td>BioMed Inc</td>\n",
              "    </tr>\n",
              "    <tr>\n",
              "      <th>10</th>\n",
              "      <td>30011</td>\n",
              "      <td>DVD Plyaer</td>\n",
              "      <td>149.99</td>\n",
              "      <td>40005</td>\n",
              "      <td>CompTech, Inc</td>\n",
              "    </tr>\n",
              "    <tr>\n",
              "      <th>11</th>\n",
              "      <td>30012</td>\n",
              "      <td>Coat</td>\n",
              "      <td>56.33</td>\n",
              "      <td>40004</td>\n",
              "      <td>Studio Warehouse</td>\n",
              "    </tr>\n",
              "  </tbody>\n",
              "</table>\n",
              "</div>"
            ],
            "text/plain": [
              "    Product_ID Product_Name   Price  Supplier_ID          Supplier_Name\n",
              "0        30001      T-Shirt   12.98        40004       Studio Warehouse\n",
              "1        30002  Tooth Paste    4.50        40002             BioMed Inc\n",
              "2        30003     Speakers   56.99        40005          CompTech, Inc\n",
              "3        30004        Pants   34.35        40003             FashionRUs\n",
              "4        30005   Microphone   46.21        40001  Music Vibrations, Inc\n",
              "5        30006          Tie   11.09        40003             FashionRUs\n",
              "6        30007   Chap Stick    3.67        40002             BioMed Inc\n",
              "7        30008     Medicine   23.96        40002             BioMed Inc\n",
              "8        30009  Headhphones   31.44        40001  Music Vibrations, Inc\n",
              "9        30010       Lotion   16.77        40002             BioMed Inc\n",
              "10       30011   DVD Plyaer  149.99        40005          CompTech, Inc\n",
              "11       30012         Coat   56.33        40004       Studio Warehouse"
            ]
          },
          "metadata": {
            "tags": []
          },
          "execution_count": 189
        }
      ]
    },
    {
      "metadata": {
        "id": "8_QPitQ4RfOe",
        "colab_type": "code",
        "outputId": "56f6de99-0898-4412-9ebd-4c2228f68842",
        "colab": {
          "base_uri": "https://localhost:8080/",
          "height": 143
        }
      },
      "cell_type": "code",
      "source": [
        "product_df[product_df['Price'] > 50]"
      ],
      "execution_count": 0,
      "outputs": [
        {
          "output_type": "execute_result",
          "data": {
            "text/html": [
              "<div>\n",
              "<style scoped>\n",
              "    .dataframe tbody tr th:only-of-type {\n",
              "        vertical-align: middle;\n",
              "    }\n",
              "\n",
              "    .dataframe tbody tr th {\n",
              "        vertical-align: top;\n",
              "    }\n",
              "\n",
              "    .dataframe thead th {\n",
              "        text-align: right;\n",
              "    }\n",
              "</style>\n",
              "<table border=\"1\" class=\"dataframe\">\n",
              "  <thead>\n",
              "    <tr style=\"text-align: right;\">\n",
              "      <th></th>\n",
              "      <th>Product_ID</th>\n",
              "      <th>Product_Name</th>\n",
              "      <th>Price</th>\n",
              "      <th>Supplier_ID</th>\n",
              "      <th>Supplier_Name</th>\n",
              "    </tr>\n",
              "  </thead>\n",
              "  <tbody>\n",
              "    <tr>\n",
              "      <th>2</th>\n",
              "      <td>30003</td>\n",
              "      <td>Speakers</td>\n",
              "      <td>56.99</td>\n",
              "      <td>40005</td>\n",
              "      <td>CompTech, Inc</td>\n",
              "    </tr>\n",
              "    <tr>\n",
              "      <th>10</th>\n",
              "      <td>30011</td>\n",
              "      <td>DVD Plyaer</td>\n",
              "      <td>149.99</td>\n",
              "      <td>40005</td>\n",
              "      <td>CompTech, Inc</td>\n",
              "    </tr>\n",
              "    <tr>\n",
              "      <th>11</th>\n",
              "      <td>30012</td>\n",
              "      <td>Coat</td>\n",
              "      <td>56.33</td>\n",
              "      <td>40004</td>\n",
              "      <td>Studio Warehouse</td>\n",
              "    </tr>\n",
              "  </tbody>\n",
              "</table>\n",
              "</div>"
            ],
            "text/plain": [
              "    Product_ID Product_Name   Price  Supplier_ID     Supplier_Name\n",
              "2        30003     Speakers   56.99        40005     CompTech, Inc\n",
              "10       30011   DVD Plyaer  149.99        40005     CompTech, Inc\n",
              "11       30012         Coat   56.33        40004  Studio Warehouse"
            ]
          },
          "metadata": {
            "tags": []
          },
          "execution_count": 192
        }
      ]
    },
    {
      "metadata": {
        "id": "N3ckCUuLRwfo",
        "colab_type": "code",
        "outputId": "34449bf4-8498-4930-d910-3b5814d63eb0",
        "colab": {
          "base_uri": "https://localhost:8080/",
          "height": 206
        }
      },
      "cell_type": "code",
      "source": [
        "product_df[(product_df['Product_ID'] > 30004) & (product_df['Price'] > 20)]"
      ],
      "execution_count": 0,
      "outputs": [
        {
          "output_type": "execute_result",
          "data": {
            "text/html": [
              "<div>\n",
              "<style scoped>\n",
              "    .dataframe tbody tr th:only-of-type {\n",
              "        vertical-align: middle;\n",
              "    }\n",
              "\n",
              "    .dataframe tbody tr th {\n",
              "        vertical-align: top;\n",
              "    }\n",
              "\n",
              "    .dataframe thead th {\n",
              "        text-align: right;\n",
              "    }\n",
              "</style>\n",
              "<table border=\"1\" class=\"dataframe\">\n",
              "  <thead>\n",
              "    <tr style=\"text-align: right;\">\n",
              "      <th></th>\n",
              "      <th>Product_ID</th>\n",
              "      <th>Product_Name</th>\n",
              "      <th>Price</th>\n",
              "      <th>Supplier_ID</th>\n",
              "      <th>Supplier_Name</th>\n",
              "    </tr>\n",
              "  </thead>\n",
              "  <tbody>\n",
              "    <tr>\n",
              "      <th>4</th>\n",
              "      <td>30005</td>\n",
              "      <td>Microphone</td>\n",
              "      <td>46.21</td>\n",
              "      <td>40001</td>\n",
              "      <td>Music Vibrations, Inc</td>\n",
              "    </tr>\n",
              "    <tr>\n",
              "      <th>7</th>\n",
              "      <td>30008</td>\n",
              "      <td>Medicine</td>\n",
              "      <td>23.96</td>\n",
              "      <td>40002</td>\n",
              "      <td>BioMed Inc</td>\n",
              "    </tr>\n",
              "    <tr>\n",
              "      <th>8</th>\n",
              "      <td>30009</td>\n",
              "      <td>Headhphones</td>\n",
              "      <td>31.44</td>\n",
              "      <td>40001</td>\n",
              "      <td>Music Vibrations, Inc</td>\n",
              "    </tr>\n",
              "    <tr>\n",
              "      <th>10</th>\n",
              "      <td>30011</td>\n",
              "      <td>DVD Plyaer</td>\n",
              "      <td>149.99</td>\n",
              "      <td>40005</td>\n",
              "      <td>CompTech, Inc</td>\n",
              "    </tr>\n",
              "    <tr>\n",
              "      <th>11</th>\n",
              "      <td>30012</td>\n",
              "      <td>Coat</td>\n",
              "      <td>56.33</td>\n",
              "      <td>40004</td>\n",
              "      <td>Studio Warehouse</td>\n",
              "    </tr>\n",
              "  </tbody>\n",
              "</table>\n",
              "</div>"
            ],
            "text/plain": [
              "    Product_ID Product_Name   Price  Supplier_ID          Supplier_Name\n",
              "4        30005   Microphone   46.21        40001  Music Vibrations, Inc\n",
              "7        30008     Medicine   23.96        40002             BioMed Inc\n",
              "8        30009  Headhphones   31.44        40001  Music Vibrations, Inc\n",
              "10       30011   DVD Plyaer  149.99        40005          CompTech, Inc\n",
              "11       30012         Coat   56.33        40004       Studio Warehouse"
            ]
          },
          "metadata": {
            "tags": []
          },
          "execution_count": 195
        }
      ]
    },
    {
      "metadata": {
        "id": "yzCz1nUkSnSC",
        "colab_type": "code",
        "outputId": "d2032839-2ed5-4176-907f-c1fdfcb92923",
        "colab": {
          "base_uri": "https://localhost:8080/",
          "height": 112
        }
      },
      "cell_type": "code",
      "source": [
        "product_df[(product_df['Price'] < 15) & (product_df['Supplier_Name'] == 'BioMed Inc') ]"
      ],
      "execution_count": 0,
      "outputs": [
        {
          "output_type": "execute_result",
          "data": {
            "text/html": [
              "<div>\n",
              "<style scoped>\n",
              "    .dataframe tbody tr th:only-of-type {\n",
              "        vertical-align: middle;\n",
              "    }\n",
              "\n",
              "    .dataframe tbody tr th {\n",
              "        vertical-align: top;\n",
              "    }\n",
              "\n",
              "    .dataframe thead th {\n",
              "        text-align: right;\n",
              "    }\n",
              "</style>\n",
              "<table border=\"1\" class=\"dataframe\">\n",
              "  <thead>\n",
              "    <tr style=\"text-align: right;\">\n",
              "      <th></th>\n",
              "      <th>Product_ID</th>\n",
              "      <th>Product_Name</th>\n",
              "      <th>Price</th>\n",
              "      <th>Supplier_ID</th>\n",
              "      <th>Supplier_Name</th>\n",
              "    </tr>\n",
              "  </thead>\n",
              "  <tbody>\n",
              "    <tr>\n",
              "      <th>1</th>\n",
              "      <td>30002</td>\n",
              "      <td>Tooth Paste</td>\n",
              "      <td>4.50</td>\n",
              "      <td>40002</td>\n",
              "      <td>BioMed Inc</td>\n",
              "    </tr>\n",
              "    <tr>\n",
              "      <th>6</th>\n",
              "      <td>30007</td>\n",
              "      <td>Chap Stick</td>\n",
              "      <td>3.67</td>\n",
              "      <td>40002</td>\n",
              "      <td>BioMed Inc</td>\n",
              "    </tr>\n",
              "  </tbody>\n",
              "</table>\n",
              "</div>"
            ],
            "text/plain": [
              "   Product_ID Product_Name  Price  Supplier_ID Supplier_Name\n",
              "1       30002  Tooth Paste   4.50        40002    BioMed Inc\n",
              "6       30007   Chap Stick   3.67        40002    BioMed Inc"
            ]
          },
          "metadata": {
            "tags": []
          },
          "execution_count": 197
        }
      ]
    },
    {
      "metadata": {
        "id": "Fc0Xv2mzTC4s",
        "colab_type": "code",
        "outputId": "ab1e21ae-1050-4833-a2dc-d764d3c5903d",
        "colab": {
          "base_uri": "https://localhost:8080/",
          "height": 112
        }
      },
      "cell_type": "code",
      "source": [
        "product_df[(product_df['Product_Name'] == 'Pants') | (product_df['Product_Name'] == 'Tie') ]"
      ],
      "execution_count": 0,
      "outputs": [
        {
          "output_type": "execute_result",
          "data": {
            "text/html": [
              "<div>\n",
              "<style scoped>\n",
              "    .dataframe tbody tr th:only-of-type {\n",
              "        vertical-align: middle;\n",
              "    }\n",
              "\n",
              "    .dataframe tbody tr th {\n",
              "        vertical-align: top;\n",
              "    }\n",
              "\n",
              "    .dataframe thead th {\n",
              "        text-align: right;\n",
              "    }\n",
              "</style>\n",
              "<table border=\"1\" class=\"dataframe\">\n",
              "  <thead>\n",
              "    <tr style=\"text-align: right;\">\n",
              "      <th></th>\n",
              "      <th>Product_ID</th>\n",
              "      <th>Product_Name</th>\n",
              "      <th>Price</th>\n",
              "      <th>Supplier_ID</th>\n",
              "      <th>Supplier_Name</th>\n",
              "    </tr>\n",
              "  </thead>\n",
              "  <tbody>\n",
              "    <tr>\n",
              "      <th>3</th>\n",
              "      <td>30004</td>\n",
              "      <td>Pants</td>\n",
              "      <td>34.35</td>\n",
              "      <td>40003</td>\n",
              "      <td>FashionRUs</td>\n",
              "    </tr>\n",
              "    <tr>\n",
              "      <th>5</th>\n",
              "      <td>30006</td>\n",
              "      <td>Tie</td>\n",
              "      <td>11.09</td>\n",
              "      <td>40003</td>\n",
              "      <td>FashionRUs</td>\n",
              "    </tr>\n",
              "  </tbody>\n",
              "</table>\n",
              "</div>"
            ],
            "text/plain": [
              "   Product_ID Product_Name  Price  Supplier_ID Supplier_Name\n",
              "3       30004        Pants  34.35        40003    FashionRUs\n",
              "5       30006          Tie  11.09        40003    FashionRUs"
            ]
          },
          "metadata": {
            "tags": []
          },
          "execution_count": 198
        }
      ]
    },
    {
      "metadata": {
        "id": "ftpHvQY8TRC_",
        "colab_type": "code",
        "outputId": "8920ca47-aac0-42a9-e56a-4258d2f16592",
        "colab": {
          "base_uri": "https://localhost:8080/",
          "height": 426
        }
      },
      "cell_type": "code",
      "source": [
        "product_df[~(product_df['Product_Name'] == 'Pants') & ~(product_df['Product_Name'] == 'Tie') ]"
      ],
      "execution_count": 0,
      "outputs": [
        {
          "output_type": "execute_result",
          "data": {
            "text/html": [
              "<div>\n",
              "<style scoped>\n",
              "    .dataframe tbody tr th:only-of-type {\n",
              "        vertical-align: middle;\n",
              "    }\n",
              "\n",
              "    .dataframe tbody tr th {\n",
              "        vertical-align: top;\n",
              "    }\n",
              "\n",
              "    .dataframe thead th {\n",
              "        text-align: right;\n",
              "    }\n",
              "</style>\n",
              "<table border=\"1\" class=\"dataframe\">\n",
              "  <thead>\n",
              "    <tr style=\"text-align: right;\">\n",
              "      <th></th>\n",
              "      <th>Product_ID</th>\n",
              "      <th>Product_Name</th>\n",
              "      <th>Price</th>\n",
              "      <th>Supplier_ID</th>\n",
              "      <th>Supplier_Name</th>\n",
              "    </tr>\n",
              "  </thead>\n",
              "  <tbody>\n",
              "    <tr>\n",
              "      <th>0</th>\n",
              "      <td>30001</td>\n",
              "      <td>T-Shirt</td>\n",
              "      <td>12.98</td>\n",
              "      <td>40004</td>\n",
              "      <td>Studio Warehouse</td>\n",
              "    </tr>\n",
              "    <tr>\n",
              "      <th>1</th>\n",
              "      <td>30002</td>\n",
              "      <td>Tooth Paste</td>\n",
              "      <td>4.50</td>\n",
              "      <td>40002</td>\n",
              "      <td>BioMed Inc</td>\n",
              "    </tr>\n",
              "    <tr>\n",
              "      <th>2</th>\n",
              "      <td>30003</td>\n",
              "      <td>Speakers</td>\n",
              "      <td>56.99</td>\n",
              "      <td>40005</td>\n",
              "      <td>CompTech, Inc</td>\n",
              "    </tr>\n",
              "    <tr>\n",
              "      <th>3</th>\n",
              "      <td>30004</td>\n",
              "      <td>Pants</td>\n",
              "      <td>34.35</td>\n",
              "      <td>40003</td>\n",
              "      <td>FashionRUs</td>\n",
              "    </tr>\n",
              "    <tr>\n",
              "      <th>4</th>\n",
              "      <td>30005</td>\n",
              "      <td>Microphone</td>\n",
              "      <td>46.21</td>\n",
              "      <td>40001</td>\n",
              "      <td>Music Vibrations, Inc</td>\n",
              "    </tr>\n",
              "    <tr>\n",
              "      <th>5</th>\n",
              "      <td>30006</td>\n",
              "      <td>Tie</td>\n",
              "      <td>11.09</td>\n",
              "      <td>40003</td>\n",
              "      <td>FashionRUs</td>\n",
              "    </tr>\n",
              "    <tr>\n",
              "      <th>6</th>\n",
              "      <td>30007</td>\n",
              "      <td>Chap Stick</td>\n",
              "      <td>3.67</td>\n",
              "      <td>40002</td>\n",
              "      <td>BioMed Inc</td>\n",
              "    </tr>\n",
              "    <tr>\n",
              "      <th>7</th>\n",
              "      <td>30008</td>\n",
              "      <td>Medicine</td>\n",
              "      <td>23.96</td>\n",
              "      <td>40002</td>\n",
              "      <td>BioMed Inc</td>\n",
              "    </tr>\n",
              "    <tr>\n",
              "      <th>8</th>\n",
              "      <td>30009</td>\n",
              "      <td>Headhphones</td>\n",
              "      <td>31.44</td>\n",
              "      <td>40001</td>\n",
              "      <td>Music Vibrations, Inc</td>\n",
              "    </tr>\n",
              "    <tr>\n",
              "      <th>9</th>\n",
              "      <td>30010</td>\n",
              "      <td>Lotion</td>\n",
              "      <td>16.77</td>\n",
              "      <td>40002</td>\n",
              "      <td>BioMed Inc</td>\n",
              "    </tr>\n",
              "    <tr>\n",
              "      <th>10</th>\n",
              "      <td>30011</td>\n",
              "      <td>DVD Plyaer</td>\n",
              "      <td>149.99</td>\n",
              "      <td>40005</td>\n",
              "      <td>CompTech, Inc</td>\n",
              "    </tr>\n",
              "    <tr>\n",
              "      <th>11</th>\n",
              "      <td>30012</td>\n",
              "      <td>Coat</td>\n",
              "      <td>56.33</td>\n",
              "      <td>40004</td>\n",
              "      <td>Studio Warehouse</td>\n",
              "    </tr>\n",
              "  </tbody>\n",
              "</table>\n",
              "</div>"
            ],
            "text/plain": [
              "    Product_ID Product_Name   Price  Supplier_ID          Supplier_Name\n",
              "0        30001      T-Shirt   12.98        40004       Studio Warehouse\n",
              "1        30002  Tooth Paste    4.50        40002             BioMed Inc\n",
              "2        30003     Speakers   56.99        40005          CompTech, Inc\n",
              "3        30004        Pants   34.35        40003             FashionRUs\n",
              "4        30005   Microphone   46.21        40001  Music Vibrations, Inc\n",
              "5        30006          Tie   11.09        40003             FashionRUs\n",
              "6        30007   Chap Stick    3.67        40002             BioMed Inc\n",
              "7        30008     Medicine   23.96        40002             BioMed Inc\n",
              "8        30009  Headhphones   31.44        40001  Music Vibrations, Inc\n",
              "9        30010       Lotion   16.77        40002             BioMed Inc\n",
              "10       30011   DVD Plyaer  149.99        40005          CompTech, Inc\n",
              "11       30012         Coat   56.33        40004       Studio Warehouse"
            ]
          },
          "metadata": {
            "tags": []
          },
          "execution_count": 204
        }
      ]
    },
    {
      "metadata": {
        "id": "yRajtvtsYIJr",
        "colab_type": "text"
      },
      "cell_type": "markdown",
      "source": [
        "\n",
        "\n",
        "---\n",
        "\n"
      ]
    },
    {
      "metadata": {
        "id": "Tp-Ujl-FGWQB",
        "colab_type": "text"
      },
      "cell_type": "markdown",
      "source": [
        "### Iterations"
      ]
    },
    {
      "metadata": {
        "id": "1iXJtocrVp6X",
        "colab_type": "text"
      },
      "cell_type": "markdown",
      "source": [
        "* ** Not something that is normally done**"
      ]
    },
    {
      "metadata": {
        "id": "UArRR9O7VkHO",
        "colab_type": "code",
        "outputId": "afe42a05-d244-49b8-d2b2-b87bd0d1eb9b",
        "colab": {
          "base_uri": "https://localhost:8080/",
          "height": 237
        }
      },
      "cell_type": "code",
      "source": [
        "print(employee_df)"
      ],
      "execution_count": 0,
      "outputs": [
        {
          "output_type": "stream",
          "text": [
            "    Employee_ID First_Name Last_Name               Department          City\n",
            "0         10002       Nick   Markmen                  Clothes  San Franciso\n",
            "1         10003      Maria  Gonzalez              Electronics      San Jose\n",
            "2         10004     George      Wong                  Clothes  San Franciso\n",
            "3         10005  Stephanie  Williams                  Clothes       Oakland\n",
            "4         10006     Miguel      Alva                  Clothes       Oakland\n",
            "5         10007    Jessica   Collins                Cosmetics  San Franciso\n",
            "6         10008        Ted  Anderson                  Clothes       Oakland\n",
            "7         10009   Victoria    Garcia                  Clothes      San Jose\n",
            "8         10010    Jasmine      Khan  Parmacy Health & Beauty       Oakland\n",
            "9         10011       Adam     Smith  Parmacy Health & Beauty      San Jose\n",
            "10        10012     Rachel       Kim              Electronics      San Jose\n"
          ],
          "name": "stdout"
        }
      ]
    },
    {
      "metadata": {
        "id": "8KtfcvUzV8yf",
        "colab_type": "code",
        "outputId": "af36ea43-ba8e-4150-969a-c04df6cfd5c7",
        "colab": {
          "base_uri": "https://localhost:8080/",
          "height": 219
        }
      },
      "cell_type": "code",
      "source": [
        "# data_frame.itertuples():\n",
        "for row in employee_df.itertuples():\n",
        "  print(row)"
      ],
      "execution_count": 0,
      "outputs": [
        {
          "output_type": "stream",
          "text": [
            "Pandas(Index=0, Employee_ID=10002, First_Name='Nick', Last_Name='Markmen', Department='Clothes', City='San Franciso')\n",
            "Pandas(Index=1, Employee_ID=10003, First_Name='Maria', Last_Name='Gonzalez', Department='Electronics', City='San Jose')\n",
            "Pandas(Index=2, Employee_ID=10004, First_Name='George', Last_Name='Wong', Department='Clothes', City='San Franciso')\n",
            "Pandas(Index=3, Employee_ID=10005, First_Name='Stephanie', Last_Name='Williams', Department='Clothes', City='Oakland')\n",
            "Pandas(Index=4, Employee_ID=10006, First_Name='Miguel', Last_Name='Alva', Department='Clothes', City='Oakland')\n",
            "Pandas(Index=5, Employee_ID=10007, First_Name='Jessica', Last_Name='Collins', Department='Cosmetics', City='San Franciso')\n",
            "Pandas(Index=6, Employee_ID=10008, First_Name='Ted', Last_Name='Anderson', Department='Clothes', City='Oakland')\n",
            "Pandas(Index=7, Employee_ID=10009, First_Name='Victoria', Last_Name='Garcia', Department='Clothes', City='San Jose')\n",
            "Pandas(Index=8, Employee_ID=10010, First_Name='Jasmine', Last_Name='Khan', Department='Parmacy Health & Beauty', City='Oakland')\n",
            "Pandas(Index=9, Employee_ID=10011, First_Name='Adam', Last_Name='Smith', Department='Parmacy Health & Beauty', City='San Jose')\n",
            "Pandas(Index=10, Employee_ID=10012, First_Name='Rachel', Last_Name='Kim', Department='Electronics', City='San Jose')\n"
          ],
          "name": "stdout"
        }
      ]
    },
    {
      "metadata": {
        "id": "oOlGawWRWSkO",
        "colab_type": "code",
        "outputId": "a924c584-f440-4031-e128-897b720887e7",
        "colab": {
          "base_uri": "https://localhost:8080/",
          "height": 1431
        }
      },
      "cell_type": "code",
      "source": [
        "# data_frame.iterrows():\n",
        "for index, row in employee_df.iterrows():\n",
        "  print('\\ni = ', index, row)"
      ],
      "execution_count": 0,
      "outputs": [
        {
          "output_type": "stream",
          "text": [
            "\n",
            "i =  0 Employee_ID           10002\n",
            "First_Name             Nick\n",
            "Last_Name           Markmen\n",
            "Department          Clothes\n",
            "City           San Franciso\n",
            "Name: 0, dtype: object\n",
            "\n",
            "i =  1 Employee_ID          10003\n",
            "First_Name           Maria\n",
            "Last_Name         Gonzalez\n",
            "Department     Electronics\n",
            "City              San Jose\n",
            "Name: 1, dtype: object\n",
            "\n",
            "i =  2 Employee_ID           10004\n",
            "First_Name           George\n",
            "Last_Name              Wong\n",
            "Department          Clothes\n",
            "City           San Franciso\n",
            "Name: 2, dtype: object\n",
            "\n",
            "i =  3 Employee_ID        10005\n",
            "First_Name     Stephanie\n",
            "Last_Name       Williams\n",
            "Department       Clothes\n",
            "City             Oakland\n",
            "Name: 3, dtype: object\n",
            "\n",
            "i =  4 Employee_ID      10006\n",
            "First_Name      Miguel\n",
            "Last_Name         Alva\n",
            "Department     Clothes\n",
            "City           Oakland\n",
            "Name: 4, dtype: object\n",
            "\n",
            "i =  5 Employee_ID           10007\n",
            "First_Name          Jessica\n",
            "Last_Name           Collins\n",
            "Department        Cosmetics\n",
            "City           San Franciso\n",
            "Name: 5, dtype: object\n",
            "\n",
            "i =  6 Employee_ID       10008\n",
            "First_Name          Ted\n",
            "Last_Name      Anderson\n",
            "Department      Clothes\n",
            "City            Oakland\n",
            "Name: 6, dtype: object\n",
            "\n",
            "i =  7 Employee_ID       10009\n",
            "First_Name     Victoria\n",
            "Last_Name        Garcia\n",
            "Department      Clothes\n",
            "City           San Jose\n",
            "Name: 7, dtype: object\n",
            "\n",
            "i =  8 Employee_ID                      10010\n",
            "First_Name                     Jasmine\n",
            "Last_Name                         Khan\n",
            "Department     Parmacy Health & Beauty\n",
            "City                           Oakland\n",
            "Name: 8, dtype: object\n",
            "\n",
            "i =  9 Employee_ID                      10011\n",
            "First_Name                        Adam\n",
            "Last_Name                        Smith\n",
            "Department     Parmacy Health & Beauty\n",
            "City                          San Jose\n",
            "Name: 9, dtype: object\n",
            "\n",
            "i =  10 Employee_ID          10012\n",
            "First_Name          Rachel\n",
            "Last_Name              Kim\n",
            "Department     Electronics\n",
            "City              San Jose\n",
            "Name: 10, dtype: object\n"
          ],
          "name": "stdout"
        }
      ]
    },
    {
      "metadata": {
        "id": "JrWsImzjXJIV",
        "colab_type": "text"
      },
      "cell_type": "markdown",
      "source": [
        "\n",
        "\n",
        "---\n",
        "\n"
      ]
    },
    {
      "metadata": {
        "id": "qjynbgSyGYA8",
        "colab_type": "text"
      },
      "cell_type": "markdown",
      "source": [
        "### Limits/Sorting"
      ]
    },
    {
      "metadata": {
        "id": "CrRO3CQHXKms",
        "colab_type": "code",
        "outputId": "1150cc12-38b7-4a44-d268-57854824a96a",
        "colab": {
          "base_uri": "https://localhost:8080/",
          "height": 394
        }
      },
      "cell_type": "code",
      "source": [
        "employee_df"
      ],
      "execution_count": 0,
      "outputs": [
        {
          "output_type": "execute_result",
          "data": {
            "text/html": [
              "<div>\n",
              "<style scoped>\n",
              "    .dataframe tbody tr th:only-of-type {\n",
              "        vertical-align: middle;\n",
              "    }\n",
              "\n",
              "    .dataframe tbody tr th {\n",
              "        vertical-align: top;\n",
              "    }\n",
              "\n",
              "    .dataframe thead th {\n",
              "        text-align: right;\n",
              "    }\n",
              "</style>\n",
              "<table border=\"1\" class=\"dataframe\">\n",
              "  <thead>\n",
              "    <tr style=\"text-align: right;\">\n",
              "      <th></th>\n",
              "      <th>Employee_ID</th>\n",
              "      <th>First_Name</th>\n",
              "      <th>Last_Name</th>\n",
              "      <th>Department</th>\n",
              "      <th>City</th>\n",
              "    </tr>\n",
              "  </thead>\n",
              "  <tbody>\n",
              "    <tr>\n",
              "      <th>0</th>\n",
              "      <td>10002</td>\n",
              "      <td>Nick</td>\n",
              "      <td>Markmen</td>\n",
              "      <td>Clothes</td>\n",
              "      <td>San Franciso</td>\n",
              "    </tr>\n",
              "    <tr>\n",
              "      <th>1</th>\n",
              "      <td>10003</td>\n",
              "      <td>Maria</td>\n",
              "      <td>Gonzalez</td>\n",
              "      <td>Electronics</td>\n",
              "      <td>San Jose</td>\n",
              "    </tr>\n",
              "    <tr>\n",
              "      <th>2</th>\n",
              "      <td>10004</td>\n",
              "      <td>George</td>\n",
              "      <td>Wong</td>\n",
              "      <td>Clothes</td>\n",
              "      <td>San Franciso</td>\n",
              "    </tr>\n",
              "    <tr>\n",
              "      <th>3</th>\n",
              "      <td>10005</td>\n",
              "      <td>Stephanie</td>\n",
              "      <td>Williams</td>\n",
              "      <td>Clothes</td>\n",
              "      <td>Oakland</td>\n",
              "    </tr>\n",
              "    <tr>\n",
              "      <th>4</th>\n",
              "      <td>10006</td>\n",
              "      <td>Miguel</td>\n",
              "      <td>Alva</td>\n",
              "      <td>Clothes</td>\n",
              "      <td>Oakland</td>\n",
              "    </tr>\n",
              "    <tr>\n",
              "      <th>5</th>\n",
              "      <td>10007</td>\n",
              "      <td>Jessica</td>\n",
              "      <td>Collins</td>\n",
              "      <td>Cosmetics</td>\n",
              "      <td>San Franciso</td>\n",
              "    </tr>\n",
              "    <tr>\n",
              "      <th>6</th>\n",
              "      <td>10008</td>\n",
              "      <td>Ted</td>\n",
              "      <td>Anderson</td>\n",
              "      <td>Clothes</td>\n",
              "      <td>Oakland</td>\n",
              "    </tr>\n",
              "    <tr>\n",
              "      <th>7</th>\n",
              "      <td>10009</td>\n",
              "      <td>Victoria</td>\n",
              "      <td>Garcia</td>\n",
              "      <td>Clothes</td>\n",
              "      <td>San Jose</td>\n",
              "    </tr>\n",
              "    <tr>\n",
              "      <th>8</th>\n",
              "      <td>10010</td>\n",
              "      <td>Jasmine</td>\n",
              "      <td>Khan</td>\n",
              "      <td>Parmacy Health &amp; Beauty</td>\n",
              "      <td>Oakland</td>\n",
              "    </tr>\n",
              "    <tr>\n",
              "      <th>9</th>\n",
              "      <td>10011</td>\n",
              "      <td>Adam</td>\n",
              "      <td>Smith</td>\n",
              "      <td>Parmacy Health &amp; Beauty</td>\n",
              "      <td>San Jose</td>\n",
              "    </tr>\n",
              "    <tr>\n",
              "      <th>10</th>\n",
              "      <td>10012</td>\n",
              "      <td>Rachel</td>\n",
              "      <td>Kim</td>\n",
              "      <td>Electronics</td>\n",
              "      <td>San Jose</td>\n",
              "    </tr>\n",
              "  </tbody>\n",
              "</table>\n",
              "</div>"
            ],
            "text/plain": [
              "    Employee_ID First_Name Last_Name               Department          City\n",
              "0         10002       Nick   Markmen                  Clothes  San Franciso\n",
              "1         10003      Maria  Gonzalez              Electronics      San Jose\n",
              "2         10004     George      Wong                  Clothes  San Franciso\n",
              "3         10005  Stephanie  Williams                  Clothes       Oakland\n",
              "4         10006     Miguel      Alva                  Clothes       Oakland\n",
              "5         10007    Jessica   Collins                Cosmetics  San Franciso\n",
              "6         10008        Ted  Anderson                  Clothes       Oakland\n",
              "7         10009   Victoria    Garcia                  Clothes      San Jose\n",
              "8         10010    Jasmine      Khan  Parmacy Health & Beauty       Oakland\n",
              "9         10011       Adam     Smith  Parmacy Health & Beauty      San Jose\n",
              "10        10012     Rachel       Kim              Electronics      San Jose"
            ]
          },
          "metadata": {
            "tags": []
          },
          "execution_count": 213
        }
      ]
    },
    {
      "metadata": {
        "id": "mqksjNlQXiKs",
        "colab_type": "text"
      },
      "cell_type": "markdown",
      "source": [
        "* ** Alphabetical order **"
      ]
    },
    {
      "metadata": {
        "id": "XaxJat9ZXUKV",
        "colab_type": "code",
        "outputId": "a58d31c7-ff96-4efa-cb7d-39dfe93d2e5b",
        "colab": {
          "base_uri": "https://localhost:8080/",
          "height": 394
        }
      },
      "cell_type": "code",
      "source": [
        "employee_df.sort_values(by=['Last_Name'])"
      ],
      "execution_count": 0,
      "outputs": [
        {
          "output_type": "execute_result",
          "data": {
            "text/html": [
              "<div>\n",
              "<style scoped>\n",
              "    .dataframe tbody tr th:only-of-type {\n",
              "        vertical-align: middle;\n",
              "    }\n",
              "\n",
              "    .dataframe tbody tr th {\n",
              "        vertical-align: top;\n",
              "    }\n",
              "\n",
              "    .dataframe thead th {\n",
              "        text-align: right;\n",
              "    }\n",
              "</style>\n",
              "<table border=\"1\" class=\"dataframe\">\n",
              "  <thead>\n",
              "    <tr style=\"text-align: right;\">\n",
              "      <th></th>\n",
              "      <th>Employee_ID</th>\n",
              "      <th>First_Name</th>\n",
              "      <th>Last_Name</th>\n",
              "      <th>Department</th>\n",
              "      <th>City</th>\n",
              "    </tr>\n",
              "  </thead>\n",
              "  <tbody>\n",
              "    <tr>\n",
              "      <th>4</th>\n",
              "      <td>10006</td>\n",
              "      <td>Miguel</td>\n",
              "      <td>Alva</td>\n",
              "      <td>Clothes</td>\n",
              "      <td>Oakland</td>\n",
              "    </tr>\n",
              "    <tr>\n",
              "      <th>6</th>\n",
              "      <td>10008</td>\n",
              "      <td>Ted</td>\n",
              "      <td>Anderson</td>\n",
              "      <td>Clothes</td>\n",
              "      <td>Oakland</td>\n",
              "    </tr>\n",
              "    <tr>\n",
              "      <th>5</th>\n",
              "      <td>10007</td>\n",
              "      <td>Jessica</td>\n",
              "      <td>Collins</td>\n",
              "      <td>Cosmetics</td>\n",
              "      <td>San Franciso</td>\n",
              "    </tr>\n",
              "    <tr>\n",
              "      <th>7</th>\n",
              "      <td>10009</td>\n",
              "      <td>Victoria</td>\n",
              "      <td>Garcia</td>\n",
              "      <td>Clothes</td>\n",
              "      <td>San Jose</td>\n",
              "    </tr>\n",
              "    <tr>\n",
              "      <th>1</th>\n",
              "      <td>10003</td>\n",
              "      <td>Maria</td>\n",
              "      <td>Gonzalez</td>\n",
              "      <td>Electronics</td>\n",
              "      <td>San Jose</td>\n",
              "    </tr>\n",
              "    <tr>\n",
              "      <th>8</th>\n",
              "      <td>10010</td>\n",
              "      <td>Jasmine</td>\n",
              "      <td>Khan</td>\n",
              "      <td>Parmacy Health &amp; Beauty</td>\n",
              "      <td>Oakland</td>\n",
              "    </tr>\n",
              "    <tr>\n",
              "      <th>10</th>\n",
              "      <td>10012</td>\n",
              "      <td>Rachel</td>\n",
              "      <td>Kim</td>\n",
              "      <td>Electronics</td>\n",
              "      <td>San Jose</td>\n",
              "    </tr>\n",
              "    <tr>\n",
              "      <th>0</th>\n",
              "      <td>10002</td>\n",
              "      <td>Nick</td>\n",
              "      <td>Markmen</td>\n",
              "      <td>Clothes</td>\n",
              "      <td>San Franciso</td>\n",
              "    </tr>\n",
              "    <tr>\n",
              "      <th>9</th>\n",
              "      <td>10011</td>\n",
              "      <td>Adam</td>\n",
              "      <td>Smith</td>\n",
              "      <td>Parmacy Health &amp; Beauty</td>\n",
              "      <td>San Jose</td>\n",
              "    </tr>\n",
              "    <tr>\n",
              "      <th>3</th>\n",
              "      <td>10005</td>\n",
              "      <td>Stephanie</td>\n",
              "      <td>Williams</td>\n",
              "      <td>Clothes</td>\n",
              "      <td>Oakland</td>\n",
              "    </tr>\n",
              "    <tr>\n",
              "      <th>2</th>\n",
              "      <td>10004</td>\n",
              "      <td>George</td>\n",
              "      <td>Wong</td>\n",
              "      <td>Clothes</td>\n",
              "      <td>San Franciso</td>\n",
              "    </tr>\n",
              "  </tbody>\n",
              "</table>\n",
              "</div>"
            ],
            "text/plain": [
              "    Employee_ID First_Name Last_Name               Department          City\n",
              "4         10006     Miguel      Alva                  Clothes       Oakland\n",
              "6         10008        Ted  Anderson                  Clothes       Oakland\n",
              "5         10007    Jessica   Collins                Cosmetics  San Franciso\n",
              "7         10009   Victoria    Garcia                  Clothes      San Jose\n",
              "1         10003      Maria  Gonzalez              Electronics      San Jose\n",
              "8         10010    Jasmine      Khan  Parmacy Health & Beauty       Oakland\n",
              "10        10012     Rachel       Kim              Electronics      San Jose\n",
              "0         10002       Nick   Markmen                  Clothes  San Franciso\n",
              "9         10011       Adam     Smith  Parmacy Health & Beauty      San Jose\n",
              "3         10005  Stephanie  Williams                  Clothes       Oakland\n",
              "2         10004     George      Wong                  Clothes  San Franciso"
            ]
          },
          "metadata": {
            "tags": []
          },
          "execution_count": 214
        }
      ]
    },
    {
      "metadata": {
        "id": "s4K0tvdTXtQ7",
        "colab_type": "code",
        "outputId": "fdb31939-5f9c-4da5-d83d-d3741be9ccdb",
        "colab": {
          "base_uri": "https://localhost:8080/",
          "height": 112
        }
      },
      "cell_type": "code",
      "source": [
        "employee_df.sort_values(by=['Last_Name']).tail(2)"
      ],
      "execution_count": 0,
      "outputs": [
        {
          "output_type": "execute_result",
          "data": {
            "text/html": [
              "<div>\n",
              "<style scoped>\n",
              "    .dataframe tbody tr th:only-of-type {\n",
              "        vertical-align: middle;\n",
              "    }\n",
              "\n",
              "    .dataframe tbody tr th {\n",
              "        vertical-align: top;\n",
              "    }\n",
              "\n",
              "    .dataframe thead th {\n",
              "        text-align: right;\n",
              "    }\n",
              "</style>\n",
              "<table border=\"1\" class=\"dataframe\">\n",
              "  <thead>\n",
              "    <tr style=\"text-align: right;\">\n",
              "      <th></th>\n",
              "      <th>Employee_ID</th>\n",
              "      <th>First_Name</th>\n",
              "      <th>Last_Name</th>\n",
              "      <th>Department</th>\n",
              "      <th>City</th>\n",
              "    </tr>\n",
              "  </thead>\n",
              "  <tbody>\n",
              "    <tr>\n",
              "      <th>4</th>\n",
              "      <td>10006</td>\n",
              "      <td>Miguel</td>\n",
              "      <td>Alva</td>\n",
              "      <td>Clothes</td>\n",
              "      <td>Oakland</td>\n",
              "    </tr>\n",
              "    <tr>\n",
              "      <th>6</th>\n",
              "      <td>10008</td>\n",
              "      <td>Ted</td>\n",
              "      <td>Anderson</td>\n",
              "      <td>Clothes</td>\n",
              "      <td>Oakland</td>\n",
              "    </tr>\n",
              "  </tbody>\n",
              "</table>\n",
              "</div>"
            ],
            "text/plain": [
              "   Employee_ID First_Name Last_Name Department     City\n",
              "4        10006     Miguel      Alva    Clothes  Oakland\n",
              "6        10008        Ted  Anderson    Clothes  Oakland"
            ]
          },
          "metadata": {
            "tags": []
          },
          "execution_count": 216
        }
      ]
    },
    {
      "metadata": {
        "id": "cs82scN7YDq0",
        "colab_type": "text"
      },
      "cell_type": "markdown",
      "source": [
        "\n",
        "\n",
        "---\n",
        "\n"
      ]
    },
    {
      "metadata": {
        "id": "u4-jgr33X7uS",
        "colab_type": "text"
      },
      "cell_type": "markdown",
      "source": [
        "## Modifying Panda DataFrames"
      ]
    },
    {
      "metadata": {
        "id": "pmJpJXznZKl5",
        "colab_type": "code",
        "outputId": "6ed4fd10-e082-4179-c848-8b54ba0e5722",
        "colab": {
          "base_uri": "https://localhost:8080/",
          "height": 143
        }
      },
      "cell_type": "code",
      "source": [
        "customer_df.head(3)"
      ],
      "execution_count": 0,
      "outputs": [
        {
          "output_type": "execute_result",
          "data": {
            "text/html": [
              "<div>\n",
              "<style scoped>\n",
              "    .dataframe tbody tr th:only-of-type {\n",
              "        vertical-align: middle;\n",
              "    }\n",
              "\n",
              "    .dataframe tbody tr th {\n",
              "        vertical-align: top;\n",
              "    }\n",
              "\n",
              "    .dataframe thead th {\n",
              "        text-align: right;\n",
              "    }\n",
              "</style>\n",
              "<table border=\"1\" class=\"dataframe\">\n",
              "  <thead>\n",
              "    <tr style=\"text-align: right;\">\n",
              "      <th></th>\n",
              "      <th>Customer_ID</th>\n",
              "      <th>First_Name</th>\n",
              "      <th>Last_Name</th>\n",
              "      <th>City</th>\n",
              "    </tr>\n",
              "  </thead>\n",
              "  <tbody>\n",
              "    <tr>\n",
              "      <th>0</th>\n",
              "      <td>50010</td>\n",
              "      <td>Jeremy</td>\n",
              "      <td>Del Valle</td>\n",
              "      <td>Aguadilla</td>\n",
              "    </tr>\n",
              "    <tr>\n",
              "      <th>1</th>\n",
              "      <td>50011</td>\n",
              "      <td>Joshua</td>\n",
              "      <td>Del Valle</td>\n",
              "      <td>Isabela</td>\n",
              "    </tr>\n",
              "    <tr>\n",
              "      <th>2</th>\n",
              "      <td>50012</td>\n",
              "      <td>Natalia</td>\n",
              "      <td>Hernandez</td>\n",
              "      <td>Isabela</td>\n",
              "    </tr>\n",
              "  </tbody>\n",
              "</table>\n",
              "</div>"
            ],
            "text/plain": [
              "   Customer_ID First_Name  Last_Name       City\n",
              "0        50010     Jeremy  Del Valle  Aguadilla\n",
              "1        50011     Joshua  Del Valle    Isabela\n",
              "2        50012    Natalia  Hernandez    Isabela"
            ]
          },
          "metadata": {
            "tags": []
          },
          "execution_count": 220
        }
      ]
    },
    {
      "metadata": {
        "id": "cSfP9zsjZPMh",
        "colab_type": "code",
        "outputId": "d5a24021-5d7c-4d7a-c910-08d800cdf2ea",
        "colab": {
          "base_uri": "https://localhost:8080/",
          "height": 143
        }
      },
      "cell_type": "code",
      "source": [
        "order_df"
      ],
      "execution_count": 0,
      "outputs": [
        {
          "output_type": "execute_result",
          "data": {
            "text/html": [
              "<div>\n",
              "<style scoped>\n",
              "    .dataframe tbody tr th:only-of-type {\n",
              "        vertical-align: middle;\n",
              "    }\n",
              "\n",
              "    .dataframe tbody tr th {\n",
              "        vertical-align: top;\n",
              "    }\n",
              "\n",
              "    .dataframe thead th {\n",
              "        text-align: right;\n",
              "    }\n",
              "</style>\n",
              "<table border=\"1\" class=\"dataframe\">\n",
              "  <thead>\n",
              "    <tr style=\"text-align: right;\">\n",
              "      <th></th>\n",
              "      <th>num1</th>\n",
              "      <th>num2</th>\n",
              "      <th>num3</th>\n",
              "      <th>num4</th>\n",
              "      <th>Date</th>\n",
              "    </tr>\n",
              "  </thead>\n",
              "  <tbody>\n",
              "    <tr>\n",
              "      <th>0</th>\n",
              "      <td>50010</td>\n",
              "      <td>20013</td>\n",
              "      <td>30004</td>\n",
              "      <td>10008</td>\n",
              "      <td>17-04-11</td>\n",
              "    </tr>\n",
              "    <tr>\n",
              "      <th>1</th>\n",
              "      <td>50011</td>\n",
              "      <td>20014</td>\n",
              "      <td>30005</td>\n",
              "      <td>10009</td>\n",
              "      <td>19-09-16</td>\n",
              "    </tr>\n",
              "    <tr>\n",
              "      <th>2</th>\n",
              "      <td>50020</td>\n",
              "      <td>20015</td>\n",
              "      <td>30005</td>\n",
              "      <td>10009</td>\n",
              "      <td>20-10-20</td>\n",
              "    </tr>\n",
              "  </tbody>\n",
              "</table>\n",
              "</div>"
            ],
            "text/plain": [
              "    num1   num2   num3   num4      Date\n",
              "0  50010  20013  30004  10008  17-04-11\n",
              "1  50011  20014  30005  10009  19-09-16\n",
              "2  50020  20015  30005  10009  20-10-20"
            ]
          },
          "metadata": {
            "tags": []
          },
          "execution_count": 221
        }
      ]
    },
    {
      "metadata": {
        "id": "Vf_2eE5JYphz",
        "colab_type": "text"
      },
      "cell_type": "markdown",
      "source": [
        "### Merging *"
      ]
    },
    {
      "metadata": {
        "id": "Ug0jedj2guBJ",
        "colab_type": "text"
      },
      "cell_type": "markdown",
      "source": [
        "* ** 'inner' find matches**"
      ]
    },
    {
      "metadata": {
        "id": "MaQgn3NMzTKf",
        "colab_type": "code",
        "outputId": "e23c5057-4dd7-4d10-c85b-20c0bf16549f",
        "colab": {
          "base_uri": "https://localhost:8080/",
          "height": 164
        }
      },
      "cell_type": "code",
      "source": [
        "print(customer_df.head(3),'\\n', order_df.head(3))"
      ],
      "execution_count": 0,
      "outputs": [
        {
          "output_type": "stream",
          "text": [
            "   Customer_ID First_Name  Last_Name       City\n",
            "0        50010     Jeremy  Del Valle  Aguadilla\n",
            "1        50011     Joshua  Del Valle    Isabela\n",
            "2        50012    Natalia  Hernandez    Isabela \n",
            "    Customer_ID   num2   num3   num4\n",
            "0        50010  20013  30004  10008\n",
            "1        50011  20014  30005  10009\n",
            "2        50020  20015  30005  10009\n"
          ],
          "name": "stdout"
        }
      ]
    },
    {
      "metadata": {
        "id": "FythFTDGziZx",
        "colab_type": "text"
      },
      "cell_type": "markdown",
      "source": [
        "* Matches Customer_ID"
      ]
    },
    {
      "metadata": {
        "id": "jrCTWWa_yfjh",
        "colab_type": "code",
        "outputId": "de33ec28-dc42-438f-e305-750990395a2c",
        "colab": {
          "base_uri": "https://localhost:8080/",
          "height": 112
        }
      },
      "cell_type": "code",
      "source": [
        "pd.merge(customer_df, order_df, how='inner')"
      ],
      "execution_count": 0,
      "outputs": [
        {
          "output_type": "execute_result",
          "data": {
            "text/html": [
              "<div>\n",
              "<style scoped>\n",
              "    .dataframe tbody tr th:only-of-type {\n",
              "        vertical-align: middle;\n",
              "    }\n",
              "\n",
              "    .dataframe tbody tr th {\n",
              "        vertical-align: top;\n",
              "    }\n",
              "\n",
              "    .dataframe thead th {\n",
              "        text-align: right;\n",
              "    }\n",
              "</style>\n",
              "<table border=\"1\" class=\"dataframe\">\n",
              "  <thead>\n",
              "    <tr style=\"text-align: right;\">\n",
              "      <th></th>\n",
              "      <th>Customer_ID</th>\n",
              "      <th>First_Name</th>\n",
              "      <th>Last_Name</th>\n",
              "      <th>City</th>\n",
              "      <th>num2</th>\n",
              "      <th>num3</th>\n",
              "      <th>num4</th>\n",
              "    </tr>\n",
              "  </thead>\n",
              "  <tbody>\n",
              "    <tr>\n",
              "      <th>0</th>\n",
              "      <td>50010</td>\n",
              "      <td>Jeremy</td>\n",
              "      <td>Del Valle</td>\n",
              "      <td>Aguadilla</td>\n",
              "      <td>20013</td>\n",
              "      <td>30004</td>\n",
              "      <td>10008</td>\n",
              "    </tr>\n",
              "    <tr>\n",
              "      <th>1</th>\n",
              "      <td>50011</td>\n",
              "      <td>Joshua</td>\n",
              "      <td>Del Valle</td>\n",
              "      <td>Isabela</td>\n",
              "      <td>20014</td>\n",
              "      <td>30005</td>\n",
              "      <td>10009</td>\n",
              "    </tr>\n",
              "  </tbody>\n",
              "</table>\n",
              "</div>"
            ],
            "text/plain": [
              "   Customer_ID First_Name  Last_Name       City   num2   num3   num4\n",
              "0        50010     Jeremy  Del Valle  Aguadilla  20013  30004  10008\n",
              "1        50011     Joshua  Del Valle    Isabela  20014  30005  10009"
            ]
          },
          "metadata": {
            "tags": []
          },
          "execution_count": 321
        }
      ]
    },
    {
      "metadata": {
        "id": "h9R8pdphz98m",
        "colab_type": "code",
        "outputId": "80c736ca-7916-467f-a996-02c6ec585627",
        "colab": {
          "base_uri": "https://localhost:8080/",
          "height": 206
        }
      },
      "cell_type": "code",
      "source": [
        "pd.merge(customer_df, order_df, how='left')"
      ],
      "execution_count": 0,
      "outputs": [
        {
          "output_type": "execute_result",
          "data": {
            "text/html": [
              "<div>\n",
              "<style scoped>\n",
              "    .dataframe tbody tr th:only-of-type {\n",
              "        vertical-align: middle;\n",
              "    }\n",
              "\n",
              "    .dataframe tbody tr th {\n",
              "        vertical-align: top;\n",
              "    }\n",
              "\n",
              "    .dataframe thead th {\n",
              "        text-align: right;\n",
              "    }\n",
              "</style>\n",
              "<table border=\"1\" class=\"dataframe\">\n",
              "  <thead>\n",
              "    <tr style=\"text-align: right;\">\n",
              "      <th></th>\n",
              "      <th>Customer_ID</th>\n",
              "      <th>First_Name</th>\n",
              "      <th>Last_Name</th>\n",
              "      <th>City</th>\n",
              "      <th>num2</th>\n",
              "      <th>num3</th>\n",
              "      <th>num4</th>\n",
              "    </tr>\n",
              "  </thead>\n",
              "  <tbody>\n",
              "    <tr>\n",
              "      <th>0</th>\n",
              "      <td>50010</td>\n",
              "      <td>Jeremy</td>\n",
              "      <td>Del Valle</td>\n",
              "      <td>Aguadilla</td>\n",
              "      <td>20013.0</td>\n",
              "      <td>30004.0</td>\n",
              "      <td>10008.0</td>\n",
              "    </tr>\n",
              "    <tr>\n",
              "      <th>1</th>\n",
              "      <td>50011</td>\n",
              "      <td>Joshua</td>\n",
              "      <td>Del Valle</td>\n",
              "      <td>Isabela</td>\n",
              "      <td>20014.0</td>\n",
              "      <td>30005.0</td>\n",
              "      <td>10009.0</td>\n",
              "    </tr>\n",
              "    <tr>\n",
              "      <th>2</th>\n",
              "      <td>50012</td>\n",
              "      <td>Natalia</td>\n",
              "      <td>Hernandez</td>\n",
              "      <td>Isabela</td>\n",
              "      <td>NaN</td>\n",
              "      <td>NaN</td>\n",
              "      <td>NaN</td>\n",
              "    </tr>\n",
              "    <tr>\n",
              "      <th>3</th>\n",
              "      <td>50013</td>\n",
              "      <td>Jose</td>\n",
              "      <td>Rojas</td>\n",
              "      <td>Aguadilla</td>\n",
              "      <td>NaN</td>\n",
              "      <td>NaN</td>\n",
              "      <td>NaN</td>\n",
              "    </tr>\n",
              "    <tr>\n",
              "      <th>4</th>\n",
              "      <td>50014</td>\n",
              "      <td>Carlos</td>\n",
              "      <td>Robles</td>\n",
              "      <td>Aguadilla</td>\n",
              "      <td>NaN</td>\n",
              "      <td>NaN</td>\n",
              "      <td>NaN</td>\n",
              "    </tr>\n",
              "  </tbody>\n",
              "</table>\n",
              "</div>"
            ],
            "text/plain": [
              "   Customer_ID First_Name  Last_Name       City     num2     num3     num4\n",
              "0        50010     Jeremy  Del Valle  Aguadilla  20013.0  30004.0  10008.0\n",
              "1        50011     Joshua  Del Valle    Isabela  20014.0  30005.0  10009.0\n",
              "2        50012    Natalia  Hernandez    Isabela      NaN      NaN      NaN\n",
              "3        50013       Jose      Rojas  Aguadilla      NaN      NaN      NaN\n",
              "4        50014     Carlos     Robles  Aguadilla      NaN      NaN      NaN"
            ]
          },
          "metadata": {
            "tags": []
          },
          "execution_count": 325
        }
      ]
    },
    {
      "metadata": {
        "id": "b6P_0lnS0GH-",
        "colab_type": "code",
        "outputId": "a940ef69-d8a2-4da3-c706-9afa0ca90c25",
        "colab": {
          "base_uri": "https://localhost:8080/",
          "height": 143
        }
      },
      "cell_type": "code",
      "source": [
        "pd.merge(customer_df, order_df, how='right')"
      ],
      "execution_count": 0,
      "outputs": [
        {
          "output_type": "execute_result",
          "data": {
            "text/html": [
              "<div>\n",
              "<style scoped>\n",
              "    .dataframe tbody tr th:only-of-type {\n",
              "        vertical-align: middle;\n",
              "    }\n",
              "\n",
              "    .dataframe tbody tr th {\n",
              "        vertical-align: top;\n",
              "    }\n",
              "\n",
              "    .dataframe thead th {\n",
              "        text-align: right;\n",
              "    }\n",
              "</style>\n",
              "<table border=\"1\" class=\"dataframe\">\n",
              "  <thead>\n",
              "    <tr style=\"text-align: right;\">\n",
              "      <th></th>\n",
              "      <th>Customer_ID</th>\n",
              "      <th>First_Name</th>\n",
              "      <th>Last_Name</th>\n",
              "      <th>City</th>\n",
              "      <th>num2</th>\n",
              "      <th>num3</th>\n",
              "      <th>num4</th>\n",
              "    </tr>\n",
              "  </thead>\n",
              "  <tbody>\n",
              "    <tr>\n",
              "      <th>0</th>\n",
              "      <td>50010</td>\n",
              "      <td>Jeremy</td>\n",
              "      <td>Del Valle</td>\n",
              "      <td>Aguadilla</td>\n",
              "      <td>20013</td>\n",
              "      <td>30004</td>\n",
              "      <td>10008</td>\n",
              "    </tr>\n",
              "    <tr>\n",
              "      <th>1</th>\n",
              "      <td>50011</td>\n",
              "      <td>Joshua</td>\n",
              "      <td>Del Valle</td>\n",
              "      <td>Isabela</td>\n",
              "      <td>20014</td>\n",
              "      <td>30005</td>\n",
              "      <td>10009</td>\n",
              "    </tr>\n",
              "    <tr>\n",
              "      <th>2</th>\n",
              "      <td>50020</td>\n",
              "      <td>NaN</td>\n",
              "      <td>NaN</td>\n",
              "      <td>NaN</td>\n",
              "      <td>20015</td>\n",
              "      <td>30005</td>\n",
              "      <td>10009</td>\n",
              "    </tr>\n",
              "  </tbody>\n",
              "</table>\n",
              "</div>"
            ],
            "text/plain": [
              "   Customer_ID First_Name  Last_Name       City   num2   num3   num4\n",
              "0        50010     Jeremy  Del Valle  Aguadilla  20013  30004  10008\n",
              "1        50011     Joshua  Del Valle    Isabela  20014  30005  10009\n",
              "2        50020        NaN        NaN        NaN  20015  30005  10009"
            ]
          },
          "metadata": {
            "tags": []
          },
          "execution_count": 326
        }
      ]
    },
    {
      "metadata": {
        "id": "nHiL6vyG1F4r",
        "colab_type": "text"
      },
      "cell_type": "markdown",
      "source": [
        "\n",
        "\n",
        "---\n",
        "\n"
      ]
    },
    {
      "metadata": {
        "id": "axR6RweFZCAa",
        "colab_type": "text"
      },
      "cell_type": "markdown",
      "source": [
        "### Append/Concatenate"
      ]
    },
    {
      "metadata": {
        "id": "ze7DlM5R0hkf",
        "colab_type": "code",
        "colab": {}
      },
      "cell_type": "code",
      "source": [
        "supplier_df = pd.DataFrame({'Supplier_ID': [40006, 40007], 'Name': ['GameHub Inc', 'TechCenter Media'], 'City': ['Atlanta', 'New York']})"
      ],
      "execution_count": 0,
      "outputs": []
    },
    {
      "metadata": {
        "id": "S_35KRKG1Ehm",
        "colab_type": "text"
      },
      "cell_type": "markdown",
      "source": [
        "* **Append is similair to Union in SQL**"
      ]
    },
    {
      "metadata": {
        "id": "X9dWEfEm1L4z",
        "colab_type": "code",
        "outputId": "d47b25ba-1cce-4402-a278-73c10721a1cf",
        "colab": {
          "base_uri": "https://localhost:8080/",
          "height": 206
        }
      },
      "cell_type": "code",
      "source": [
        "supplier_df.append(order_df)"
      ],
      "execution_count": 0,
      "outputs": [
        {
          "output_type": "execute_result",
          "data": {
            "text/html": [
              "<div>\n",
              "<style scoped>\n",
              "    .dataframe tbody tr th:only-of-type {\n",
              "        vertical-align: middle;\n",
              "    }\n",
              "\n",
              "    .dataframe tbody tr th {\n",
              "        vertical-align: top;\n",
              "    }\n",
              "\n",
              "    .dataframe thead th {\n",
              "        text-align: right;\n",
              "    }\n",
              "</style>\n",
              "<table border=\"1\" class=\"dataframe\">\n",
              "  <thead>\n",
              "    <tr style=\"text-align: right;\">\n",
              "      <th></th>\n",
              "      <th>City</th>\n",
              "      <th>Customer_ID</th>\n",
              "      <th>Name</th>\n",
              "      <th>Supplier_ID</th>\n",
              "      <th>num2</th>\n",
              "      <th>num3</th>\n",
              "      <th>num4</th>\n",
              "    </tr>\n",
              "  </thead>\n",
              "  <tbody>\n",
              "    <tr>\n",
              "      <th>0</th>\n",
              "      <td>Atlanta</td>\n",
              "      <td>NaN</td>\n",
              "      <td>GameHub Inc</td>\n",
              "      <td>40006.0</td>\n",
              "      <td>NaN</td>\n",
              "      <td>NaN</td>\n",
              "      <td>NaN</td>\n",
              "    </tr>\n",
              "    <tr>\n",
              "      <th>1</th>\n",
              "      <td>New York</td>\n",
              "      <td>NaN</td>\n",
              "      <td>TechCenter Media</td>\n",
              "      <td>40007.0</td>\n",
              "      <td>NaN</td>\n",
              "      <td>NaN</td>\n",
              "      <td>NaN</td>\n",
              "    </tr>\n",
              "    <tr>\n",
              "      <th>0</th>\n",
              "      <td>NaN</td>\n",
              "      <td>50010.0</td>\n",
              "      <td>NaN</td>\n",
              "      <td>NaN</td>\n",
              "      <td>20013.0</td>\n",
              "      <td>30004.0</td>\n",
              "      <td>10008.0</td>\n",
              "    </tr>\n",
              "    <tr>\n",
              "      <th>1</th>\n",
              "      <td>NaN</td>\n",
              "      <td>50011.0</td>\n",
              "      <td>NaN</td>\n",
              "      <td>NaN</td>\n",
              "      <td>20014.0</td>\n",
              "      <td>30005.0</td>\n",
              "      <td>10009.0</td>\n",
              "    </tr>\n",
              "    <tr>\n",
              "      <th>2</th>\n",
              "      <td>NaN</td>\n",
              "      <td>50020.0</td>\n",
              "      <td>NaN</td>\n",
              "      <td>NaN</td>\n",
              "      <td>20015.0</td>\n",
              "      <td>30005.0</td>\n",
              "      <td>10009.0</td>\n",
              "    </tr>\n",
              "  </tbody>\n",
              "</table>\n",
              "</div>"
            ],
            "text/plain": [
              "       City  Customer_ID              Name  Supplier_ID     num2     num3  \\\n",
              "0   Atlanta          NaN       GameHub Inc      40006.0      NaN      NaN   \n",
              "1  New York          NaN  TechCenter Media      40007.0      NaN      NaN   \n",
              "0       NaN      50010.0               NaN          NaN  20013.0  30004.0   \n",
              "1       NaN      50011.0               NaN          NaN  20014.0  30005.0   \n",
              "2       NaN      50020.0               NaN          NaN  20015.0  30005.0   \n",
              "\n",
              "      num4  \n",
              "0      NaN  \n",
              "1      NaN  \n",
              "0  10008.0  \n",
              "1  10009.0  \n",
              "2  10009.0  "
            ]
          },
          "metadata": {
            "tags": []
          },
          "execution_count": 328
        }
      ]
    },
    {
      "metadata": {
        "id": "oLVLk-Fd2hu2",
        "colab_type": "text"
      },
      "cell_type": "markdown",
      "source": [
        "\n",
        "\n",
        "---\n",
        "\n"
      ]
    },
    {
      "metadata": {
        "id": "d37AZLKt1YoC",
        "colab_type": "text"
      },
      "cell_type": "markdown",
      "source": [
        "* ** Concatenate**\n",
        "* * second Dataframe concatenated below the first by default."
      ]
    },
    {
      "metadata": {
        "id": "uaBrZY_m1jEm",
        "colab_type": "code",
        "outputId": "35270903-5e71-4c38-a712-cf86bef19ca5",
        "colab": {
          "base_uri": "https://localhost:8080/",
          "height": 206
        }
      },
      "cell_type": "code",
      "source": [
        "pd.concat([supplier_df, order_df])"
      ],
      "execution_count": 0,
      "outputs": [
        {
          "output_type": "execute_result",
          "data": {
            "text/html": [
              "<div>\n",
              "<style scoped>\n",
              "    .dataframe tbody tr th:only-of-type {\n",
              "        vertical-align: middle;\n",
              "    }\n",
              "\n",
              "    .dataframe tbody tr th {\n",
              "        vertical-align: top;\n",
              "    }\n",
              "\n",
              "    .dataframe thead th {\n",
              "        text-align: right;\n",
              "    }\n",
              "</style>\n",
              "<table border=\"1\" class=\"dataframe\">\n",
              "  <thead>\n",
              "    <tr style=\"text-align: right;\">\n",
              "      <th></th>\n",
              "      <th>City</th>\n",
              "      <th>Customer_ID</th>\n",
              "      <th>Name</th>\n",
              "      <th>Supplier_ID</th>\n",
              "      <th>num2</th>\n",
              "      <th>num3</th>\n",
              "      <th>num4</th>\n",
              "    </tr>\n",
              "  </thead>\n",
              "  <tbody>\n",
              "    <tr>\n",
              "      <th>0</th>\n",
              "      <td>Atlanta</td>\n",
              "      <td>NaN</td>\n",
              "      <td>GameHub Inc</td>\n",
              "      <td>40006.0</td>\n",
              "      <td>NaN</td>\n",
              "      <td>NaN</td>\n",
              "      <td>NaN</td>\n",
              "    </tr>\n",
              "    <tr>\n",
              "      <th>1</th>\n",
              "      <td>New York</td>\n",
              "      <td>NaN</td>\n",
              "      <td>TechCenter Media</td>\n",
              "      <td>40007.0</td>\n",
              "      <td>NaN</td>\n",
              "      <td>NaN</td>\n",
              "      <td>NaN</td>\n",
              "    </tr>\n",
              "    <tr>\n",
              "      <th>0</th>\n",
              "      <td>NaN</td>\n",
              "      <td>50010.0</td>\n",
              "      <td>NaN</td>\n",
              "      <td>NaN</td>\n",
              "      <td>20013.0</td>\n",
              "      <td>30004.0</td>\n",
              "      <td>10008.0</td>\n",
              "    </tr>\n",
              "    <tr>\n",
              "      <th>1</th>\n",
              "      <td>NaN</td>\n",
              "      <td>50011.0</td>\n",
              "      <td>NaN</td>\n",
              "      <td>NaN</td>\n",
              "      <td>20014.0</td>\n",
              "      <td>30005.0</td>\n",
              "      <td>10009.0</td>\n",
              "    </tr>\n",
              "    <tr>\n",
              "      <th>2</th>\n",
              "      <td>NaN</td>\n",
              "      <td>50020.0</td>\n",
              "      <td>NaN</td>\n",
              "      <td>NaN</td>\n",
              "      <td>20015.0</td>\n",
              "      <td>30005.0</td>\n",
              "      <td>10009.0</td>\n",
              "    </tr>\n",
              "  </tbody>\n",
              "</table>\n",
              "</div>"
            ],
            "text/plain": [
              "       City  Customer_ID              Name  Supplier_ID     num2     num3  \\\n",
              "0   Atlanta          NaN       GameHub Inc      40006.0      NaN      NaN   \n",
              "1  New York          NaN  TechCenter Media      40007.0      NaN      NaN   \n",
              "0       NaN      50010.0               NaN          NaN  20013.0  30004.0   \n",
              "1       NaN      50011.0               NaN          NaN  20014.0  30005.0   \n",
              "2       NaN      50020.0               NaN          NaN  20015.0  30005.0   \n",
              "\n",
              "      num4  \n",
              "0      NaN  \n",
              "1      NaN  \n",
              "0  10008.0  \n",
              "1  10009.0  \n",
              "2  10009.0  "
            ]
          },
          "metadata": {
            "tags": []
          },
          "execution_count": 329
        }
      ]
    },
    {
      "metadata": {
        "id": "ivPE1y5c2gyx",
        "colab_type": "text"
      },
      "cell_type": "markdown",
      "source": [
        "* ** Using axis**"
      ]
    },
    {
      "metadata": {
        "id": "8VXoifRS3Eq2",
        "colab_type": "code",
        "outputId": "3ca26c83-2092-40ab-ee4a-a6808feae102",
        "colab": {
          "base_uri": "https://localhost:8080/",
          "height": 112
        }
      },
      "cell_type": "code",
      "source": [
        "supplier_df"
      ],
      "execution_count": 0,
      "outputs": [
        {
          "output_type": "execute_result",
          "data": {
            "text/html": [
              "<div>\n",
              "<style scoped>\n",
              "    .dataframe tbody tr th:only-of-type {\n",
              "        vertical-align: middle;\n",
              "    }\n",
              "\n",
              "    .dataframe tbody tr th {\n",
              "        vertical-align: top;\n",
              "    }\n",
              "\n",
              "    .dataframe thead th {\n",
              "        text-align: right;\n",
              "    }\n",
              "</style>\n",
              "<table border=\"1\" class=\"dataframe\">\n",
              "  <thead>\n",
              "    <tr style=\"text-align: right;\">\n",
              "      <th></th>\n",
              "      <th>City</th>\n",
              "      <th>Name</th>\n",
              "      <th>Supplier_ID</th>\n",
              "    </tr>\n",
              "  </thead>\n",
              "  <tbody>\n",
              "    <tr>\n",
              "      <th>0</th>\n",
              "      <td>Atlanta</td>\n",
              "      <td>GameHub Inc</td>\n",
              "      <td>40006</td>\n",
              "    </tr>\n",
              "    <tr>\n",
              "      <th>1</th>\n",
              "      <td>New York</td>\n",
              "      <td>TechCenter Media</td>\n",
              "      <td>40007</td>\n",
              "    </tr>\n",
              "  </tbody>\n",
              "</table>\n",
              "</div>"
            ],
            "text/plain": [
              "       City              Name  Supplier_ID\n",
              "0   Atlanta       GameHub Inc        40006\n",
              "1  New York  TechCenter Media        40007"
            ]
          },
          "metadata": {
            "tags": []
          },
          "execution_count": 332
        }
      ]
    },
    {
      "metadata": {
        "id": "ChjWZ2YJ2fjP",
        "colab_type": "code",
        "outputId": "eb71d6ab-c266-4ae5-ac6b-77d1c7a7c94d",
        "colab": {
          "base_uri": "https://localhost:8080/",
          "height": 143
        }
      },
      "cell_type": "code",
      "source": [
        "pd.concat([order_df, supplier_df], axis=1)"
      ],
      "execution_count": 0,
      "outputs": [
        {
          "output_type": "execute_result",
          "data": {
            "text/html": [
              "<div>\n",
              "<style scoped>\n",
              "    .dataframe tbody tr th:only-of-type {\n",
              "        vertical-align: middle;\n",
              "    }\n",
              "\n",
              "    .dataframe tbody tr th {\n",
              "        vertical-align: top;\n",
              "    }\n",
              "\n",
              "    .dataframe thead th {\n",
              "        text-align: right;\n",
              "    }\n",
              "</style>\n",
              "<table border=\"1\" class=\"dataframe\">\n",
              "  <thead>\n",
              "    <tr style=\"text-align: right;\">\n",
              "      <th></th>\n",
              "      <th>Customer_ID</th>\n",
              "      <th>num2</th>\n",
              "      <th>num3</th>\n",
              "      <th>num4</th>\n",
              "      <th>City</th>\n",
              "      <th>Name</th>\n",
              "      <th>Supplier_ID</th>\n",
              "    </tr>\n",
              "  </thead>\n",
              "  <tbody>\n",
              "    <tr>\n",
              "      <th>0</th>\n",
              "      <td>50010</td>\n",
              "      <td>20013</td>\n",
              "      <td>30004</td>\n",
              "      <td>10008</td>\n",
              "      <td>Atlanta</td>\n",
              "      <td>GameHub Inc</td>\n",
              "      <td>40006.0</td>\n",
              "    </tr>\n",
              "    <tr>\n",
              "      <th>1</th>\n",
              "      <td>50011</td>\n",
              "      <td>20014</td>\n",
              "      <td>30005</td>\n",
              "      <td>10009</td>\n",
              "      <td>New York</td>\n",
              "      <td>TechCenter Media</td>\n",
              "      <td>40007.0</td>\n",
              "    </tr>\n",
              "    <tr>\n",
              "      <th>2</th>\n",
              "      <td>50020</td>\n",
              "      <td>20015</td>\n",
              "      <td>30005</td>\n",
              "      <td>10009</td>\n",
              "      <td>NaN</td>\n",
              "      <td>NaN</td>\n",
              "      <td>NaN</td>\n",
              "    </tr>\n",
              "  </tbody>\n",
              "</table>\n",
              "</div>"
            ],
            "text/plain": [
              "   Customer_ID   num2   num3   num4      City              Name  Supplier_ID\n",
              "0        50010  20013  30004  10008   Atlanta       GameHub Inc      40006.0\n",
              "1        50011  20014  30005  10009  New York  TechCenter Media      40007.0\n",
              "2        50020  20015  30005  10009       NaN               NaN          NaN"
            ]
          },
          "metadata": {
            "tags": []
          },
          "execution_count": 334
        }
      ]
    },
    {
      "metadata": {
        "id": "gd9A3UfS5GOx",
        "colab_type": "text"
      },
      "cell_type": "markdown",
      "source": [
        "\n",
        "\n",
        "---\n",
        "\n"
      ]
    },
    {
      "metadata": {
        "id": "yMvRWB4MZFGa",
        "colab_type": "text"
      },
      "cell_type": "markdown",
      "source": [
        "### Deleteing/Droping\n"
      ]
    },
    {
      "metadata": {
        "id": "I3fOR4CD3h9p",
        "colab_type": "code",
        "outputId": "debb4534-d78f-4929-94b3-4ec8a301ddd9",
        "colab": {
          "base_uri": "https://localhost:8080/",
          "height": 81
        }
      },
      "cell_type": "code",
      "source": [
        "supplier_df.drop([1])"
      ],
      "execution_count": 0,
      "outputs": [
        {
          "output_type": "execute_result",
          "data": {
            "text/html": [
              "<div>\n",
              "<style scoped>\n",
              "    .dataframe tbody tr th:only-of-type {\n",
              "        vertical-align: middle;\n",
              "    }\n",
              "\n",
              "    .dataframe tbody tr th {\n",
              "        vertical-align: top;\n",
              "    }\n",
              "\n",
              "    .dataframe thead th {\n",
              "        text-align: right;\n",
              "    }\n",
              "</style>\n",
              "<table border=\"1\" class=\"dataframe\">\n",
              "  <thead>\n",
              "    <tr style=\"text-align: right;\">\n",
              "      <th></th>\n",
              "      <th>City</th>\n",
              "      <th>Name</th>\n",
              "      <th>Supplier_ID</th>\n",
              "    </tr>\n",
              "  </thead>\n",
              "  <tbody>\n",
              "    <tr>\n",
              "      <th>0</th>\n",
              "      <td>Atlanta</td>\n",
              "      <td>GameHub Inc</td>\n",
              "      <td>40006</td>\n",
              "    </tr>\n",
              "  </tbody>\n",
              "</table>\n",
              "</div>"
            ],
            "text/plain": [
              "      City         Name  Supplier_ID\n",
              "0  Atlanta  GameHub Inc        40006"
            ]
          },
          "metadata": {
            "tags": []
          },
          "execution_count": 335
        }
      ]
    },
    {
      "metadata": {
        "id": "A_o5YxxF42DM",
        "colab_type": "code",
        "outputId": "47f837ba-dad7-4ead-c9cd-9374a7f03750",
        "colab": {
          "base_uri": "https://localhost:8080/",
          "height": 112
        }
      },
      "cell_type": "code",
      "source": [
        "supplier_df.drop(['Name'], axis=1)"
      ],
      "execution_count": 0,
      "outputs": [
        {
          "output_type": "execute_result",
          "data": {
            "text/html": [
              "<div>\n",
              "<style scoped>\n",
              "    .dataframe tbody tr th:only-of-type {\n",
              "        vertical-align: middle;\n",
              "    }\n",
              "\n",
              "    .dataframe tbody tr th {\n",
              "        vertical-align: top;\n",
              "    }\n",
              "\n",
              "    .dataframe thead th {\n",
              "        text-align: right;\n",
              "    }\n",
              "</style>\n",
              "<table border=\"1\" class=\"dataframe\">\n",
              "  <thead>\n",
              "    <tr style=\"text-align: right;\">\n",
              "      <th></th>\n",
              "      <th>City</th>\n",
              "      <th>Supplier_ID</th>\n",
              "    </tr>\n",
              "  </thead>\n",
              "  <tbody>\n",
              "    <tr>\n",
              "      <th>0</th>\n",
              "      <td>Atlanta</td>\n",
              "      <td>40006</td>\n",
              "    </tr>\n",
              "    <tr>\n",
              "      <th>1</th>\n",
              "      <td>New York</td>\n",
              "      <td>40007</td>\n",
              "    </tr>\n",
              "  </tbody>\n",
              "</table>\n",
              "</div>"
            ],
            "text/plain": [
              "       City  Supplier_ID\n",
              "0   Atlanta        40006\n",
              "1  New York        40007"
            ]
          },
          "metadata": {
            "tags": []
          },
          "execution_count": 337
        }
      ]
    },
    {
      "metadata": {
        "id": "Y4SFIX535FYM",
        "colab_type": "text"
      },
      "cell_type": "markdown",
      "source": [
        "\n",
        "\n",
        "---\n",
        "\n"
      ]
    },
    {
      "metadata": {
        "id": "U9VO4o7r4DvQ",
        "colab_type": "text"
      },
      "cell_type": "markdown",
      "source": [
        "### Updating"
      ]
    },
    {
      "metadata": {
        "id": "GvmRn3Ft5M1T",
        "colab_type": "code",
        "outputId": "27b2636d-cf95-4162-b9e7-ddb385a0dae7",
        "colab": {
          "base_uri": "https://localhost:8080/",
          "height": 72
        }
      },
      "cell_type": "code",
      "source": [
        "supplier_df.loc[1]= ['Puerto Rico', 'TechCenter', 40005]  \n",
        "print(supplier_df)"
      ],
      "execution_count": 0,
      "outputs": [
        {
          "output_type": "stream",
          "text": [
            "          City         Name  Supplier_ID\n",
            "0      Atlanta  GameHub Inc        40006\n",
            "1  Puerto Rico   TechCenter        40005\n"
          ],
          "name": "stdout"
        }
      ]
    },
    {
      "metadata": {
        "id": "UHaDkljW5Q1I",
        "colab_type": "code",
        "colab": {}
      },
      "cell_type": "code",
      "source": [
        "supplier_df.loc[1, 'Supplier_ID'] +=6000"
      ],
      "execution_count": 0,
      "outputs": []
    },
    {
      "metadata": {
        "id": "y06nglHz6bAm",
        "colab_type": "code",
        "outputId": "5dc6fb16-00d3-4e05-c820-5cf3cc2301a5",
        "colab": {
          "base_uri": "https://localhost:8080/",
          "height": 72
        }
      },
      "cell_type": "code",
      "source": [
        "print(supplier_df)"
      ],
      "execution_count": 0,
      "outputs": [
        {
          "output_type": "stream",
          "text": [
            "          City         Name  Supplier_ID\n",
            "0      Atlanta  GameHub Inc        40006\n",
            "1  Puerto Rico   TechCenter        46005\n"
          ],
          "name": "stdout"
        }
      ]
    },
    {
      "metadata": {
        "id": "j7C5avue6vgg",
        "colab_type": "code",
        "colab": {}
      },
      "cell_type": "code",
      "source": [
        "supplier_df['Supplier_ID'].update(pd.Series([9999, 9999]))"
      ],
      "execution_count": 0,
      "outputs": []
    },
    {
      "metadata": {
        "id": "VvY93XEa69yS",
        "colab_type": "code",
        "outputId": "9fa4b6ef-80d8-4a2d-ed82-90b7ecb691c7",
        "colab": {
          "base_uri": "https://localhost:8080/",
          "height": 112
        }
      },
      "cell_type": "code",
      "source": [
        "supplier_df"
      ],
      "execution_count": 0,
      "outputs": [
        {
          "output_type": "execute_result",
          "data": {
            "text/html": [
              "<div>\n",
              "<style scoped>\n",
              "    .dataframe tbody tr th:only-of-type {\n",
              "        vertical-align: middle;\n",
              "    }\n",
              "\n",
              "    .dataframe tbody tr th {\n",
              "        vertical-align: top;\n",
              "    }\n",
              "\n",
              "    .dataframe thead th {\n",
              "        text-align: right;\n",
              "    }\n",
              "</style>\n",
              "<table border=\"1\" class=\"dataframe\">\n",
              "  <thead>\n",
              "    <tr style=\"text-align: right;\">\n",
              "      <th></th>\n",
              "      <th>City</th>\n",
              "      <th>Name</th>\n",
              "      <th>Supplier_ID</th>\n",
              "    </tr>\n",
              "  </thead>\n",
              "  <tbody>\n",
              "    <tr>\n",
              "      <th>0</th>\n",
              "      <td>Atlanta</td>\n",
              "      <td>GameHub Inc</td>\n",
              "      <td>9999</td>\n",
              "    </tr>\n",
              "    <tr>\n",
              "      <th>1</th>\n",
              "      <td>Puerto Rico</td>\n",
              "      <td>TechCenter</td>\n",
              "      <td>9999</td>\n",
              "    </tr>\n",
              "  </tbody>\n",
              "</table>\n",
              "</div>"
            ],
            "text/plain": [
              "          City         Name  Supplier_ID\n",
              "0      Atlanta  GameHub Inc         9999\n",
              "1  Puerto Rico   TechCenter         9999"
            ]
          },
          "metadata": {
            "tags": []
          },
          "execution_count": 344
        }
      ]
    },
    {
      "metadata": {
        "id": "OSwJKnQi7EuS",
        "colab_type": "text"
      },
      "cell_type": "markdown",
      "source": [
        "\n",
        "\n",
        "---\n",
        "\n"
      ]
    },
    {
      "metadata": {
        "id": "WngyAhsF4F6Q",
        "colab_type": "text"
      },
      "cell_type": "markdown",
      "source": [
        "### Stacking/Grouping"
      ]
    },
    {
      "metadata": {
        "id": "Kk82EflT7D2G",
        "colab_type": "text"
      },
      "cell_type": "markdown",
      "source": [
        ""
      ]
    },
    {
      "metadata": {
        "id": "HTn5-sSo7f4f",
        "colab_type": "code",
        "outputId": "a88f7449-111d-48e7-cb89-92000649d9fa",
        "colab": {
          "base_uri": "https://localhost:8080/",
          "height": 146
        }
      },
      "cell_type": "code",
      "source": [
        "supplier_df.stack()"
      ],
      "execution_count": 0,
      "outputs": [
        {
          "output_type": "execute_result",
          "data": {
            "text/plain": [
              "0  City               Atlanta\n",
              "   Name           GameHub Inc\n",
              "   Supplier_ID           9999\n",
              "1  City           Puerto Rico\n",
              "   Name            TechCenter\n",
              "   Supplier_ID           9999\n",
              "dtype: object"
            ]
          },
          "metadata": {
            "tags": []
          },
          "execution_count": 345
        }
      ]
    },
    {
      "metadata": {
        "id": "I-AFmQyU77N0",
        "colab_type": "code",
        "outputId": "07c67445-392e-4198-fe60-62ae75387d90",
        "colab": {
          "base_uri": "https://localhost:8080/",
          "height": 256
        }
      },
      "cell_type": "code",
      "source": [
        "order_df.stack()"
      ],
      "execution_count": 0,
      "outputs": [
        {
          "output_type": "execute_result",
          "data": {
            "text/plain": [
              "0  Customer_ID    50010\n",
              "   num2           20013\n",
              "   num3           30004\n",
              "   num4           10008\n",
              "1  Customer_ID    50011\n",
              "   num2           20014\n",
              "   num3           30005\n",
              "   num4           10009\n",
              "2  Customer_ID    50020\n",
              "   num2           20015\n",
              "   num3           30005\n",
              "   num4           10009\n",
              "dtype: int64"
            ]
          },
          "metadata": {
            "tags": []
          },
          "execution_count": 346
        }
      ]
    },
    {
      "metadata": {
        "id": "D5B52XbJ8A3O",
        "colab_type": "text"
      },
      "cell_type": "markdown",
      "source": [
        "### **Group by**"
      ]
    },
    {
      "metadata": {
        "id": "LmoLozrR-xBi",
        "colab_type": "text"
      },
      "cell_type": "markdown",
      "source": [
        "* Similair to SQL group by"
      ]
    },
    {
      "metadata": {
        "id": "Qe7rj4119CYm",
        "colab_type": "code",
        "outputId": "3eca5291-974e-4545-aab1-541dcc821b9d",
        "colab": {
          "base_uri": "https://localhost:8080/",
          "height": 175
        }
      },
      "cell_type": "code",
      "source": [
        "employee_df.head(4)"
      ],
      "execution_count": 0,
      "outputs": [
        {
          "output_type": "execute_result",
          "data": {
            "text/html": [
              "<div>\n",
              "<style scoped>\n",
              "    .dataframe tbody tr th:only-of-type {\n",
              "        vertical-align: middle;\n",
              "    }\n",
              "\n",
              "    .dataframe tbody tr th {\n",
              "        vertical-align: top;\n",
              "    }\n",
              "\n",
              "    .dataframe thead th {\n",
              "        text-align: right;\n",
              "    }\n",
              "</style>\n",
              "<table border=\"1\" class=\"dataframe\">\n",
              "  <thead>\n",
              "    <tr style=\"text-align: right;\">\n",
              "      <th></th>\n",
              "      <th>Employee_ID</th>\n",
              "      <th>First_Name</th>\n",
              "      <th>Last_Name</th>\n",
              "      <th>Department</th>\n",
              "      <th>City</th>\n",
              "    </tr>\n",
              "  </thead>\n",
              "  <tbody>\n",
              "    <tr>\n",
              "      <th>0</th>\n",
              "      <td>10002</td>\n",
              "      <td>Nick</td>\n",
              "      <td>Markmen</td>\n",
              "      <td>Clothes</td>\n",
              "      <td>San Franciso</td>\n",
              "    </tr>\n",
              "    <tr>\n",
              "      <th>1</th>\n",
              "      <td>10003</td>\n",
              "      <td>Maria</td>\n",
              "      <td>Gonzalez</td>\n",
              "      <td>Electronics</td>\n",
              "      <td>San Jose</td>\n",
              "    </tr>\n",
              "    <tr>\n",
              "      <th>2</th>\n",
              "      <td>10004</td>\n",
              "      <td>George</td>\n",
              "      <td>Wong</td>\n",
              "      <td>Clothes</td>\n",
              "      <td>San Franciso</td>\n",
              "    </tr>\n",
              "    <tr>\n",
              "      <th>3</th>\n",
              "      <td>10005</td>\n",
              "      <td>Stephanie</td>\n",
              "      <td>Williams</td>\n",
              "      <td>Clothes</td>\n",
              "      <td>Oakland</td>\n",
              "    </tr>\n",
              "  </tbody>\n",
              "</table>\n",
              "</div>"
            ],
            "text/plain": [
              "   Employee_ID First_Name Last_Name   Department          City\n",
              "0        10002       Nick   Markmen      Clothes  San Franciso\n",
              "1        10003      Maria  Gonzalez  Electronics      San Jose\n",
              "2        10004     George      Wong      Clothes  San Franciso\n",
              "3        10005  Stephanie  Williams      Clothes       Oakland"
            ]
          },
          "metadata": {
            "tags": []
          },
          "execution_count": 360
        }
      ]
    },
    {
      "metadata": {
        "id": "br8vMmCF7-3F",
        "colab_type": "code",
        "outputId": "8def8ae1-5aef-4523-caa2-6727a4dc78ca",
        "colab": {
          "base_uri": "https://localhost:8080/",
          "height": 175
        }
      },
      "cell_type": "code",
      "source": [
        "employee_df.groupby('City').count()"
      ],
      "execution_count": 0,
      "outputs": [
        {
          "output_type": "execute_result",
          "data": {
            "text/html": [
              "<div>\n",
              "<style scoped>\n",
              "    .dataframe tbody tr th:only-of-type {\n",
              "        vertical-align: middle;\n",
              "    }\n",
              "\n",
              "    .dataframe tbody tr th {\n",
              "        vertical-align: top;\n",
              "    }\n",
              "\n",
              "    .dataframe thead th {\n",
              "        text-align: right;\n",
              "    }\n",
              "</style>\n",
              "<table border=\"1\" class=\"dataframe\">\n",
              "  <thead>\n",
              "    <tr style=\"text-align: right;\">\n",
              "      <th></th>\n",
              "      <th>Employee_ID</th>\n",
              "      <th>First_Name</th>\n",
              "      <th>Last_Name</th>\n",
              "      <th>Department</th>\n",
              "    </tr>\n",
              "    <tr>\n",
              "      <th>City</th>\n",
              "      <th></th>\n",
              "      <th></th>\n",
              "      <th></th>\n",
              "      <th></th>\n",
              "    </tr>\n",
              "  </thead>\n",
              "  <tbody>\n",
              "    <tr>\n",
              "      <th>Oakland</th>\n",
              "      <td>4</td>\n",
              "      <td>4</td>\n",
              "      <td>4</td>\n",
              "      <td>4</td>\n",
              "    </tr>\n",
              "    <tr>\n",
              "      <th>San Franciso</th>\n",
              "      <td>3</td>\n",
              "      <td>3</td>\n",
              "      <td>3</td>\n",
              "      <td>3</td>\n",
              "    </tr>\n",
              "    <tr>\n",
              "      <th>San Jose</th>\n",
              "      <td>4</td>\n",
              "      <td>4</td>\n",
              "      <td>4</td>\n",
              "      <td>4</td>\n",
              "    </tr>\n",
              "  </tbody>\n",
              "</table>\n",
              "</div>"
            ],
            "text/plain": [
              "              Employee_ID  First_Name  Last_Name  Department\n",
              "City                                                        \n",
              "Oakland                 4           4          4           4\n",
              "San Franciso            3           3          3           3\n",
              "San Jose                4           4          4           4"
            ]
          },
          "metadata": {
            "tags": []
          },
          "execution_count": 359
        }
      ]
    },
    {
      "metadata": {
        "id": "fvSdE3El8s3e",
        "colab_type": "code",
        "outputId": "e726f1b6-f0e9-485e-d1d9-5fbdafdf81c3",
        "colab": {
          "base_uri": "https://localhost:8080/",
          "height": 35
        }
      },
      "cell_type": "code",
      "source": [
        "h = employee_df.groupby('City')\n",
        "print(h)"
      ],
      "execution_count": 0,
      "outputs": [
        {
          "output_type": "stream",
          "text": [
            "<pandas.core.groupby.DataFrameGroupBy object at 0x7f46556b12e8>\n"
          ],
          "name": "stdout"
        }
      ]
    },
    {
      "metadata": {
        "id": "SL4ycMCb_5BB",
        "colab_type": "code",
        "outputId": "2fc8f142-0aa0-4459-89eb-e1c58faf99ca",
        "colab": {
          "base_uri": "https://localhost:8080/",
          "height": 426
        }
      },
      "cell_type": "code",
      "source": [
        "product_df"
      ],
      "execution_count": 0,
      "outputs": [
        {
          "output_type": "execute_result",
          "data": {
            "text/html": [
              "<div>\n",
              "<style scoped>\n",
              "    .dataframe tbody tr th:only-of-type {\n",
              "        vertical-align: middle;\n",
              "    }\n",
              "\n",
              "    .dataframe tbody tr th {\n",
              "        vertical-align: top;\n",
              "    }\n",
              "\n",
              "    .dataframe thead th {\n",
              "        text-align: right;\n",
              "    }\n",
              "</style>\n",
              "<table border=\"1\" class=\"dataframe\">\n",
              "  <thead>\n",
              "    <tr style=\"text-align: right;\">\n",
              "      <th></th>\n",
              "      <th>Product_ID</th>\n",
              "      <th>Product_Name</th>\n",
              "      <th>Price</th>\n",
              "      <th>Supplier_ID</th>\n",
              "      <th>Supplier_Name</th>\n",
              "    </tr>\n",
              "  </thead>\n",
              "  <tbody>\n",
              "    <tr>\n",
              "      <th>0</th>\n",
              "      <td>30001</td>\n",
              "      <td>T-Shirt</td>\n",
              "      <td>12.98</td>\n",
              "      <td>40004</td>\n",
              "      <td>Studio Warehouse</td>\n",
              "    </tr>\n",
              "    <tr>\n",
              "      <th>1</th>\n",
              "      <td>30002</td>\n",
              "      <td>Tooth Paste</td>\n",
              "      <td>4.50</td>\n",
              "      <td>40002</td>\n",
              "      <td>BioMed Inc</td>\n",
              "    </tr>\n",
              "    <tr>\n",
              "      <th>2</th>\n",
              "      <td>30003</td>\n",
              "      <td>Speakers</td>\n",
              "      <td>56.99</td>\n",
              "      <td>40005</td>\n",
              "      <td>CompTech, Inc</td>\n",
              "    </tr>\n",
              "    <tr>\n",
              "      <th>3</th>\n",
              "      <td>30004</td>\n",
              "      <td>Pants</td>\n",
              "      <td>34.35</td>\n",
              "      <td>40003</td>\n",
              "      <td>FashionRUs</td>\n",
              "    </tr>\n",
              "    <tr>\n",
              "      <th>4</th>\n",
              "      <td>30005</td>\n",
              "      <td>Microphone</td>\n",
              "      <td>46.21</td>\n",
              "      <td>40001</td>\n",
              "      <td>Music Vibrations, Inc</td>\n",
              "    </tr>\n",
              "    <tr>\n",
              "      <th>5</th>\n",
              "      <td>30006</td>\n",
              "      <td>Tie</td>\n",
              "      <td>11.09</td>\n",
              "      <td>40003</td>\n",
              "      <td>FashionRUs</td>\n",
              "    </tr>\n",
              "    <tr>\n",
              "      <th>6</th>\n",
              "      <td>30007</td>\n",
              "      <td>Chap Stick</td>\n",
              "      <td>3.67</td>\n",
              "      <td>40002</td>\n",
              "      <td>BioMed Inc</td>\n",
              "    </tr>\n",
              "    <tr>\n",
              "      <th>7</th>\n",
              "      <td>30008</td>\n",
              "      <td>Medicine</td>\n",
              "      <td>23.96</td>\n",
              "      <td>40002</td>\n",
              "      <td>BioMed Inc</td>\n",
              "    </tr>\n",
              "    <tr>\n",
              "      <th>8</th>\n",
              "      <td>30009</td>\n",
              "      <td>Headhphones</td>\n",
              "      <td>31.44</td>\n",
              "      <td>40001</td>\n",
              "      <td>Music Vibrations, Inc</td>\n",
              "    </tr>\n",
              "    <tr>\n",
              "      <th>9</th>\n",
              "      <td>30010</td>\n",
              "      <td>Lotion</td>\n",
              "      <td>16.77</td>\n",
              "      <td>40002</td>\n",
              "      <td>BioMed Inc</td>\n",
              "    </tr>\n",
              "    <tr>\n",
              "      <th>10</th>\n",
              "      <td>30011</td>\n",
              "      <td>DVD Plyaer</td>\n",
              "      <td>149.99</td>\n",
              "      <td>40005</td>\n",
              "      <td>CompTech, Inc</td>\n",
              "    </tr>\n",
              "    <tr>\n",
              "      <th>11</th>\n",
              "      <td>30012</td>\n",
              "      <td>Coat</td>\n",
              "      <td>56.33</td>\n",
              "      <td>40004</td>\n",
              "      <td>Studio Warehouse</td>\n",
              "    </tr>\n",
              "  </tbody>\n",
              "</table>\n",
              "</div>"
            ],
            "text/plain": [
              "    Product_ID Product_Name   Price  Supplier_ID          Supplier_Name\n",
              "0        30001      T-Shirt   12.98        40004       Studio Warehouse\n",
              "1        30002  Tooth Paste    4.50        40002             BioMed Inc\n",
              "2        30003     Speakers   56.99        40005          CompTech, Inc\n",
              "3        30004        Pants   34.35        40003             FashionRUs\n",
              "4        30005   Microphone   46.21        40001  Music Vibrations, Inc\n",
              "5        30006          Tie   11.09        40003             FashionRUs\n",
              "6        30007   Chap Stick    3.67        40002             BioMed Inc\n",
              "7        30008     Medicine   23.96        40002             BioMed Inc\n",
              "8        30009  Headhphones   31.44        40001  Music Vibrations, Inc\n",
              "9        30010       Lotion   16.77        40002             BioMed Inc\n",
              "10       30011   DVD Plyaer  149.99        40005          CompTech, Inc\n",
              "11       30012         Coat   56.33        40004       Studio Warehouse"
            ]
          },
          "metadata": {
            "tags": []
          },
          "execution_count": 366
        }
      ]
    },
    {
      "metadata": {
        "id": "UiaJ_29i-dkD",
        "colab_type": "code",
        "outputId": "60b72ee6-a1ec-45fa-f09d-220dff82097e",
        "colab": {
          "base_uri": "https://localhost:8080/",
          "height": 206
        }
      },
      "cell_type": "code",
      "source": [
        "employee_df.groupby('Department').count()"
      ],
      "execution_count": 0,
      "outputs": [
        {
          "output_type": "execute_result",
          "data": {
            "text/html": [
              "<div>\n",
              "<style scoped>\n",
              "    .dataframe tbody tr th:only-of-type {\n",
              "        vertical-align: middle;\n",
              "    }\n",
              "\n",
              "    .dataframe tbody tr th {\n",
              "        vertical-align: top;\n",
              "    }\n",
              "\n",
              "    .dataframe thead th {\n",
              "        text-align: right;\n",
              "    }\n",
              "</style>\n",
              "<table border=\"1\" class=\"dataframe\">\n",
              "  <thead>\n",
              "    <tr style=\"text-align: right;\">\n",
              "      <th></th>\n",
              "      <th>Employee_ID</th>\n",
              "      <th>First_Name</th>\n",
              "      <th>Last_Name</th>\n",
              "      <th>City</th>\n",
              "    </tr>\n",
              "    <tr>\n",
              "      <th>Department</th>\n",
              "      <th></th>\n",
              "      <th></th>\n",
              "      <th></th>\n",
              "      <th></th>\n",
              "    </tr>\n",
              "  </thead>\n",
              "  <tbody>\n",
              "    <tr>\n",
              "      <th>Clothes</th>\n",
              "      <td>6</td>\n",
              "      <td>6</td>\n",
              "      <td>6</td>\n",
              "      <td>6</td>\n",
              "    </tr>\n",
              "    <tr>\n",
              "      <th>Cosmetics</th>\n",
              "      <td>1</td>\n",
              "      <td>1</td>\n",
              "      <td>1</td>\n",
              "      <td>1</td>\n",
              "    </tr>\n",
              "    <tr>\n",
              "      <th>Electronics</th>\n",
              "      <td>2</td>\n",
              "      <td>2</td>\n",
              "      <td>2</td>\n",
              "      <td>2</td>\n",
              "    </tr>\n",
              "    <tr>\n",
              "      <th>Parmacy Health &amp; Beauty</th>\n",
              "      <td>2</td>\n",
              "      <td>2</td>\n",
              "      <td>2</td>\n",
              "      <td>2</td>\n",
              "    </tr>\n",
              "  </tbody>\n",
              "</table>\n",
              "</div>"
            ],
            "text/plain": [
              "                         Employee_ID  First_Name  Last_Name  City\n",
              "Department                                                       \n",
              "Clothes                            6           6          6     6\n",
              "Cosmetics                          1           1          1     1\n",
              "Electronics                        2           2          2     2\n",
              "Parmacy Health & Beauty            2           2          2     2"
            ]
          },
          "metadata": {
            "tags": []
          },
          "execution_count": 364
        }
      ]
    },
    {
      "metadata": {
        "id": "OTnzoHMh--M0",
        "colab_type": "code",
        "outputId": "ac79d3a7-f37b-436e-f1cd-26900cdc793a",
        "colab": {
          "base_uri": "https://localhost:8080/",
          "height": 238
        }
      },
      "cell_type": "code",
      "source": [
        "product_df[['Supplier_Name', 'Price']].groupby('Supplier_Name').sum()"
      ],
      "execution_count": 0,
      "outputs": [
        {
          "output_type": "execute_result",
          "data": {
            "text/html": [
              "<div>\n",
              "<style scoped>\n",
              "    .dataframe tbody tr th:only-of-type {\n",
              "        vertical-align: middle;\n",
              "    }\n",
              "\n",
              "    .dataframe tbody tr th {\n",
              "        vertical-align: top;\n",
              "    }\n",
              "\n",
              "    .dataframe thead th {\n",
              "        text-align: right;\n",
              "    }\n",
              "</style>\n",
              "<table border=\"1\" class=\"dataframe\">\n",
              "  <thead>\n",
              "    <tr style=\"text-align: right;\">\n",
              "      <th></th>\n",
              "      <th>Price</th>\n",
              "    </tr>\n",
              "    <tr>\n",
              "      <th>Supplier_Name</th>\n",
              "      <th></th>\n",
              "    </tr>\n",
              "  </thead>\n",
              "  <tbody>\n",
              "    <tr>\n",
              "      <th>BioMed Inc</th>\n",
              "      <td>48.90</td>\n",
              "    </tr>\n",
              "    <tr>\n",
              "      <th>CompTech, Inc</th>\n",
              "      <td>206.98</td>\n",
              "    </tr>\n",
              "    <tr>\n",
              "      <th>FashionRUs</th>\n",
              "      <td>45.44</td>\n",
              "    </tr>\n",
              "    <tr>\n",
              "      <th>Music Vibrations, Inc</th>\n",
              "      <td>77.65</td>\n",
              "    </tr>\n",
              "    <tr>\n",
              "      <th>Studio Warehouse</th>\n",
              "      <td>69.31</td>\n",
              "    </tr>\n",
              "  </tbody>\n",
              "</table>\n",
              "</div>"
            ],
            "text/plain": [
              "                        Price\n",
              "Supplier_Name                \n",
              "BioMed Inc              48.90\n",
              "CompTech, Inc          206.98\n",
              "FashionRUs              45.44\n",
              "Music Vibrations, Inc   77.65\n",
              "Studio Warehouse        69.31"
            ]
          },
          "metadata": {
            "tags": []
          },
          "execution_count": 365
        }
      ]
    },
    {
      "metadata": {
        "id": "Bs9jWLO2_uAz",
        "colab_type": "code",
        "outputId": "30272de3-e115-4344-f410-aa3cee485e13",
        "colab": {
          "base_uri": "https://localhost:8080/",
          "height": 238
        }
      },
      "cell_type": "code",
      "source": [
        "product_df[['Supplier_Name', 'Price', 'Product_ID']].groupby('Supplier_Name').sum() # It added the ID's too"
      ],
      "execution_count": 0,
      "outputs": [
        {
          "output_type": "execute_result",
          "data": {
            "text/html": [
              "<div>\n",
              "<style scoped>\n",
              "    .dataframe tbody tr th:only-of-type {\n",
              "        vertical-align: middle;\n",
              "    }\n",
              "\n",
              "    .dataframe tbody tr th {\n",
              "        vertical-align: top;\n",
              "    }\n",
              "\n",
              "    .dataframe thead th {\n",
              "        text-align: right;\n",
              "    }\n",
              "</style>\n",
              "<table border=\"1\" class=\"dataframe\">\n",
              "  <thead>\n",
              "    <tr style=\"text-align: right;\">\n",
              "      <th></th>\n",
              "      <th>Price</th>\n",
              "      <th>Product_ID</th>\n",
              "    </tr>\n",
              "    <tr>\n",
              "      <th>Supplier_Name</th>\n",
              "      <th></th>\n",
              "      <th></th>\n",
              "    </tr>\n",
              "  </thead>\n",
              "  <tbody>\n",
              "    <tr>\n",
              "      <th>BioMed Inc</th>\n",
              "      <td>48.90</td>\n",
              "      <td>120027</td>\n",
              "    </tr>\n",
              "    <tr>\n",
              "      <th>CompTech, Inc</th>\n",
              "      <td>206.98</td>\n",
              "      <td>60014</td>\n",
              "    </tr>\n",
              "    <tr>\n",
              "      <th>FashionRUs</th>\n",
              "      <td>45.44</td>\n",
              "      <td>60010</td>\n",
              "    </tr>\n",
              "    <tr>\n",
              "      <th>Music Vibrations, Inc</th>\n",
              "      <td>77.65</td>\n",
              "      <td>60014</td>\n",
              "    </tr>\n",
              "    <tr>\n",
              "      <th>Studio Warehouse</th>\n",
              "      <td>69.31</td>\n",
              "      <td>60013</td>\n",
              "    </tr>\n",
              "  </tbody>\n",
              "</table>\n",
              "</div>"
            ],
            "text/plain": [
              "                        Price  Product_ID\n",
              "Supplier_Name                            \n",
              "BioMed Inc              48.90      120027\n",
              "CompTech, Inc          206.98       60014\n",
              "FashionRUs              45.44       60010\n",
              "Music Vibrations, Inc   77.65       60014\n",
              "Studio Warehouse        69.31       60013"
            ]
          },
          "metadata": {
            "tags": []
          },
          "execution_count": 372
        }
      ]
    },
    {
      "metadata": {
        "id": "mPHbFLBLAjn7",
        "colab_type": "code",
        "outputId": "bc7981d1-6894-423b-d4c0-47c64118e91c",
        "colab": {
          "base_uri": "https://localhost:8080/",
          "height": 457
        }
      },
      "cell_type": "code",
      "source": [
        "product_df[['Supplier_Name', 'Price', 'Product_ID']].groupby(['Supplier_Name', 'Product_ID']).sum() "
      ],
      "execution_count": 0,
      "outputs": [
        {
          "output_type": "execute_result",
          "data": {
            "text/html": [
              "<div>\n",
              "<style scoped>\n",
              "    .dataframe tbody tr th:only-of-type {\n",
              "        vertical-align: middle;\n",
              "    }\n",
              "\n",
              "    .dataframe tbody tr th {\n",
              "        vertical-align: top;\n",
              "    }\n",
              "\n",
              "    .dataframe thead th {\n",
              "        text-align: right;\n",
              "    }\n",
              "</style>\n",
              "<table border=\"1\" class=\"dataframe\">\n",
              "  <thead>\n",
              "    <tr style=\"text-align: right;\">\n",
              "      <th></th>\n",
              "      <th></th>\n",
              "      <th>Price</th>\n",
              "    </tr>\n",
              "    <tr>\n",
              "      <th>Supplier_Name</th>\n",
              "      <th>Product_ID</th>\n",
              "      <th></th>\n",
              "    </tr>\n",
              "  </thead>\n",
              "  <tbody>\n",
              "    <tr>\n",
              "      <th rowspan=\"4\" valign=\"top\">BioMed Inc</th>\n",
              "      <th>30002</th>\n",
              "      <td>4.50</td>\n",
              "    </tr>\n",
              "    <tr>\n",
              "      <th>30007</th>\n",
              "      <td>3.67</td>\n",
              "    </tr>\n",
              "    <tr>\n",
              "      <th>30008</th>\n",
              "      <td>23.96</td>\n",
              "    </tr>\n",
              "    <tr>\n",
              "      <th>30010</th>\n",
              "      <td>16.77</td>\n",
              "    </tr>\n",
              "    <tr>\n",
              "      <th rowspan=\"2\" valign=\"top\">CompTech, Inc</th>\n",
              "      <th>30003</th>\n",
              "      <td>56.99</td>\n",
              "    </tr>\n",
              "    <tr>\n",
              "      <th>30011</th>\n",
              "      <td>149.99</td>\n",
              "    </tr>\n",
              "    <tr>\n",
              "      <th rowspan=\"2\" valign=\"top\">FashionRUs</th>\n",
              "      <th>30004</th>\n",
              "      <td>34.35</td>\n",
              "    </tr>\n",
              "    <tr>\n",
              "      <th>30006</th>\n",
              "      <td>11.09</td>\n",
              "    </tr>\n",
              "    <tr>\n",
              "      <th rowspan=\"2\" valign=\"top\">Music Vibrations, Inc</th>\n",
              "      <th>30005</th>\n",
              "      <td>46.21</td>\n",
              "    </tr>\n",
              "    <tr>\n",
              "      <th>30009</th>\n",
              "      <td>31.44</td>\n",
              "    </tr>\n",
              "    <tr>\n",
              "      <th rowspan=\"2\" valign=\"top\">Studio Warehouse</th>\n",
              "      <th>30001</th>\n",
              "      <td>12.98</td>\n",
              "    </tr>\n",
              "    <tr>\n",
              "      <th>30012</th>\n",
              "      <td>56.33</td>\n",
              "    </tr>\n",
              "  </tbody>\n",
              "</table>\n",
              "</div>"
            ],
            "text/plain": [
              "                                   Price\n",
              "Supplier_Name         Product_ID        \n",
              "BioMed Inc            30002         4.50\n",
              "                      30007         3.67\n",
              "                      30008        23.96\n",
              "                      30010        16.77\n",
              "CompTech, Inc         30003        56.99\n",
              "                      30011       149.99\n",
              "FashionRUs            30004        34.35\n",
              "                      30006        11.09\n",
              "Music Vibrations, Inc 30005        46.21\n",
              "                      30009        31.44\n",
              "Studio Warehouse      30001        12.98\n",
              "                      30012        56.33"
            ]
          },
          "metadata": {
            "tags": []
          },
          "execution_count": 373
        }
      ]
    },
    {
      "metadata": {
        "id": "bgC5vBiyAi3B",
        "colab_type": "text"
      },
      "cell_type": "markdown",
      "source": [
        "##Panda DataFrame Math Operations"
      ]
    },
    {
      "metadata": {
        "id": "gnjMd44viZPW",
        "colab_type": "code",
        "colab": {}
      },
      "cell_type": "code",
      "source": [
        "import pandas as pd\n",
        "import numpy as np"
      ],
      "execution_count": 0,
      "outputs": []
    },
    {
      "metadata": {
        "id": "3lnpCxAGiWqi",
        "colab_type": "code",
        "colab": {
          "base_uri": "https://localhost:8080/",
          "height": 256
        },
        "outputId": "e499b5f6-56cd-41fe-bdc8-cf83ef55a19b"
      },
      "cell_type": "code",
      "source": [
        "m = np.matrix('1 2 3; 4 5 6; 7 8 9')\n",
        "m2 = np.matrix('10 30 40; 20 40 50; 14 15 20')\n",
        "m3 = np.matrix('10 100; 20 200')\n",
        "df = pd.DataFrame(m)\n",
        "df2 = pd.DataFrame(m2)\n",
        "df3 = pd.DataFrame(np.matrix('10 100; 20 200'))\n",
        "print(df, '\\n\\n', df2, '\\n\\n', df3)"
      ],
      "execution_count": 31,
      "outputs": [
        {
          "output_type": "stream",
          "text": [
            "   0  1  2\n",
            "0  1  2  3\n",
            "1  4  5  6\n",
            "2  7  8  9 \n",
            "\n",
            "     0   1   2\n",
            "0  10  30  40\n",
            "1  20  40  50\n",
            "2  14  15  20 \n",
            "\n",
            "     0    1\n",
            "0  10  100\n",
            "1  20  200\n"
          ],
          "name": "stdout"
        }
      ]
    },
    {
      "metadata": {
        "id": "7uJaQxefh_V4",
        "colab_type": "text"
      },
      "cell_type": "markdown",
      "source": [
        "### Scalar and Vector Addition"
      ]
    },
    {
      "metadata": {
        "id": "nWuXC537nP4q",
        "colab_type": "code",
        "colab": {
          "base_uri": "https://localhost:8080/",
          "height": 143
        },
        "outputId": "d6823911-c116-47ad-e7f0-443e63eb391e"
      },
      "cell_type": "code",
      "source": [
        "df + df2"
      ],
      "execution_count": 13,
      "outputs": [
        {
          "output_type": "execute_result",
          "data": {
            "text/html": [
              "<div>\n",
              "<style scoped>\n",
              "    .dataframe tbody tr th:only-of-type {\n",
              "        vertical-align: middle;\n",
              "    }\n",
              "\n",
              "    .dataframe tbody tr th {\n",
              "        vertical-align: top;\n",
              "    }\n",
              "\n",
              "    .dataframe thead th {\n",
              "        text-align: right;\n",
              "    }\n",
              "</style>\n",
              "<table border=\"1\" class=\"dataframe\">\n",
              "  <thead>\n",
              "    <tr style=\"text-align: right;\">\n",
              "      <th></th>\n",
              "      <th>0</th>\n",
              "      <th>1</th>\n",
              "      <th>2</th>\n",
              "    </tr>\n",
              "  </thead>\n",
              "  <tbody>\n",
              "    <tr>\n",
              "      <th>0</th>\n",
              "      <td>11</td>\n",
              "      <td>32</td>\n",
              "      <td>43</td>\n",
              "    </tr>\n",
              "    <tr>\n",
              "      <th>1</th>\n",
              "      <td>24</td>\n",
              "      <td>45</td>\n",
              "      <td>56</td>\n",
              "    </tr>\n",
              "    <tr>\n",
              "      <th>2</th>\n",
              "      <td>21</td>\n",
              "      <td>23</td>\n",
              "      <td>29</td>\n",
              "    </tr>\n",
              "  </tbody>\n",
              "</table>\n",
              "</div>"
            ],
            "text/plain": [
              "    0   1   2\n",
              "0  11  32  43\n",
              "1  24  45  56\n",
              "2  21  23  29"
            ]
          },
          "metadata": {
            "tags": []
          },
          "execution_count": 13
        }
      ]
    },
    {
      "metadata": {
        "id": "Sw3sG4HviC6f",
        "colab_type": "text"
      },
      "cell_type": "markdown",
      "source": [
        "### Scalar and Vector Subtraction"
      ]
    },
    {
      "metadata": {
        "id": "N8PPkoMuojP3",
        "colab_type": "code",
        "colab": {
          "base_uri": "https://localhost:8080/",
          "height": 143
        },
        "outputId": "a65c0e68-588b-47a4-94dc-049bf6fb4410"
      },
      "cell_type": "code",
      "source": [
        "df2-df"
      ],
      "execution_count": 18,
      "outputs": [
        {
          "output_type": "execute_result",
          "data": {
            "text/html": [
              "<div>\n",
              "<style scoped>\n",
              "    .dataframe tbody tr th:only-of-type {\n",
              "        vertical-align: middle;\n",
              "    }\n",
              "\n",
              "    .dataframe tbody tr th {\n",
              "        vertical-align: top;\n",
              "    }\n",
              "\n",
              "    .dataframe thead th {\n",
              "        text-align: right;\n",
              "    }\n",
              "</style>\n",
              "<table border=\"1\" class=\"dataframe\">\n",
              "  <thead>\n",
              "    <tr style=\"text-align: right;\">\n",
              "      <th></th>\n",
              "      <th>0</th>\n",
              "      <th>1</th>\n",
              "      <th>2</th>\n",
              "    </tr>\n",
              "  </thead>\n",
              "  <tbody>\n",
              "    <tr>\n",
              "      <th>0</th>\n",
              "      <td>9</td>\n",
              "      <td>28</td>\n",
              "      <td>37</td>\n",
              "    </tr>\n",
              "    <tr>\n",
              "      <th>1</th>\n",
              "      <td>16</td>\n",
              "      <td>35</td>\n",
              "      <td>44</td>\n",
              "    </tr>\n",
              "    <tr>\n",
              "      <th>2</th>\n",
              "      <td>7</td>\n",
              "      <td>7</td>\n",
              "      <td>11</td>\n",
              "    </tr>\n",
              "  </tbody>\n",
              "</table>\n",
              "</div>"
            ],
            "text/plain": [
              "    0   1   2\n",
              "0   9  28  37\n",
              "1  16  35  44\n",
              "2   7   7  11"
            ]
          },
          "metadata": {
            "tags": []
          },
          "execution_count": 18
        }
      ]
    },
    {
      "metadata": {
        "id": "UsbwuLH-iHl-",
        "colab_type": "text"
      },
      "cell_type": "markdown",
      "source": [
        "### Scalar and Vector Multiplication"
      ]
    },
    {
      "metadata": {
        "id": "O9QyKulWom6Y",
        "colab_type": "code",
        "colab": {
          "base_uri": "https://localhost:8080/",
          "height": 143
        },
        "outputId": "0c477cd6-dcc8-4460-de94-ac12ee4806c6"
      },
      "cell_type": "code",
      "source": [
        "df*10"
      ],
      "execution_count": 21,
      "outputs": [
        {
          "output_type": "execute_result",
          "data": {
            "text/html": [
              "<div>\n",
              "<style scoped>\n",
              "    .dataframe tbody tr th:only-of-type {\n",
              "        vertical-align: middle;\n",
              "    }\n",
              "\n",
              "    .dataframe tbody tr th {\n",
              "        vertical-align: top;\n",
              "    }\n",
              "\n",
              "    .dataframe thead th {\n",
              "        text-align: right;\n",
              "    }\n",
              "</style>\n",
              "<table border=\"1\" class=\"dataframe\">\n",
              "  <thead>\n",
              "    <tr style=\"text-align: right;\">\n",
              "      <th></th>\n",
              "      <th>0</th>\n",
              "      <th>1</th>\n",
              "      <th>2</th>\n",
              "    </tr>\n",
              "  </thead>\n",
              "  <tbody>\n",
              "    <tr>\n",
              "      <th>0</th>\n",
              "      <td>10</td>\n",
              "      <td>20</td>\n",
              "      <td>30</td>\n",
              "    </tr>\n",
              "    <tr>\n",
              "      <th>1</th>\n",
              "      <td>40</td>\n",
              "      <td>50</td>\n",
              "      <td>60</td>\n",
              "    </tr>\n",
              "    <tr>\n",
              "      <th>2</th>\n",
              "      <td>70</td>\n",
              "      <td>80</td>\n",
              "      <td>90</td>\n",
              "    </tr>\n",
              "  </tbody>\n",
              "</table>\n",
              "</div>"
            ],
            "text/plain": [
              "    0   1   2\n",
              "0  10  20  30\n",
              "1  40  50  60\n",
              "2  70  80  90"
            ]
          },
          "metadata": {
            "tags": []
          },
          "execution_count": 21
        }
      ]
    },
    {
      "metadata": {
        "id": "3ZVDX9D-pBF0",
        "colab_type": "code",
        "colab": {
          "base_uri": "https://localhost:8080/",
          "height": 143
        },
        "outputId": "50c35eb0-39e7-44a2-87c2-e6dac619aae7"
      },
      "cell_type": "code",
      "source": [
        "df * df2 # Multiplying DataFrames by elements. "
      ],
      "execution_count": 22,
      "outputs": [
        {
          "output_type": "execute_result",
          "data": {
            "text/html": [
              "<div>\n",
              "<style scoped>\n",
              "    .dataframe tbody tr th:only-of-type {\n",
              "        vertical-align: middle;\n",
              "    }\n",
              "\n",
              "    .dataframe tbody tr th {\n",
              "        vertical-align: top;\n",
              "    }\n",
              "\n",
              "    .dataframe thead th {\n",
              "        text-align: right;\n",
              "    }\n",
              "</style>\n",
              "<table border=\"1\" class=\"dataframe\">\n",
              "  <thead>\n",
              "    <tr style=\"text-align: right;\">\n",
              "      <th></th>\n",
              "      <th>0</th>\n",
              "      <th>1</th>\n",
              "      <th>2</th>\n",
              "    </tr>\n",
              "  </thead>\n",
              "  <tbody>\n",
              "    <tr>\n",
              "      <th>0</th>\n",
              "      <td>10</td>\n",
              "      <td>60</td>\n",
              "      <td>120</td>\n",
              "    </tr>\n",
              "    <tr>\n",
              "      <th>1</th>\n",
              "      <td>80</td>\n",
              "      <td>200</td>\n",
              "      <td>300</td>\n",
              "    </tr>\n",
              "    <tr>\n",
              "      <th>2</th>\n",
              "      <td>98</td>\n",
              "      <td>120</td>\n",
              "      <td>180</td>\n",
              "    </tr>\n",
              "  </tbody>\n",
              "</table>\n",
              "</div>"
            ],
            "text/plain": [
              "    0    1    2\n",
              "0  10   60  120\n",
              "1  80  200  300\n",
              "2  98  120  180"
            ]
          },
          "metadata": {
            "tags": []
          },
          "execution_count": 22
        }
      ]
    },
    {
      "metadata": {
        "id": "hh8VvGfGpCl_",
        "colab_type": "code",
        "colab": {
          "base_uri": "https://localhost:8080/",
          "height": 72
        },
        "outputId": "f5b7a85a-ea46-4106-b9d2-77b9877d1512"
      },
      "cell_type": "code",
      "source": [
        "m * m2 # Multiplying Matrices gives the dot products"
      ],
      "execution_count": 25,
      "outputs": [
        {
          "output_type": "execute_result",
          "data": {
            "text/plain": [
              "matrix([[ 92, 155, 200],\n",
              "        [224, 410, 530],\n",
              "        [356, 665, 860]])"
            ]
          },
          "metadata": {
            "tags": []
          },
          "execution_count": 25
        }
      ]
    },
    {
      "metadata": {
        "id": "2JiiwRXnp6B3",
        "colab_type": "code",
        "colab": {
          "base_uri": "https://localhost:8080/",
          "height": 143
        },
        "outputId": "6d9ebbde-a284-4d82-dedf-55e6ed7451d4"
      },
      "cell_type": "code",
      "source": [
        "pd.DataFrame(m * m2)"
      ],
      "execution_count": 26,
      "outputs": [
        {
          "output_type": "execute_result",
          "data": {
            "text/html": [
              "<div>\n",
              "<style scoped>\n",
              "    .dataframe tbody tr th:only-of-type {\n",
              "        vertical-align: middle;\n",
              "    }\n",
              "\n",
              "    .dataframe tbody tr th {\n",
              "        vertical-align: top;\n",
              "    }\n",
              "\n",
              "    .dataframe thead th {\n",
              "        text-align: right;\n",
              "    }\n",
              "</style>\n",
              "<table border=\"1\" class=\"dataframe\">\n",
              "  <thead>\n",
              "    <tr style=\"text-align: right;\">\n",
              "      <th></th>\n",
              "      <th>0</th>\n",
              "      <th>1</th>\n",
              "      <th>2</th>\n",
              "    </tr>\n",
              "  </thead>\n",
              "  <tbody>\n",
              "    <tr>\n",
              "      <th>0</th>\n",
              "      <td>92</td>\n",
              "      <td>155</td>\n",
              "      <td>200</td>\n",
              "    </tr>\n",
              "    <tr>\n",
              "      <th>1</th>\n",
              "      <td>224</td>\n",
              "      <td>410</td>\n",
              "      <td>530</td>\n",
              "    </tr>\n",
              "    <tr>\n",
              "      <th>2</th>\n",
              "      <td>356</td>\n",
              "      <td>665</td>\n",
              "      <td>860</td>\n",
              "    </tr>\n",
              "  </tbody>\n",
              "</table>\n",
              "</div>"
            ],
            "text/plain": [
              "     0    1    2\n",
              "0   92  155  200\n",
              "1  224  410  530\n",
              "2  356  665  860"
            ]
          },
          "metadata": {
            "tags": []
          },
          "execution_count": 26
        }
      ]
    },
    {
      "metadata": {
        "id": "z2WB7fqBsLRi",
        "colab_type": "text"
      },
      "cell_type": "markdown",
      "source": [
        "\n",
        "\n",
        "---\n",
        "\n",
        "\n",
        "\n"
      ]
    },
    {
      "metadata": {
        "id": "nhT0eP5-qBFL",
        "colab_type": "text"
      },
      "cell_type": "markdown",
      "source": [
        "### Scalar and Vector division"
      ]
    },
    {
      "metadata": {
        "id": "qKlwsTb4qE72",
        "colab_type": "code",
        "colab": {
          "base_uri": "https://localhost:8080/",
          "height": 143
        },
        "outputId": "1fa933dc-a753-44dc-8b4f-6256228dfd54"
      },
      "cell_type": "code",
      "source": [
        "df2 / 10"
      ],
      "execution_count": 27,
      "outputs": [
        {
          "output_type": "execute_result",
          "data": {
            "text/html": [
              "<div>\n",
              "<style scoped>\n",
              "    .dataframe tbody tr th:only-of-type {\n",
              "        vertical-align: middle;\n",
              "    }\n",
              "\n",
              "    .dataframe tbody tr th {\n",
              "        vertical-align: top;\n",
              "    }\n",
              "\n",
              "    .dataframe thead th {\n",
              "        text-align: right;\n",
              "    }\n",
              "</style>\n",
              "<table border=\"1\" class=\"dataframe\">\n",
              "  <thead>\n",
              "    <tr style=\"text-align: right;\">\n",
              "      <th></th>\n",
              "      <th>0</th>\n",
              "      <th>1</th>\n",
              "      <th>2</th>\n",
              "    </tr>\n",
              "  </thead>\n",
              "  <tbody>\n",
              "    <tr>\n",
              "      <th>0</th>\n",
              "      <td>1.0</td>\n",
              "      <td>3.0</td>\n",
              "      <td>4.0</td>\n",
              "    </tr>\n",
              "    <tr>\n",
              "      <th>1</th>\n",
              "      <td>2.0</td>\n",
              "      <td>4.0</td>\n",
              "      <td>5.0</td>\n",
              "    </tr>\n",
              "    <tr>\n",
              "      <th>2</th>\n",
              "      <td>1.4</td>\n",
              "      <td>1.5</td>\n",
              "      <td>2.0</td>\n",
              "    </tr>\n",
              "  </tbody>\n",
              "</table>\n",
              "</div>"
            ],
            "text/plain": [
              "     0    1    2\n",
              "0  1.0  3.0  4.0\n",
              "1  2.0  4.0  5.0\n",
              "2  1.4  1.5  2.0"
            ]
          },
          "metadata": {
            "tags": []
          },
          "execution_count": 27
        }
      ]
    },
    {
      "metadata": {
        "id": "1pbq-bcJqHWf",
        "colab_type": "code",
        "colab": {
          "base_uri": "https://localhost:8080/",
          "height": 143
        },
        "outputId": "cd9cd384-bee4-41b7-fc48-8ac0ebf9b46f"
      },
      "cell_type": "code",
      "source": [
        "df/df2"
      ],
      "execution_count": 28,
      "outputs": [
        {
          "output_type": "execute_result",
          "data": {
            "text/html": [
              "<div>\n",
              "<style scoped>\n",
              "    .dataframe tbody tr th:only-of-type {\n",
              "        vertical-align: middle;\n",
              "    }\n",
              "\n",
              "    .dataframe tbody tr th {\n",
              "        vertical-align: top;\n",
              "    }\n",
              "\n",
              "    .dataframe thead th {\n",
              "        text-align: right;\n",
              "    }\n",
              "</style>\n",
              "<table border=\"1\" class=\"dataframe\">\n",
              "  <thead>\n",
              "    <tr style=\"text-align: right;\">\n",
              "      <th></th>\n",
              "      <th>0</th>\n",
              "      <th>1</th>\n",
              "      <th>2</th>\n",
              "    </tr>\n",
              "  </thead>\n",
              "  <tbody>\n",
              "    <tr>\n",
              "      <th>0</th>\n",
              "      <td>0.1</td>\n",
              "      <td>0.066667</td>\n",
              "      <td>0.075</td>\n",
              "    </tr>\n",
              "    <tr>\n",
              "      <th>1</th>\n",
              "      <td>0.2</td>\n",
              "      <td>0.125000</td>\n",
              "      <td>0.120</td>\n",
              "    </tr>\n",
              "    <tr>\n",
              "      <th>2</th>\n",
              "      <td>0.5</td>\n",
              "      <td>0.533333</td>\n",
              "      <td>0.450</td>\n",
              "    </tr>\n",
              "  </tbody>\n",
              "</table>\n",
              "</div>"
            ],
            "text/plain": [
              "     0         1      2\n",
              "0  0.1  0.066667  0.075\n",
              "1  0.2  0.125000  0.120\n",
              "2  0.5  0.533333  0.450"
            ]
          },
          "metadata": {
            "tags": []
          },
          "execution_count": 28
        }
      ]
    },
    {
      "metadata": {
        "id": "8ngM7yjsrghn",
        "colab_type": "text"
      },
      "cell_type": "markdown",
      "source": [
        "* **Data Frames of different shapes can be divided**"
      ]
    },
    {
      "metadata": {
        "id": "qqp9uuyfrTTc",
        "colab_type": "code",
        "colab": {
          "base_uri": "https://localhost:8080/",
          "height": 143
        },
        "outputId": "34e38b27-dba4-49b7-8cb4-8afc0ce74374"
      },
      "cell_type": "code",
      "source": [
        "df/df3"
      ],
      "execution_count": 30,
      "outputs": [
        {
          "output_type": "execute_result",
          "data": {
            "text/html": [
              "<div>\n",
              "<style scoped>\n",
              "    .dataframe tbody tr th:only-of-type {\n",
              "        vertical-align: middle;\n",
              "    }\n",
              "\n",
              "    .dataframe tbody tr th {\n",
              "        vertical-align: top;\n",
              "    }\n",
              "\n",
              "    .dataframe thead th {\n",
              "        text-align: right;\n",
              "    }\n",
              "</style>\n",
              "<table border=\"1\" class=\"dataframe\">\n",
              "  <thead>\n",
              "    <tr style=\"text-align: right;\">\n",
              "      <th></th>\n",
              "      <th>0</th>\n",
              "      <th>1</th>\n",
              "      <th>2</th>\n",
              "    </tr>\n",
              "  </thead>\n",
              "  <tbody>\n",
              "    <tr>\n",
              "      <th>0</th>\n",
              "      <td>0.1</td>\n",
              "      <td>0.020</td>\n",
              "      <td>NaN</td>\n",
              "    </tr>\n",
              "    <tr>\n",
              "      <th>1</th>\n",
              "      <td>0.2</td>\n",
              "      <td>0.025</td>\n",
              "      <td>NaN</td>\n",
              "    </tr>\n",
              "    <tr>\n",
              "      <th>2</th>\n",
              "      <td>NaN</td>\n",
              "      <td>NaN</td>\n",
              "      <td>NaN</td>\n",
              "    </tr>\n",
              "  </tbody>\n",
              "</table>\n",
              "</div>"
            ],
            "text/plain": [
              "     0      1   2\n",
              "0  0.1  0.020 NaN\n",
              "1  0.2  0.025 NaN\n",
              "2  NaN    NaN NaN"
            ]
          },
          "metadata": {
            "tags": []
          },
          "execution_count": 30
        }
      ]
    },
    {
      "metadata": {
        "id": "yH717w0RrmYk",
        "colab_type": "text"
      },
      "cell_type": "markdown",
      "source": [
        "* **Matrices cannot**"
      ]
    },
    {
      "metadata": {
        "id": "ttKZx7kfrVkl",
        "colab_type": "code",
        "colab": {
          "base_uri": "https://localhost:8080/",
          "height": 172
        },
        "outputId": "f6834747-9524-4148-caf7-4012d4af4cb0"
      },
      "cell_type": "code",
      "source": [
        "m/m3"
      ],
      "execution_count": 32,
      "outputs": [
        {
          "output_type": "error",
          "ename": "ValueError",
          "evalue": "ignored",
          "traceback": [
            "\u001b[0;31m---------------------------------------------------------------------------\u001b[0m",
            "\u001b[0;31mValueError\u001b[0m                                Traceback (most recent call last)",
            "\u001b[0;32m<ipython-input-32-e0dd70cc2e53>\u001b[0m in \u001b[0;36m<module>\u001b[0;34m()\u001b[0m\n\u001b[0;32m----> 1\u001b[0;31m \u001b[0mm\u001b[0m\u001b[0;34m/\u001b[0m\u001b[0mm3\u001b[0m\u001b[0;34m\u001b[0m\u001b[0;34m\u001b[0m\u001b[0m\n\u001b[0m",
            "\u001b[0;31mValueError\u001b[0m: operands could not be broadcast together with shapes (3,3) (2,2) "
          ]
        }
      ]
    },
    {
      "metadata": {
        "id": "p_PvO9K5sTj7",
        "colab_type": "text"
      },
      "cell_type": "markdown",
      "source": [
        "\n",
        "\n",
        "---\n",
        "\n"
      ]
    },
    {
      "metadata": {
        "id": "Rpi7Qfe9iJLY",
        "colab_type": "text"
      },
      "cell_type": "markdown",
      "source": [
        "### Exponentials/Roots"
      ]
    },
    {
      "metadata": {
        "id": "XnmiqmOsrsMX",
        "colab_type": "code",
        "colab": {
          "base_uri": "https://localhost:8080/",
          "height": 143
        },
        "outputId": "a41d99cd-276f-4850-f040-e2f15d939b77"
      },
      "cell_type": "code",
      "source": [
        "df2 **3"
      ],
      "execution_count": 33,
      "outputs": [
        {
          "output_type": "execute_result",
          "data": {
            "text/html": [
              "<div>\n",
              "<style scoped>\n",
              "    .dataframe tbody tr th:only-of-type {\n",
              "        vertical-align: middle;\n",
              "    }\n",
              "\n",
              "    .dataframe tbody tr th {\n",
              "        vertical-align: top;\n",
              "    }\n",
              "\n",
              "    .dataframe thead th {\n",
              "        text-align: right;\n",
              "    }\n",
              "</style>\n",
              "<table border=\"1\" class=\"dataframe\">\n",
              "  <thead>\n",
              "    <tr style=\"text-align: right;\">\n",
              "      <th></th>\n",
              "      <th>0</th>\n",
              "      <th>1</th>\n",
              "      <th>2</th>\n",
              "    </tr>\n",
              "  </thead>\n",
              "  <tbody>\n",
              "    <tr>\n",
              "      <th>0</th>\n",
              "      <td>1000</td>\n",
              "      <td>27000</td>\n",
              "      <td>64000</td>\n",
              "    </tr>\n",
              "    <tr>\n",
              "      <th>1</th>\n",
              "      <td>8000</td>\n",
              "      <td>64000</td>\n",
              "      <td>125000</td>\n",
              "    </tr>\n",
              "    <tr>\n",
              "      <th>2</th>\n",
              "      <td>2744</td>\n",
              "      <td>3375</td>\n",
              "      <td>8000</td>\n",
              "    </tr>\n",
              "  </tbody>\n",
              "</table>\n",
              "</div>"
            ],
            "text/plain": [
              "      0      1       2\n",
              "0  1000  27000   64000\n",
              "1  8000  64000  125000\n",
              "2  2744   3375    8000"
            ]
          },
          "metadata": {
            "tags": []
          },
          "execution_count": 33
        }
      ]
    },
    {
      "metadata": {
        "id": "NnR49MNqr3wd",
        "colab_type": "text"
      },
      "cell_type": "markdown",
      "source": [
        "* **Numpy can also work with dataframes**"
      ]
    },
    {
      "metadata": {
        "id": "IqN7nRTGrxvH",
        "colab_type": "code",
        "colab": {
          "base_uri": "https://localhost:8080/",
          "height": 143
        },
        "outputId": "498cdde9-2c2c-409a-b868-bbe49cb601bc"
      },
      "cell_type": "code",
      "source": [
        "np.power(df2, 3)"
      ],
      "execution_count": 36,
      "outputs": [
        {
          "output_type": "execute_result",
          "data": {
            "text/html": [
              "<div>\n",
              "<style scoped>\n",
              "    .dataframe tbody tr th:only-of-type {\n",
              "        vertical-align: middle;\n",
              "    }\n",
              "\n",
              "    .dataframe tbody tr th {\n",
              "        vertical-align: top;\n",
              "    }\n",
              "\n",
              "    .dataframe thead th {\n",
              "        text-align: right;\n",
              "    }\n",
              "</style>\n",
              "<table border=\"1\" class=\"dataframe\">\n",
              "  <thead>\n",
              "    <tr style=\"text-align: right;\">\n",
              "      <th></th>\n",
              "      <th>0</th>\n",
              "      <th>1</th>\n",
              "      <th>2</th>\n",
              "    </tr>\n",
              "  </thead>\n",
              "  <tbody>\n",
              "    <tr>\n",
              "      <th>0</th>\n",
              "      <td>1000</td>\n",
              "      <td>27000</td>\n",
              "      <td>64000</td>\n",
              "    </tr>\n",
              "    <tr>\n",
              "      <th>1</th>\n",
              "      <td>8000</td>\n",
              "      <td>64000</td>\n",
              "      <td>125000</td>\n",
              "    </tr>\n",
              "    <tr>\n",
              "      <th>2</th>\n",
              "      <td>2744</td>\n",
              "      <td>3375</td>\n",
              "      <td>8000</td>\n",
              "    </tr>\n",
              "  </tbody>\n",
              "</table>\n",
              "</div>"
            ],
            "text/plain": [
              "      0      1       2\n",
              "0  1000  27000   64000\n",
              "1  8000  64000  125000\n",
              "2  2744   3375    8000"
            ]
          },
          "metadata": {
            "tags": []
          },
          "execution_count": 36
        }
      ]
    },
    {
      "metadata": {
        "id": "CdpHssbTsVLl",
        "colab_type": "text"
      },
      "cell_type": "markdown",
      "source": [
        "\n",
        "\n",
        "---\n",
        "\n"
      ]
    },
    {
      "metadata": {
        "id": "YL5JECdRsW8b",
        "colab_type": "text"
      },
      "cell_type": "markdown",
      "source": [
        "## Panda DataFrame Statistics Operations"
      ]
    },
    {
      "metadata": {
        "id": "37AgzQWBsaPd",
        "colab_type": "text"
      },
      "cell_type": "markdown",
      "source": [
        "### Min/Max/Range"
      ]
    },
    {
      "metadata": {
        "id": "r__e0IOjtcm1",
        "colab_type": "text"
      },
      "cell_type": "markdown",
      "source": [
        "* **Prints out the mininmum of Each Column **"
      ]
    },
    {
      "metadata": {
        "id": "V30xxeYvtCvd",
        "colab_type": "code",
        "colab": {
          "base_uri": "https://localhost:8080/",
          "height": 90
        },
        "outputId": "519bea52-6e37-41b6-b815-64cc01afe368"
      },
      "cell_type": "code",
      "source": [
        "df2.min()"
      ],
      "execution_count": 39,
      "outputs": [
        {
          "output_type": "execute_result",
          "data": {
            "text/plain": [
              "0    10\n",
              "1    15\n",
              "2    20\n",
              "dtype: int64"
            ]
          },
          "metadata": {
            "tags": []
          },
          "execution_count": 39
        }
      ]
    },
    {
      "metadata": {
        "id": "HIi1a0mjtJ7V",
        "colab_type": "code",
        "colab": {
          "base_uri": "https://localhost:8080/",
          "height": 143
        },
        "outputId": "eb0bc6e4-6f7c-4edf-ba7b-41b2a6d30343"
      },
      "cell_type": "code",
      "source": [
        "df2"
      ],
      "execution_count": 40,
      "outputs": [
        {
          "output_type": "execute_result",
          "data": {
            "text/html": [
              "<div>\n",
              "<style scoped>\n",
              "    .dataframe tbody tr th:only-of-type {\n",
              "        vertical-align: middle;\n",
              "    }\n",
              "\n",
              "    .dataframe tbody tr th {\n",
              "        vertical-align: top;\n",
              "    }\n",
              "\n",
              "    .dataframe thead th {\n",
              "        text-align: right;\n",
              "    }\n",
              "</style>\n",
              "<table border=\"1\" class=\"dataframe\">\n",
              "  <thead>\n",
              "    <tr style=\"text-align: right;\">\n",
              "      <th></th>\n",
              "      <th>0</th>\n",
              "      <th>1</th>\n",
              "      <th>2</th>\n",
              "    </tr>\n",
              "  </thead>\n",
              "  <tbody>\n",
              "    <tr>\n",
              "      <th>0</th>\n",
              "      <td>10</td>\n",
              "      <td>30</td>\n",
              "      <td>40</td>\n",
              "    </tr>\n",
              "    <tr>\n",
              "      <th>1</th>\n",
              "      <td>20</td>\n",
              "      <td>40</td>\n",
              "      <td>50</td>\n",
              "    </tr>\n",
              "    <tr>\n",
              "      <th>2</th>\n",
              "      <td>14</td>\n",
              "      <td>15</td>\n",
              "      <td>20</td>\n",
              "    </tr>\n",
              "  </tbody>\n",
              "</table>\n",
              "</div>"
            ],
            "text/plain": [
              "    0   1   2\n",
              "0  10  30  40\n",
              "1  20  40  50\n",
              "2  14  15  20"
            ]
          },
          "metadata": {
            "tags": []
          },
          "execution_count": 40
        }
      ]
    },
    {
      "metadata": {
        "id": "pFXmWC4qtpOT",
        "colab_type": "code",
        "colab": {
          "base_uri": "https://localhost:8080/",
          "height": 90
        },
        "outputId": "ac056a6f-813f-47e0-caad-f7aae1baf33b"
      },
      "cell_type": "code",
      "source": [
        "df2.max() # Goes by column"
      ],
      "execution_count": 41,
      "outputs": [
        {
          "output_type": "execute_result",
          "data": {
            "text/plain": [
              "0    20\n",
              "1    40\n",
              "2    50\n",
              "dtype: int64"
            ]
          },
          "metadata": {
            "tags": []
          },
          "execution_count": 41
        }
      ]
    },
    {
      "metadata": {
        "id": "OAZELrgYtzFH",
        "colab_type": "code",
        "colab": {
          "base_uri": "https://localhost:8080/",
          "height": 90
        },
        "outputId": "ada48e5f-fcb8-4114-ba3b-5b57a1734c37"
      },
      "cell_type": "code",
      "source": [
        "# Ranges\n",
        "df2  .max() - df2.min()"
      ],
      "execution_count": 42,
      "outputs": [
        {
          "output_type": "execute_result",
          "data": {
            "text/plain": [
              "0    10\n",
              "1    25\n",
              "2    30\n",
              "dtype: int64"
            ]
          },
          "metadata": {
            "tags": []
          },
          "execution_count": 42
        }
      ]
    },
    {
      "metadata": {
        "id": "oxH-yHnYse_D",
        "colab_type": "text"
      },
      "cell_type": "markdown",
      "source": [
        "### Sum/Total"
      ]
    },
    {
      "metadata": {
        "id": "iPARCQeeuYIq",
        "colab_type": "text"
      },
      "cell_type": "markdown",
      "source": [
        "* ** Sums by column**"
      ]
    },
    {
      "metadata": {
        "id": "Z-IPrgkguRS8",
        "colab_type": "code",
        "colab": {
          "base_uri": "https://localhost:8080/",
          "height": 90
        },
        "outputId": "f1d589a5-eff8-47cb-f2a4-3e1f4cdef4f4"
      },
      "cell_type": "code",
      "source": [
        "df2.sum()"
      ],
      "execution_count": 44,
      "outputs": [
        {
          "output_type": "execute_result",
          "data": {
            "text/plain": [
              "0     44\n",
              "1     85\n",
              "2    110\n",
              "dtype: int64"
            ]
          },
          "metadata": {
            "tags": []
          },
          "execution_count": 44
        }
      ]
    },
    {
      "metadata": {
        "id": "g9OFlX6ssgoX",
        "colab_type": "text"
      },
      "cell_type": "markdown",
      "source": [
        "### Count/Frequency"
      ]
    },
    {
      "metadata": {
        "id": "0_nCbPgFud4w",
        "colab_type": "code",
        "colab": {
          "base_uri": "https://localhost:8080/",
          "height": 90
        },
        "outputId": "71c63573-beb9-4697-94e3-90c8a5494363"
      },
      "cell_type": "code",
      "source": [
        "df.count() # how many entries per column"
      ],
      "execution_count": 45,
      "outputs": [
        {
          "output_type": "execute_result",
          "data": {
            "text/plain": [
              "0    3\n",
              "1    3\n",
              "2    3\n",
              "dtype: int64"
            ]
          },
          "metadata": {
            "tags": []
          },
          "execution_count": 45
        }
      ]
    },
    {
      "metadata": {
        "id": "oxTBGqLAumvY",
        "colab_type": "code",
        "colab": {
          "base_uri": "https://localhost:8080/",
          "height": 127
        },
        "outputId": "5ba94f1d-4d95-4b41-9c23-6b4941e24501"
      },
      "cell_type": "code",
      "source": [
        "product_df = pd.read_sql_query('SELECT * FROM Product', con3)\n",
        "product_df.count()"
      ],
      "execution_count": 62,
      "outputs": [
        {
          "output_type": "execute_result",
          "data": {
            "text/plain": [
              "Product_ID       12\n",
              "Product_Name     12\n",
              "Price            12\n",
              "Supplier_ID      12\n",
              "Supplier_Name    12\n",
              "dtype: int64"
            ]
          },
          "metadata": {
            "tags": []
          },
          "execution_count": 62
        }
      ]
    },
    {
      "metadata": {
        "id": "KWjoy9_2wCtw",
        "colab_type": "code",
        "colab": {
          "base_uri": "https://localhost:8080/",
          "height": 426
        },
        "outputId": "8713dc33-2eea-4ea1-9d9f-4d78c1678d8e"
      },
      "cell_type": "code",
      "source": [
        "product_df"
      ],
      "execution_count": 63,
      "outputs": [
        {
          "output_type": "execute_result",
          "data": {
            "text/html": [
              "<div>\n",
              "<style scoped>\n",
              "    .dataframe tbody tr th:only-of-type {\n",
              "        vertical-align: middle;\n",
              "    }\n",
              "\n",
              "    .dataframe tbody tr th {\n",
              "        vertical-align: top;\n",
              "    }\n",
              "\n",
              "    .dataframe thead th {\n",
              "        text-align: right;\n",
              "    }\n",
              "</style>\n",
              "<table border=\"1\" class=\"dataframe\">\n",
              "  <thead>\n",
              "    <tr style=\"text-align: right;\">\n",
              "      <th></th>\n",
              "      <th>Product_ID</th>\n",
              "      <th>Product_Name</th>\n",
              "      <th>Price</th>\n",
              "      <th>Supplier_ID</th>\n",
              "      <th>Supplier_Name</th>\n",
              "    </tr>\n",
              "  </thead>\n",
              "  <tbody>\n",
              "    <tr>\n",
              "      <th>0</th>\n",
              "      <td>30001</td>\n",
              "      <td>T-Shirt</td>\n",
              "      <td>12.98</td>\n",
              "      <td>40004</td>\n",
              "      <td>Studio Warehouse</td>\n",
              "    </tr>\n",
              "    <tr>\n",
              "      <th>1</th>\n",
              "      <td>30002</td>\n",
              "      <td>Tooth Paste</td>\n",
              "      <td>4.50</td>\n",
              "      <td>40002</td>\n",
              "      <td>BioMed Inc</td>\n",
              "    </tr>\n",
              "    <tr>\n",
              "      <th>2</th>\n",
              "      <td>30003</td>\n",
              "      <td>Speakers</td>\n",
              "      <td>56.99</td>\n",
              "      <td>40005</td>\n",
              "      <td>CompTech, Inc</td>\n",
              "    </tr>\n",
              "    <tr>\n",
              "      <th>3</th>\n",
              "      <td>30004</td>\n",
              "      <td>Pants</td>\n",
              "      <td>34.35</td>\n",
              "      <td>40003</td>\n",
              "      <td>FashionRUs</td>\n",
              "    </tr>\n",
              "    <tr>\n",
              "      <th>4</th>\n",
              "      <td>30005</td>\n",
              "      <td>Microphone</td>\n",
              "      <td>46.21</td>\n",
              "      <td>40001</td>\n",
              "      <td>Music Vibrations, Inc</td>\n",
              "    </tr>\n",
              "    <tr>\n",
              "      <th>5</th>\n",
              "      <td>30006</td>\n",
              "      <td>Tie</td>\n",
              "      <td>11.09</td>\n",
              "      <td>40003</td>\n",
              "      <td>FashionRUs</td>\n",
              "    </tr>\n",
              "    <tr>\n",
              "      <th>6</th>\n",
              "      <td>30007</td>\n",
              "      <td>Chap Stick</td>\n",
              "      <td>3.67</td>\n",
              "      <td>40002</td>\n",
              "      <td>BioMed Inc</td>\n",
              "    </tr>\n",
              "    <tr>\n",
              "      <th>7</th>\n",
              "      <td>30008</td>\n",
              "      <td>Medicine</td>\n",
              "      <td>23.96</td>\n",
              "      <td>40002</td>\n",
              "      <td>BioMed Inc</td>\n",
              "    </tr>\n",
              "    <tr>\n",
              "      <th>8</th>\n",
              "      <td>30009</td>\n",
              "      <td>Headhphones</td>\n",
              "      <td>31.44</td>\n",
              "      <td>40001</td>\n",
              "      <td>Music Vibrations, Inc</td>\n",
              "    </tr>\n",
              "    <tr>\n",
              "      <th>9</th>\n",
              "      <td>30010</td>\n",
              "      <td>Lotion</td>\n",
              "      <td>16.77</td>\n",
              "      <td>40002</td>\n",
              "      <td>BioMed Inc</td>\n",
              "    </tr>\n",
              "    <tr>\n",
              "      <th>10</th>\n",
              "      <td>30011</td>\n",
              "      <td>DVD Plyaer</td>\n",
              "      <td>149.99</td>\n",
              "      <td>40005</td>\n",
              "      <td>CompTech, Inc</td>\n",
              "    </tr>\n",
              "    <tr>\n",
              "      <th>11</th>\n",
              "      <td>30012</td>\n",
              "      <td>Coat</td>\n",
              "      <td>56.33</td>\n",
              "      <td>40004</td>\n",
              "      <td>Studio Warehouse</td>\n",
              "    </tr>\n",
              "  </tbody>\n",
              "</table>\n",
              "</div>"
            ],
            "text/plain": [
              "    Product_ID Product_Name   Price  Supplier_ID          Supplier_Name\n",
              "0        30001      T-Shirt   12.98        40004       Studio Warehouse\n",
              "1        30002  Tooth Paste    4.50        40002             BioMed Inc\n",
              "2        30003     Speakers   56.99        40005          CompTech, Inc\n",
              "3        30004        Pants   34.35        40003             FashionRUs\n",
              "4        30005   Microphone   46.21        40001  Music Vibrations, Inc\n",
              "5        30006          Tie   11.09        40003             FashionRUs\n",
              "6        30007   Chap Stick    3.67        40002             BioMed Inc\n",
              "7        30008     Medicine   23.96        40002             BioMed Inc\n",
              "8        30009  Headhphones   31.44        40001  Music Vibrations, Inc\n",
              "9        30010       Lotion   16.77        40002             BioMed Inc\n",
              "10       30011   DVD Plyaer  149.99        40005          CompTech, Inc\n",
              "11       30012         Coat   56.33        40004       Studio Warehouse"
            ]
          },
          "metadata": {
            "tags": []
          },
          "execution_count": 63
        }
      ]
    },
    {
      "metadata": {
        "id": "9LpXwFqusiMy",
        "colab_type": "text"
      },
      "cell_type": "markdown",
      "source": [
        "### MeanMedian\n"
      ]
    },
    {
      "metadata": {
        "id": "9Af-vwJUz3P7",
        "colab_type": "code",
        "colab": {
          "base_uri": "https://localhost:8080/",
          "height": 143
        },
        "outputId": "77d24708-072c-4419-c3b4-4541ad3a2452"
      },
      "cell_type": "code",
      "source": [
        "df2"
      ],
      "execution_count": 65,
      "outputs": [
        {
          "output_type": "execute_result",
          "data": {
            "text/html": [
              "<div>\n",
              "<style scoped>\n",
              "    .dataframe tbody tr th:only-of-type {\n",
              "        vertical-align: middle;\n",
              "    }\n",
              "\n",
              "    .dataframe tbody tr th {\n",
              "        vertical-align: top;\n",
              "    }\n",
              "\n",
              "    .dataframe thead th {\n",
              "        text-align: right;\n",
              "    }\n",
              "</style>\n",
              "<table border=\"1\" class=\"dataframe\">\n",
              "  <thead>\n",
              "    <tr style=\"text-align: right;\">\n",
              "      <th></th>\n",
              "      <th>0</th>\n",
              "      <th>1</th>\n",
              "      <th>2</th>\n",
              "    </tr>\n",
              "  </thead>\n",
              "  <tbody>\n",
              "    <tr>\n",
              "      <th>0</th>\n",
              "      <td>10</td>\n",
              "      <td>30</td>\n",
              "      <td>40</td>\n",
              "    </tr>\n",
              "    <tr>\n",
              "      <th>1</th>\n",
              "      <td>20</td>\n",
              "      <td>40</td>\n",
              "      <td>50</td>\n",
              "    </tr>\n",
              "    <tr>\n",
              "      <th>2</th>\n",
              "      <td>14</td>\n",
              "      <td>15</td>\n",
              "      <td>20</td>\n",
              "    </tr>\n",
              "  </tbody>\n",
              "</table>\n",
              "</div>"
            ],
            "text/plain": [
              "    0   1   2\n",
              "0  10  30  40\n",
              "1  20  40  50\n",
              "2  14  15  20"
            ]
          },
          "metadata": {
            "tags": []
          },
          "execution_count": 65
        }
      ]
    },
    {
      "metadata": {
        "id": "ke6Z0RD7wJUU",
        "colab_type": "code",
        "colab": {
          "base_uri": "https://localhost:8080/",
          "height": 90
        },
        "outputId": "ad8c537d-665f-4b36-9e75-f24eeae770b7"
      },
      "cell_type": "code",
      "source": [
        "df2.mean() # By columns"
      ],
      "execution_count": 64,
      "outputs": [
        {
          "output_type": "execute_result",
          "data": {
            "text/plain": [
              "0    14.666667\n",
              "1    28.333333\n",
              "2    36.666667\n",
              "dtype: float64"
            ]
          },
          "metadata": {
            "tags": []
          },
          "execution_count": 64
        }
      ]
    },
    {
      "metadata": {
        "id": "SswTfGfOz2eu",
        "colab_type": "code",
        "colab": {
          "base_uri": "https://localhost:8080/",
          "height": 90
        },
        "outputId": "f4c7414f-6a52-4632-fbfb-2e09b1e0726a"
      },
      "cell_type": "code",
      "source": [
        "df2.median()"
      ],
      "execution_count": 66,
      "outputs": [
        {
          "output_type": "execute_result",
          "data": {
            "text/plain": [
              "0    14.0\n",
              "1    30.0\n",
              "2    40.0\n",
              "dtype: float64"
            ]
          },
          "metadata": {
            "tags": []
          },
          "execution_count": 66
        }
      ]
    },
    {
      "metadata": {
        "id": "KQLbHDfmskKb",
        "colab_type": "text"
      },
      "cell_type": "markdown",
      "source": [
        "### Variance/Standard Deviation"
      ]
    },
    {
      "metadata": {
        "id": "0GsDJe5T0FF3",
        "colab_type": "code",
        "colab": {
          "base_uri": "https://localhost:8080/",
          "height": 90
        },
        "outputId": "9113cd53-9825-44dd-cff0-8bd6a043df2e"
      },
      "cell_type": "code",
      "source": [
        "variance = df2.var()\n",
        "print(variance)"
      ],
      "execution_count": 69,
      "outputs": [
        {
          "output_type": "stream",
          "text": [
            "0     25.333333\n",
            "1    158.333333\n",
            "2    233.333333\n",
            "dtype: float64\n"
          ],
          "name": "stdout"
        }
      ]
    },
    {
      "metadata": {
        "id": "xkAJuaVe0Jwh",
        "colab_type": "code",
        "colab": {
          "base_uri": "https://localhost:8080/",
          "height": 164
        },
        "outputId": "4ef8e328-109d-45a5-8c70-086908f220c1"
      },
      "cell_type": "code",
      "source": [
        "print(df2.std())\n",
        "print(np.sqrt(variance))"
      ],
      "execution_count": 71,
      "outputs": [
        {
          "output_type": "stream",
          "text": [
            "0     5.033223\n",
            "1    12.583057\n",
            "2    15.275252\n",
            "dtype: float64\n",
            "0     5.033223\n",
            "1    12.583057\n",
            "2    15.275252\n",
            "dtype: float64\n"
          ],
          "name": "stdout"
        }
      ]
    },
    {
      "metadata": {
        "id": "JfoTGEQ1snBr",
        "colab_type": "text"
      },
      "cell_type": "markdown",
      "source": [
        "###  Covariance"
      ]
    },
    {
      "metadata": {
        "id": "WFFX_PRC1LAC",
        "colab_type": "text"
      },
      "cell_type": "markdown",
      "source": [
        "* ** Covariance calculates how 2 different variable vary together**"
      ]
    },
    {
      "metadata": {
        "id": "6ljyQPgI1I9r",
        "colab_type": "code",
        "colab": {
          "base_uri": "https://localhost:8080/",
          "height": 143
        },
        "outputId": "4da7d7ce-9bcb-4d74-fe9e-9d7322061ead"
      },
      "cell_type": "code",
      "source": [
        "df"
      ],
      "execution_count": 72,
      "outputs": [
        {
          "output_type": "execute_result",
          "data": {
            "text/html": [
              "<div>\n",
              "<style scoped>\n",
              "    .dataframe tbody tr th:only-of-type {\n",
              "        vertical-align: middle;\n",
              "    }\n",
              "\n",
              "    .dataframe tbody tr th {\n",
              "        vertical-align: top;\n",
              "    }\n",
              "\n",
              "    .dataframe thead th {\n",
              "        text-align: right;\n",
              "    }\n",
              "</style>\n",
              "<table border=\"1\" class=\"dataframe\">\n",
              "  <thead>\n",
              "    <tr style=\"text-align: right;\">\n",
              "      <th></th>\n",
              "      <th>0</th>\n",
              "      <th>1</th>\n",
              "      <th>2</th>\n",
              "    </tr>\n",
              "  </thead>\n",
              "  <tbody>\n",
              "    <tr>\n",
              "      <th>0</th>\n",
              "      <td>1</td>\n",
              "      <td>2</td>\n",
              "      <td>3</td>\n",
              "    </tr>\n",
              "    <tr>\n",
              "      <th>1</th>\n",
              "      <td>4</td>\n",
              "      <td>5</td>\n",
              "      <td>6</td>\n",
              "    </tr>\n",
              "    <tr>\n",
              "      <th>2</th>\n",
              "      <td>7</td>\n",
              "      <td>8</td>\n",
              "      <td>9</td>\n",
              "    </tr>\n",
              "  </tbody>\n",
              "</table>\n",
              "</div>"
            ],
            "text/plain": [
              "   0  1  2\n",
              "0  1  2  3\n",
              "1  4  5  6\n",
              "2  7  8  9"
            ]
          },
          "metadata": {
            "tags": []
          },
          "execution_count": 72
        }
      ]
    },
    {
      "metadata": {
        "id": "3JgoewJ115Uf",
        "colab_type": "text"
      },
      "cell_type": "markdown",
      "source": [
        "* **Returns in pair-wise covariance of columns"
      ]
    },
    {
      "metadata": {
        "id": "yraJ57jJ1wav",
        "colab_type": "code",
        "colab": {
          "base_uri": "https://localhost:8080/",
          "height": 143
        },
        "outputId": "514d4fc4-c539-4a07-9a47-38065eea9c76"
      },
      "cell_type": "code",
      "source": [
        "df.cov()"
      ],
      "execution_count": 74,
      "outputs": [
        {
          "output_type": "execute_result",
          "data": {
            "text/html": [
              "<div>\n",
              "<style scoped>\n",
              "    .dataframe tbody tr th:only-of-type {\n",
              "        vertical-align: middle;\n",
              "    }\n",
              "\n",
              "    .dataframe tbody tr th {\n",
              "        vertical-align: top;\n",
              "    }\n",
              "\n",
              "    .dataframe thead th {\n",
              "        text-align: right;\n",
              "    }\n",
              "</style>\n",
              "<table border=\"1\" class=\"dataframe\">\n",
              "  <thead>\n",
              "    <tr style=\"text-align: right;\">\n",
              "      <th></th>\n",
              "      <th>0</th>\n",
              "      <th>1</th>\n",
              "      <th>2</th>\n",
              "    </tr>\n",
              "  </thead>\n",
              "  <tbody>\n",
              "    <tr>\n",
              "      <th>0</th>\n",
              "      <td>9.0</td>\n",
              "      <td>9.0</td>\n",
              "      <td>9.0</td>\n",
              "    </tr>\n",
              "    <tr>\n",
              "      <th>1</th>\n",
              "      <td>9.0</td>\n",
              "      <td>9.0</td>\n",
              "      <td>9.0</td>\n",
              "    </tr>\n",
              "    <tr>\n",
              "      <th>2</th>\n",
              "      <td>9.0</td>\n",
              "      <td>9.0</td>\n",
              "      <td>9.0</td>\n",
              "    </tr>\n",
              "  </tbody>\n",
              "</table>\n",
              "</div>"
            ],
            "text/plain": [
              "     0    1    2\n",
              "0  9.0  9.0  9.0\n",
              "1  9.0  9.0  9.0\n",
              "2  9.0  9.0  9.0"
            ]
          },
          "metadata": {
            "tags": []
          },
          "execution_count": 74
        }
      ]
    },
    {
      "metadata": {
        "id": "-kQBejrf2Bk7",
        "colab_type": "code",
        "colab": {}
      },
      "cell_type": "code",
      "source": [
        "df2 = pd.DataFrame([[1,2], [2,4],[3,6],[4,8]])"
      ],
      "execution_count": 0,
      "outputs": []
    },
    {
      "metadata": {
        "id": "twErw6-e2Oh7",
        "colab_type": "code",
        "colab": {
          "base_uri": "https://localhost:8080/",
          "height": 112
        },
        "outputId": "56c70198-29c9-4d81-8e6b-6545f4745b1d"
      },
      "cell_type": "code",
      "source": [
        "df2.cov()"
      ],
      "execution_count": 76,
      "outputs": [
        {
          "output_type": "execute_result",
          "data": {
            "text/html": [
              "<div>\n",
              "<style scoped>\n",
              "    .dataframe tbody tr th:only-of-type {\n",
              "        vertical-align: middle;\n",
              "    }\n",
              "\n",
              "    .dataframe tbody tr th {\n",
              "        vertical-align: top;\n",
              "    }\n",
              "\n",
              "    .dataframe thead th {\n",
              "        text-align: right;\n",
              "    }\n",
              "</style>\n",
              "<table border=\"1\" class=\"dataframe\">\n",
              "  <thead>\n",
              "    <tr style=\"text-align: right;\">\n",
              "      <th></th>\n",
              "      <th>0</th>\n",
              "      <th>1</th>\n",
              "    </tr>\n",
              "  </thead>\n",
              "  <tbody>\n",
              "    <tr>\n",
              "      <th>0</th>\n",
              "      <td>1.666667</td>\n",
              "      <td>3.333333</td>\n",
              "    </tr>\n",
              "    <tr>\n",
              "      <th>1</th>\n",
              "      <td>3.333333</td>\n",
              "      <td>6.666667</td>\n",
              "    </tr>\n",
              "  </tbody>\n",
              "</table>\n",
              "</div>"
            ],
            "text/plain": [
              "          0         1\n",
              "0  1.666667  3.333333\n",
              "1  3.333333  6.666667"
            ]
          },
          "metadata": {
            "tags": []
          },
          "execution_count": 76
        }
      ]
    },
    {
      "metadata": {
        "id": "MgcLsWpgspQN",
        "colab_type": "text"
      },
      "cell_type": "markdown",
      "source": [
        "### Quantile"
      ]
    },
    {
      "metadata": {
        "id": "k8nS__fD2cdr",
        "colab_type": "code",
        "colab": {
          "base_uri": "https://localhost:8080/",
          "height": 175
        },
        "outputId": "5e355924-9a8f-4692-a058-0a9089a93544"
      },
      "cell_type": "code",
      "source": [
        "df2.quantile([0, .25, .28, .75])"
      ],
      "execution_count": 77,
      "outputs": [
        {
          "output_type": "execute_result",
          "data": {
            "text/html": [
              "<div>\n",
              "<style scoped>\n",
              "    .dataframe tbody tr th:only-of-type {\n",
              "        vertical-align: middle;\n",
              "    }\n",
              "\n",
              "    .dataframe tbody tr th {\n",
              "        vertical-align: top;\n",
              "    }\n",
              "\n",
              "    .dataframe thead th {\n",
              "        text-align: right;\n",
              "    }\n",
              "</style>\n",
              "<table border=\"1\" class=\"dataframe\">\n",
              "  <thead>\n",
              "    <tr style=\"text-align: right;\">\n",
              "      <th></th>\n",
              "      <th>0</th>\n",
              "      <th>1</th>\n",
              "    </tr>\n",
              "  </thead>\n",
              "  <tbody>\n",
              "    <tr>\n",
              "      <th>0.00</th>\n",
              "      <td>1.00</td>\n",
              "      <td>2.00</td>\n",
              "    </tr>\n",
              "    <tr>\n",
              "      <th>0.25</th>\n",
              "      <td>1.75</td>\n",
              "      <td>3.50</td>\n",
              "    </tr>\n",
              "    <tr>\n",
              "      <th>0.28</th>\n",
              "      <td>1.84</td>\n",
              "      <td>3.68</td>\n",
              "    </tr>\n",
              "    <tr>\n",
              "      <th>0.75</th>\n",
              "      <td>3.25</td>\n",
              "      <td>6.50</td>\n",
              "    </tr>\n",
              "  </tbody>\n",
              "</table>\n",
              "</div>"
            ],
            "text/plain": [
              "         0     1\n",
              "0.00  1.00  2.00\n",
              "0.25  1.75  3.50\n",
              "0.28  1.84  3.68\n",
              "0.75  3.25  6.50"
            ]
          },
          "metadata": {
            "tags": []
          },
          "execution_count": 77
        }
      ]
    },
    {
      "metadata": {
        "id": "E6xjjgIxsqsC",
        "colab_type": "text"
      },
      "cell_type": "markdown",
      "source": [
        "### Cumulative Sum"
      ]
    },
    {
      "metadata": {
        "id": "IsXm6CkS2nvB",
        "colab_type": "code",
        "colab": {
          "base_uri": "https://localhost:8080/",
          "height": 175
        },
        "outputId": "a599e192-569f-46a9-e3a4-730034a999ed"
      },
      "cell_type": "code",
      "source": [
        "df2.cumsum()"
      ],
      "execution_count": 78,
      "outputs": [
        {
          "output_type": "execute_result",
          "data": {
            "text/html": [
              "<div>\n",
              "<style scoped>\n",
              "    .dataframe tbody tr th:only-of-type {\n",
              "        vertical-align: middle;\n",
              "    }\n",
              "\n",
              "    .dataframe tbody tr th {\n",
              "        vertical-align: top;\n",
              "    }\n",
              "\n",
              "    .dataframe thead th {\n",
              "        text-align: right;\n",
              "    }\n",
              "</style>\n",
              "<table border=\"1\" class=\"dataframe\">\n",
              "  <thead>\n",
              "    <tr style=\"text-align: right;\">\n",
              "      <th></th>\n",
              "      <th>0</th>\n",
              "      <th>1</th>\n",
              "    </tr>\n",
              "  </thead>\n",
              "  <tbody>\n",
              "    <tr>\n",
              "      <th>0</th>\n",
              "      <td>1</td>\n",
              "      <td>2</td>\n",
              "    </tr>\n",
              "    <tr>\n",
              "      <th>1</th>\n",
              "      <td>3</td>\n",
              "      <td>6</td>\n",
              "    </tr>\n",
              "    <tr>\n",
              "      <th>2</th>\n",
              "      <td>6</td>\n",
              "      <td>12</td>\n",
              "    </tr>\n",
              "    <tr>\n",
              "      <th>3</th>\n",
              "      <td>10</td>\n",
              "      <td>20</td>\n",
              "    </tr>\n",
              "  </tbody>\n",
              "</table>\n",
              "</div>"
            ],
            "text/plain": [
              "    0   1\n",
              "0   1   2\n",
              "1   3   6\n",
              "2   6  12\n",
              "3  10  20"
            ]
          },
          "metadata": {
            "tags": []
          },
          "execution_count": 78
        }
      ]
    },
    {
      "metadata": {
        "id": "psMcKCgJ2qVJ",
        "colab_type": "code",
        "colab": {
          "base_uri": "https://localhost:8080/",
          "height": 175
        },
        "outputId": "55429e3f-e2d4-4cb5-bbb4-3a0763311d93"
      },
      "cell_type": "code",
      "source": [
        "df2"
      ],
      "execution_count": 79,
      "outputs": [
        {
          "output_type": "execute_result",
          "data": {
            "text/html": [
              "<div>\n",
              "<style scoped>\n",
              "    .dataframe tbody tr th:only-of-type {\n",
              "        vertical-align: middle;\n",
              "    }\n",
              "\n",
              "    .dataframe tbody tr th {\n",
              "        vertical-align: top;\n",
              "    }\n",
              "\n",
              "    .dataframe thead th {\n",
              "        text-align: right;\n",
              "    }\n",
              "</style>\n",
              "<table border=\"1\" class=\"dataframe\">\n",
              "  <thead>\n",
              "    <tr style=\"text-align: right;\">\n",
              "      <th></th>\n",
              "      <th>0</th>\n",
              "      <th>1</th>\n",
              "    </tr>\n",
              "  </thead>\n",
              "  <tbody>\n",
              "    <tr>\n",
              "      <th>0</th>\n",
              "      <td>1</td>\n",
              "      <td>2</td>\n",
              "    </tr>\n",
              "    <tr>\n",
              "      <th>1</th>\n",
              "      <td>2</td>\n",
              "      <td>4</td>\n",
              "    </tr>\n",
              "    <tr>\n",
              "      <th>2</th>\n",
              "      <td>3</td>\n",
              "      <td>6</td>\n",
              "    </tr>\n",
              "    <tr>\n",
              "      <th>3</th>\n",
              "      <td>4</td>\n",
              "      <td>8</td>\n",
              "    </tr>\n",
              "  </tbody>\n",
              "</table>\n",
              "</div>"
            ],
            "text/plain": [
              "   0  1\n",
              "0  1  2\n",
              "1  2  4\n",
              "2  3  6\n",
              "3  4  8"
            ]
          },
          "metadata": {
            "tags": []
          },
          "execution_count": 79
        }
      ]
    },
    {
      "metadata": {
        "id": "V_58AZGtss-_",
        "colab_type": "text"
      },
      "cell_type": "markdown",
      "source": [
        "###  Aggregate Functions/Describe *"
      ]
    },
    {
      "metadata": {
        "id": "E2I0Kkfa22zX",
        "colab_type": "text"
      },
      "cell_type": "markdown",
      "source": [
        "* **Several Statisctic calculations together**"
      ]
    },
    {
      "metadata": {
        "id": "9Qt9K3ta2zXK",
        "colab_type": "code",
        "colab": {
          "base_uri": "https://localhost:8080/",
          "height": 206
        },
        "outputId": "ec997a03-9118-47ce-b81e-66733800f64b"
      },
      "cell_type": "code",
      "source": [
        "df2.agg(['var', 'std', 'sum', 'mean', 'median'])"
      ],
      "execution_count": 91,
      "outputs": [
        {
          "output_type": "execute_result",
          "data": {
            "text/html": [
              "<div>\n",
              "<style scoped>\n",
              "    .dataframe tbody tr th:only-of-type {\n",
              "        vertical-align: middle;\n",
              "    }\n",
              "\n",
              "    .dataframe tbody tr th {\n",
              "        vertical-align: top;\n",
              "    }\n",
              "\n",
              "    .dataframe thead th {\n",
              "        text-align: right;\n",
              "    }\n",
              "</style>\n",
              "<table border=\"1\" class=\"dataframe\">\n",
              "  <thead>\n",
              "    <tr style=\"text-align: right;\">\n",
              "      <th></th>\n",
              "      <th>0</th>\n",
              "      <th>1</th>\n",
              "    </tr>\n",
              "  </thead>\n",
              "  <tbody>\n",
              "    <tr>\n",
              "      <th>var</th>\n",
              "      <td>1.666667</td>\n",
              "      <td>6.666667</td>\n",
              "    </tr>\n",
              "    <tr>\n",
              "      <th>std</th>\n",
              "      <td>1.290994</td>\n",
              "      <td>2.581989</td>\n",
              "    </tr>\n",
              "    <tr>\n",
              "      <th>sum</th>\n",
              "      <td>10.000000</td>\n",
              "      <td>20.000000</td>\n",
              "    </tr>\n",
              "    <tr>\n",
              "      <th>mean</th>\n",
              "      <td>2.500000</td>\n",
              "      <td>5.000000</td>\n",
              "    </tr>\n",
              "    <tr>\n",
              "      <th>median</th>\n",
              "      <td>2.500000</td>\n",
              "      <td>5.000000</td>\n",
              "    </tr>\n",
              "  </tbody>\n",
              "</table>\n",
              "</div>"
            ],
            "text/plain": [
              "                0          1\n",
              "var      1.666667   6.666667\n",
              "std      1.290994   2.581989\n",
              "sum     10.000000  20.000000\n",
              "mean     2.500000   5.000000\n",
              "median   2.500000   5.000000"
            ]
          },
          "metadata": {
            "tags": []
          },
          "execution_count": 91
        }
      ]
    },
    {
      "metadata": {
        "id": "EqZdMK4g3e6h",
        "colab_type": "code",
        "colab": {
          "base_uri": "https://localhost:8080/",
          "height": 72
        },
        "outputId": "695bfaa4-6e4e-4f1b-f990-1c169cf2c908"
      },
      "cell_type": "code",
      "source": [
        "df2.sum()"
      ],
      "execution_count": 86,
      "outputs": [
        {
          "output_type": "execute_result",
          "data": {
            "text/plain": [
              "0    10\n",
              "1    20\n",
              "dtype: int64"
            ]
          },
          "metadata": {
            "tags": []
          },
          "execution_count": 86
        }
      ]
    },
    {
      "metadata": {
        "id": "zT_ncm9a5pmA",
        "colab_type": "text"
      },
      "cell_type": "markdown",
      "source": [
        "* **Quick and easy way to get all the statistics**"
      ]
    },
    {
      "metadata": {
        "id": "4JT-osFu5dOe",
        "colab_type": "code",
        "colab": {
          "base_uri": "https://localhost:8080/",
          "height": 300
        },
        "outputId": "3ca991f3-826b-4e59-f155-d003f4c29fda"
      },
      "cell_type": "code",
      "source": [
        "df2.describe()"
      ],
      "execution_count": 92,
      "outputs": [
        {
          "output_type": "execute_result",
          "data": {
            "text/html": [
              "<div>\n",
              "<style scoped>\n",
              "    .dataframe tbody tr th:only-of-type {\n",
              "        vertical-align: middle;\n",
              "    }\n",
              "\n",
              "    .dataframe tbody tr th {\n",
              "        vertical-align: top;\n",
              "    }\n",
              "\n",
              "    .dataframe thead th {\n",
              "        text-align: right;\n",
              "    }\n",
              "</style>\n",
              "<table border=\"1\" class=\"dataframe\">\n",
              "  <thead>\n",
              "    <tr style=\"text-align: right;\">\n",
              "      <th></th>\n",
              "      <th>0</th>\n",
              "      <th>1</th>\n",
              "    </tr>\n",
              "  </thead>\n",
              "  <tbody>\n",
              "    <tr>\n",
              "      <th>count</th>\n",
              "      <td>4.000000</td>\n",
              "      <td>4.000000</td>\n",
              "    </tr>\n",
              "    <tr>\n",
              "      <th>mean</th>\n",
              "      <td>2.500000</td>\n",
              "      <td>5.000000</td>\n",
              "    </tr>\n",
              "    <tr>\n",
              "      <th>std</th>\n",
              "      <td>1.290994</td>\n",
              "      <td>2.581989</td>\n",
              "    </tr>\n",
              "    <tr>\n",
              "      <th>min</th>\n",
              "      <td>1.000000</td>\n",
              "      <td>2.000000</td>\n",
              "    </tr>\n",
              "    <tr>\n",
              "      <th>25%</th>\n",
              "      <td>1.750000</td>\n",
              "      <td>3.500000</td>\n",
              "    </tr>\n",
              "    <tr>\n",
              "      <th>50%</th>\n",
              "      <td>2.500000</td>\n",
              "      <td>5.000000</td>\n",
              "    </tr>\n",
              "    <tr>\n",
              "      <th>75%</th>\n",
              "      <td>3.250000</td>\n",
              "      <td>6.500000</td>\n",
              "    </tr>\n",
              "    <tr>\n",
              "      <th>max</th>\n",
              "      <td>4.000000</td>\n",
              "      <td>8.000000</td>\n",
              "    </tr>\n",
              "  </tbody>\n",
              "</table>\n",
              "</div>"
            ],
            "text/plain": [
              "              0         1\n",
              "count  4.000000  4.000000\n",
              "mean   2.500000  5.000000\n",
              "std    1.290994  2.581989\n",
              "min    1.000000  2.000000\n",
              "25%    1.750000  3.500000\n",
              "50%    2.500000  5.000000\n",
              "75%    3.250000  6.500000\n",
              "max    4.000000  8.000000"
            ]
          },
          "metadata": {
            "tags": []
          },
          "execution_count": 92
        }
      ]
    },
    {
      "metadata": {
        "id": "Je_PffrXsvnD",
        "colab_type": "text"
      },
      "cell_type": "markdown",
      "source": [
        "### Apply/Lambda"
      ]
    },
    {
      "metadata": {
        "id": "ok_5ZzPv65Br",
        "colab_type": "text"
      },
      "cell_type": "markdown",
      "source": [
        "* $df.apply()$ Allows us to apply any function to the data frame"
      ]
    },
    {
      "metadata": {
        "id": "HwICOeJ-7FQk",
        "colab_type": "code",
        "colab": {
          "base_uri": "https://localhost:8080/",
          "height": 81
        },
        "outputId": "131a5050-b1e0-4e0d-9346-f8aef86afb9a"
      },
      "cell_type": "code",
      "source": [
        "df2.apply(['max'])"
      ],
      "execution_count": 94,
      "outputs": [
        {
          "output_type": "execute_result",
          "data": {
            "text/html": [
              "<div>\n",
              "<style scoped>\n",
              "    .dataframe tbody tr th:only-of-type {\n",
              "        vertical-align: middle;\n",
              "    }\n",
              "\n",
              "    .dataframe tbody tr th {\n",
              "        vertical-align: top;\n",
              "    }\n",
              "\n",
              "    .dataframe thead th {\n",
              "        text-align: right;\n",
              "    }\n",
              "</style>\n",
              "<table border=\"1\" class=\"dataframe\">\n",
              "  <thead>\n",
              "    <tr style=\"text-align: right;\">\n",
              "      <th></th>\n",
              "      <th>0</th>\n",
              "      <th>1</th>\n",
              "    </tr>\n",
              "  </thead>\n",
              "  <tbody>\n",
              "    <tr>\n",
              "      <th>max</th>\n",
              "      <td>4</td>\n",
              "      <td>8</td>\n",
              "    </tr>\n",
              "  </tbody>\n",
              "</table>\n",
              "</div>"
            ],
            "text/plain": [
              "     0  1\n",
              "max  4  8"
            ]
          },
          "metadata": {
            "tags": []
          },
          "execution_count": 94
        }
      ]
    },
    {
      "metadata": {
        "id": "BjiIxniQ7O7V",
        "colab_type": "text"
      },
      "cell_type": "markdown",
      "source": [
        "Even our own functions"
      ]
    },
    {
      "metadata": {
        "id": "ZUWnapij7Oa2",
        "colab_type": "code",
        "colab": {}
      },
      "cell_type": "code",
      "source": [
        "def add_ten(x):\n",
        "  return x + 10"
      ],
      "execution_count": 0,
      "outputs": []
    },
    {
      "metadata": {
        "id": "YMsbYWJY7dnT",
        "colab_type": "code",
        "colab": {
          "base_uri": "https://localhost:8080/",
          "height": 175
        },
        "outputId": "0314237b-fd62-4d3c-d924-623433ec4c0f"
      },
      "cell_type": "code",
      "source": [
        "df2.apply(add_ten)"
      ],
      "execution_count": 97,
      "outputs": [
        {
          "output_type": "execute_result",
          "data": {
            "text/html": [
              "<div>\n",
              "<style scoped>\n",
              "    .dataframe tbody tr th:only-of-type {\n",
              "        vertical-align: middle;\n",
              "    }\n",
              "\n",
              "    .dataframe tbody tr th {\n",
              "        vertical-align: top;\n",
              "    }\n",
              "\n",
              "    .dataframe thead th {\n",
              "        text-align: right;\n",
              "    }\n",
              "</style>\n",
              "<table border=\"1\" class=\"dataframe\">\n",
              "  <thead>\n",
              "    <tr style=\"text-align: right;\">\n",
              "      <th></th>\n",
              "      <th>0</th>\n",
              "      <th>1</th>\n",
              "    </tr>\n",
              "  </thead>\n",
              "  <tbody>\n",
              "    <tr>\n",
              "      <th>0</th>\n",
              "      <td>11</td>\n",
              "      <td>12</td>\n",
              "    </tr>\n",
              "    <tr>\n",
              "      <th>1</th>\n",
              "      <td>12</td>\n",
              "      <td>14</td>\n",
              "    </tr>\n",
              "    <tr>\n",
              "      <th>2</th>\n",
              "      <td>13</td>\n",
              "      <td>16</td>\n",
              "    </tr>\n",
              "    <tr>\n",
              "      <th>3</th>\n",
              "      <td>14</td>\n",
              "      <td>18</td>\n",
              "    </tr>\n",
              "  </tbody>\n",
              "</table>\n",
              "</div>"
            ],
            "text/plain": [
              "    0   1\n",
              "0  11  12\n",
              "1  12  14\n",
              "2  13  16\n",
              "3  14  18"
            ]
          },
          "metadata": {
            "tags": []
          },
          "execution_count": 97
        }
      ]
    },
    {
      "metadata": {
        "id": "c7LbGAYQ7ubj",
        "colab_type": "code",
        "colab": {
          "base_uri": "https://localhost:8080/",
          "height": 256
        },
        "outputId": "26b4107d-850c-4b39-a02c-e0dfd1819358"
      },
      "cell_type": "code",
      "source": [
        "product_df['Price'].apply(add_ten)"
      ],
      "execution_count": 99,
      "outputs": [
        {
          "output_type": "execute_result",
          "data": {
            "text/plain": [
              "0      22.98\n",
              "1      14.50\n",
              "2      66.99\n",
              "3      44.35\n",
              "4      56.21\n",
              "5      21.09\n",
              "6      13.67\n",
              "7      33.96\n",
              "8      41.44\n",
              "9      26.77\n",
              "10    159.99\n",
              "11     66.33\n",
              "Name: Price, dtype: float64"
            ]
          },
          "metadata": {
            "tags": []
          },
          "execution_count": 99
        }
      ]
    },
    {
      "metadata": {
        "id": "TX_omkPF7okb",
        "colab_type": "code",
        "colab": {
          "base_uri": "https://localhost:8080/",
          "height": 256
        },
        "outputId": "c64ef704-8134-4752-be53-2143b170f65d"
      },
      "cell_type": "code",
      "source": [
        "product_df['Price']"
      ],
      "execution_count": 98,
      "outputs": [
        {
          "output_type": "execute_result",
          "data": {
            "text/plain": [
              "0      12.98\n",
              "1       4.50\n",
              "2      56.99\n",
              "3      34.35\n",
              "4      46.21\n",
              "5      11.09\n",
              "6       3.67\n",
              "7      23.96\n",
              "8      31.44\n",
              "9      16.77\n",
              "10    149.99\n",
              "11     56.33\n",
              "Name: Price, dtype: float64"
            ]
          },
          "metadata": {
            "tags": []
          },
          "execution_count": 98
        }
      ]
    },
    {
      "metadata": {
        "id": "hM3ZKPLV8CBD",
        "colab_type": "text"
      },
      "cell_type": "markdown",
      "source": [
        "\n",
        "\n",
        "---\n",
        "\n"
      ]
    },
    {
      "metadata": {
        "id": "sH66ax1m799V",
        "colab_type": "code",
        "colab": {
          "base_uri": "https://localhost:8080/",
          "height": 54
        },
        "outputId": "24a7fefe-a873-4af1-9a9a-65e7100433cb"
      },
      "cell_type": "code",
      "source": [
        "prod_min = product_df['Price'].min()\n",
        "prod_max = product_df['Price'].max()\n",
        "print(prod_min)\n",
        "print(prod_max)"
      ],
      "execution_count": 100,
      "outputs": [
        {
          "output_type": "stream",
          "text": [
            "3.67\n",
            "149.99\n"
          ],
          "name": "stdout"
        }
      ]
    },
    {
      "metadata": {
        "id": "PKimelmu8Way",
        "colab_type": "code",
        "colab": {
          "base_uri": "https://localhost:8080/",
          "height": 256
        },
        "outputId": "0fd2f1fa-2cc4-44ce-a5d9-d692114d87f9"
      },
      "cell_type": "code",
      "source": [
        "product_df['Price'].apply(lambda x: (prod_max - x)/(prod_max - prod_min))"
      ],
      "execution_count": 101,
      "outputs": [
        {
          "output_type": "execute_result",
          "data": {
            "text/plain": [
              "0     0.936372\n",
              "1     0.994328\n",
              "2     0.635593\n",
              "3     0.790323\n",
              "4     0.709267\n",
              "5     0.949289\n",
              "6     1.000000\n",
              "7     0.861331\n",
              "8     0.810210\n",
              "9     0.910470\n",
              "10    0.000000\n",
              "11    0.640104\n",
              "Name: Price, dtype: float64"
            ]
          },
          "metadata": {
            "tags": []
          },
          "execution_count": 101
        }
      ]
    },
    {
      "metadata": {
        "id": "8kBwzBXg8umD",
        "colab_type": "code",
        "colab": {
          "base_uri": "https://localhost:8080/",
          "height": 256
        },
        "outputId": "c00f7eef-a022-4021-cf17-e49873bb9a81"
      },
      "cell_type": "code",
      "source": [
        "product_df['Price']"
      ],
      "execution_count": 102,
      "outputs": [
        {
          "output_type": "execute_result",
          "data": {
            "text/plain": [
              "0      12.98\n",
              "1       4.50\n",
              "2      56.99\n",
              "3      34.35\n",
              "4      46.21\n",
              "5      11.09\n",
              "6       3.67\n",
              "7      23.96\n",
              "8      31.44\n",
              "9      16.77\n",
              "10    149.99\n",
              "11     56.33\n",
              "Name: Price, dtype: float64"
            ]
          },
          "metadata": {
            "tags": []
          },
          "execution_count": 102
        }
      ]
    },
    {
      "metadata": {
        "id": "R8BbWPSu9ZUp",
        "colab_type": "text"
      },
      "cell_type": "markdown",
      "source": [
        "\n",
        "\n",
        "---\n",
        "\n"
      ]
    },
    {
      "metadata": {
        "id": "11n_EuC79W6o",
        "colab_type": "code",
        "colab": {
          "base_uri": "https://localhost:8080/",
          "height": 172
        },
        "outputId": "292105b0-a6a2-4753-c5cb-fd355b94ab47"
      },
      "cell_type": "code",
      "source": [
        "product_supplier_df = pd.merge(product_df, supplier_df, how='inner')"
      ],
      "execution_count": 103,
      "outputs": [
        {
          "output_type": "error",
          "ename": "NameError",
          "evalue": "ignored",
          "traceback": [
            "\u001b[0;31m---------------------------------------------------------------------------\u001b[0m",
            "\u001b[0;31mNameError\u001b[0m                                 Traceback (most recent call last)",
            "\u001b[0;32m<ipython-input-103-96c219fdc404>\u001b[0m in \u001b[0;36m<module>\u001b[0;34m()\u001b[0m\n\u001b[0;32m----> 1\u001b[0;31m \u001b[0mproduct_supplier_df\u001b[0m \u001b[0;34m=\u001b[0m \u001b[0mpd\u001b[0m\u001b[0;34m.\u001b[0m\u001b[0mmerge\u001b[0m\u001b[0;34m(\u001b[0m\u001b[0mproduct_df\u001b[0m\u001b[0;34m,\u001b[0m \u001b[0msupplier_df\u001b[0m\u001b[0;34m,\u001b[0m \u001b[0mhow\u001b[0m\u001b[0;34m=\u001b[0m\u001b[0;34m'inner'\u001b[0m\u001b[0;34m)\u001b[0m\u001b[0;34m\u001b[0m\u001b[0;34m\u001b[0m\u001b[0m\n\u001b[0m",
            "\u001b[0;31mNameError\u001b[0m: name 'supplier_df' is not defined"
          ]
        }
      ]
    }
  ]
}