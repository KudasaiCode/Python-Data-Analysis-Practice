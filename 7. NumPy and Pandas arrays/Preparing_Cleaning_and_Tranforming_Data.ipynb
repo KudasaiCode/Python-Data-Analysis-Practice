{
  "nbformat": 4,
  "nbformat_minor": 0,
  "metadata": {
    "colab": {
      "name": "Preparing/Cleaning and Tranforming Data.ipynb",
      "version": "0.3.2",
      "provenance": [],
      "collapsed_sections": [
        "3fiu0Z1-WjT-",
        "ndVsiMF7d_vF"
      ],
      "toc_visible": true,
      "include_colab_link": true
    },
    "kernelspec": {
      "name": "python3",
      "display_name": "Python 3"
    }
  },
  "cells": [
    {
      "cell_type": "markdown",
      "metadata": {
        "id": "view-in-github",
        "colab_type": "text"
      },
      "source": [
        "<a href=\"https://colab.research.google.com/github/KudasaiCode/Arrays-with-NumPy-and-Pandas/blob/master/Preparing_Cleaning_and_Tranforming_Data.ipynb\" target=\"_parent\"><img src=\"https://colab.research.google.com/assets/colab-badge.svg\" alt=\"Open In Colab\"/></a>"
      ]
    },
    {
      "metadata": {
        "id": "mVBXfrrKVH1_",
        "colab_type": "text"
      },
      "cell_type": "markdown",
      "source": [
        "# Dimensions of Data Quality"
      ]
    },
    {
      "metadata": {
        "id": "OFoEh8uAVLT-",
        "colab_type": "text"
      },
      "cell_type": "markdown",
      "source": [
        "* Validity: Does the data conform to desired definition?\n",
        "\n",
        "* Accuracy: How well is the data recorded in relation to the real world?\n",
        "\n",
        "* Completeness: Do we have all the data?\n",
        "\n",
        "* Consistency: Are there any differences of 2 or more representations based on the same definition?\n",
        "\n",
        "* Uniformity: Are we using consistent types of metric or conversion?\n",
        "\n",
        "* Uniqueness: Do we have 1 or more of the **same** records?\n",
        "\n",
        "* Timeliness:  Is the data recorded relevant to our analysis?"
      ]
    },
    {
      "metadata": {
        "id": "yQeg6HSPYv_7",
        "colab_type": "text"
      },
      "cell_type": "markdown",
      "source": [
        "\n",
        "\n",
        "---\n",
        "\n"
      ]
    },
    {
      "metadata": {
        "id": "3fiu0Z1-WjT-",
        "colab_type": "text"
      },
      "cell_type": "markdown",
      "source": [
        "# Creating tables "
      ]
    },
    {
      "metadata": {
        "id": "c-n9XG9UWqFU",
        "colab_type": "code",
        "colab": {}
      },
      "cell_type": "code",
      "source": [
        "from google.colab import files\n",
        "import sqlite3"
      ],
      "execution_count": 0,
      "outputs": []
    },
    {
      "metadata": {
        "id": "xcDkTPumWw7k",
        "colab_type": "code",
        "outputId": "25e5d944-f8e0-4bdb-ec78-0640bb622f95",
        "colab": {
          "resources": {
            "http://localhost:8080/nbextensions/google.colab/files.js": {
              "data": "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",
              "ok": true,
              "headers": [
                [
                  "content-type",
                  "application/javascript"
                ]
              ],
              "status": 200,
              "status_text": "OK"
            }
          },
          "base_uri": "https://localhost:8080/",
          "height": 56
        }
      },
      "cell_type": "code",
      "source": [
        "uploaded = files.upload()"
      ],
      "execution_count": 0,
      "outputs": [
        {
          "output_type": "display_data",
          "data": {
            "text/html": [
              "\n",
              "     <input type=\"file\" id=\"files-ae315dde-caa6-4149-bb73-ef849ec4ae8e\" name=\"files[]\" multiple disabled />\n",
              "     <output id=\"result-ae315dde-caa6-4149-bb73-ef849ec4ae8e\">\n",
              "      Upload widget is only available when the cell has been executed in the\n",
              "      current browser session. Please rerun this cell to enable.\n",
              "      </output>\n",
              "      <script src=\"/nbextensions/google.colab/files.js\"></script> "
            ],
            "text/plain": [
              "<IPython.core.display.HTML object>"
            ]
          },
          "metadata": {
            "tags": []
          }
        }
      ]
    },
    {
      "metadata": {
        "id": "LVUSHkjJW8Id",
        "colab_type": "code",
        "colab": {}
      },
      "cell_type": "code",
      "source": [
        "con = sqlite3.connect('dataDB.db')\n",
        "cur = con.cursor()"
      ],
      "execution_count": 0,
      "outputs": []
    },
    {
      "metadata": {
        "id": "nGOohN7IZAE6",
        "colab_type": "text"
      },
      "cell_type": "markdown",
      "source": [
        "**Creating the tables**"
      ]
    },
    {
      "metadata": {
        "id": "Bf2HfJJQXEbE",
        "colab_type": "code",
        "outputId": "edf1cb59-d062-4181-984d-956573b7fa5c",
        "colab": {
          "base_uri": "https://localhost:8080/",
          "height": 35
        }
      },
      "cell_type": "code",
      "source": [
        "cur.execute(\"CREATE TABLE Employee(Employee_ID, First_Name TEXT, Last_Name Text, Department TEXT, City TEXT)\")"
      ],
      "execution_count": 0,
      "outputs": [
        {
          "output_type": "execute_result",
          "data": {
            "text/plain": [
              "<sqlite3.Cursor at 0x7fef5a93c340>"
            ]
          },
          "metadata": {
            "tags": []
          },
          "execution_count": 43
        }
      ]
    },
    {
      "metadata": {
        "id": "x3G7f2KCcHHg",
        "colab_type": "code",
        "outputId": "e1914eca-87a4-43de-f8b7-4402533f8550",
        "colab": {
          "base_uri": "https://localhost:8080/",
          "height": 35
        }
      },
      "cell_type": "code",
      "source": [
        "cur.execute('CREATE TABLE Supplier(Supplier_ID INTEGERS, Name TEXT, City TEXT)')"
      ],
      "execution_count": 0,
      "outputs": [
        {
          "output_type": "execute_result",
          "data": {
            "text/plain": [
              "<sqlite3.Cursor at 0x7fef5925e3b0>"
            ]
          },
          "metadata": {
            "tags": []
          },
          "execution_count": 97
        }
      ]
    },
    {
      "metadata": {
        "id": "FY-MLSmZc3rX",
        "colab_type": "code",
        "outputId": "7c1dc36b-5a80-4dd2-833c-a93607ed8888",
        "colab": {
          "base_uri": "https://localhost:8080/",
          "height": 35
        }
      },
      "cell_type": "code",
      "source": [
        "cur.execute('CREATE TABLE Sales(Employee_ID INTEGERS, First_Name TEXT, Last_Name TEXT, Department TEXT, City TEXT)')"
      ],
      "execution_count": 0,
      "outputs": [
        {
          "output_type": "execute_result",
          "data": {
            "text/plain": [
              "<sqlite3.Cursor at 0x7fef5a93c340>"
            ]
          },
          "metadata": {
            "tags": []
          },
          "execution_count": 26
        }
      ]
    },
    {
      "metadata": {
        "id": "OVCdphQFpMUL",
        "colab_type": "code",
        "outputId": "ce598b3e-aa2d-4e92-e986-5fac872d285c",
        "colab": {
          "base_uri": "https://localhost:8080/",
          "height": 35
        }
      },
      "cell_type": "code",
      "source": [
        "cur.execute('CREATE TABLE Customer(Customer_ID INTEGERS, First_Name TEXT, Last_Name TEXT, City TEXT)')"
      ],
      "execution_count": 0,
      "outputs": [
        {
          "output_type": "execute_result",
          "data": {
            "text/plain": [
              "<sqlite3.Cursor at 0x7fef5a93c340>"
            ]
          },
          "metadata": {
            "tags": []
          },
          "execution_count": 50
        }
      ]
    },
    {
      "metadata": {
        "id": "7rgFDqdOsBdX",
        "colab_type": "code",
        "outputId": "cbe4576d-bc83-4f98-f787-143300f73037",
        "colab": {
          "base_uri": "https://localhost:8080/",
          "height": 35
        }
      },
      "cell_type": "code",
      "source": [
        "cur.execute('CREATE TABLE Product(Product_ID, Product_Name TEXT, Price, Supplier_ID, Supplier_Name)')"
      ],
      "execution_count": 0,
      "outputs": [
        {
          "output_type": "execute_result",
          "data": {
            "text/plain": [
              "<sqlite3.Cursor at 0x7fef5a93c340>"
            ]
          },
          "metadata": {
            "tags": []
          },
          "execution_count": 61
        }
      ]
    },
    {
      "metadata": {
        "id": "8auAmVwh3EXv",
        "colab_type": "code",
        "outputId": "c3e40ec9-d294-499f-8c12-01f70ef6286e",
        "colab": {
          "base_uri": "https://localhost:8080/",
          "height": 35
        }
      },
      "cell_type": "code",
      "source": [
        "cur.execute('CREATE TABLE Orders(Order_ID INTEGER, Customer_ID INTEGER, Product_ID INTEGER, Employee_ID INTEGER, Date TEXT)')"
      ],
      "execution_count": 0,
      "outputs": [
        {
          "output_type": "execute_result",
          "data": {
            "text/plain": [
              "<sqlite3.Cursor at 0x7fef5925e3b0>"
            ]
          },
          "metadata": {
            "tags": []
          },
          "execution_count": 85
        }
      ]
    },
    {
      "metadata": {
        "id": "w61TgT8aZRqF",
        "colab_type": "text"
      },
      "cell_type": "markdown",
      "source": [
        "\n",
        "\n",
        "---\n",
        "\n"
      ]
    },
    {
      "metadata": {
        "id": "z2lHeI5jZNI6",
        "colab_type": "text"
      },
      "cell_type": "markdown",
      "source": [
        "** Creating Values **"
      ]
    },
    {
      "metadata": {
        "id": "KJScMZhgZVYs",
        "colab_type": "code",
        "colab": {}
      },
      "cell_type": "code",
      "source": [
        "employees = [\n",
        "    (10001, 'Daniel', 'Olsong', 'Electronics', 'San Francisco'),\n",
        "    (10002, 'Nick', 'Markmen', 'Clothes', 'San Franciso'), \n",
        "    (10003, 'Maria', 'Gonzalez', 'Electronics', 'San Jose'),\n",
        "    (10004, 'George', 'Wong', 'Clothes', 'San Franciso'),\n",
        "    (10005, 'Stephanie', 'Williams', 'Clothes', 'Oakland'),\n",
        "    (10006, 'Miguel', 'Alva', 'Clothes', 'Oakland'),\n",
        "    (10007, 'Jessica', 'Collins', 'Cosmetics', 'San Franciso'),\n",
        "    (10008, 'Ted', 'Anderson', 'Clothes', 'Oakland'),\n",
        "    (10009, 'Victoria', 'Garcia', 'Clothes', 'San Jose'),\n",
        "    (10010, 'Jasmine', 'Khan', 'Parmacy Health & Beauty', 'Oakland'),\n",
        "    (10011, 'Adam', 'Smith', 'Parmacy Health & Beauty', 'San Jose'),\n",
        "    (10012, 'Rachel', 'Kim', 'Electronics', 'San Jose'),\n",
        "    (10012, 'Adam R.', 'West', 'Clothes', 'San Jose'),\n",
        "    (10012, 'Adam', 'West', 'Clothes', 'San Jose'),\n",
        "    (10013, 'Kim', 'Ng', '', 'San Francisco'),\n",
        "    (10014, 'Nicole', '', 'Parmacy Health & Beauty', 'Oakland'),\n",
        "    ('3k3d8leu', 'James', 'TELLER', 'Clothes', 'SANJOSE,CA'),\n",
        "    (10014, 'Carie', 'Olson', 'Clothes/Electronics', 'SF'),\n",
        "    (10015, 'JonathaN_', 'hernandez', 'N/A', 'San Jose'),\n",
        "]"
      ],
      "execution_count": 0,
      "outputs": []
    },
    {
      "metadata": {
        "id": "UcWpuUqucf7I",
        "colab_type": "code",
        "colab": {}
      },
      "cell_type": "code",
      "source": [
        "suppliers = [\n",
        "    (40001, 'Music Vibrations, Inc', 'Oakland'),\n",
        "    (40002, 'BioMedInc', 'San Franciso'),\n",
        "    (40003, 'FashionRUs', 'San Jose'),\n",
        "    (40004, 'Studio Warehouse', 'San Franciso'),\n",
        "    (40005, 'CompTech, Inc', 'San Jose'),\n",
        "    (400006, 'WearUps Inc', 'NY'),\n",
        "    (40007, 'DataQuery Inc', 'SJ'),\n",
        "    (40008, 'Ropa Inc', 'Mexico'),\n",
        "]"
      ],
      "execution_count": 0,
      "outputs": []
    },
    {
      "metadata": {
        "id": "rp5UlZOndFJn",
        "colab_type": "code",
        "colab": {}
      },
      "cell_type": "code",
      "source": [
        "sales = [\n",
        "    (10001, 'Daniel' ,'Olson', 'Electronics', 'San Francisco'),\n",
        "    (10002, 'Nick','markmen', 'Clothes', 'San Francisco'),\n",
        "    (10003, 'Maria' ,'Gonzales', 'Electronics', 'San Jose'),\n",
        "    (10004, 'George' ,'Wong', 'Clothes', 'San Francisco'),\n",
        "    (10005, 'Stephanie' ,'Williams', 'Clothes', 'Oakland'),\n",
        "    (10006, 'Miguel' ,'Alva', 'Clothes', 'Oakland'),\n",
        "    (10007, 'Jessica' ,'Collins', 'Electronics', 'San Francisco'),\n",
        "    (10008, 'Ted' ,'Anderson', 'Clothes', 'Oakland'),\n",
        "    (10009, 'Victoria' ,'Garcia', 'Clothes', 'San Jose'),\n",
        "    (10010, 'Jjasmine' ,'Khan', 'Pharmacy, Halth, and Beauty', 'Oakland'),\n",
        "    (10011, 'Adam' ,'Smith', 'Pharmacy, Halth, and Beauty', 'San Jose'),\n",
        "    (10012, 'Rachel' ,'Kim', 'Electronics', 'San Jose'),\n",
        "]\n"
      ],
      "execution_count": 0,
      "outputs": []
    },
    {
      "metadata": {
        "id": "ZXVNJN0hpcxi",
        "colab_type": "code",
        "colab": {}
      },
      "cell_type": "code",
      "source": [
        "customers = [\n",
        "    (20001, 'Jack', 'Ward', 'San Jose'),\n",
        "    (20002, 'Steven', 'Martinez', 'San Francisco'),\n",
        "    (20003, 'Jessica', 'Collins', 'San Jose'),\n",
        "    (20004, 'Carie', 'Robinson', 'San Francisco'),\n",
        "    (20005, 'Zack', 'Peterson', 'Oakland'),\n",
        "    (20006, 'Bianca', 'Sanchez', 'San Francisco'),\n",
        "    (20007, 'James', 'Owen', 'Oakland'),\n",
        "    (20008, 'Lisa', 'Smith', 'San Francisco'),\n",
        "    (20009, 'Daniel', 'Yasukawa', 'Oakland'),\n",
        "    (20010, 'Lauren', 'Pham', 'San Jose'),\n",
        "    (20011, 'Juan', 'Diaz', 'Oakland'),\n",
        "    (20012, 'Martha', 'Diaz', 'San Francisco'),\n",
        "    (20013, 'Margret Shang', '', 'Oak Town'),\n",
        "    (20014, 'Jeremy', 'Fernandez', 'Berkeley'),\n",
        "    (20018, 'TIffany', 'Williams', 'Frisco'),\n",
        "]"
      ],
      "execution_count": 0,
      "outputs": []
    },
    {
      "metadata": {
        "id": "pDhNXlX3smiN",
        "colab_type": "code",
        "colab": {}
      },
      "cell_type": "code",
      "source": [
        "products = [\n",
        "    (30001, 'T-Shirt', 12.98, 40004, 'Studio Warehouse'),\n",
        "    (30002, 'Tooth Paste', 4.5, 40002, 'BioMed Inc'),\n",
        "    (30003, 'Speakers', 56.99, 40005, 'CompTech, Inc'),\n",
        "    (30004, 'Pants', 34.35, 40003, 'FashionRUs'),\n",
        "    (30005, 'Microphone', 46.21, 40001, 'Music Vibrations, Inc'),\n",
        "    (30006, 'Tie', 11.09, 40003, 'FashionRUs'),\n",
        "    (30007, 'Chap Stick', 3.67, 40002, 'BioMed Inc'),\n",
        "    (30008, 'Medicine', 23.96, 40002, 'BioMed Inc'),\n",
        "    (30009, 'Headphones', 31.44, 40001, 'Music Vibrations, Inc'),\n",
        "    (30010, 'Lotion', 16.77, 40002, 'BioMed Inc'),\n",
        "    (30011, 'DVD Player', 149.99, 40005, 'CompTech, Inc'),\n",
        "    (30012, 'Coat', 56.33, 40004, 'Studio Warehouse'),\n",
        "    (40013, 'Black Pack', 'Twenty Two Dollars', 40006, 'WearUps Inc'),\n",
        "    (40014, 'Auditing Services', 7000, 40007, 'DataQuery Inc'),\n",
        "    ('12!d3&)dkc_+@ad', 'Car', '', '48350254-5qe', ''),\n",
        "    (40015, 'Shirt', 180, 40004, 'Ropa Inc'),\n",
        "]"
      ],
      "execution_count": 0,
      "outputs": []
    },
    {
      "metadata": {
        "id": "_LwLudHT0YFS",
        "colab_type": "code",
        "colab": {}
      },
      "cell_type": "code",
      "source": [
        "orders = [\n",
        "    (50001, 20005, 30005, 10001, '17-02-12'),\n",
        "    (50002, 20003, 30008, 10011, '17-09-03'),\n",
        "    (50003, 20010, 30001, 10009, '17-11-23'),\n",
        "    (50004, 20004, 30008, 10010, '17-01-28'),\n",
        "    (50005, 20008, 30012, 10002, '17-08-11'),\n",
        "    (50006, 20011, 30011, 10001, '17-04-13'),\n",
        "    (50007, 20012, 30002, 10007, '17-10-07'),\n",
        "    (50008, 20002, 30001, 10004, '17-03-09'),\n",
        "    (50009, 20001, 30006, 10009, '17-12-26'),\n",
        "    (50010, 50008, 30007, 10008, '09-26'),\n",
        "    (50017, '', 30096, 10012, '12-26'),\n",
        "    (50018, 20022, 30007, 10123, '02-21-01'),\n",
        "]"
      ],
      "execution_count": 0,
      "outputs": []
    },
    {
      "metadata": {
        "id": "YNuhw2dla6US",
        "colab_type": "text"
      },
      "cell_type": "markdown",
      "source": [
        "\n",
        "\n",
        "---\n",
        "\n"
      ]
    },
    {
      "metadata": {
        "id": "Y0VGyEZwa7sb",
        "colab_type": "text"
      },
      "cell_type": "markdown",
      "source": [
        "**Inserting values**"
      ]
    },
    {
      "metadata": {
        "id": "uq0VUrdebBEa",
        "colab_type": "code",
        "outputId": "adacaf69-457d-4bec-bcf0-49ce21d94985",
        "colab": {
          "base_uri": "https://localhost:8080/",
          "height": 35
        }
      },
      "cell_type": "code",
      "source": [
        "cur.executemany(\"INSERT INTO Employee VALUES (?,?,?,?,?)\", employees)"
      ],
      "execution_count": 0,
      "outputs": [
        {
          "output_type": "execute_result",
          "data": {
            "text/plain": [
              "<sqlite3.Cursor at 0x7fef5a93c340>"
            ]
          },
          "metadata": {
            "tags": []
          },
          "execution_count": 46
        }
      ]
    },
    {
      "metadata": {
        "id": "Ebj5QkM1ckYW",
        "colab_type": "code",
        "outputId": "8468c91a-c3e7-4f16-b66f-34f5dfb24889",
        "colab": {
          "base_uri": "https://localhost:8080/",
          "height": 35
        }
      },
      "cell_type": "code",
      "source": [
        "cur.executemany(\"INSERT INTO Supplier VALUES (?,?,?)\", suppliers)"
      ],
      "execution_count": 0,
      "outputs": [
        {
          "output_type": "execute_result",
          "data": {
            "text/plain": [
              "<sqlite3.Cursor at 0x7fef5925e3b0>"
            ]
          },
          "metadata": {
            "tags": []
          },
          "execution_count": 98
        }
      ]
    },
    {
      "metadata": {
        "id": "66exeYGodKAm",
        "colab_type": "code",
        "outputId": "adacb388-b6d7-46f1-bf5c-41bc42f69104",
        "colab": {
          "base_uri": "https://localhost:8080/",
          "height": 35
        }
      },
      "cell_type": "code",
      "source": [
        "cur.executemany(\"INSERT INTO Sales VALUES (?,?,?,?,?)\", sales)"
      ],
      "execution_count": 0,
      "outputs": [
        {
          "output_type": "execute_result",
          "data": {
            "text/plain": [
              "<sqlite3.Cursor at 0x7fef5a93c340>"
            ]
          },
          "metadata": {
            "tags": []
          },
          "execution_count": 28
        }
      ]
    },
    {
      "metadata": {
        "id": "a1qNHi8UrKq_",
        "colab_type": "code",
        "outputId": "88b4cf66-8e5d-4483-bf54-ada810c456cc",
        "colab": {
          "base_uri": "https://localhost:8080/",
          "height": 35
        }
      },
      "cell_type": "code",
      "source": [
        "cur.executemany(\"INSERT INTO Customer VALUES (?,?,?,?)\", customers)"
      ],
      "execution_count": 0,
      "outputs": [
        {
          "output_type": "execute_result",
          "data": {
            "text/plain": [
              "<sqlite3.Cursor at 0x7fef5a93c340>"
            ]
          },
          "metadata": {
            "tags": []
          },
          "execution_count": 55
        }
      ]
    },
    {
      "metadata": {
        "id": "C1GFWT66y47C",
        "colab_type": "code",
        "outputId": "e99a5aca-3e65-486c-d7f6-b592af2db656",
        "colab": {
          "base_uri": "https://localhost:8080/",
          "height": 35
        }
      },
      "cell_type": "code",
      "source": [
        "cur.executemany(\"INSERT INTO Product VALUES (?,?,?,?,?)\", products)"
      ],
      "execution_count": 0,
      "outputs": [
        {
          "output_type": "execute_result",
          "data": {
            "text/plain": [
              "<sqlite3.Cursor at 0x7fef5a93c340>"
            ]
          },
          "metadata": {
            "tags": []
          },
          "execution_count": 63
        }
      ]
    },
    {
      "metadata": {
        "id": "j2uNtOCr6g_X",
        "colab_type": "code",
        "outputId": "a59e68ac-1add-4fcc-badf-1e1e9b5c0b07",
        "colab": {
          "base_uri": "https://localhost:8080/",
          "height": 35
        }
      },
      "cell_type": "code",
      "source": [
        "cur.executemany(\"INSERT INTO Orders VALUES (?,?,?,?,?)\", orders)"
      ],
      "execution_count": 0,
      "outputs": [
        {
          "output_type": "execute_result",
          "data": {
            "text/plain": [
              "<sqlite3.Cursor at 0x7fef5925e3b0>"
            ]
          },
          "metadata": {
            "tags": []
          },
          "execution_count": 87
        }
      ]
    },
    {
      "metadata": {
        "id": "jYEyE767rsPg",
        "colab_type": "code",
        "colab": {}
      },
      "cell_type": "code",
      "source": [
        "con.commit()"
      ],
      "execution_count": 0,
      "outputs": []
    },
    {
      "metadata": {
        "id": "WBVW5GBpd-iu",
        "colab_type": "text"
      },
      "cell_type": "markdown",
      "source": [
        "\n",
        "\n",
        "---\n",
        "\n"
      ]
    },
    {
      "metadata": {
        "id": "ndVsiMF7d_vF",
        "colab_type": "text"
      },
      "cell_type": "markdown",
      "source": [
        "# Load tables into Data Frame"
      ]
    },
    {
      "metadata": {
        "id": "XWdJHfRBeNmF",
        "colab_type": "code",
        "colab": {}
      },
      "cell_type": "code",
      "source": [
        "import numpy as np\n",
        "import pandas as pd"
      ],
      "execution_count": 0,
      "outputs": []
    },
    {
      "metadata": {
        "id": "FFlxuwoBfpuF",
        "colab_type": "code",
        "colab": {}
      },
      "cell_type": "code",
      "source": [
        "employee_df = pd.read_sql_query('SELECT * FROM Employee', con)"
      ],
      "execution_count": 0,
      "outputs": []
    },
    {
      "metadata": {
        "id": "WVuw7dRRgOLM",
        "colab_type": "code",
        "colab": {}
      },
      "cell_type": "code",
      "source": [
        "supplier_df = pd.read_sql_query('SELECT * FROM Supplier', con)"
      ],
      "execution_count": 0,
      "outputs": []
    },
    {
      "metadata": {
        "id": "VFu_ISz8gENl",
        "colab_type": "code",
        "colab": {}
      },
      "cell_type": "code",
      "source": [
        "sales_df = pd.read_sql_query('SELECT * FROM Sales', con)"
      ],
      "execution_count": 0,
      "outputs": []
    },
    {
      "metadata": {
        "id": "yC3QlRa7rieX",
        "colab_type": "code",
        "colab": {}
      },
      "cell_type": "code",
      "source": [
        "customer_df = pd.read_sql_query('SELECT * FROM Customer', con)"
      ],
      "execution_count": 0,
      "outputs": []
    },
    {
      "metadata": {
        "id": "uPfUaEyIzFgm",
        "colab_type": "code",
        "colab": {}
      },
      "cell_type": "code",
      "source": [
        "product_df = pd.read_sql_query('SELECT * FROM Product', con)"
      ],
      "execution_count": 0,
      "outputs": []
    },
    {
      "metadata": {
        "id": "wJhh0L4g6u7g",
        "colab_type": "code",
        "colab": {}
      },
      "cell_type": "code",
      "source": [
        "orders_df = pd.read_sql_query('SELECT * FROM Orders', con)"
      ],
      "execution_count": 0,
      "outputs": []
    },
    {
      "metadata": {
        "id": "R2K3f372gYtq",
        "colab_type": "text"
      },
      "cell_type": "markdown",
      "source": [
        "\n",
        "\n",
        "---\n",
        "\n"
      ]
    },
    {
      "metadata": {
        "id": "Mxa0wYoDfFpF",
        "colab_type": "text"
      },
      "cell_type": "markdown",
      "source": [
        "### Google Worksheets"
      ]
    },
    {
      "metadata": {
        "id": "Lc2LFb7EeO0-",
        "colab_type": "code",
        "colab": {}
      },
      "cell_type": "code",
      "source": [
        "!pip install --upgrade -q gspread\n",
        "\n",
        "from google.colab import auth\n",
        "auth.authenticate_user()\n",
        "\n",
        "import gspread\n",
        "from oauth2client.client import GoogleCredentials\n",
        "\n",
        "gc = gspread.authorize(GoogleCredentials.get_application_default())"
      ],
      "execution_count": 0,
      "outputs": []
    },
    {
      "metadata": {
        "id": "t-mWQUG0fPkn",
        "colab_type": "code",
        "colab": {}
      },
      "cell_type": "code",
      "source": [
        "def get_df(file_name, location):\n",
        "  worksheet = gc.open(file_name).get_worksheet(location)\n",
        "  rows = worksheet.get_all_values()\n",
        "  head = rows[0]\n",
        "  data = rows[1:]\n",
        "  df = pd.DataFrame.from_record(data, columns=head)\n",
        "  return df"
      ],
      "execution_count": 0,
      "outputs": []
    },
    {
      "metadata": {
        "id": "YwOH59O5jzfu",
        "colab_type": "text"
      },
      "cell_type": "markdown",
      "source": [
        "\n",
        "\n",
        "---\n",
        "\n"
      ]
    },
    {
      "metadata": {
        "id": "332Yi4vVj0c3",
        "colab_type": "text"
      },
      "cell_type": "markdown",
      "source": [
        "# Data Quality"
      ]
    },
    {
      "metadata": {
        "id": "7ceL1VYtj3H8",
        "colab_type": "code",
        "colab": {}
      },
      "cell_type": "code",
      "source": [
        "import numpy as np\n",
        "import pandas as pd"
      ],
      "execution_count": 0,
      "outputs": []
    },
    {
      "metadata": {
        "id": "34lr8Bs7_LKJ",
        "colab_type": "text"
      },
      "cell_type": "markdown",
      "source": [
        "## Observing the Data"
      ]
    },
    {
      "metadata": {
        "id": "B_fgX0_jm0y7",
        "colab_type": "text"
      },
      "cell_type": "markdown",
      "source": [
        "**Obesrvations**"
      ]
    },
    {
      "metadata": {
        "id": "3tOs3O8-m3Ck",
        "colab_type": "text"
      },
      "cell_type": "markdown",
      "source": [
        "* Employee_ID repeats, incorrect type\n",
        "\n",
        "* Missing Last_Name and Department\n",
        "\n",
        "* City spelling errors, etc\n",
        "\n",
        "* Last_Name Capitalized and/or not starting with capital letter\n",
        "\n",
        "* First_Name Repeats and wrong characters"
      ]
    },
    {
      "metadata": {
        "id": "y6FVYFfU_YIB",
        "colab_type": "text"
      },
      "cell_type": "markdown",
      "source": [
        "\n",
        "\n",
        "---\n",
        "\n"
      ]
    },
    {
      "metadata": {
        "id": "T1m1pQinmwYR",
        "colab_type": "code",
        "outputId": "62b99d61-fa95-448f-df08-448fad91f4c7",
        "colab": {
          "base_uri": "https://localhost:8080/",
          "height": 645
        }
      },
      "cell_type": "code",
      "source": [
        "employee_df"
      ],
      "execution_count": 0,
      "outputs": [
        {
          "output_type": "execute_result",
          "data": {
            "text/html": [
              "<div>\n",
              "<style scoped>\n",
              "    .dataframe tbody tr th:only-of-type {\n",
              "        vertical-align: middle;\n",
              "    }\n",
              "\n",
              "    .dataframe tbody tr th {\n",
              "        vertical-align: top;\n",
              "    }\n",
              "\n",
              "    .dataframe thead th {\n",
              "        text-align: right;\n",
              "    }\n",
              "</style>\n",
              "<table border=\"1\" class=\"dataframe\">\n",
              "  <thead>\n",
              "    <tr style=\"text-align: right;\">\n",
              "      <th></th>\n",
              "      <th>Employee_ID</th>\n",
              "      <th>First_Name</th>\n",
              "      <th>Last_Name</th>\n",
              "      <th>Department</th>\n",
              "      <th>City</th>\n",
              "    </tr>\n",
              "  </thead>\n",
              "  <tbody>\n",
              "    <tr>\n",
              "      <th>0</th>\n",
              "      <td>10001</td>\n",
              "      <td>Daniel</td>\n",
              "      <td>Olsong</td>\n",
              "      <td>Electronics</td>\n",
              "      <td>San Francisco</td>\n",
              "    </tr>\n",
              "    <tr>\n",
              "      <th>1</th>\n",
              "      <td>10002</td>\n",
              "      <td>Nick</td>\n",
              "      <td>Markmen</td>\n",
              "      <td>Clothes</td>\n",
              "      <td>San Franciso</td>\n",
              "    </tr>\n",
              "    <tr>\n",
              "      <th>2</th>\n",
              "      <td>10003</td>\n",
              "      <td>Maria</td>\n",
              "      <td>Gonzalez</td>\n",
              "      <td>Electronics</td>\n",
              "      <td>San Jose</td>\n",
              "    </tr>\n",
              "    <tr>\n",
              "      <th>3</th>\n",
              "      <td>10004</td>\n",
              "      <td>George</td>\n",
              "      <td>Wong</td>\n",
              "      <td>Clothes</td>\n",
              "      <td>San Franciso</td>\n",
              "    </tr>\n",
              "    <tr>\n",
              "      <th>4</th>\n",
              "      <td>10005</td>\n",
              "      <td>Stephanie</td>\n",
              "      <td>Williams</td>\n",
              "      <td>Clothes</td>\n",
              "      <td>Oakland</td>\n",
              "    </tr>\n",
              "    <tr>\n",
              "      <th>5</th>\n",
              "      <td>10006</td>\n",
              "      <td>Miguel</td>\n",
              "      <td>Alva</td>\n",
              "      <td>Clothes</td>\n",
              "      <td>Oakland</td>\n",
              "    </tr>\n",
              "    <tr>\n",
              "      <th>6</th>\n",
              "      <td>10007</td>\n",
              "      <td>Jessica</td>\n",
              "      <td>Collins</td>\n",
              "      <td>Cosmetics</td>\n",
              "      <td>San Franciso</td>\n",
              "    </tr>\n",
              "    <tr>\n",
              "      <th>7</th>\n",
              "      <td>10008</td>\n",
              "      <td>Ted</td>\n",
              "      <td>Anderson</td>\n",
              "      <td>Clothes</td>\n",
              "      <td>Oakland</td>\n",
              "    </tr>\n",
              "    <tr>\n",
              "      <th>8</th>\n",
              "      <td>10009</td>\n",
              "      <td>Victoria</td>\n",
              "      <td>Garcia</td>\n",
              "      <td>Clothes</td>\n",
              "      <td>San Jose</td>\n",
              "    </tr>\n",
              "    <tr>\n",
              "      <th>9</th>\n",
              "      <td>10010</td>\n",
              "      <td>Jasmine</td>\n",
              "      <td>Khan</td>\n",
              "      <td>Parmacy Health &amp; Beauty</td>\n",
              "      <td>Oakland</td>\n",
              "    </tr>\n",
              "    <tr>\n",
              "      <th>10</th>\n",
              "      <td>10011</td>\n",
              "      <td>Adam</td>\n",
              "      <td>Smith</td>\n",
              "      <td>Parmacy Health &amp; Beauty</td>\n",
              "      <td>San Jose</td>\n",
              "    </tr>\n",
              "    <tr>\n",
              "      <th>11</th>\n",
              "      <td>10012</td>\n",
              "      <td>Rachel</td>\n",
              "      <td>Kim</td>\n",
              "      <td>Electronics</td>\n",
              "      <td>San Jose</td>\n",
              "    </tr>\n",
              "    <tr>\n",
              "      <th>12</th>\n",
              "      <td>10012</td>\n",
              "      <td>Adam R.</td>\n",
              "      <td>West</td>\n",
              "      <td>Clothes</td>\n",
              "      <td>San Jose</td>\n",
              "    </tr>\n",
              "    <tr>\n",
              "      <th>13</th>\n",
              "      <td>10012</td>\n",
              "      <td>Adam</td>\n",
              "      <td>West</td>\n",
              "      <td>Clothes</td>\n",
              "      <td>San Jose</td>\n",
              "    </tr>\n",
              "    <tr>\n",
              "      <th>14</th>\n",
              "      <td>10013</td>\n",
              "      <td>Kim</td>\n",
              "      <td>Ng</td>\n",
              "      <td></td>\n",
              "      <td>San Francisco</td>\n",
              "    </tr>\n",
              "    <tr>\n",
              "      <th>15</th>\n",
              "      <td>10014</td>\n",
              "      <td>Nicole</td>\n",
              "      <td></td>\n",
              "      <td>Parmacy Health &amp; Beauty</td>\n",
              "      <td>Oakland</td>\n",
              "    </tr>\n",
              "    <tr>\n",
              "      <th>16</th>\n",
              "      <td>3k3d8leu</td>\n",
              "      <td>James</td>\n",
              "      <td>TELLER</td>\n",
              "      <td>Clothes</td>\n",
              "      <td>SANJOSE,CA</td>\n",
              "    </tr>\n",
              "    <tr>\n",
              "      <th>17</th>\n",
              "      <td>10014</td>\n",
              "      <td>Carie</td>\n",
              "      <td>Olson</td>\n",
              "      <td>Clothes/Electronics</td>\n",
              "      <td>SF</td>\n",
              "    </tr>\n",
              "    <tr>\n",
              "      <th>18</th>\n",
              "      <td>10015</td>\n",
              "      <td>JonathaN_</td>\n",
              "      <td>hernandez</td>\n",
              "      <td>N/A</td>\n",
              "      <td>San Jose</td>\n",
              "    </tr>\n",
              "  </tbody>\n",
              "</table>\n",
              "</div>"
            ],
            "text/plain": [
              "   Employee_ID First_Name  Last_Name               Department           City\n",
              "0        10001     Daniel     Olsong              Electronics  San Francisco\n",
              "1        10002       Nick    Markmen                  Clothes   San Franciso\n",
              "2        10003      Maria   Gonzalez              Electronics       San Jose\n",
              "3        10004     George       Wong                  Clothes   San Franciso\n",
              "4        10005  Stephanie   Williams                  Clothes        Oakland\n",
              "5        10006     Miguel       Alva                  Clothes        Oakland\n",
              "6        10007    Jessica    Collins                Cosmetics   San Franciso\n",
              "7        10008        Ted   Anderson                  Clothes        Oakland\n",
              "8        10009   Victoria     Garcia                  Clothes       San Jose\n",
              "9        10010    Jasmine       Khan  Parmacy Health & Beauty        Oakland\n",
              "10       10011       Adam      Smith  Parmacy Health & Beauty       San Jose\n",
              "11       10012     Rachel        Kim              Electronics       San Jose\n",
              "12       10012    Adam R.       West                  Clothes       San Jose\n",
              "13       10012       Adam       West                  Clothes       San Jose\n",
              "14       10013        Kim         Ng                           San Francisco\n",
              "15       10014     Nicole             Parmacy Health & Beauty        Oakland\n",
              "16    3k3d8leu      James     TELLER                  Clothes     SANJOSE,CA\n",
              "17       10014      Carie      Olson      Clothes/Electronics             SF\n",
              "18       10015  JonathaN_  hernandez                      N/A       San Jose"
            ]
          },
          "metadata": {
            "tags": []
          },
          "execution_count": 49
        }
      ]
    },
    {
      "metadata": {
        "id": "Wd8cxAXDm1_-",
        "colab_type": "code",
        "outputId": "23c9be47-1b04-4dcf-df15-e852886e533a",
        "colab": {
          "base_uri": "https://localhost:8080/",
          "height": 520
        }
      },
      "cell_type": "code",
      "source": [
        "customer_df"
      ],
      "execution_count": 0,
      "outputs": [
        {
          "output_type": "execute_result",
          "data": {
            "text/html": [
              "<div>\n",
              "<style scoped>\n",
              "    .dataframe tbody tr th:only-of-type {\n",
              "        vertical-align: middle;\n",
              "    }\n",
              "\n",
              "    .dataframe tbody tr th {\n",
              "        vertical-align: top;\n",
              "    }\n",
              "\n",
              "    .dataframe thead th {\n",
              "        text-align: right;\n",
              "    }\n",
              "</style>\n",
              "<table border=\"1\" class=\"dataframe\">\n",
              "  <thead>\n",
              "    <tr style=\"text-align: right;\">\n",
              "      <th></th>\n",
              "      <th>Customer_ID</th>\n",
              "      <th>First_Name</th>\n",
              "      <th>Last_Name</th>\n",
              "      <th>City</th>\n",
              "    </tr>\n",
              "  </thead>\n",
              "  <tbody>\n",
              "    <tr>\n",
              "      <th>0</th>\n",
              "      <td>20001</td>\n",
              "      <td>Jack</td>\n",
              "      <td>Ward</td>\n",
              "      <td>San Jose</td>\n",
              "    </tr>\n",
              "    <tr>\n",
              "      <th>1</th>\n",
              "      <td>20002</td>\n",
              "      <td>Steven</td>\n",
              "      <td>Martinez</td>\n",
              "      <td>San Francisco</td>\n",
              "    </tr>\n",
              "    <tr>\n",
              "      <th>2</th>\n",
              "      <td>20003</td>\n",
              "      <td>Jessica</td>\n",
              "      <td>Collins</td>\n",
              "      <td>San Jose</td>\n",
              "    </tr>\n",
              "    <tr>\n",
              "      <th>3</th>\n",
              "      <td>20004</td>\n",
              "      <td>Carie</td>\n",
              "      <td>Robinson</td>\n",
              "      <td>San Francisco</td>\n",
              "    </tr>\n",
              "    <tr>\n",
              "      <th>4</th>\n",
              "      <td>20005</td>\n",
              "      <td>Zack</td>\n",
              "      <td>Peterson</td>\n",
              "      <td>Oakland</td>\n",
              "    </tr>\n",
              "    <tr>\n",
              "      <th>5</th>\n",
              "      <td>20006</td>\n",
              "      <td>Bianca</td>\n",
              "      <td>Sanchez</td>\n",
              "      <td>San Francisco</td>\n",
              "    </tr>\n",
              "    <tr>\n",
              "      <th>6</th>\n",
              "      <td>20007</td>\n",
              "      <td>James</td>\n",
              "      <td>Owen</td>\n",
              "      <td>Oakland</td>\n",
              "    </tr>\n",
              "    <tr>\n",
              "      <th>7</th>\n",
              "      <td>20008</td>\n",
              "      <td>Lisa</td>\n",
              "      <td>Smith</td>\n",
              "      <td>San Francisco</td>\n",
              "    </tr>\n",
              "    <tr>\n",
              "      <th>8</th>\n",
              "      <td>20009</td>\n",
              "      <td>Daniel</td>\n",
              "      <td>Yasukawa</td>\n",
              "      <td>Oakland</td>\n",
              "    </tr>\n",
              "    <tr>\n",
              "      <th>9</th>\n",
              "      <td>20010</td>\n",
              "      <td>Lauren</td>\n",
              "      <td>Pham</td>\n",
              "      <td>San Jose</td>\n",
              "    </tr>\n",
              "    <tr>\n",
              "      <th>10</th>\n",
              "      <td>20011</td>\n",
              "      <td>Juan</td>\n",
              "      <td>Diaz</td>\n",
              "      <td>Oakland</td>\n",
              "    </tr>\n",
              "    <tr>\n",
              "      <th>11</th>\n",
              "      <td>20012</td>\n",
              "      <td>Martha</td>\n",
              "      <td>Diaz</td>\n",
              "      <td>San Francisco</td>\n",
              "    </tr>\n",
              "    <tr>\n",
              "      <th>12</th>\n",
              "      <td>20013</td>\n",
              "      <td>Margret Shang</td>\n",
              "      <td></td>\n",
              "      <td>Oak Town</td>\n",
              "    </tr>\n",
              "    <tr>\n",
              "      <th>13</th>\n",
              "      <td>20014</td>\n",
              "      <td>Jeremy</td>\n",
              "      <td>Fernandez</td>\n",
              "      <td>Berkeley</td>\n",
              "    </tr>\n",
              "    <tr>\n",
              "      <th>14</th>\n",
              "      <td>20018</td>\n",
              "      <td>TIffany</td>\n",
              "      <td>Williams</td>\n",
              "      <td>Frisco</td>\n",
              "    </tr>\n",
              "  </tbody>\n",
              "</table>\n",
              "</div>"
            ],
            "text/plain": [
              "    Customer_ID     First_Name  Last_Name           City\n",
              "0         20001           Jack       Ward       San Jose\n",
              "1         20002         Steven   Martinez  San Francisco\n",
              "2         20003        Jessica    Collins       San Jose\n",
              "3         20004          Carie   Robinson  San Francisco\n",
              "4         20005           Zack   Peterson        Oakland\n",
              "5         20006         Bianca    Sanchez  San Francisco\n",
              "6         20007          James       Owen        Oakland\n",
              "7         20008           Lisa      Smith  San Francisco\n",
              "8         20009         Daniel   Yasukawa        Oakland\n",
              "9         20010         Lauren       Pham       San Jose\n",
              "10        20011           Juan       Diaz        Oakland\n",
              "11        20012         Martha       Diaz  San Francisco\n",
              "12        20013  Margret Shang                  Oak Town\n",
              "13        20014         Jeremy  Fernandez       Berkeley\n",
              "14        20018        TIffany   Williams         Frisco"
            ]
          },
          "metadata": {
            "tags": []
          },
          "execution_count": 58
        }
      ]
    },
    {
      "metadata": {
        "id": "kNURy0XSzBMX",
        "colab_type": "code",
        "outputId": "e4ced58f-ed41-48ff-f595-7022bc9fc2d2",
        "colab": {
          "base_uri": "https://localhost:8080/",
          "height": 551
        }
      },
      "cell_type": "code",
      "source": [
        "product_df"
      ],
      "execution_count": 0,
      "outputs": [
        {
          "output_type": "execute_result",
          "data": {
            "text/html": [
              "<div>\n",
              "<style scoped>\n",
              "    .dataframe tbody tr th:only-of-type {\n",
              "        vertical-align: middle;\n",
              "    }\n",
              "\n",
              "    .dataframe tbody tr th {\n",
              "        vertical-align: top;\n",
              "    }\n",
              "\n",
              "    .dataframe thead th {\n",
              "        text-align: right;\n",
              "    }\n",
              "</style>\n",
              "<table border=\"1\" class=\"dataframe\">\n",
              "  <thead>\n",
              "    <tr style=\"text-align: right;\">\n",
              "      <th></th>\n",
              "      <th>Product_ID</th>\n",
              "      <th>Product_Name</th>\n",
              "      <th>Price</th>\n",
              "      <th>Supplier_ID</th>\n",
              "      <th>Supplier_Name</th>\n",
              "    </tr>\n",
              "  </thead>\n",
              "  <tbody>\n",
              "    <tr>\n",
              "      <th>0</th>\n",
              "      <td>30001</td>\n",
              "      <td>T-Shirt</td>\n",
              "      <td>12.98</td>\n",
              "      <td>40004</td>\n",
              "      <td>Studio Warehouse</td>\n",
              "    </tr>\n",
              "    <tr>\n",
              "      <th>1</th>\n",
              "      <td>30002</td>\n",
              "      <td>Tooth Paste</td>\n",
              "      <td>4.5</td>\n",
              "      <td>40002</td>\n",
              "      <td>BioMed Inc</td>\n",
              "    </tr>\n",
              "    <tr>\n",
              "      <th>2</th>\n",
              "      <td>30003</td>\n",
              "      <td>Speakers</td>\n",
              "      <td>56.99</td>\n",
              "      <td>40005</td>\n",
              "      <td>CompTech, Inc</td>\n",
              "    </tr>\n",
              "    <tr>\n",
              "      <th>3</th>\n",
              "      <td>30004</td>\n",
              "      <td>Pants</td>\n",
              "      <td>34.35</td>\n",
              "      <td>40003</td>\n",
              "      <td>FashionRUs</td>\n",
              "    </tr>\n",
              "    <tr>\n",
              "      <th>4</th>\n",
              "      <td>30005</td>\n",
              "      <td>Microphone</td>\n",
              "      <td>46.21</td>\n",
              "      <td>40001</td>\n",
              "      <td>Music Vibrations, Inc</td>\n",
              "    </tr>\n",
              "    <tr>\n",
              "      <th>5</th>\n",
              "      <td>30006</td>\n",
              "      <td>Tie</td>\n",
              "      <td>11.09</td>\n",
              "      <td>40003</td>\n",
              "      <td>FashionRUs</td>\n",
              "    </tr>\n",
              "    <tr>\n",
              "      <th>6</th>\n",
              "      <td>30007</td>\n",
              "      <td>Chap Stick</td>\n",
              "      <td>3.67</td>\n",
              "      <td>40002</td>\n",
              "      <td>BioMed Inc</td>\n",
              "    </tr>\n",
              "    <tr>\n",
              "      <th>7</th>\n",
              "      <td>30008</td>\n",
              "      <td>Medicine</td>\n",
              "      <td>23.96</td>\n",
              "      <td>40002</td>\n",
              "      <td>BioMed Inc</td>\n",
              "    </tr>\n",
              "    <tr>\n",
              "      <th>8</th>\n",
              "      <td>30009</td>\n",
              "      <td>Headphones</td>\n",
              "      <td>31.44</td>\n",
              "      <td>40001</td>\n",
              "      <td>Music Vibrations, Inc</td>\n",
              "    </tr>\n",
              "    <tr>\n",
              "      <th>9</th>\n",
              "      <td>30010</td>\n",
              "      <td>Lotion</td>\n",
              "      <td>16.77</td>\n",
              "      <td>40002</td>\n",
              "      <td>BioMed Inc</td>\n",
              "    </tr>\n",
              "    <tr>\n",
              "      <th>10</th>\n",
              "      <td>30011</td>\n",
              "      <td>DVD Player</td>\n",
              "      <td>149.99</td>\n",
              "      <td>40005</td>\n",
              "      <td>CompTech, Inc</td>\n",
              "    </tr>\n",
              "    <tr>\n",
              "      <th>11</th>\n",
              "      <td>30012</td>\n",
              "      <td>Coat</td>\n",
              "      <td>56.33</td>\n",
              "      <td>40004</td>\n",
              "      <td>Studio Warehouse</td>\n",
              "    </tr>\n",
              "    <tr>\n",
              "      <th>12</th>\n",
              "      <td>40013</td>\n",
              "      <td>Black Pack</td>\n",
              "      <td>Twenty Two Dollars</td>\n",
              "      <td>40006</td>\n",
              "      <td>WearUps Inc</td>\n",
              "    </tr>\n",
              "    <tr>\n",
              "      <th>13</th>\n",
              "      <td>40014</td>\n",
              "      <td>Auditing Services</td>\n",
              "      <td>7000</td>\n",
              "      <td>40007</td>\n",
              "      <td>DataQuery Inc</td>\n",
              "    </tr>\n",
              "    <tr>\n",
              "      <th>14</th>\n",
              "      <td>12!d3&amp;)dkc_+@ad</td>\n",
              "      <td>Car</td>\n",
              "      <td></td>\n",
              "      <td>48350254-5qe</td>\n",
              "      <td></td>\n",
              "    </tr>\n",
              "    <tr>\n",
              "      <th>15</th>\n",
              "      <td>40015</td>\n",
              "      <td>Shirt</td>\n",
              "      <td>180</td>\n",
              "      <td>40004</td>\n",
              "      <td>Ropa Inc</td>\n",
              "    </tr>\n",
              "  </tbody>\n",
              "</table>\n",
              "</div>"
            ],
            "text/plain": [
              "         Product_ID       Product_Name               Price   Supplier_ID  \\\n",
              "0             30001            T-Shirt               12.98         40004   \n",
              "1             30002        Tooth Paste                 4.5         40002   \n",
              "2             30003           Speakers               56.99         40005   \n",
              "3             30004              Pants               34.35         40003   \n",
              "4             30005         Microphone               46.21         40001   \n",
              "5             30006                Tie               11.09         40003   \n",
              "6             30007         Chap Stick                3.67         40002   \n",
              "7             30008           Medicine               23.96         40002   \n",
              "8             30009         Headphones               31.44         40001   \n",
              "9             30010             Lotion               16.77         40002   \n",
              "10            30011         DVD Player              149.99         40005   \n",
              "11            30012               Coat               56.33         40004   \n",
              "12            40013         Black Pack  Twenty Two Dollars         40006   \n",
              "13            40014  Auditing Services                7000         40007   \n",
              "14  12!d3&)dkc_+@ad                Car                      48350254-5qe   \n",
              "15            40015              Shirt                 180         40004   \n",
              "\n",
              "            Supplier_Name  \n",
              "0        Studio Warehouse  \n",
              "1              BioMed Inc  \n",
              "2           CompTech, Inc  \n",
              "3              FashionRUs  \n",
              "4   Music Vibrations, Inc  \n",
              "5              FashionRUs  \n",
              "6              BioMed Inc  \n",
              "7              BioMed Inc  \n",
              "8   Music Vibrations, Inc  \n",
              "9              BioMed Inc  \n",
              "10          CompTech, Inc  \n",
              "11       Studio Warehouse  \n",
              "12            WearUps Inc  \n",
              "13          DataQuery Inc  \n",
              "14                         \n",
              "15               Ropa Inc  "
            ]
          },
          "metadata": {
            "tags": []
          },
          "execution_count": 69
        }
      ]
    },
    {
      "metadata": {
        "id": "FgyCudYmz2Hf",
        "colab_type": "code",
        "outputId": "86126d03-9b89-4261-b903-f55ee7b2bfb8",
        "colab": {
          "base_uri": "https://localhost:8080/",
          "height": 300
        }
      },
      "cell_type": "code",
      "source": [
        "supplier_df"
      ],
      "execution_count": 0,
      "outputs": [
        {
          "output_type": "execute_result",
          "data": {
            "text/html": [
              "<div>\n",
              "<style scoped>\n",
              "    .dataframe tbody tr th:only-of-type {\n",
              "        vertical-align: middle;\n",
              "    }\n",
              "\n",
              "    .dataframe tbody tr th {\n",
              "        vertical-align: top;\n",
              "    }\n",
              "\n",
              "    .dataframe thead th {\n",
              "        text-align: right;\n",
              "    }\n",
              "</style>\n",
              "<table border=\"1\" class=\"dataframe\">\n",
              "  <thead>\n",
              "    <tr style=\"text-align: right;\">\n",
              "      <th></th>\n",
              "      <th>Supplier_ID</th>\n",
              "      <th>Name</th>\n",
              "      <th>City</th>\n",
              "    </tr>\n",
              "  </thead>\n",
              "  <tbody>\n",
              "    <tr>\n",
              "      <th>0</th>\n",
              "      <td>40001</td>\n",
              "      <td>Music Vibrations, Inc</td>\n",
              "      <td>Oakland</td>\n",
              "    </tr>\n",
              "    <tr>\n",
              "      <th>1</th>\n",
              "      <td>40002</td>\n",
              "      <td>BioMedInc</td>\n",
              "      <td>San Franciso</td>\n",
              "    </tr>\n",
              "    <tr>\n",
              "      <th>2</th>\n",
              "      <td>40003</td>\n",
              "      <td>FashionRUs</td>\n",
              "      <td>San Jose</td>\n",
              "    </tr>\n",
              "    <tr>\n",
              "      <th>3</th>\n",
              "      <td>40004</td>\n",
              "      <td>Studio Warehouse</td>\n",
              "      <td>San Franciso</td>\n",
              "    </tr>\n",
              "    <tr>\n",
              "      <th>4</th>\n",
              "      <td>40005</td>\n",
              "      <td>CompTech, Inc</td>\n",
              "      <td>San Jose</td>\n",
              "    </tr>\n",
              "    <tr>\n",
              "      <th>5</th>\n",
              "      <td>400006</td>\n",
              "      <td>WearUps Inc</td>\n",
              "      <td>NY</td>\n",
              "    </tr>\n",
              "    <tr>\n",
              "      <th>6</th>\n",
              "      <td>40007</td>\n",
              "      <td>DataQuery Inc</td>\n",
              "      <td>SJ</td>\n",
              "    </tr>\n",
              "    <tr>\n",
              "      <th>7</th>\n",
              "      <td>40008</td>\n",
              "      <td>Ropa Inc</td>\n",
              "      <td>Mexico</td>\n",
              "    </tr>\n",
              "  </tbody>\n",
              "</table>\n",
              "</div>"
            ],
            "text/plain": [
              "   Supplier_ID                   Name          City\n",
              "0        40001  Music Vibrations, Inc       Oakland\n",
              "1        40002              BioMedInc  San Franciso\n",
              "2        40003             FashionRUs      San Jose\n",
              "3        40004       Studio Warehouse  San Franciso\n",
              "4        40005          CompTech, Inc      San Jose\n",
              "5       400006            WearUps Inc            NY\n",
              "6        40007          DataQuery Inc            SJ\n",
              "7        40008               Ropa Inc        Mexico"
            ]
          },
          "metadata": {
            "tags": []
          },
          "execution_count": 100
        }
      ]
    },
    {
      "metadata": {
        "id": "ETCgzkTD6ymB",
        "colab_type": "code",
        "outputId": "4578d827-cb5b-4b80-c2d8-afaaadb75416",
        "colab": {
          "base_uri": "https://localhost:8080/",
          "height": 426
        }
      },
      "cell_type": "code",
      "source": [
        "orders_df"
      ],
      "execution_count": 0,
      "outputs": [
        {
          "output_type": "execute_result",
          "data": {
            "text/html": [
              "<div>\n",
              "<style scoped>\n",
              "    .dataframe tbody tr th:only-of-type {\n",
              "        vertical-align: middle;\n",
              "    }\n",
              "\n",
              "    .dataframe tbody tr th {\n",
              "        vertical-align: top;\n",
              "    }\n",
              "\n",
              "    .dataframe thead th {\n",
              "        text-align: right;\n",
              "    }\n",
              "</style>\n",
              "<table border=\"1\" class=\"dataframe\">\n",
              "  <thead>\n",
              "    <tr style=\"text-align: right;\">\n",
              "      <th></th>\n",
              "      <th>Order_ID</th>\n",
              "      <th>Customer_ID</th>\n",
              "      <th>Product_ID</th>\n",
              "      <th>Employee_ID</th>\n",
              "      <th>Date</th>\n",
              "    </tr>\n",
              "  </thead>\n",
              "  <tbody>\n",
              "    <tr>\n",
              "      <th>0</th>\n",
              "      <td>50001</td>\n",
              "      <td>20005</td>\n",
              "      <td>30005</td>\n",
              "      <td>10001</td>\n",
              "      <td>17-02-12</td>\n",
              "    </tr>\n",
              "    <tr>\n",
              "      <th>1</th>\n",
              "      <td>50002</td>\n",
              "      <td>20003</td>\n",
              "      <td>30008</td>\n",
              "      <td>10011</td>\n",
              "      <td>17-09-03</td>\n",
              "    </tr>\n",
              "    <tr>\n",
              "      <th>2</th>\n",
              "      <td>50003</td>\n",
              "      <td>20010</td>\n",
              "      <td>30001</td>\n",
              "      <td>10009</td>\n",
              "      <td>17-11-23</td>\n",
              "    </tr>\n",
              "    <tr>\n",
              "      <th>3</th>\n",
              "      <td>50004</td>\n",
              "      <td>20004</td>\n",
              "      <td>30008</td>\n",
              "      <td>10010</td>\n",
              "      <td>17-01-28</td>\n",
              "    </tr>\n",
              "    <tr>\n",
              "      <th>4</th>\n",
              "      <td>50005</td>\n",
              "      <td>20008</td>\n",
              "      <td>30012</td>\n",
              "      <td>10002</td>\n",
              "      <td>17-08-11</td>\n",
              "    </tr>\n",
              "    <tr>\n",
              "      <th>5</th>\n",
              "      <td>50006</td>\n",
              "      <td>20011</td>\n",
              "      <td>30011</td>\n",
              "      <td>10001</td>\n",
              "      <td>17-04-13</td>\n",
              "    </tr>\n",
              "    <tr>\n",
              "      <th>6</th>\n",
              "      <td>50007</td>\n",
              "      <td>20012</td>\n",
              "      <td>30002</td>\n",
              "      <td>10007</td>\n",
              "      <td>17-10-07</td>\n",
              "    </tr>\n",
              "    <tr>\n",
              "      <th>7</th>\n",
              "      <td>50008</td>\n",
              "      <td>20002</td>\n",
              "      <td>30001</td>\n",
              "      <td>10004</td>\n",
              "      <td>17-03-09</td>\n",
              "    </tr>\n",
              "    <tr>\n",
              "      <th>8</th>\n",
              "      <td>50009</td>\n",
              "      <td>20001</td>\n",
              "      <td>30006</td>\n",
              "      <td>10009</td>\n",
              "      <td>17-12-26</td>\n",
              "    </tr>\n",
              "    <tr>\n",
              "      <th>9</th>\n",
              "      <td>50010</td>\n",
              "      <td>50008</td>\n",
              "      <td>30007</td>\n",
              "      <td>10008</td>\n",
              "      <td>09-26</td>\n",
              "    </tr>\n",
              "    <tr>\n",
              "      <th>10</th>\n",
              "      <td>50017</td>\n",
              "      <td></td>\n",
              "      <td>30096</td>\n",
              "      <td>10012</td>\n",
              "      <td>12-26</td>\n",
              "    </tr>\n",
              "    <tr>\n",
              "      <th>11</th>\n",
              "      <td>50018</td>\n",
              "      <td>20022</td>\n",
              "      <td>30007</td>\n",
              "      <td>10123</td>\n",
              "      <td>02-21-01</td>\n",
              "    </tr>\n",
              "  </tbody>\n",
              "</table>\n",
              "</div>"
            ],
            "text/plain": [
              "    Order_ID Customer_ID  Product_ID  Employee_ID      Date\n",
              "0      50001       20005       30005        10001  17-02-12\n",
              "1      50002       20003       30008        10011  17-09-03\n",
              "2      50003       20010       30001        10009  17-11-23\n",
              "3      50004       20004       30008        10010  17-01-28\n",
              "4      50005       20008       30012        10002  17-08-11\n",
              "5      50006       20011       30011        10001  17-04-13\n",
              "6      50007       20012       30002        10007  17-10-07\n",
              "7      50008       20002       30001        10004  17-03-09\n",
              "8      50009       20001       30006        10009  17-12-26\n",
              "9      50010       50008       30007        10008     09-26\n",
              "10     50017                   30096        10012     12-26\n",
              "11     50018       20022       30007        10123  02-21-01"
            ]
          },
          "metadata": {
            "tags": []
          },
          "execution_count": 93
        }
      ]
    },
    {
      "metadata": {
        "id": "G8XHQFsn_Tzh",
        "colab_type": "text"
      },
      "cell_type": "markdown",
      "source": [
        "\n",
        "\n",
        "---\n",
        "\n"
      ]
    },
    {
      "metadata": {
        "id": "9oXXqX4PmrFc",
        "colab_type": "text"
      },
      "cell_type": "markdown",
      "source": [
        "##Data Cleaning"
      ]
    }
  ]
}